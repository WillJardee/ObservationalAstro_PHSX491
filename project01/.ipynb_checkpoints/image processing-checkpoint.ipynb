{
 "cells": [
  {
   "cell_type": "markdown",
   "id": "65bc0ce3",
   "metadata": {},
   "source": [
    "# Image Processing of Project01\n",
    "below are the implementation of the steps to processing a science image. \n",
    "<ul>\n",
    "    <li> <b>Bias Images:</b> Overscan correct and trim [OT] </li>\n",
    "    <li> <b>Master Bias:</b> Average combine all corrected bias images.</li>\n",
    "    <li> <b>Dark Images:</b> Overscan correct, trim and bias subtract all images [OTZ]</li>\n",
    "    <li> <b>Master Dark:</b> Average combine all corrected dark images.</li>\n",
    "    <li> <b>Flat Images:</b> Overscan correct, trim, bias subtract, and dark subtract [OTZD]</li>\n",
    "    <li> <b>Master Flat:</b> Average combine all corrected flat images. Divide by global median value.</li>\n",
    "    <li> <b>Science Images:</b> Overscan correct, trim, bias subtract, dark subtract, divide by flat [OTZDF]</li>\n",
    "</ul>\n",
    "Each of these steps will be tackled in line, in a way that avoids hard coding in as much as possible, but when values are hard coded in they will be left on the surface level to be easily manipulated and changed."
   ]
  },
  {
   "cell_type": "code",
   "execution_count": 3,
   "id": "61335b05",
   "metadata": {},
   "outputs": [
    {
     "data": {
      "text/plain": [
       "['chesterish',\n",
       " 'grade3',\n",
       " 'gruvboxd',\n",
       " 'gruvboxl',\n",
       " 'monokai',\n",
       " 'oceans16',\n",
       " 'onedork',\n",
       " 'solarizedd',\n",
       " 'solarizedl']"
      ]
     },
     "execution_count": 3,
     "metadata": {},
     "output_type": "execute_result"
    }
   ],
   "source": [
    "#Stating theme\n",
    "import jupyterthemes as jt\n",
    "!jt -t grade3 -T -N -kl -nfs 11 -fs 11 -ofs 11 -cursc r -cellw 90%\n",
    "jt.jtplot.style()\n",
    "jt.get_themes()"
   ]
  },
  {
   "cell_type": "markdown",
   "id": "c1c539c4",
   "metadata": {},
   "source": [
    "## Bias Images & Master Bias"
   ]
  },
  {
   "cell_type": "code",
   "execution_count": null,
   "id": "8b722e03",
   "metadata": {},
   "outputs": [],
   "source": [
    "# Path to bias images"
   ]
  },
  {
   "cell_type": "code",
   "execution_count": null,
   "id": "ea9b0d98",
   "metadata": {},
   "outputs": [],
   "source": [
    "# loading in bias images\n",
    "\n",
    "# creating master bias\n"
   ]
  },
  {
   "cell_type": "markdown",
   "id": "c7716465",
   "metadata": {},
   "source": [
    "## Dark Images & Master Dark"
   ]
  },
  {
   "cell_type": "code",
   "execution_count": null,
   "id": "eee7d81f",
   "metadata": {},
   "outputs": [],
   "source": [
    "# Path to dark images"
   ]
  },
  {
   "cell_type": "code",
   "execution_count": null,
   "id": "929ee32a",
   "metadata": {},
   "outputs": [],
   "source": [
    "# loading in darks\n",
    "\n",
    "# creating master dark\n"
   ]
  },
  {
   "cell_type": "markdown",
   "id": "eb8db8b4",
   "metadata": {},
   "source": [
    "## Flat Images & Master Flat"
   ]
  },
  {
   "cell_type": "code",
   "execution_count": null,
   "id": "a5d219a4",
   "metadata": {},
   "outputs": [],
   "source": [
    "# Path to flats"
   ]
  },
  {
   "cell_type": "code",
   "execution_count": null,
   "id": "438253fd",
   "metadata": {},
   "outputs": [],
   "source": [
    "# loading in flats\n",
    "\n",
    "# creating master flat"
   ]
  },
  {
   "cell_type": "markdown",
   "id": "a9183b8c",
   "metadata": {},
   "source": [
    "## Science Images"
   ]
  },
  {
   "cell_type": "code",
   "execution_count": null,
   "id": "4e2e0350",
   "metadata": {},
   "outputs": [],
   "source": [
    "# Path to unprocessed images\n"
   ]
  },
  {
   "cell_type": "code",
   "execution_count": null,
   "id": "6854b5e8",
   "metadata": {},
   "outputs": [],
   "source": [
    "# List of images to process\n"
   ]
  },
  {
   "cell_type": "code",
   "execution_count": null,
   "id": "2056b13f",
   "metadata": {},
   "outputs": [],
   "source": []
  }
 ],
 "metadata": {
  "kernelspec": {
   "display_name": "Python 3",
   "language": "python",
   "name": "python3"
  },
  "language_info": {
   "codemirror_mode": {
    "name": "ipython",
    "version": 3
   },
   "file_extension": ".py",
   "mimetype": "text/x-python",
   "name": "python",
   "nbconvert_exporter": "python",
   "pygments_lexer": "ipython3",
   "version": "3.8.8"
  }
 },
 "nbformat": 4,
 "nbformat_minor": 5
}
