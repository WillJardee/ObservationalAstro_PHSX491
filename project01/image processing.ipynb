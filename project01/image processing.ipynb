{
 "cells": [
  {
   "cell_type": "markdown",
   "id": "8723eeed",
   "metadata": {},
   "source": [
    "# Image Processing of Project01\n",
    "below are the implementation of the steps to processing a science image. \n",
    "<ul>\n",
    "    <li> <b>Bias Images:</b> Overscan correct and trim [OT] </li>\n",
    "    <li> <b>Master Bias:</b> Average combine all corrected bias images.</li>\n",
    "    <li> <b>Dark Images:</b> Overscan correct, trim and bias subtract all images [OTZ]</li>\n",
    "    <li> <b>Master Dark:</b> Average combine all corrected dark images.</li>\n",
    "    <li> <b>Flat Images:</b> Overscan correct, trim, bias subtract, and dark subtract [OTZD]</li>\n",
    "    <li> <b>Master Flat:</b> Average combine all corrected flat images. Divide by global median value.</li>\n",
    "    <li> <b>Science Images:</b> Overscan correct, trim, bias subtract, dark subtract, divide by flat [OTZDF]</li>\n",
    "</ul>\n",
    "Each of these steps will be tackled in line, in a way that avoids hard coding in as much as possible, but when values are hard coded in they will be left on the surface level to be easily manipulated and changed."
   ]
  },
  {
   "cell_type": "markdown",
   "id": "cd9cd90e",
   "metadata": {},
   "source": [
    "## Bias Images & Master Bias"
   ]
  },
  {
   "cell_type": "code",
   "execution_count": null,
   "id": "68a38b11",
   "metadata": {},
   "outputs": [],
   "source": [
    "# Path to bias images"
   ]
  },
  {
   "cell_type": "code",
   "execution_count": null,
   "id": "0416fec6",
   "metadata": {},
   "outputs": [],
   "source": [
    "# loading in bias images\n",
    "\n",
    "# creating master bias\n"
   ]
  },
  {
   "cell_type": "markdown",
   "id": "8fa94284",
   "metadata": {},
   "source": [
    "## Dark Images & Master Dark"
   ]
  },
  {
   "cell_type": "code",
   "execution_count": null,
   "id": "8f14f686",
   "metadata": {},
   "outputs": [],
   "source": [
    "# Path to dark images"
   ]
  },
  {
   "cell_type": "code",
   "execution_count": null,
   "id": "f41c5d84",
   "metadata": {},
   "outputs": [],
   "source": [
    "# loading in darks\n",
    "\n",
    "# creating master dark\n"
   ]
  },
  {
   "cell_type": "markdown",
   "id": "7d42648e",
   "metadata": {},
   "source": [
    "## Flat Images & Master Flat"
   ]
  },
  {
   "cell_type": "code",
   "execution_count": null,
   "id": "d7488813",
   "metadata": {},
   "outputs": [],
   "source": [
    "# Path to flats"
   ]
  },
  {
   "cell_type": "code",
   "execution_count": null,
   "id": "379d2966",
   "metadata": {},
   "outputs": [],
   "source": [
    "# loading in flats\n",
    "\n",
    "# creating master flat"
   ]
  },
  {
   "cell_type": "markdown",
   "id": "08b6c9f8",
   "metadata": {},
   "source": [
    "## Science Images"
   ]
  },
  {
   "cell_type": "code",
   "execution_count": null,
   "id": "f21da70b",
   "metadata": {},
   "outputs": [],
   "source": [
    "# Path to unprocessed images\n"
   ]
  },
  {
   "cell_type": "code",
   "execution_count": null,
   "id": "d8b37248",
   "metadata": {},
   "outputs": [],
   "source": [
    "# List of images to process\n"
   ]
  },
  {
   "cell_type": "code",
   "execution_count": null,
   "id": "ee3d0fd2",
   "metadata": {},
   "outputs": [],
   "source": []
  }
 ],
 "metadata": {
  "kernelspec": {
   "display_name": "Python 3",
   "language": "python",
   "name": "python3"
  },
  "language_info": {
   "codemirror_mode": {
    "name": "ipython",
    "version": 3
   },
   "file_extension": ".py",
   "mimetype": "text/x-python",
   "name": "python",
   "nbconvert_exporter": "python",
   "pygments_lexer": "ipython3",
   "version": "3.8.8"
  }
 },
 "nbformat": 4,
 "nbformat_minor": 5
}
