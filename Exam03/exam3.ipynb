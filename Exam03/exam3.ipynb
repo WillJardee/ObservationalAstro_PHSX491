{
 "cells": [
  {
   "cell_type": "markdown",
   "metadata": {},
   "source": [
    "# PHXS 491_001: Observational Astronomy - Exam 3"
   ]
  },
  {
   "cell_type": "markdown",
   "metadata": {},
   "source": [
    "### Due Tuesday, Dec 14, 2021\n",
    "Remember to save your completed notebook as a PDF and upload both ipynb/PDF to Brightspace/D2L under Assignments."
   ]
  },
  {
   "cell_type": "markdown",
   "metadata": {},
   "source": [
    "Name: William Jardee"
   ]
  },
  {
   "cell_type": "markdown",
   "metadata": {},
   "source": [
    "## Please use the \"primt()\" function (notice the \"m\") to print out your answers in magenta.  This makes grading easier.  You might need to \"print to PDF\" to get the colors to show up. Thanks to Katie for figuring this out."
   ]
  },
  {
   "cell_type": "code",
   "execution_count": null,
   "metadata": {},
   "outputs": [],
   "source": [
    "def primt(*args):\n",
    "    '''\n",
    "    For any amount of arguments \"*args\", prints in magenta.\n",
    "    '''\n",
    "    magenta = \"\\x1B[38;5;201m\"   # the color in ANSI code\n",
    "    for el in args:  # for each argument\n",
    "        magenta += \" \"+(str(el))  # add the argument to the string to be printed\n",
    "    print(magenta)   #print!"
   ]
  },
  {
   "cell_type": "code",
   "execution_count": 11,
   "metadata": {},
   "outputs": [],
   "source": [
    "import os\n",
    "import numpy as np\n",
    "from astropy.io import fits\n",
    "import matplotlib.pyplot as plt\n",
    "from astropy.table import Table\n",
    "import spec\n",
    "%matplotlib inline"
   ]
  },
  {
   "cell_type": "markdown",
   "metadata": {},
   "source": [
    "## 1) Photometric Calibration\n",
    "Use the standard star catalog data in ``r_all_chip1_night1.fits`` to calculate the zero-point, extinction term, and color term (in $g-r$) for the photometric calibration."
   ]
  },
  {
   "cell_type": "code",
   "execution_count": null,
   "metadata": {},
   "outputs": [],
   "source": []
  },
  {
   "cell_type": "markdown",
   "metadata": {},
   "source": [
    "## 2) Spectral Resolution\n",
    "Calculate the resolution using the projected slit width.\n",
    "\n",
    "What is the resolution at 5000A set by a 0.5\" slit on the IMACS f/4 channel with 600/5180A grating? <br>\n",
    "scale = 0.11 arcsec/pixel\n"
   ]
  },
  {
   "cell_type": "markdown",
   "metadata": {},
   "source": [
    "<img src=\"imacsf4_gratings_table.png\" width=800 height=600 align=\"left\"/>"
   ]
  },
  {
   "cell_type": "code",
   "execution_count": null,
   "metadata": {},
   "outputs": [],
   "source": []
  },
  {
   "cell_type": "markdown",
   "metadata": {},
   "source": [
    "## 3) Diffraction grating order overlap\n",
    "Calculate the reflected angles ($\\beta$) for 3500A and 10,000A for the first three orders using the grating equation.  Assume that wavelengths shorter than 3500A and longer than 10,000A are blocked by other means (e.g., atmosphere, detector).  What second order wavelengths are uncontaminated (no overlap) by the first and third orders?\n",
    "- Incidence angle, $\\alpha$ = 5 deg\n",
    "- 300 grooves/mm"
   ]
  },
  {
   "cell_type": "code",
   "execution_count": null,
   "metadata": {},
   "outputs": [],
   "source": []
  },
  {
   "cell_type": "markdown",
   "metadata": {},
   "source": [
    "## 4) Equivalent widths\n",
    "Measure the equivalent width (you can use ``voigtfit()`` function in the spec.py model or from ``bozepy.spec``) of two of the Balmer lines (at least one should be $H\\beta$, 4861.34 A) for the ``specHD12707.fits`` spectrum.\n"
   ]
  },
  {
   "cell_type": "code",
   "execution_count": 1,
   "metadata": {},
   "outputs": [],
   "source": [
    "# Load the spectrum\n",
    "flux,head = fits.getdata('specHD12707.fits',header=True)\n",
    "# The wavelength information is in the header\n",
    "wave = np.arange(head['NAXIS1'])*head['CDELT1']+head['CRVAL1']\n",
    "if head['DC-FLAG']==1:\n",
    "    wave = 10**wave"
   ]
  },
  {
   "cell_type": "code",
   "execution_count": null,
   "metadata": {},
   "outputs": [],
   "source": []
  },
  {
   "cell_type": "markdown",
   "metadata": {},
   "source": [
    "## 5) Radial Velocity\n",
    "Measure the radial velocity of the star using the doppler shift and the Balmer lines.  You can use the rest wavelengths:\n",
    " - H$\\alpha$:  6562.79 A\n",
    " - H$\\beta$: 4861.34 A\n",
    " - H$\\gamma$: 4340.472 A\n",
    " - H$\\delta$: 4101.734 A"
   ]
  },
  {
   "cell_type": "code",
   "execution_count": null,
   "metadata": {},
   "outputs": [],
   "source": []
  }
 ],
 "metadata": {
  "kernelspec": {
   "display_name": "Python 3",
   "language": "python",
   "name": "python3"
  },
  "language_info": {
   "codemirror_mode": {
    "name": "ipython",
    "version": 3
   },
   "file_extension": ".py",
   "mimetype": "text/x-python",
   "name": "python",
   "nbconvert_exporter": "python",
   "pygments_lexer": "ipython3",
   "version": "3.8.8"
  }
 },
 "nbformat": 4,
 "nbformat_minor": 4
}
