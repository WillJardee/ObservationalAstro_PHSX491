{
 "cells": [
  {
   "cell_type": "markdown",
   "metadata": {},
   "source": [
    "# PHXS 491_001: Observational Astronomy - Exam 3"
   ]
  },
  {
   "cell_type": "markdown",
   "metadata": {},
   "source": [
    "### Due Tuesday, Dec 14, 2021\n",
    "Remember to save your completed notebook as a PDF and upload both ipynb/PDF to Brightspace/D2L under Assignments."
   ]
  },
  {
   "cell_type": "markdown",
   "metadata": {},
   "source": [
    "Name: William Jardee"
   ]
  },
  {
   "cell_type": "markdown",
   "metadata": {},
   "source": [
    "## Please use the \"primt()\" function (notice the \"m\") to print out your answers in magenta.  This makes grading easier.  You might need to \"print to PDF\" to get the colors to show up. Thanks to Katie for figuring this out."
   ]
  },
  {
   "cell_type": "code",
   "execution_count": null,
   "metadata": {},
   "outputs": [],
   "source": [
    "def primt(*args):\n",
    "    '''\n",
    "    For any amount of arguments \"*args\", prints in magenta.\n",
    "    '''\n",
    "    magenta = \"\\x1B[38;5;201m\"   # the color in ANSI code\n",
    "    for el in args:  # for each argument\n",
    "        magenta += \" \"+(str(el))  # add the argument to the string to be printed\n",
    "    print(magenta)   #print!"
   ]
  },
  {
   "cell_type": "code",
   "execution_count": 3,
   "metadata": {},
   "outputs": [],
   "source": [
    "import os\n",
    "import numpy as np\n",
    "from astropy.io import fits\n",
    "import matplotlib.pyplot as plt\n",
    "from astropy.table import Table\n",
    "import spec\n",
    "%matplotlib inline"
   ]
  },
  {
   "cell_type": "code",
   "execution_count": 4,
   "metadata": {},
   "outputs": [],
   "source": [
    "path = './data/'"
   ]
  },
  {
   "cell_type": "markdown",
   "metadata": {},
   "source": [
    "## 1) Photometric Calibration\n",
    "Use the standard star catalog data in ``r_all_chip1_night1.fits`` to calculate the zero-point, extinction term, and color term (in $g-r$) for the photometric calibration."
   ]
  },
  {
   "cell_type": "code",
   "execution_count": 6,
   "metadata": {},
   "outputs": [
    {
     "data": {
      "text/plain": [
       "FITS_rec([('00187016_01', '00187016_01-56', '1237663334298485173', 1, 17.2183, 0.0274, 17.6888, 0.006 , 1.1322, 0.0107, 1.2531, 22749, 56369, '00:21:22.617436', 0.0365, 1,  1.,  88.830718, 0.9739, 'SA97_sdss', 0.90472007, '00187016'),\n",
       "          ('00187016_01', '00187016_01-191', '1237663334298485188', 1, 17.3552, 0.0312, 17.8467, 0.0064, 1.1   , 0.0115, 1.2531, 22751, 56369, '00:21:22.617436', 0.0321, 1,  1.,  88.837526, 0.8995, 'SA97_sdss', 0.90472007, '00187016'),\n",
       "          ('00187016_01', '00187016_01-446', '1237658188927271169', 1, 17.6692, 0.0362, 18.1361, 0.0073, 1.1263, 0.013 , 1.2531, 22763, 56369, '00:21:22.617436', 0.0276, 1,  1.,  88.850982, 0.9636, 'SA97_sdss', 0.90472007, '00187016'),\n",
       "          ...,\n",
       "          ('00517326_01', '00517326_01-3216', '1237648705667006765', 1, 19.0721, 0.0338, 19.5893, 0.0155, 1.3225, 0.0331, 1.1718, 70506, 57432, '09:26:14.069707', 0.0296, 1, 15., 220.357267, 0.8899, 'SDSSJ1442_0005_sdss', 1.0546302 , '00517326'),\n",
       "          ('00517326_01', '00517326_01-3227', '1237648722322129254', 1, 19.3622, 0.0398, 19.8141, 0.0188, 1.269 , 0.0386, 1.1718, 70507, 57432, '09:26:14.069707', 0.0251, 1, 15., 220.357944, 0.8148, 'SDSSJ1442_0005_sdss', 1.0546302 , '00517326'),\n",
       "          ('00517326_01', '00517326_01-3253', '1237648705667006517', 1, 15.1618, 0.0076, 15.5493, 0.0035, 0.6361, 0.0052, 1.1718, 70509, 57432, '09:26:14.069707', 0.1316, 1, 15., 220.360236, 0.8877, 'SDSSJ1442_0005_sdss', 1.0546302 , '00517326')],\n",
       "         dtype=(numpy.record, [('FRAME', 'S11'), ('FRAMEID', 'S18'), ('ID', 'S22'), ('NIGHT', '>i4'), ('MAG', '>f4'), ('ERR', '>f4'), ('R', '>f4'), ('RERR', '>f4'), ('G_R', '>f4'), ('G_RERR', '>f4'), ('AIRMASS', '>f4'), ('NIGHTCOUNT', '>i4'), ('MJD', '>i4'), ('UT', 'S15'), ('WEIGHT', '>f4'), ('CHIP', '>i4'), ('EXPTIME', '>f4'), ('RA', '>f8'), ('DEC', '>f4'), ('STDFIELD', 'S19'), ('SEEING', '>f4'), ('EXPNUM', 'S8')]))"
      ]
     },
     "execution_count": 6,
     "metadata": {},
     "output_type": "execute_result"
    }
   ],
   "source": [
    "zero_pt = fits.getdata(path + 'r_all_chip1_night1.fits')\n",
    "Table(zero_pt"
   ]
  },
  {
   "cell_type": "markdown",
   "metadata": {},
   "source": [
    "## 2) Spectral Resolution\n",
    "Calculate the resolution using the projected slit width.\n",
    "\n",
    "What is the resolution at 5000A set by a 0.5\" slit on the IMACS f/4 channel with 600/5180A grating? <br>\n",
    "scale = 0.11 arcsec/pixel\n"
   ]
  },
  {
   "cell_type": "markdown",
   "metadata": {},
   "source": [
    "<img src=\"data\\imacsf4_gratings_table.png\" width=800 height=600 align=\"left\"/>"
   ]
  },
  {
   "cell_type": "code",
   "execution_count": null,
   "metadata": {},
   "outputs": [],
   "source": []
  },
  {
   "cell_type": "markdown",
   "metadata": {},
   "source": [
    "## 3) Diffraction grating order overlap\n",
    "Calculate the reflected angles ($\\beta$) for 3500A and 10,000A for the first three orders using the grating equation.  Assume that wavelengths shorter than 3500A and longer than 10,000A are blocked by other means (e.g., atmosphere, detector).  What second order wavelengths are uncontaminated (no overlap) by the first and third orders?\n",
    "- Incidence angle, $\\alpha$ = 5 deg\n",
    "- 300 grooves/mm"
   ]
  },
  {
   "cell_type": "code",
   "execution_count": null,
   "metadata": {},
   "outputs": [],
   "source": []
  },
  {
   "cell_type": "markdown",
   "metadata": {},
   "source": [
    "## 4) Equivalent widths\n",
    "Measure the equivalent width (you can use ``voigtfit()`` function in the spec.py model or from ``bozepy.spec``) of two of the Balmer lines (at least one should be $H\\beta$, 4861.34 A) for the ``specHD12707.fits`` spectrum.\n"
   ]
  },
  {
   "cell_type": "code",
   "execution_count": 1,
   "metadata": {},
   "outputs": [],
   "source": [
    "# Load the spectrum\n",
    "flux,head = fits.getdata('specHD12707.fits',header=True)\n",
    "# The wavelength information is in the header\n",
    "wave = np.arange(head['NAXIS1'])*head['CDELT1']+head['CRVAL1']\n",
    "if head['DC-FLAG']==1:\n",
    "    wave = 10**wave"
   ]
  },
  {
   "cell_type": "code",
   "execution_count": null,
   "metadata": {},
   "outputs": [],
   "source": []
  },
  {
   "cell_type": "markdown",
   "metadata": {},
   "source": [
    "## 6) Radial Velocity\n",
    "Measure the radial velocity of the star using the doppler shift and the Balmer lines.  You can use the rest wavelengths:\n",
    " - H$\\alpha$:  6562.79 A\n",
    " - H$\\beta$: 4861.34 A\n",
    " - H$\\gamma$: 4340.472 A\n",
    " - H$\\delta$: 4101.734 A"
   ]
  },
  {
   "cell_type": "code",
   "execution_count": null,
   "metadata": {},
   "outputs": [],
   "source": []
  }
 ],
 "metadata": {
  "kernelspec": {
   "display_name": "Python 3",
   "language": "python",
   "name": "python3"
  },
  "language_info": {
   "codemirror_mode": {
    "name": "ipython",
    "version": 3
   },
   "file_extension": ".py",
   "mimetype": "text/x-python",
   "name": "python",
   "nbconvert_exporter": "python",
   "pygments_lexer": "ipython3",
   "version": "3.8.8"
  }
 },
 "nbformat": 4,
 "nbformat_minor": 4
}
