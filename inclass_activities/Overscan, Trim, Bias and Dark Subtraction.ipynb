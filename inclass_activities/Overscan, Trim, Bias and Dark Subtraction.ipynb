{
 "cells": [
  {
   "cell_type": "markdown",
   "metadata": {},
   "source": [
    "# Overscan, Trim, Bias and Dark Subtraction"
   ]
  },
  {
   "cell_type": "markdown",
   "metadata": {},
   "source": [
    "Download ``decambiasdark.zip`` from D2L and unzip it."
   ]
  },
  {
   "cell_type": "code",
   "execution_count": 15,
   "metadata": {},
   "outputs": [],
   "source": [
    "import matplotlib.pyplot as plt\n",
    "from astropy.io import fits\n",
    "import numpy as np\n",
    "import os\n",
    "from glob import glob\n",
    "import matplotlib\n",
    "matplotlib.use('nbagg')"
   ]
  },
  {
   "cell_type": "code",
   "execution_count": 63,
   "metadata": {},
   "outputs": [],
   "source": [
    "def ccdlist(input=None):\n",
    "    if input is None: input='*.fits'\n",
    "    files = glob(input)\n",
    "    nfiles = len(files)\n",
    "    dt = np.dtype([('file',np.str,100),('naxis1',int),('naxis2',int),\n",
    "                      ('obstype',np.str,100),('exposure',float),('filter',np.str,100)])\n",
    "    cat = np.zeros(nfiles,dtype=dt)\n",
    "    for i,f in enumerate(files):\n",
    "        base = os.path.basename(f)\n",
    "        base = base.split('.')[0]\n",
    "        h = fits.getheader(f)\n",
    "        print(base+'  '+str(h['naxis1'])+'  '+str(h['naxis2'])+'  '+h['obstype']+'  '+str(h['exptime'])+'  '+h['filter'])\n",
    "        cat['file'][i] = f\n",
    "        cat['naxis1'][i] = h['naxis1']\n",
    "        cat['naxis2'][i] = h['naxis2']\n",
    "        cat['obstype'][i] = h['obstype']\n",
    "        cat['exposure'][i] = h['exptime']\n",
    "        cat['filter'][i] = h['filter']\n",
    "    return cat"
   ]
  },
  {
   "cell_type": "code",
   "execution_count": 64,
   "metadata": {},
   "outputs": [
    {
     "name": "stdout",
     "output_type": "stream",
     "text": [
      "dec009783  2160  4146  dark  60.0  None\n",
      "dec009776  2160  4146  zero  0.0  None\n",
      "dec009782  2160  4146  dark  60.0  None\n",
      "dec009770  2160  4146  zero  0.0  None\n",
      "dec009789  2160  4146  dark  60.0  None\n",
      "dec009785  2160  4146  dark  60.0  None\n",
      "dec009784  2160  4146  dark  60.0  None\n",
      "dec009767  2160  4146  zero  0.0  None\n",
      "dec009788  2160  4146  dark  60.0  None\n",
      "dec009771  2160  4146  zero  0.0  None\n",
      "dec009772  2160  4146  zero  0.0  None\n",
      "dec009787  2160  4146  dark  60.0  None\n",
      "dec009768  2160  4146  zero  0.0  None\n",
      "dec009790  2160  4146  dark  60.0  None\n",
      "dec009786  2160  4146  dark  60.0  None\n",
      "dec009769  2160  4146  zero  0.0  None\n",
      "dec009773  2160  4146  zero  0.0  None\n",
      "dec009781  2160  4146  dark  60.0  None\n",
      "dec009774  2160  4146  zero  0.0  None\n",
      "dec009775  2160  4146  zero  0.0  None\n"
     ]
    }
   ],
   "source": [
    "out=ccdlist('decambiasdark/*.fits')"
   ]
  },
  {
   "cell_type": "markdown",
   "metadata": {},
   "source": [
    "## 1. Overscan"
   ]
  },
  {
   "cell_type": "markdown",
   "metadata": {},
   "source": [
    "Load the data and header (using fits.getdata) for the first file ``dec009768.fits``.  Plot up the image and print out the header."
   ]
  },
  {
   "cell_type": "code",
   "execution_count": 5,
   "metadata": {},
   "outputs": [],
   "source": [
    "im, head = fits.getdata('decambiasdark/dec009768.fits',0,header=True)"
   ]
  },
  {
   "cell_type": "code",
   "execution_count": null,
   "metadata": {},
   "outputs": [],
   "source": [
    "plt.imshow(im,vmin=2000,vmax=2100,aspect='auto',origin='lower')\n",
    "plt.colorbar()"
   ]
  },
  {
   "cell_type": "code",
   "execution_count": null,
   "metadata": {},
   "outputs": [],
   "source": []
  },
  {
   "cell_type": "markdown",
   "metadata": {},
   "source": [
    "Figure out where the two overscan sections are."
   ]
  },
  {
   "cell_type": "code",
   "execution_count": null,
   "metadata": {},
   "outputs": [],
   "source": []
  },
  {
   "cell_type": "markdown",
   "metadata": {},
   "source": [
    "Calculate the overscan value for each amplifier."
   ]
  },
  {
   "cell_type": "code",
   "execution_count": null,
   "metadata": {},
   "outputs": [],
   "source": []
  },
  {
   "cell_type": "markdown",
   "metadata": {},
   "source": [
    "Figure out where the two data sections are."
   ]
  },
  {
   "cell_type": "code",
   "execution_count": null,
   "metadata": {},
   "outputs": [],
   "source": []
  },
  {
   "cell_type": "markdown",
   "metadata": {},
   "source": [
    "Subtract the overscan value from the data sections."
   ]
  },
  {
   "cell_type": "code",
   "execution_count": null,
   "metadata": {},
   "outputs": [],
   "source": []
  },
  {
   "cell_type": "markdown",
   "metadata": {},
   "source": [
    "Write a small function that performs all of these tasks given the image and header."
   ]
  },
  {
   "cell_type": "code",
   "execution_count": null,
   "metadata": {},
   "outputs": [],
   "source": []
  },
  {
   "cell_type": "markdown",
   "metadata": {},
   "source": [
    "## 2. Trim"
   ]
  },
  {
   "cell_type": "markdown",
   "metadata": {},
   "source": [
    "Figure out which section of the image you should remove and which one you should keep."
   ]
  },
  {
   "cell_type": "code",
   "execution_count": null,
   "metadata": {},
   "outputs": [],
   "source": []
  },
  {
   "cell_type": "markdown",
   "metadata": {},
   "source": [
    "Trim the image"
   ]
  },
  {
   "cell_type": "code",
   "execution_count": null,
   "metadata": {},
   "outputs": [],
   "source": []
  },
  {
   "cell_type": "markdown",
   "metadata": {},
   "source": [
    "Update your function to also trim the image."
   ]
  },
  {
   "cell_type": "code",
   "execution_count": null,
   "metadata": {},
   "outputs": [],
   "source": []
  },
  {
   "cell_type": "markdown",
   "metadata": {},
   "source": [
    "## 3. Bias"
   ]
  },
  {
   "cell_type": "markdown",
   "metadata": {},
   "source": [
    "Use the ccdlist() function to get information about all of the exposures.  Get the names of just the bias exposures."
   ]
  },
  {
   "cell_type": "code",
   "execution_count": null,
   "metadata": {},
   "outputs": [],
   "source": []
  },
  {
   "cell_type": "markdown",
   "metadata": {},
   "source": [
    "Initialize a 3D array that will contain all of the bias exposures information, size [Nx,Ny,Nframes].  Loop over the bias exposures, run your overscan/trim function on it, and then plug the image into your 3D array."
   ]
  },
  {
   "cell_type": "code",
   "execution_count": null,
   "metadata": {},
   "outputs": [],
   "source": []
  },
  {
   "cell_type": "markdown",
   "metadata": {},
   "source": [
    "Use np.mean() with the axis to keyword to average all of the bias exposures.  Does the average look less noisy than the individual bias images?"
   ]
  },
  {
   "cell_type": "code",
   "execution_count": null,
   "metadata": {},
   "outputs": [],
   "source": []
  },
  {
   "cell_type": "markdown",
   "metadata": {},
   "source": [
    "Create a function that performs these steps and creates a ``master bias`` image."
   ]
  },
  {
   "cell_type": "markdown",
   "metadata": {},
   "source": [
    "## 4. Dark"
   ]
  },
  {
   "cell_type": "markdown",
   "metadata": {},
   "source": [
    "Get the names of just the dark exposures from the file information provided by ccdlist()."
   ]
  },
  {
   "cell_type": "code",
   "execution_count": null,
   "metadata": {},
   "outputs": [],
   "source": []
  },
  {
   "cell_type": "markdown",
   "metadata": {},
   "source": [
    "Create a function that creates a ``master dark`` image.  It has to overscan correct, trim, bias subtrac, and, finally, average over all the darks. "
   ]
  },
  {
   "cell_type": "code",
   "execution_count": null,
   "metadata": {},
   "outputs": [],
   "source": []
  }
 ],
 "metadata": {
  "kernelspec": {
   "display_name": "Python 3",
   "language": "python",
   "name": "python3"
  },
  "language_info": {
   "codemirror_mode": {
    "name": "ipython",
    "version": 3
   },
   "file_extension": ".py",
   "mimetype": "text/x-python",
   "name": "python",
   "nbconvert_exporter": "python",
   "pygments_lexer": "ipython3",
   "version": "3.8.3"
  }
 },
 "nbformat": 4,
 "nbformat_minor": 2
}
