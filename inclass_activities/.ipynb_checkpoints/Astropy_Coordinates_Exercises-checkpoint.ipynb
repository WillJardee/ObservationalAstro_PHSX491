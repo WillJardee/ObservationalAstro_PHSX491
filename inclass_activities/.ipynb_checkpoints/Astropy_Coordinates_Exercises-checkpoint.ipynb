{
 "cells": [
  {
   "cell_type": "markdown",
   "metadata": {},
   "source": [
    "# Coordinates with astropy"
   ]
  },
  {
   "cell_type": "markdown",
   "metadata": {},
   "source": [
    "Useful links:<br>\n",
    "https://docs.astropy.org/en/stable/coordinates/ <br>\n",
    "http://learn.astropy.org/rst-tutorials/Coordinates-Transform.html#exercise-1"
   ]
  },
  {
   "cell_type": "code",
   "execution_count": 1,
   "metadata": {},
   "outputs": [],
   "source": [
    "# Imports\n",
    "from astropy import units as u\n",
    "from astropy.coordinates import SkyCoord\n",
    "import numpy as np\n",
    "import matplotlib.pyplot as plt"
   ]
  },
  {
   "cell_type": "code",
   "execution_count": 2,
   "metadata": {},
   "outputs": [],
   "source": [
    "c = SkyCoord(ra=10.625*u.degree, dec=41.2*u.degree, frame='icrs')"
   ]
  },
  {
   "cell_type": "code",
   "execution_count": 3,
   "metadata": {},
   "outputs": [
    {
     "data": {
      "text/plain": [
       "<SkyCoord (ICRS): (ra, dec) in deg\n",
       "    (10.625, 41.2)>"
      ]
     },
     "execution_count": 3,
     "metadata": {},
     "output_type": "execute_result"
    }
   ],
   "source": [
    "c"
   ]
  },
  {
   "cell_type": "code",
   "execution_count": 4,
   "metadata": {},
   "outputs": [
    {
     "data": {
      "text/plain": [
       "'10d37m30s 41d12m00s'"
      ]
     },
     "execution_count": 4,
     "metadata": {},
     "output_type": "execute_result"
    }
   ],
   "source": [
    "c.to_string('dms')"
   ]
  },
  {
   "cell_type": "code",
   "execution_count": 5,
   "metadata": {},
   "outputs": [
    {
     "data": {
      "text/plain": [
       "'00h42m30s +41d12m00s'"
      ]
     },
     "execution_count": 5,
     "metadata": {},
     "output_type": "execute_result"
    }
   ],
   "source": [
    "c.to_string('hmsdms')"
   ]
  },
  {
   "cell_type": "code",
   "execution_count": 6,
   "metadata": {},
   "outputs": [
    {
     "data": {
      "text/plain": [
       "<SkyCoord (Galactic): (l, b) in deg\n",
       "    (121.12334339, -21.6403587)>"
      ]
     },
     "execution_count": 6,
     "metadata": {},
     "output_type": "execute_result"
    }
   ],
   "source": [
    "c.galactic"
   ]
  },
  {
   "cell_type": "code",
   "execution_count": 7,
   "metadata": {},
   "outputs": [
    {
     "data": {
      "text/plain": [
       "<SkyCoord (GeocentricTrueEcliptic: equinox=J2000.000, obstime=J2000.000): (lon, lat, distance) in (deg, deg, )\n",
       "    (27.76134106, 33.31188749, 1.)>"
      ]
     },
     "execution_count": 7,
     "metadata": {},
     "output_type": "execute_result"
    }
   ],
   "source": [
    "c.transform_to('geocentrictrueecliptic')"
   ]
  },
  {
   "cell_type": "markdown",
   "metadata": {},
   "source": [
    "**1) Create a SkyCoord object for RA=129.456 deg, DEC=+23.92345 deg.**"
   ]
  },
  {
   "cell_type": "code",
   "execution_count": 20,
   "metadata": {},
   "outputs": [],
   "source": [
    "eq1 = SkyCoord(ra=129.456*u.degree, dec=23.92345*u.degree, equinox=\"J2000.0\")"
   ]
  },
  {
   "cell_type": "markdown",
   "metadata": {},
   "source": [
    "**2) Print out the coordinates in HH:MM:SS DD:MM:SS format.**"
   ]
  },
  {
   "cell_type": "code",
   "execution_count": 9,
   "metadata": {},
   "outputs": [
    {
     "name": "stdout",
     "output_type": "stream",
     "text": [
      "08h37m49.44s +23d55m24.42s\n"
     ]
    }
   ],
   "source": [
    "print(eq1.to_string('hmsdms'))"
   ]
  },
  {
   "cell_type": "markdown",
   "metadata": {},
   "source": [
    "**3) Convert the coordinates to the Galactic coordinate system and print them out.**"
   ]
  },
  {
   "cell_type": "code",
   "execution_count": 10,
   "metadata": {},
   "outputs": [
    {
     "name": "stdout",
     "output_type": "stream",
     "text": [
      "<SkyCoord (Galactic): (l, b) in deg\n",
      "    (200.89428753, 33.30726379)>\n"
     ]
    }
   ],
   "source": [
    "print(eq1.galactic)"
   ]
  },
  {
   "cell_type": "markdown",
   "metadata": {},
   "source": [
    "**4) What are the equatorial coordinates (in degrees) of the (1) Galactic center (l=0, b=0), (2), the North Galactic Pole, and (3) the direction of Galactic rotation (l=90, b=0)?**"
   ]
  },
  {
   "cell_type": "code",
   "execution_count": 11,
   "metadata": {},
   "outputs": [
    {
     "name": "stdout",
     "output_type": "stream",
     "text": [
      "galactic center: <SkyCoord (FK5: equinox=J2000.000): (ra, dec) in deg\n",
      "    (266.40499623, -28.9361724)>\n",
      "north galatic pole: <SkyCoord (FK5: equinox=J2000.000): (ra, dec) in deg\n",
      "    (192.85948121, 27.12825118)>\n",
      "direction of rotation 1: <SkyCoord (FK5: equinox=J2000.000): (ra, dec) in deg\n",
      "    (318.00439058, 48.32964278)>\n",
      "direction of rotation 2: <SkyCoord (FK5: equinox=J2200.500): (ra, dec) in deg\n",
      "    (319.73795303, 49.17002454)>\n"
     ]
    }
   ],
   "source": [
    "#1\n",
    "print(\"galactic center: {}\".format(eq_1 := SkyCoord(l=0, b=0, frame='galactic', unit='deg').transform_to('fk5')))\n",
    "#2\n",
    "print(\"north galatic pole: {}\".format(eq_2 := SkyCoord(l=0, b=90, frame='galactic', unit='deg').transform_to('fk5')))\n",
    "#3\n",
    "print(\"direction of rotation 1: {}\".format(eq_3 := SkyCoord(l=90, b=0, frame='galactic', unit='deg').transform_to('fk5')))\n",
    "print(\"direction of rotation 2: {}\".format(eq_4 := SkyCoord(l=90, b=0, frame='galactic', unit='deg', equinox='J2200.5').transform_to('fk5')))"
   ]
  },
  {
   "cell_type": "markdown",
   "metadata": {},
   "source": [
    "\n",
    "**5) Create a squence of coordinates for the Galactic equator in steps of 5 deg (l=0, 5, 10, ..., b=0, 0, 0, ...) and convert them to the equatorial system.**"
   ]
  },
  {
   "cell_type": "code",
   "execution_count": 12,
   "metadata": {},
   "outputs": [],
   "source": [
    "lline = np.linspace(0,360,37*2)\n",
    "cordline = SkyCoord(l=lline, b=0, frame='galactic', unit='deg').transform_to('fk5')"
   ]
  },
  {
   "cell_type": "markdown",
   "metadata": {},
   "source": [
    "**6) Plot the equatorial coordinates of the Galactic equator.**"
   ]
  },
  {
   "cell_type": "code",
   "execution_count": 13,
   "metadata": {},
   "outputs": [
    {
     "data": {
      "image/png": "[encoded data removed]",
      "text/plain": [
       "<Figure size 432x288 with 1 Axes>"
      ]
     },
     "metadata": {
      "needs_background": "light"
     },
     "output_type": "display_data"
    }
   ],
   "source": [
    "plt.plot(cordline.ra, cordline.dec)\n",
    "plt.show()"
   ]
  },
  {
   "cell_type": "markdown",
   "metadata": {},
   "source": [
    "**7) Precess the coordinates from #1 from J2000.0 to J2020.0 (using FK5()).  How big of a shift is it?**"
   ]
  },
  {
   "cell_type": "code",
   "execution_count": 25,
   "metadata": {},
   "outputs": [
    {
     "name": "stdout",
     "output_type": "stream",
     "text": [
      "eq1: <SkyCoord (FK5: equinox=J2000.000): (ra, dec) in deg\n",
      "    (129.45600567, 23.92344413)>\n",
      "eq7: <SkyCoord (FK5: equinox=J2020.000): (ra, dec) in deg\n",
      "    (129.456, 23.92345)>\n",
      "0d16m41.6844s\n"
     ]
    }
   ],
   "source": [
    "eq7 = SkyCoord(ra=129.456*u.degree, dec=23.92345*u.degree, equinox=\"J2020.0\", frame='fk5')\n",
    "print(\"eq1: {}\".format(eq1))\n",
    "print(\"eq7: {}\".format(eq7))\n",
    "\n",
    "print(eq7.separation(eq1)) #WTH is going on here?"
   ]
  },
  {
   "cell_type": "code",
   "execution_count": null,
   "metadata": {},
   "outputs": [],
   "source": []
  },
  {
   "cell_type": "raw",
   "metadata": {},
   "source": []
  },
  {
   "cell_type": "code",
   "execution_count": 1,
   "metadata": {},
   "outputs": [
    {
     "ename": "NameError",
     "evalue": "name 'fits' is not defined",
     "output_type": "error",
     "traceback": [
      "\u001b[1;31m---------------------------------------------------------------------------\u001b[0m",
      "\u001b[1;31mNameError\u001b[0m                                 Traceback (most recent call last)",
      "\u001b[1;32m<ipython-input-1-aeac257fb998>\u001b[0m in \u001b[0;36m<module>\u001b[1;34m\u001b[0m\n\u001b[1;32m----> 1\u001b[1;33m \u001b[0mim\u001b[0m\u001b[1;33m,\u001b[0m \u001b[0mhead\u001b[0m \u001b[1;33m=\u001b[0m \u001b[0mfits\u001b[0m\u001b[1;33m.\u001b[0m\u001b[0mgetdata\u001b[0m\u001b[1;33m(\u001b[0m\u001b[1;34m'data/DoubleCluster-0023B.fit'\u001b[0m\u001b[1;33m,\u001b[0m\u001b[1;36m0\u001b[0m\u001b[1;33m,\u001b[0m\u001b[0mheader\u001b[0m\u001b[1;33m=\u001b[0m\u001b[1;32mTrue\u001b[0m\u001b[1;33m)\u001b[0m\u001b[1;33m\u001b[0m\u001b[1;33m\u001b[0m\u001b[0m\n\u001b[0m",
      "\u001b[1;31mNameError\u001b[0m: name 'fits' is not defined"
     ]
    }
   ],
   "source": [
    "im, head = fits.getdata('data/DoubleCluster-0023B.fit',0,header=True)"
   ]
  },
  {
   "cell_type": "code",
   "execution_count": null,
   "metadata": {},
   "outputs": [],
   "source": [
    "plt.figure(figsize=(14, 10))\n",
    "plt.imshow(im,aspect='auto',origin='lower')\n",
    "plt.colorbar()\n",
    "plt.show()"
   ]
  }
 ],
 "metadata": {
  "kernelspec": {
   "display_name": "Python 3",
   "language": "python",
   "name": "python3"
  },
  "language_info": {
   "codemirror_mode": {
    "name": "ipython",
    "version": 3
   },
   "file_extension": ".py",
   "mimetype": "text/x-python",
   "name": "python",
   "nbconvert_exporter": "python",
   "pygments_lexer": "ipython3",
   "version": "3.8.8"
  }
 },
 "nbformat": 4,
 "nbformat_minor": 2
}
