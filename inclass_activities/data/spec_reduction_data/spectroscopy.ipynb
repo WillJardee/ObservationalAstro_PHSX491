{
 "cells": [
  {
   "cell_type": "code",
   "execution_count": null,
   "metadata": {},
   "outputs": [],
   "source": [
    "# Imports\n",
    "import numpy as np\n",
    "from scipy.special import erf\n",
    "from scipy.optimize import curve_fit, least_squares\n",
    "from astropy.io import fits\n",
    "import matplotlib.pyplot as pl\n",
    "from scipy import ndimage\n",
    "from scipy.interpolate import interp1d\n",
    "from astropy.table import Table\n",
    "import matplotlib.colors as colors\n",
    "from scipy.special import wofz\n",
    "%matplotlib inline"
   ]
  },
  {
   "cell_type": "code",
   "execution_count": null,
   "metadata": {},
   "outputs": [],
   "source": [
    "def gaussbin(x, amp, cen, sig, const=0, dx=1.0):\n",
    "    \"\"\"1-D gaussian with pixel binning\n",
    "    \n",
    "    This function returns a binned Gaussian\n",
    "    par = [height, center, sigma]\n",
    "    \n",
    "    Parameters\n",
    "    ----------\n",
    "    x : array\n",
    "       The array of X-values.\n",
    "    amp : float\n",
    "       The Gaussian height/amplitude.\n",
    "    cen : float\n",
    "       The central position of the Gaussian.\n",
    "    sig : float\n",
    "       The Gaussian sigma.\n",
    "    const : float, optional, default=0.0\n",
    "       A constant offset.\n",
    "    dx : float, optional, default=1.0\n",
    "      The width of each \"pixel\" (scalar).\n",
    "    \n",
    "    Returns\n",
    "    -------\n",
    "    geval : array\n",
    "          The binned Gaussian in the pixel\n",
    "\n",
    "    \"\"\"\n",
    "\n",
    "    xcen = np.array(x)-cen             # relative to the center\n",
    "    x1cen = xcen - 0.5*dx  # left side of bin\n",
    "    x2cen = xcen + 0.5*dx  # right side of bin\n",
    "\n",
    "    t1cen = x1cen/(np.sqrt(2.0)*sig)  # scale to a unitless Gaussian\n",
    "    t2cen = x2cen/(np.sqrt(2.0)*sig)\n",
    "\n",
    "    # For each value we need to calculate two integrals\n",
    "    #  one on the left side and one on the right side\n",
    "\n",
    "    # Evaluate each point\n",
    "    #   ERF = 2/sqrt(pi) * Integral(t=0-z) exp(-t^2) dt\n",
    "    #   negative for negative z\n",
    "    geval_lower = erf(t1cen)\n",
    "    geval_upper = erf(t2cen)\n",
    "\n",
    "    geval = amp*np.sqrt(2.0)*sig * np.sqrt(np.pi)/2.0 * ( geval_upper - geval_lower )\n",
    "    geval += const   # add constant offset\n",
    "\n",
    "    return geval\n"
   ]
  },
  {
   "cell_type": "code",
   "execution_count": null,
   "metadata": {},
   "outputs": [],
   "source": [
    "def gaussian(x, amp, cen, sig, const=0):\n",
    "    \"\"\"1-D gaussian: gaussian(x, amp, cen, sig)\"\"\"\n",
    "    return amp * np.exp(-(x-cen)**2 / (2*sig**2)) + const"
   ]
  },
  {
   "cell_type": "code",
   "execution_count": null,
   "metadata": {},
   "outputs": [],
   "source": [
    "def gaussfit(x,y,initpar=None,sigma=None,bounds=(-np.inf,np.inf),binned=False):\n",
    "    \"\"\"Fit a Gaussian to data.\"\"\"\n",
    "    if initpar is None:\n",
    "        initpar = [np.max(y),x[np.argmax(y)],1.0,np.median(y)]\n",
    "    func = gaussian\n",
    "    if binned is True: func=gaussbin\n",
    "    return curve_fit(func, x, y, p0=initpar, sigma=sigma, bounds=bounds)"
   ]
  },
  {
   "cell_type": "code",
   "execution_count": null,
   "metadata": {},
   "outputs": [],
   "source": []
  },
  {
   "cell_type": "code",
   "execution_count": null,
   "metadata": {},
   "outputs": [],
   "source": [
    "# Load the object spectrum 2D image\n",
    "im,head = fits.getdata('HD12707_comb.fits',header=True)\n",
    "imerr = np.sqrt(np.maximum(im,1)/1.42)   # gain=1.420 e-/ADU"
   ]
  },
  {
   "cell_type": "code",
   "execution_count": null,
   "metadata": {},
   "outputs": [],
   "source": [
    "# Load the comparison/arc lamp spectrum 2D image\n",
    "cim,chead = fits.getdata('HD12707_compar1.fits',header=True)\n",
    "cimerr = np.sqrt(np.maximum(cim,1)/1.42)   # gain=1.420 e-/ADU"
   ]
  },
  {
   "cell_type": "code",
   "execution_count": null,
   "metadata": {},
   "outputs": [],
   "source": [
    "fig = plt.figure(figsize=(12,10))\n",
    "plt.imshow(im,origin='lower',aspect='equal')"
   ]
  },
  {
   "cell_type": "code",
   "execution_count": null,
   "metadata": {},
   "outputs": [],
   "source": [
    "fig = plt.figure(figsize=(12,10))\n",
    "plt.imshow(im,origin='lower',aspect='auto')\n",
    "plt.ylim(150,180)"
   ]
  },
  {
   "cell_type": "code",
   "execution_count": null,
   "metadata": {},
   "outputs": [],
   "source": [
    "fig = plt.figure(figsize=(12,10))\n",
    "plt.imshow(cim,origin='lower',aspect='equal')"
   ]
  },
  {
   "cell_type": "markdown",
   "metadata": {},
   "source": [
    "# Trace the Spectrum"
   ]
  },
  {
   "cell_type": "code",
   "execution_count": null,
   "metadata": {},
   "outputs": [],
   "source": [
    "ny,nx = im.shape\n",
    "x = np.arange(nx)\n",
    "y = np.arange(ny)"
   ]
  },
  {
   "cell_type": "code",
   "execution_count": null,
   "metadata": {},
   "outputs": [],
   "source": [
    "par,cov=gaussfit(y,im[:,400])\n",
    "gmodel=gaussian(y,*par)"
   ]
  },
  {
   "cell_type": "code",
   "execution_count": null,
   "metadata": {},
   "outputs": [],
   "source": [
    "plt.plot(y,im[:,400],linewidth=2)\n",
    "plt.plot(y,gmodel,linewidth=1,linestyle='dashed')"
   ]
  },
  {
   "cell_type": "code",
   "execution_count": null,
   "metadata": {},
   "outputs": [],
   "source": [
    "fig = plt.figure(figsize=(10,6))\n",
    "plt.plot(y,im[:,400],linewidth=3)\n",
    "plt.plot(y,mod,linewidth=2,linestyle='dashed')\n",
    "plt.xlim(150,180)"
   ]
  },
  {
   "cell_type": "code",
   "execution_count": null,
   "metadata": {},
   "outputs": [],
   "source": []
  },
  {
   "cell_type": "code",
   "execution_count": null,
   "metadata": {},
   "outputs": [],
   "source": [
    "def trace(im,yestimate=None,yorder=2,sigorder=4,step=10):\n",
    "    \"\"\" Trace the spectrum.  Spectral dimension is assumed to be on the horizontal axis.\"\"\"\n",
    "    ny,nx = im.shape\n",
    "    if yestimate is None:\n",
    "        ytot = np.sum(im,axis=1)\n",
    "        yestimate = np.argmax(ytot)\n",
    "    # Smooth in spectral dimension\n",
    "    # a uniform (boxcar) filter with a width of 50\n",
    "    smim = ndimage.uniform_filter1d(im, 50, 1)\n",
    "    nstep = nx//step\n",
    "    # Loop over the columns in steps and fit Gaussians\n",
    "    tcat = np.zeros(nstep,dtype=np.dtype([('x',float),('pars',float,4)]))\n",
    "    for i in range(nstep):\n",
    "        pars,cov = gaussfit(y[yestimate-10:yestimate+10],im[yestimate-10:yestimate+10,step*i+step//2])\n",
    "        tcat['x'][i] = step*i+step//2\n",
    "        tcat['pars'][i] = pars\n",
    "    # Fit polynomail to y vs. x and gaussian sigma vs. x\n",
    "    ypars = np.polyfit(tcat['x'],tcat['pars'][:,1],yorder)\n",
    "    sigpars = np.polyfit(tcat['x'],tcat['pars'][:,2],sigorder)\n",
    "    # Model\n",
    "    mcat = np.zeros(nx,dtype=np.dtype([('x',float),('y',float),('sigma',float)]))\n",
    "    xx = np.arange(nx)\n",
    "    mcat['x'] = xx\n",
    "    mcat['y'] = np.poly1d(ypars)(xx)\n",
    "    mcat['sigma'] = np.poly1d(sigpars)(xx)\n",
    "    return tcat, ypars, sigpars,mcat"
   ]
  },
  {
   "cell_type": "code",
   "execution_count": null,
   "metadata": {},
   "outputs": [],
   "source": [
    "tcat,ypars,sigpars,mcat=trace(im)"
   ]
  },
  {
   "cell_type": "code",
   "execution_count": null,
   "metadata": {},
   "outputs": [],
   "source": [
    "fig = plt.figure(figsize=(14,8))\n",
    "plt.imshow(im,origin='lower',aspect='auto')\n",
    "plt.ylim(150,180)\n",
    "plt.scatter(tcat['x'],tcat['pars'][:,1],c='r',marker='+')"
   ]
  },
  {
   "cell_type": "code",
   "execution_count": null,
   "metadata": {},
   "outputs": [],
   "source": [
    "# Fit a polynomial to Y vs. X\n",
    "fig = plt.figure(figsize=(12,8))\n",
    "plt.scatter(tcat['x'],tcat['pars'][:,1],marker='+')\n",
    "plt.xlabel('Column')\n",
    "plt.ylabel('Row')\n",
    "plt.title('Row vs. Column')\n",
    "plt.plot(mcat['x'],mcat['y'],c='r',label='Fit')\n",
    "plt.legend()\n",
    "print(ypars)"
   ]
  },
  {
   "cell_type": "code",
   "execution_count": null,
   "metadata": {},
   "outputs": [],
   "source": [
    "# Fit a polynomial to Gaussian Sigma vs. X\n",
    "fig = plt.figure(figsize=(12,8))\n",
    "plt.scatter(tcat['x'],tcat['pars'][:,2],marker='+')\n",
    "plt.xlabel('Column')\n",
    "plt.ylabel('Gaussian Sigma')\n",
    "plt.title('Gaussian Sigma vs. Column')\n",
    "plt.plot(mcat['x'],mcat['sigma'],c='r',label='Fit')\n",
    "plt.legend()\n",
    "print(sigpars)"
   ]
  },
  {
   "cell_type": "markdown",
   "metadata": {},
   "source": [
    "# Extract the Spectrum"
   ]
  },
  {
   "cell_type": "code",
   "execution_count": null,
   "metadata": {},
   "outputs": [],
   "source": [
    "def boxcar(im):\n",
    "    \"\"\" Boxcar extract the spectrum\"\"\"\n",
    "    ny,nx = im.shape\n",
    "    ytot = np.sum(im,axis=1)\n",
    "    yest = np.argmax(ytot)\n",
    "    # Background subtract\n",
    "    yblo = int(np.maximum(yest-50,0))\n",
    "    ybhi = int(np.minimum(yest+50,ny))\n",
    "    med = np.median(im[yblo:ybhi,:],axis=0)\n",
    "    medim = np.repeat(med,ny).reshape(ny,nx)\n",
    "    subim = im.copy()-medim\n",
    "    # Sum up the flux\n",
    "    ylo = int(np.maximum(yest-20,0))\n",
    "    yhi = int(np.minimum(yest+20,ny))\n",
    "    flux = np.sum(subim[ylo:yhi,:],axis=0)\n",
    "    return flux"
   ]
  },
  {
   "cell_type": "code",
   "execution_count": null,
   "metadata": {},
   "outputs": [],
   "source": [
    "boxflux = boxcar(im)"
   ]
  },
  {
   "cell_type": "code",
   "execution_count": null,
   "metadata": {},
   "outputs": [],
   "source": [
    "fig = plt.figure(figsize=(10,6))\n",
    "plt.plot(boxflux)"
   ]
  },
  {
   "cell_type": "markdown",
   "metadata": {},
   "source": [
    "We can improve the extraction by fitting a Gaussian to the profiles but now holding the center and Gaussian sigma fixed.  Only fit the height (i.e. flux) and constant offset (background).  This will allow us to properly weight each pixels.  This will improve the results especially for low S/N spectra."
   ]
  },
  {
   "cell_type": "code",
   "execution_count": null,
   "metadata": {},
   "outputs": [],
   "source": [
    "def linefit(x,y,initpar,bounds,err=None):\n",
    "    # Fit Gaussian profile to data with center and sigma fixed.\n",
    "    # initpar = [height, center, sigma, constant offset]\n",
    "    cen = initpar[1]\n",
    "    sigma = initpar[2]\n",
    "    def gline(x, amp, const=0):\n",
    "        \"\"\"1-D gaussian: gaussian(x, amp, cen, sig)\"\"\"\n",
    "        return amp * np.exp(-(x-cen)**2 / (2*sigma**2)) + const\n",
    "    line_initpar = [initpar[0],initpar[3]]\n",
    "    lbounds, ubounds = bounds\n",
    "    line_bounds = ([lbounds[0],lbounds[3]],[ubounds[0],ubounds[3]])\n",
    "    return curve_fit(gline, x, y, p0=line_initpar, bounds=line_bounds, sigma=err)"
   ]
  },
  {
   "cell_type": "code",
   "execution_count": null,
   "metadata": {},
   "outputs": [],
   "source": [
    "plt.plot(y[155:175],im[155:175,400])"
   ]
  },
  {
   "cell_type": "code",
   "execution_count": null,
   "metadata": {},
   "outputs": [],
   "source": [
    "Table(mcat)[400]"
   ]
  },
  {
   "cell_type": "code",
   "execution_count": null,
   "metadata": {},
   "outputs": [],
   "source": [
    "initpar = [8e5, 164.906, 1.32455, 0.0]\n",
    "bnds = ( [0,0,0,0], [1e8,0,0,1e4] )\n",
    "pars0,cov0 = linefit(y[155:175],im[155:175,400],initpar=initpar,bounds=bnds)\n",
    "pars = [pars[0],164.906, 1.32455, pars0[1]]\n",
    "print(pars)\n",
    "lmodel = gaussian(y[155:175],*pars)"
   ]
  },
  {
   "cell_type": "code",
   "execution_count": null,
   "metadata": {},
   "outputs": [],
   "source": [
    "plt.plot(y[155:175],im[155:175,400])\n",
    "plt.plot(y[155:175],lmodel,linestyle='dashed')"
   ]
  },
  {
   "cell_type": "code",
   "execution_count": null,
   "metadata": {},
   "outputs": [],
   "source": [
    "def extract(im,imerr=None,mcat=None,nobackground=False):\n",
    "    \"\"\" Extract a spectrum\"\"\"\n",
    "    ny,nx = im.shape\n",
    "    x = np.arange(nx)\n",
    "    y = np.arange(ny)\n",
    "    # No trace information input, get it\n",
    "    if mcat is None:\n",
    "        tcat,ypars,sigpars,mcat=trace(im)\n",
    "    # Loop over the columns and get the flux using the trace information\n",
    "    cat = np.zeros(nx,dtype=np.dtype([('x',int),('pars',float,2),('perr',float,2),\n",
    "                                      ('flux',float),('fluxerr',float)]))\n",
    "    for i in range(nx):\n",
    "        line = im[:,i].flatten()\n",
    "        if imerr is not None:\n",
    "            lineerr = imerr[:,i].flatten()\n",
    "        else:\n",
    "            lineerr = np.ones(len(line))   # unweighted\n",
    "        # Fit the constant offset and the height of the Gaussian\n",
    "        #  fix the central position and sigma\n",
    "        ycen = mcat['y'][i]\n",
    "        ysigma = mcat['sigma'][i]\n",
    "        ht0 = np.maximum(line[int(np.round(ycen))],0.01)\n",
    "        initpar = [ht0,ycen,ysigma,np.median(line)]\n",
    "        if nobackground is True:\n",
    "            initpar = [ht0,ycen,ysigma,0]\n",
    "        # Only fit the region fight around the peak\n",
    "        y0 = int(np.maximum(ymid-50,0))\n",
    "        y1 = int(np.minimum(ymid+50,ny))\n",
    "        bnds = ([0,ycen-1e-4,ysigma-1e-4,0],[1.5*ht0,ycen,ysigma,1.5*initpar[3]])\n",
    "        if nobackground is True:\n",
    "            bnds = ([0,ycen-1e-4,ysigma-1e-4,0],[1.5*ht0,ycen,ysigma,0.1])\n",
    "        pars,cov = linefit(y[y0:y1],line[y0:y1],initpar=initpar,bounds=bnds,err=lineerr[y0:y1])\n",
    "        perr = np.sqrt(np.diag(cov))\n",
    "        # Gaussian area = ht*wid*sqrt(2*pi)\n",
    "        flux = pars[0]*ysigma*np.sqrt(2*np.pi)\n",
    "        fluxerr = perr[0]*ysigma*np.sqrt(2*np.pi)\n",
    "        cat['x'][i] = i\n",
    "        cat['pars'][i] = pars\n",
    "        cat['perr'][i] = perr\n",
    "        cat['flux'][i] = flux\n",
    "        cat['fluxerr'][i] = fluxerr\n",
    "    return cat"
   ]
  },
  {
   "cell_type": "code",
   "execution_count": null,
   "metadata": {},
   "outputs": [],
   "source": [
    "tcat,ypars,sigpars,mcat=trace(im)\n",
    "scat = extract(im,imerr,mcat)"
   ]
  },
  {
   "cell_type": "code",
   "execution_count": null,
   "metadata": {},
   "outputs": [],
   "source": [
    "fig = plt.figure(figsize=(12,8))\n",
    "plt.plot(scat['flux'])"
   ]
  },
  {
   "cell_type": "code",
   "execution_count": null,
   "metadata": {},
   "outputs": [],
   "source": [
    "Table(scat)"
   ]
  },
  {
   "cell_type": "markdown",
   "metadata": {},
   "source": [
    "We need to extract the comparison lamp spectrum the same way we did the object spectrum."
   ]
  },
  {
   "cell_type": "code",
   "execution_count": null,
   "metadata": {},
   "outputs": [],
   "source": [
    "ccat = extract(cim,cimerr,mcat,nobackground=True)"
   ]
  },
  {
   "cell_type": "code",
   "execution_count": null,
   "metadata": {},
   "outputs": [],
   "source": [
    "fig = plt.figure(figsize=(12,8))\n",
    "plt.plot(ccat['flux'])"
   ]
  },
  {
   "cell_type": "markdown",
   "metadata": {},
   "source": [
    "# Wavelength Solution"
   ]
  },
  {
   "cell_type": "markdown",
   "metadata": {},
   "source": [
    "<img src=\"hear340_520.gif\" width=800 height=600 align=\"left\"/>"
   ]
  },
  {
   "cell_type": "markdown",
   "metadata": {},
   "source": [
    "The wavelength range that I was targeting was 3700 - 5250 Angstroms."
   ]
  },
  {
   "cell_type": "markdown",
   "metadata": {},
   "source": [
    "## Step 1.  Pick out the most prominent lines and find an intial wavelength solution"
   ]
  },
  {
   "cell_type": "code",
   "execution_count": null,
   "metadata": {},
   "outputs": [],
   "source": [
    "# The first line around 150 is 3888.6A\n",
    "fig = plt.figure(figsize=(12,6))\n",
    "plt.plot(ccat['flux'])\n",
    "plt.xlim(140,160)"
   ]
  },
  {
   "cell_type": "code",
   "execution_count": null,
   "metadata": {},
   "outputs": [],
   "source": [
    "pars,cov=gaussfit(x[145:160],ccat['flux'][145:160])\n",
    "print(pars)"
   ]
  },
  {
   "cell_type": "code",
   "execution_count": null,
   "metadata": {},
   "outputs": [],
   "source": [
    "# The second line around 340 is 4158.6A\n",
    "fig = plt.figure(figsize=(12,6))\n",
    "plt.plot(ccat['flux'])\n",
    "plt.xlim(300,400)"
   ]
  },
  {
   "cell_type": "code",
   "execution_count": null,
   "metadata": {},
   "outputs": [],
   "source": [
    "pars,cov=gaussfit(x[330:345],ccat['flux'][330:345])\n",
    "print(pars)"
   ]
  },
  {
   "cell_type": "code",
   "execution_count": null,
   "metadata": {},
   "outputs": [],
   "source": [
    "# The third line around 550 is 4471.5A\n",
    "fig = plt.figure(figsize=(12,6))\n",
    "plt.plot(ccat['flux'])\n",
    "plt.xlim(500,600)"
   ]
  },
  {
   "cell_type": "code",
   "execution_count": null,
   "metadata": {},
   "outputs": [],
   "source": [
    "pars,cov=gaussfit(x[540:560],ccat['flux'][540:560])\n",
    "print(pars)"
   ]
  },
  {
   "cell_type": "code",
   "execution_count": null,
   "metadata": {},
   "outputs": [],
   "source": [
    "# The fourth line around 920 is 5015.7\n",
    "fig = plt.figure(figsize=(12,6))\n",
    "plt.plot(ccat['flux'])\n",
    "plt.xlim(900,960)"
   ]
  },
  {
   "cell_type": "code",
   "execution_count": null,
   "metadata": {},
   "outputs": [],
   "source": [
    "pars,cov=gaussfit(x[910:930],ccat['flux'][910:930])\n",
    "print(pars)"
   ]
  },
  {
   "cell_type": "code",
   "execution_count": null,
   "metadata": {},
   "outputs": [],
   "source": [
    "# Now fit a polynomial to the wavelengths versus column number.\n",
    "col = [1.53246075e+02,3.37114623e+02,5.49360035e+02,9.16610137e+02]\n",
    "wave = [3888.6,4158.6,4471.5,5015.7]"
   ]
  },
  {
   "cell_type": "code",
   "execution_count": null,
   "metadata": {},
   "outputs": [],
   "source": [
    "plt.plot(col,wave,'go--')"
   ]
  },
  {
   "cell_type": "code",
   "execution_count": null,
   "metadata": {},
   "outputs": [],
   "source": [
    "wcoef1 = np.polyfit(col,wave,1)\n",
    "wmodel1 = np.poly1d(wcoef1)(x)\n",
    "print(wcoef1)"
   ]
  },
  {
   "cell_type": "code",
   "execution_count": null,
   "metadata": {},
   "outputs": [],
   "source": [
    "plt.plot(col,wave,'go--')\n",
    "plt.plot(wmodel1)"
   ]
  },
  {
   "cell_type": "code",
   "execution_count": null,
   "metadata": {},
   "outputs": [],
   "source": [
    "plt.plot(col,wave-np.poly1d(wcoef1)(col),'go--')\n",
    "plt.plot([0,len(x)],[0,0])"
   ]
  },
  {
   "cell_type": "code",
   "execution_count": null,
   "metadata": {},
   "outputs": [],
   "source": [
    "wcoef2 = np.polyfit(col,wave,2)\n",
    "wmodel2 = np.poly1d(wcoef2)(x)\n",
    "print(wcoef2)"
   ]
  },
  {
   "cell_type": "code",
   "execution_count": null,
   "metadata": {},
   "outputs": [],
   "source": [
    "plt.plot(col,wave-np.poly1d(wcoef2)(col),'go--')\n",
    "plt.plot([0,len(x)],[0,0])"
   ]
  },
  {
   "cell_type": "markdown",
   "metadata": {},
   "source": [
    "## Step: Measure all of the lines and get their wavelengths from a linelist"
   ]
  },
  {
   "cell_type": "code",
   "execution_count": null,
   "metadata": {},
   "outputs": [],
   "source": [
    "def emissionlines(spec,thresh=None):\n",
    "    \"\"\"Measure the emission lines in an arc lamp spectrum. \"\"\"\n",
    "    nx = len(spec)\n",
    "    x = np.arange(nx)\n",
    "    \n",
    "    # Threshold\n",
    "    if thresh is None:\n",
    "        thresh = np.min(spec) + (np.max(spec)-np.min(spec))*0.05\n",
    "    \n",
    "    # Detect the peaks\n",
    "    sleft = np.hstack((0,spec[0:-1]))\n",
    "    sright = np.hstack((spec[1:],0))\n",
    "    peaks, = np.where((spec>sleft) & (spec>sright) & (spec>thresh))\n",
    "    npeaks = len(peaks)\n",
    "    print(str(npeaks)+' peaks found')\n",
    "    \n",
    "    # Loop over the peaks and fit them with Gaussians\n",
    "    gcat = np.zeros(npeaks,dtype=np.dtype([('x0',int),('x',float),('xerr',float),('pars',float,4),('perr',float,4),\n",
    "                                           ('flux',float),('fluxerr',float)]))\n",
    "    resid = spec.copy()\n",
    "    gmodel = np.zeros(nx)\n",
    "    for i in range(npeaks):\n",
    "        x0 = peaks[i]\n",
    "        xlo = np.maximum(x0-6,0)\n",
    "        xhi = np.minimum(x0+6,nx)\n",
    "        initpar = [spec[x0],x0,1,0]\n",
    "        bnds = ([0,x0-3,0.1,0],[1.5*initpar[0],x0+3,10,1e4])\n",
    "        pars,cov = gaussfit(x[xlo:xhi],spec[xlo:xhi],initpar,bounds=bnds,binned=True)\n",
    "        perr = np.sqrt(np.diag(cov))\n",
    "        gmodel1 = gaussian(x[xlo:xhi],*pars)\n",
    "        gmodel[xlo:xhi] += (gmodel1-pars[3])\n",
    "        resid[xlo:xhi] -= (gmodel1-pars[3])\n",
    "        # Gaussian area = ht*wid*sqrt(2*pi)\n",
    "        flux = pars[0]*ysigma*np.sqrt(2*np.pi)\n",
    "        fluxerr = perr[0]*ysigma*np.sqrt(2*np.pi)\n",
    "        gcat['x0'][i] = x0\n",
    "        gcat['x'][i] = pars[1]\n",
    "        gcat['xerr'][i] = perr[1]\n",
    "        gcat['pars'][i] = pars\n",
    "        gcat['perr'][i] = perr\n",
    "        gcat['flux'][i] = flux\n",
    "        gcat['fluxerr'][i] = fluxerr\n",
    "        #print(str(i+1)+' '+str(x0)+' '+str(pars))\n",
    "        \n",
    "    return gcat, gmodel"
   ]
  },
  {
   "cell_type": "code",
   "execution_count": null,
   "metadata": {
    "scrolled": false
   },
   "outputs": [],
   "source": [
    "ecat,gmodel = emissionlines(cflux)"
   ]
  },
  {
   "cell_type": "code",
   "execution_count": null,
   "metadata": {},
   "outputs": [],
   "source": [
    "plt.plot(cflux)"
   ]
  },
  {
   "cell_type": "code",
   "execution_count": null,
   "metadata": {},
   "outputs": [],
   "source": [
    "plt.plot(gmodel)\n",
    "plt.ylim(0,1e5)"
   ]
  },
  {
   "cell_type": "code",
   "execution_count": null,
   "metadata": {},
   "outputs": [],
   "source": [
    "len(ecat)"
   ]
  },
  {
   "cell_type": "markdown",
   "metadata": {},
   "source": [
    "## Load the HeAr linelist"
   ]
  },
  {
   "cell_type": "code",
   "execution_count": null,
   "metadata": {},
   "outputs": [],
   "source": [
    "linelist = Table.read('hear_linelist.txt',format='ascii.commented_header')"
   ]
  },
  {
   "cell_type": "code",
   "execution_count": null,
   "metadata": {},
   "outputs": [],
   "source": [
    "linelist"
   ]
  },
  {
   "cell_type": "markdown",
   "metadata": {},
   "source": [
    "### Use our initial wavelength solution to get initial wavelengths for all of our lines"
   ]
  },
  {
   "cell_type": "code",
   "execution_count": null,
   "metadata": {},
   "outputs": [],
   "source": [
    "w0 = np.poly1d(wcoef2)(ecat['x'])"
   ]
  },
  {
   "cell_type": "code",
   "execution_count": null,
   "metadata": {},
   "outputs": [],
   "source": [
    "w0"
   ]
  },
  {
   "cell_type": "code",
   "execution_count": null,
   "metadata": {},
   "outputs": [],
   "source": [
    "plt.scatter(np.arange(len(w0)),w0)"
   ]
  },
  {
   "cell_type": "code",
   "execution_count": null,
   "metadata": {},
   "outputs": [],
   "source": [
    "# Match up the lines to the linelist using a matching radius of 0.5A\n",
    "match = np.zeros(len(ecat),bool)\n",
    "wdiff = np.zeros(len(ecat),float)\n",
    "wmatch = np.zeros(len(cat),np.float64)\n",
    "xmatch = np.zeros(len(cat),float)\n",
    "for i in range(len(ecat)):\n",
    "    dist = np.abs(linelist['wavelength']-w0[i])\n",
    "    mindist = np.min(dist)\n",
    "    ind = np.argmin(dist)\n",
    "    if mindist<0.5:\n",
    "        match[i] = True\n",
    "        wmatch[i] = linelist['wavelength'][ind]\n",
    "        wdiff[i] = linelist['wavelength'][ind]-w0[i]\n",
    "        xmatch[i] = ecat['x'][i]\n",
    "    #print(str(i+1)+' '+str(mindist))"
   ]
  },
  {
   "cell_type": "code",
   "execution_count": null,
   "metadata": {},
   "outputs": [],
   "source": [
    "len(wdiff)"
   ]
  },
  {
   "cell_type": "code",
   "execution_count": null,
   "metadata": {},
   "outputs": [],
   "source": [
    "wmatch"
   ]
  },
  {
   "cell_type": "code",
   "execution_count": null,
   "metadata": {},
   "outputs": [],
   "source": [
    "ecat = Table(ecat)\n",
    "ecat['wave0'] = w0\n",
    "ecat['wave'] = 0.0\n",
    "gd, = np.where(match == True)\n",
    "print(len(gd))\n",
    "ecat['wave'][gd] = wmatch[gd]"
   ]
  },
  {
   "cell_type": "code",
   "execution_count": null,
   "metadata": {},
   "outputs": [],
   "source": [
    "ecat"
   ]
  },
  {
   "cell_type": "markdown",
   "metadata": {},
   "source": [
    "## Improve the wavelength solution"
   ]
  },
  {
   "cell_type": "code",
   "execution_count": null,
   "metadata": {},
   "outputs": [],
   "source": [
    "plt.plot(ecat['x'][gd],ecat['wave'][gd],'go--')"
   ]
  },
  {
   "cell_type": "code",
   "execution_count": null,
   "metadata": {
    "scrolled": false
   },
   "outputs": [],
   "source": [
    "fig = plt.figure(figsize=(12,8))\n",
    "norm = colors.LogNorm()\n",
    "plt.scatter(ecat['x'][gd],ecat['wave'][gd]-np.poly1d(wcoef2)(ecat['x'][gd]),\n",
    "            c=ecat['flux'][gd],marker='o',norm=norm)\n",
    "plt.errorbar(ecat['x'][gd],ecat['wave'][gd]-np.poly1d(wcoef2)(ecat['x'][gd]),yerr=ecat['xerr'][gd],\n",
    "             fmt='none',ecolor='gray')\n",
    "plt.plot([0,len(x)],[0,0])\n",
    "plt.xlabel('X')\n",
    "plt.ylabel('Residual Wavelength (Angstroms)')\n",
    "plt.ylim(-0.5,0.5)\n",
    "plt.colorbar(label='Flux')"
   ]
  },
  {
   "cell_type": "code",
   "execution_count": null,
   "metadata": {},
   "outputs": [],
   "source": [
    "# Select only good lines with small positional errors\n",
    "gd, = np.where((ecat['wave']>0) & (ecat['xerr']<0.1) & (ecat['flux']>3e4))\n",
    "print(len(gd))"
   ]
  },
  {
   "cell_type": "code",
   "execution_count": null,
   "metadata": {},
   "outputs": [],
   "source": [
    "fig = plt.figure(figsize=(12,8))\n",
    "norm = colors.LogNorm()\n",
    "plt.scatter(ecat['x'][gd],ecat['wave'][gd]-np.poly1d(wcoef2)(ecat['x'][gd]),\n",
    "            c=ecat['flux'][gd],marker='o',norm=norm)\n",
    "plt.errorbar(ecat['x'][gd],ecat['wave'][gd]-np.poly1d(wcoef2)(ecat['x'][gd]),yerr=ecat['xerr'][gd],\n",
    "             fmt='none',ecolor='gray')\n",
    "plt.plot([0,len(x)],[0,0])\n",
    "plt.xlabel('X')\n",
    "plt.ylabel('Residual Wavelength (Angstroms)')\n",
    "plt.ylim(-0.5,0.5)\n",
    "plt.colorbar(label='Flux')"
   ]
  },
  {
   "cell_type": "code",
   "execution_count": null,
   "metadata": {},
   "outputs": [],
   "source": [
    "wcoef3 = np.polyfit(ecat['x'][gd],ecat['wave'][gd],3)\n",
    "wmodel3 = np.poly1d(wcoef3)(x)\n",
    "print(wcoef3)"
   ]
  },
  {
   "cell_type": "code",
   "execution_count": null,
   "metadata": {},
   "outputs": [],
   "source": [
    "fig = plt.figure(figsize=(12,8))\n",
    "norm = colors.LogNorm()\n",
    "plt.scatter(ecat['x'][gd],ecat['wave'][gd]-np.poly1d(wcoef3)(ecat['x'][gd]),\n",
    "            c=ecat['flux'][gd],marker='o',norm=norm)\n",
    "plt.errorbar(ecat['x'][gd],ecat['wave'][gd]-np.poly1d(wcoef3)(ecat['x'][gd]),yerr=ecat['xerr'][gd],\n",
    "             fmt='none',ecolor='gray')\n",
    "plt.plot([0,len(x)],[0,0])\n",
    "plt.xlabel('X')\n",
    "plt.ylabel('Residual Wavelength (Angstroms)')\n",
    "plt.ylim(-0.5,0.5)\n",
    "plt.colorbar(label='Flux')"
   ]
  },
  {
   "cell_type": "markdown",
   "metadata": {},
   "source": [
    "## Add the final wavelengths to our object spectrum"
   ]
  },
  {
   "cell_type": "code",
   "execution_count": null,
   "metadata": {},
   "outputs": [],
   "source": [
    "# Add the wavelengths to the spectrum catalog\n",
    "scat = Table(scat)\n",
    "scat['wave'] = wmodel3"
   ]
  },
  {
   "cell_type": "code",
   "execution_count": null,
   "metadata": {},
   "outputs": [],
   "source": [
    "fig = plt.figure(figsize=(12,6))\n",
    "plt.plot(scat['wave'],scat['flux'])\n",
    "plt.xlabel('Wavelength (Angstroms)')\n",
    "plt.ylabel('Flux')"
   ]
  },
  {
   "cell_type": "markdown",
   "metadata": {},
   "source": [
    "# Continuum Normalization"
   ]
  },
  {
   "cell_type": "markdown",
   "metadata": {},
   "source": [
    "Often we don't care about the absolute nature of the spectrum, but rather just the absorption lines.  Then it is useful to divide (normalize by) the continuum."
   ]
  },
  {
   "cell_type": "code",
   "execution_count": null,
   "metadata": {},
   "outputs": [],
   "source": [
    "def continuum(spec,bin=50,perc=60,norder=4):\n",
    "    \"\"\" Derive the continuum of a spectrum.\"\"\"\n",
    "    nx = len(spec)\n",
    "    x = np.arange(nx)\n",
    "    # Loop over bins and find the maximum\n",
    "    nbins = nx//bin\n",
    "    xbin1 = np.zeros(nbins,float)\n",
    "    ybin1 = np.zeros(nbins,float)\n",
    "    for i in range(nbins):\n",
    "        xbin1[i] = np.mean(x[i*bin:i*bin+bin])\n",
    "        ybin1[i] = np.percentile(spec[i*bin:i*bin+bin],perc)\n",
    "    # Fit polynomial to the binned values\n",
    "    coef1 = np.polyfit(xbin1,ybin1,norder)\n",
    "    cont1 = np.poly1d(coef1)(x)\n",
    "    \n",
    "    # Now remove large negative outliers and refit\n",
    "    gdmask = np.zeros(nx,bool)\n",
    "    gdmask[(spec/cont1)>0.8] = True\n",
    "    xbin = np.zeros(nbins,float)\n",
    "    ybin = np.zeros(nbins,float)\n",
    "    for i in range(nbins):\n",
    "        xbin[i] = np.mean(x[i*bin:i*bin+bin][gdmask[i*bin:i*bin+bin]])\n",
    "        ybin[i] = np.percentile(spec[i*bin:i*bin+bin][gdmask[i*bin:i*bin+bin]],perc)\n",
    "    # Fit polynomial to the binned values\n",
    "    coef = np.polyfit(xbin,ybin,norder)\n",
    "    cont = np.poly1d(coef)(x)\n",
    "    \n",
    "    return cont,coef"
   ]
  },
  {
   "cell_type": "code",
   "execution_count": null,
   "metadata": {},
   "outputs": [],
   "source": [
    "cont,coef = continuum(scat['flux'],bin=20,norder=5)"
   ]
  },
  {
   "cell_type": "code",
   "execution_count": null,
   "metadata": {},
   "outputs": [],
   "source": [
    "fig = plt.figure(figsize=(10,6))\n",
    "plt.plot(scat['flux'])\n",
    "plt.plot(cont)"
   ]
  },
  {
   "cell_type": "code",
   "execution_count": null,
   "metadata": {},
   "outputs": [],
   "source": [
    "fig = plt.figure(figsize=(10,6))\n",
    "plt.plot(scat['flux']/cont)\n",
    "plt.ylim(0,1.2)"
   ]
  },
  {
   "cell_type": "markdown",
   "metadata": {},
   "source": [
    "# Measuring Equivalent Widths"
   ]
  },
  {
   "cell_type": "markdown",
   "metadata": {},
   "source": [
    "When doing abundances we want to equivalent widths of lines, basicaly the area in the line below the continuum (in Angstroms)."
   ]
  },
  {
   "cell_type": "code",
   "execution_count": null,
   "metadata": {},
   "outputs": [],
   "source": [
    "flux = scat['flux']/cont\n",
    "wave = scat['wave']"
   ]
  },
  {
   "cell_type": "code",
   "execution_count": null,
   "metadata": {},
   "outputs": [],
   "source": [
    "fig = plt.figure(figsize=(10,6))\n",
    "plt.plot(flux)\n",
    "plt.xlim(780,850)\n",
    "plt.ylim(0,1.2)"
   ]
  },
  {
   "cell_type": "code",
   "execution_count": null,
   "metadata": {},
   "outputs": [],
   "source": [
    "# It's easy to measure the equivalent width\n",
    "# Sum(1-flux)*dw\n",
    "dw = wave[801]-wave[800]\n",
    "print(np.sum(1-flux[780:850])*dw)"
   ]
  },
  {
   "cell_type": "code",
   "execution_count": null,
   "metadata": {},
   "outputs": [],
   "source": [
    "# To make this more accurate, let's fit a Gaussian to the line"
   ]
  },
  {
   "cell_type": "code",
   "execution_count": null,
   "metadata": {},
   "outputs": [],
   "source": [
    "initpar = [-0.5,wave[811],2.0,1.0]\n",
    "bnds = ([-1.0,initpar[1]-5,0.1,0.5], [0.0,initpar[1]+5,20,1.5])\n",
    "pars,cov = gaussfit(wave[750:850],flux[750:850],initpar,bounds=bnds)\n",
    "gmodel = gaussian(wave[750:850],*pars)\n",
    "print(np.abs(pars[0])*pars[2]*np.sqrt(2*np.pi))"
   ]
  },
  {
   "cell_type": "code",
   "execution_count": null,
   "metadata": {},
   "outputs": [],
   "source": [
    "fig = plt.figure(figsize=(10,6))\n",
    "x = np.arange(len(flux))\n",
    "plt.plot(x,flux)\n",
    "plt.plot(x[750:850],gmodel)\n",
    "plt.xlim(780,850)\n",
    "plt.ylim(0,1.2)"
   ]
  },
  {
   "cell_type": "code",
   "execution_count": null,
   "metadata": {},
   "outputs": [],
   "source": [
    "def voigt(x, height, cen, sigma, gamma, const=0.0, slp=0.0):\n",
    "    \"\"\"\n",
    "    Return the Voigt line shape at x with Lorentzian component HWHM gamma\n",
    "    and Gaussian sigma.\n",
    "\n",
    "    \"\"\"\n",
    "\n",
    "    maxy = np.real(wofz((1j*gamma)/sigma/np.sqrt(2))) / sigma\\\n",
    "                                                           /np.sqrt(2*np.pi)\n",
    "    return (height/maxy) * np.real(wofz(((x-cen) + 1j*gamma)/sigma/np.sqrt(2))) / sigma\\\n",
    "                                                           /np.sqrt(2*np.pi) + const + slp*(x-cen)"
   ]
  },
  {
   "cell_type": "code",
   "execution_count": null,
   "metadata": {},
   "outputs": [],
   "source": [
    "def voigtfit(x,y,initpar=None,sigma=None,bounds=(-np.inf,np.inf)):\n",
    "    \"\"\"Fit a Voigt profile to data.\"\"\"\n",
    "    if initpar is None:\n",
    "        initpar = [np.max(y),x[np.argmax(y)],1.0,1.0,np.median(y),0.0]\n",
    "    func = voigt\n",
    "    return curve_fit(func, x, y, p0=initpar, sigma=sigma, bounds=bounds)"
   ]
  },
  {
   "cell_type": "code",
   "execution_count": null,
   "metadata": {},
   "outputs": [],
   "source": [
    "def voigtarea(pars):\n",
    "    \"\"\" Compute area of Voigt profile\"\"\"\n",
    "    sig = np.maximum(pars[2],pars[3])\n",
    "    x = np.linspace(-20*sig,20*sig,1000)+pars[1]\n",
    "    dx = x[1]-x[0]\n",
    "    v = voigt(x,np.abs(pars[0]),pars[1],pars[2],pars[3])\n",
    "    varea = np.sum(v*dx)\n",
    "    return varea"
   ]
  },
  {
   "cell_type": "code",
   "execution_count": null,
   "metadata": {},
   "outputs": [],
   "source": [
    "initpar = [-0.5,wave[811],2.0,1.0,1.0,0.0]\n",
    "bnds = ([-1.0,initpar[1]-5,0.1,0.1,0.5,-0.5], [0.0,initpar[1]+5,20,20,1.5,0.5])\n",
    "vpars,vcov = voigtfit(wave[780:850],flux[780:850],initpar,bounds=bnds)\n",
    "print(vpars)\n",
    "print(voigtarea(vpars))"
   ]
  },
  {
   "cell_type": "code",
   "execution_count": null,
   "metadata": {},
   "outputs": [],
   "source": [
    "fig = plt.figure(figsize=(10,6))\n",
    "x = np.arange(len(flux))\n",
    "plt.plot(x,flux,label='Data')\n",
    "plt.plot(x[780:850],vmodel,label='Voigt')\n",
    "plt.xlim(780,850)\n",
    "plt.ylim(0.2,1.3)\n",
    "plt.legend()"
   ]
  },
  {
   "cell_type": "code",
   "execution_count": null,
   "metadata": {},
   "outputs": [],
   "source": []
  }
 ],
 "metadata": {
  "kernelspec": {
   "display_name": "Python 3",
   "language": "python",
   "name": "python3"
  },
  "language_info": {
   "codemirror_mode": {
    "name": "ipython",
    "version": 3
   },
   "file_extension": ".py",
   "mimetype": "text/x-python",
   "name": "python",
   "nbconvert_exporter": "python",
   "pygments_lexer": "ipython3",
   "version": "3.7.4"
  }
 },
 "nbformat": 4,
 "nbformat_minor": 2
}
