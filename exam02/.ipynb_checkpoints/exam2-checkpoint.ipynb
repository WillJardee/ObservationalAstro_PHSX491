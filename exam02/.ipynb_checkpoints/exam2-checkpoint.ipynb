{
 "cells": [
  {
   "cell_type": "markdown",
   "metadata": {},
   "source": [
    "# PHXS 491_001: Observational Astronomy - Exam 2"
   ]
  },
  {
   "cell_type": "markdown",
   "metadata": {},
   "source": [
    "### Due Monday, Nov 9, 2021\n",
    "Remember to save your completed notebook as a PDF and upload both ipynb/PDF to Brightspace/D2L under Assignments."
   ]
  },
  {
   "cell_type": "markdown",
   "metadata": {},
   "source": [
    "Name:"
   ]
  },
  {
   "cell_type": "markdown",
   "metadata": {},
   "source": [
    "## Please use the \"primt()\" function (notice the \"m\") to print out your answers in magenta.  This makes grading easier.  You might need to \"print to PDF\" to get the colors to show up."
   ]
  },
  {
   "cell_type": "code",
   "execution_count": null,
   "metadata": {},
   "outputs": [],
   "source": [
    "def primt(*args):\n",
    "    '''\n",
    "    For any amount of arguments \"*args\", prints in magenta.\n",
    "    '''\n",
    "    magenta = \"\\x1B[38;5;201m\"   # the color in ANSI code\n",
    "    for el in args:  # for each argument\n",
    "        magenta += \" \"+(str(el))  # add the argument to the string to be printed\n",
    "    print(magenta)   #print!"
   ]
  },
  {
   "cell_type": "code",
   "execution_count": 20,
   "metadata": {},
   "outputs": [],
   "source": [
    "import os\n",
    "import numpy as np\n",
    "from bozepy import ccdproc\n",
    "from glob import glob\n",
    "from astropy.io import fits\n",
    "import matplotlib.pyplot as plt\n",
    "import scipy.ndimage as ndimage\n",
    "from astropy.stats import sigma_clipped_stats\n",
    "from photutils import aperture_photometry, CircularAperture, CircularAnnulus\n",
    "from astropy.io import fits\n",
    "from astropy.table import Table\n",
    "import scipy.stats as stats\n",
    "%matplotlib inline"
   ]
  },
  {
   "cell_type": "code",
   "execution_count": 21,
   "metadata": {},
   "outputs": [],
   "source": [
    "path = \"data/\""
   ]
  },
  {
   "cell_type": "markdown",
   "metadata": {},
   "source": [
    "Make sure you have the ``exam2_data.zip`` file."
   ]
  },
  {
   "cell_type": "markdown",
   "metadata": {},
   "source": [
    "## 1) CCD image calibration:\n",
    "\n",
    "Use ``masterbias()`` from ``bozepy.ccdproc`` and the 10 provided bias images to create a master bias frame."
   ]
  },
  {
   "cell_type": "code",
   "execution_count": 38,
   "metadata": {},
   "outputs": [
    {
     "ename": "PermissionError",
     "evalue": "[WinError 32] The process cannot access the file because it is being used by another process: 'data/master_bias.fit'",
     "output_type": "error",
     "traceback": [
      "\u001b[1;31m---------------------------------------------------------------------------\u001b[0m",
      "\u001b[1;31mPermissionError\u001b[0m                           Traceback (most recent call last)",
      "\u001b[1;32m<ipython-input-38-56bf05401c6d>\u001b[0m in \u001b[0;36m<module>\u001b[1;34m\u001b[0m\n\u001b[0;32m      4\u001b[0m \u001b[1;32mif\u001b[0m \u001b[1;34mf'{path}master_bias.fit'\u001b[0m\u001b[1;33m.\u001b[0m\u001b[0mreplace\u001b[0m\u001b[1;33m(\u001b[0m\u001b[1;34m\"/\"\u001b[0m\u001b[1;33m,\u001b[0m \u001b[1;34m\"\\\\\"\u001b[0m\u001b[1;33m)\u001b[0m \u001b[1;32min\u001b[0m \u001b[0mbias_list\u001b[0m\u001b[1;33m:\u001b[0m \u001b[0mbias_list\u001b[0m \u001b[1;33m=\u001b[0m \u001b[0mbias_list\u001b[0m\u001b[1;33m[\u001b[0m\u001b[1;33m:\u001b[0m\u001b[1;33m-\u001b[0m\u001b[1;36m1\u001b[0m\u001b[1;33m]\u001b[0m\u001b[1;33m\u001b[0m\u001b[1;33m\u001b[0m\u001b[0m\n\u001b[0;32m      5\u001b[0m \u001b[1;31m# print(bias_list)\u001b[0m\u001b[1;33m\u001b[0m\u001b[1;33m\u001b[0m\u001b[1;33m\u001b[0m\u001b[0m\n\u001b[1;32m----> 6\u001b[1;33m \u001b[0mim\u001b[0m\u001b[1;33m,\u001b[0m \u001b[0mhead\u001b[0m \u001b[1;33m=\u001b[0m \u001b[0mccdproc\u001b[0m\u001b[1;33m.\u001b[0m\u001b[0mmasterbias\u001b[0m\u001b[1;33m(\u001b[0m\u001b[0mfiles\u001b[0m\u001b[1;33m=\u001b[0m\u001b[0mbias_list\u001b[0m\u001b[1;33m,\u001b[0m \u001b[0moutfile\u001b[0m\u001b[1;33m=\u001b[0m\u001b[1;34mf\"{path}master_bias.fit\"\u001b[0m\u001b[1;33m,\u001b[0m \u001b[0mclobber\u001b[0m\u001b[1;33m=\u001b[0m\u001b[1;32mTrue\u001b[0m\u001b[1;33m)\u001b[0m\u001b[1;33m\u001b[0m\u001b[1;33m\u001b[0m\u001b[0m\n\u001b[0m",
      "\u001b[1;32mC:\\ProgramData\\Anaconda3\\lib\\site-packages\\bozepy\\ccdproc.py\u001b[0m in \u001b[0;36mmasterbias\u001b[1;34m(files, med, outfile, clobber, verbose)\u001b[0m\n\u001b[0;32m    332\u001b[0m                 \u001b[1;32mraise\u001b[0m \u001b[0mValueError\u001b[0m\u001b[1;33m(\u001b[0m\u001b[0moutfile\u001b[0m\u001b[1;33m+\u001b[0m\u001b[1;34m' already exists and clobber=False'\u001b[0m\u001b[1;33m)\u001b[0m\u001b[1;33m\u001b[0m\u001b[1;33m\u001b[0m\u001b[0m\n\u001b[0;32m    333\u001b[0m             \u001b[1;32melse\u001b[0m\u001b[1;33m:\u001b[0m\u001b[1;33m\u001b[0m\u001b[1;33m\u001b[0m\u001b[0m\n\u001b[1;32m--> 334\u001b[1;33m                 \u001b[0mos\u001b[0m\u001b[1;33m.\u001b[0m\u001b[0mremove\u001b[0m\u001b[1;33m(\u001b[0m\u001b[0moutfile\u001b[0m\u001b[1;33m)\u001b[0m\u001b[1;33m\u001b[0m\u001b[1;33m\u001b[0m\u001b[0m\n\u001b[0m\u001b[0;32m    335\u001b[0m         \u001b[1;32mif\u001b[0m \u001b[0mverbose\u001b[0m\u001b[1;33m:\u001b[0m\u001b[1;33m\u001b[0m\u001b[1;33m\u001b[0m\u001b[0m\n\u001b[0;32m    336\u001b[0m             \u001b[0mprint\u001b[0m\u001b[1;33m(\u001b[0m\u001b[1;34m'Writing master bias to '\u001b[0m\u001b[1;33m+\u001b[0m\u001b[0moutfile\u001b[0m\u001b[1;33m)\u001b[0m\u001b[1;33m\u001b[0m\u001b[1;33m\u001b[0m\u001b[0m\n",
      "\u001b[1;31mPermissionError\u001b[0m: [WinError 32] The process cannot access the file because it is being used by another process: 'data/master_bias.fit'"
     ]
    }
   ],
   "source": [
    "out=ccdproc.ccdlist(f'{path}*.fit', outprint=False)\n",
    "biases = np.where(\"Bias Frame\" == out['imagetyp'])\n",
    "bias_list = out[biases]['file']\n",
    "if f'{path}master_bias.fit'.replace(\"/\", \"\\\\\") in bias_list: bias_list = bias_list[:-1]\n",
    "# print(bias_list)\n",
    "im, head = ccdproc.masterbias(files=bias_list, outfile=f\"{path}master_bias.fit\", clobber=True)"
   ]
  },
  {
   "cell_type": "markdown",
   "metadata": {},
   "source": [
    "## 2) CCD image reduction:\n",
    "\n",
    "Use your master bias image and the provided master dark and flat images to reduce the three science ``DoubleCluster`` exposures with the ``ccdproc()`` function in the ``bozepy.ccdproc`` module."
   ]
  },
  {
   "cell_type": "code",
   "execution_count": null,
   "metadata": {},
   "outputs": [],
   "source": [
    "out=ccdproc.ccdlist(f'{path}*.fit', outprint=True)\n",
    "sci = np.where(\"Light Frame\" == out['imagetyp'])\n",
    "sci_list = out[sci]['file']\n",
    "im, head = ccdproc.ccdproc(sci_list, zero=f\"{path}master_bias.fit\", dark=f\"{path}master_dark.fit\", flat=f\"{path}master_flat.fit\",\n",
    "                            outfile=True, verbose=True, outsuffix=\"_proc\", clobber=True)"
   ]
  },
  {
   "cell_type": "markdown",
   "metadata": {},
   "source": [
    "## 3) Calculating centroids and sigma with moments:\n",
    "\n",
    "a) Calculate the X/Y centroids of the star near X=785 and Y=780 in image ``DoubleCluster-0003B.fit`` using the first moment.  Remember that you need to subtract a median background value from your image \"thumbnail\".\n",
    "\n",
    "b) Display the 2D image thumbnail and overplot your centroid position to check that it is reasonable.\n",
    "\n",
    "c) Calculate the sigma/spread of the star using the second moment.  \n",
    "\n",
    "d) Make cross-section plots (along the central column and then along the central row) and overplot your centroid positions (as a vertical line) and make a horiztonal line for your sigma values (converted to FWHM = 2.35*sigma)."
   ]
  },
  {
   "cell_type": "code",
   "execution_count": null,
   "metadata": {},
   "outputs": [],
   "source": []
  },
  {
   "cell_type": "markdown",
   "metadata": {},
   "source": [
    "## 4) Background estimation and subtraction\n",
    "\n",
    "a) Use the photutils ``Background2D`` to estimate the background for images ``DoubleCluster-0003B.fit`` and ``DoubleCluster-0003R.fit`` using a 250x250 box size for estimating the statistics.  Plot the background model for one of them."
   ]
  },
  {
   "cell_type": "code",
   "execution_count": null,
   "metadata": {},
   "outputs": [],
   "source": []
  },
  {
   "cell_type": "markdown",
   "metadata": {},
   "source": [
    "b) Subtract the background from the images and put it in a new variable, e.g. ``subim``."
   ]
  },
  {
   "cell_type": "code",
   "execution_count": null,
   "metadata": {},
   "outputs": [],
   "source": []
  },
  {
   "cell_type": "markdown",
   "metadata": {},
   "source": [
    "## 5) Detection\n",
    "\n",
    "a) Use the photutils ``DAOStarFinder`` detection routine to perform detection on the two background-subtracted images.  For the FWHM, use the sigma value (converted to FWHM) you calculated above for the star in ``DoubleCluster-0003B.fit``.  Set the threshold at 5 standard deviations above the background value (which you need to calculate first)."
   ]
  },
  {
   "cell_type": "code",
   "execution_count": null,
   "metadata": {},
   "outputs": [],
   "source": []
  },
  {
   "cell_type": "markdown",
   "metadata": {},
   "source": [
    "b) Plot the image and your detected sources on top"
   ]
  },
  {
   "cell_type": "code",
   "execution_count": null,
   "metadata": {},
   "outputs": [],
   "source": []
  },
  {
   "cell_type": "markdown",
   "metadata": {},
   "source": [
    "## 6) Aperture photometry\n",
    "\n",
    "Perform aperture photometry for the two catalogs of detected sources using ``bozepy.phot.aperphot()``.  Use an aperture of radius 6 pixels, inner background radius of 10 pixels and outer background radius of 20 pixels."
   ]
  },
  {
   "cell_type": "code",
   "execution_count": null,
   "metadata": {},
   "outputs": [],
   "source": []
  },
  {
   "cell_type": "markdown",
   "metadata": {},
   "source": [
    "b) Convert the fluxes to magnitudes with a constant offset of 25.0.\n",
    "\n",
    "c) Add these to a new ``mag`` column in the ``phot`` catalogs."
   ]
  },
  {
   "cell_type": "code",
   "execution_count": null,
   "metadata": {},
   "outputs": [],
   "source": []
  },
  {
   "cell_type": "markdown",
   "metadata": {},
   "source": [
    "## 7) WCS correction:\n",
    "\n",
    "Image ``DoubleCluster-0003B.fit`` has an initial WCS in the header, but it has a small offset.  The star at X=465 and Y=194 is known to have the coordinates RA=34.927769, DEC=56.979407.  Use this information to fix the WCS (*HINT: You want to modify the CRVAL and CRPIX values.  Astropy WCS also seems to prefer setting both values of CRVAL or CRPIX at time by giving it a two-element list, rather than one at a time*)."
   ]
  },
  {
   "cell_type": "code",
   "execution_count": null,
   "metadata": {},
   "outputs": [],
   "source": []
  },
  {
   "cell_type": "markdown",
   "metadata": {},
   "source": [
    "## 8) Gaia catalog. Plot CMD.\n",
    "\n",
    "Load the provided ``DoubleCluster_gaiadr2.fits`` Gaia DR2 catalog.  Plot the G vs. Bp-Rp color-magnitude diagram (the columns are ``PHOT_XX_MEAN_MAG``).  Make sure that brighter objects are at the top."
   ]
  },
  {
   "cell_type": "code",
   "execution_count": null,
   "metadata": {},
   "outputs": [],
   "source": []
  },
  {
   "cell_type": "markdown",
   "metadata": {},
   "source": [
    "## 9) Calibrating magnitudes with Gaia.\n",
    "\n",
    "a) Use the WCS that you corrected above to calculate X/Y positions for the Gaia stars.\n",
    "\n",
    "b) Plot the image and your detected sources on top.\n",
    "\n",
    "c) Plot the Gaia sources on top as well (using a different symbol/color).  \n",
    "\n",
    "d) Pick out **one** star that is in your detected sources and in Gaia.  It might help to zoom into a smaller region that has at least roughly 10 stars.  Figure out the rough X/Y values and use ``np.where()`` to select the relevant row from each catalog.\n",
    "\n",
    "e) Now compare the Gaia BP magnitude to your ``DoubleCluster-0003B.fit`` magnitudes.  Figure out the offset between the two.  This is the zeropoint offset. Apply this offset to all of the stars in your catalog for this image (be sure to use the correct sign).\n",
    "\n",
    "f) Do the same for ``DoubleCluster-0003R.fit`` and compare to the Gaia RP magnitudes."
   ]
  },
  {
   "cell_type": "code",
   "execution_count": null,
   "metadata": {},
   "outputs": [],
   "source": []
  },
  {
   "cell_type": "markdown",
   "metadata": {},
   "source": [
    "## 10) Crossmatching\n",
    "\n",
    "Crossmatch the sources in your two photometry catalogs using the ``xcenter`` and ``ycenter`` values and the ``dlnpyutils.coords.xmatch()`` function.\n",
    "\n",
    "a) Use ``xmatch()`` to crossmatch the two catalogs.\n",
    "\n",
    "b) Use the two index lists to create two new \"matched\" catalogs."
   ]
  },
  {
   "cell_type": "code",
   "execution_count": null,
   "metadata": {},
   "outputs": [],
   "source": []
  },
  {
   "cell_type": "markdown",
   "metadata": {},
   "source": [
    "## 11) Color Magnitude Diagram.\n",
    "\n",
    "Make a color magnitude diagram using your matched catalogs and calibrated photometry.  MAG_3R vs. MAG_3B - MAG_3R.  Make sure the brighter stars are at the top."
   ]
  },
  {
   "cell_type": "code",
   "execution_count": null,
   "metadata": {},
   "outputs": [],
   "source": []
  }
 ],
 "metadata": {
  "kernelspec": {
   "display_name": "Python 3",
   "language": "python",
   "name": "python3"
  },
  "language_info": {
   "codemirror_mode": {
    "name": "ipython",
    "version": 3
   },
   "file_extension": ".py",
   "mimetype": "text/x-python",
   "name": "python",
   "nbconvert_exporter": "python",
   "pygments_lexer": "ipython3",
   "version": "3.8.8"
  }
 },
 "nbformat": 4,
 "nbformat_minor": 4
}
