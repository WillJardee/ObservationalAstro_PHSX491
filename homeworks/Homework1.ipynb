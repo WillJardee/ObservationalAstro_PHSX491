{
 "cells": [
  {
   "cell_type": "markdown",
   "metadata": {},
   "source": [
    "# PHXS 491_001: Observational Astronomy - Homework 1"
   ]
  },
  {
   "cell_type": "markdown",
   "metadata": {},
   "source": [
    "### Due Sep 7, 2021"
   ]
  },
  {
   "cell_type": "markdown",
   "metadata": {},
   "source": [
    "# Make sure to first Install [Anaconda (Python 3)](https://www.anaconda.com/distribution/) and [ds9 SAO Image](http://ds9.si.edu/site/Download.html) on your laptop/computer."
   ]
  },
  {
   "cell_type": "markdown",
   "metadata": {},
   "source": [
    "# Part 1: Python Basics\n",
    "This is a guide to getting to know Python 3. We will go through some of the basic stuff here. In order to execute a cell, type 'shift+enter'. Once you are done with this lab, go to File -> Download As and save your solution as a pdf, which you can print off to turn in. If you are having line wrap issues, you can also use File -> Print Preview and then print to pdf or paper."
   ]
  },
  {
   "cell_type": "markdown",
   "metadata": {},
   "source": [
    "Name:"
   ]
  },
  {
   "cell_type": "markdown",
   "metadata": {},
   "source": [
    "## Variables Assignments\n",
    "In Python names are assigned to objects by using '='. <br />\n",
    "We can assign both numbers (integers or floats) and \"strings\". You don't need to assign a type to the variable name, it is assigned automatically. Variable names can contain letters, numbers and underscores, but can't start with a number. \n",
    "\n",
    "There is also a set of <span style='color:red'>Reserved Words</span>, which cannot be used as variable names because they have special meanings in python. <span style='color:red'>Reserved Words: and, assert, break, class, continue, def, del, elif, else, except, exec, finally, for, from, global, if, import, in, is, lambda, not, or, pass, print, raise, return, try, while</span>\n",
    "\n",
    "Comments use a `#`"
   ]
  },
  {
   "cell_type": "code",
   "execution_count": 1,
   "metadata": {},
   "outputs": [],
   "source": [
    "x = 34 - 23 # A comment."
   ]
  },
  {
   "cell_type": "code",
   "execution_count": 2,
   "metadata": {},
   "outputs": [],
   "source": [
    "y = \"Hello\" # Another one."
   ]
  },
  {
   "cell_type": "code",
   "execution_count": 3,
   "metadata": {},
   "outputs": [],
   "source": [
    "z = 3.45"
   ]
  },
  {
   "cell_type": "markdown",
   "metadata": {},
   "source": [
    "## Types of Variables\n",
    "There are three major object types:\n",
    "- integers '2'\n",
    "- Floats '2.1'\n",
    "- Strings \"Two\"\n",
    "\n",
    "Mathematical operators work differently on the different types of variables the main mathematical operators are: \n",
    "\n",
    "|Operator | Description | Operator | Description |\n",
    "|:---:|---|:---:|---|\n",
    "| \\+ | Addition / Concatenation |   % | Modulus (remainder of the division) / old way of doing string formating|\n",
    "| \\- | Subtraction |   // | Floor division (throw away the remainder) |\n",
    "| \\* | Multipication / repeat |     \\*\\* | Power|\n",
    "| /  | Division  |||\n",
    "\n",
    "When using multiple operators you can use **( )** to control precedence otherwise it is similar to math (high to low precendence): power, multiplication and division, addition and subtraction."
   ]
  },
  {
   "cell_type": "code",
   "execution_count": 4,
   "metadata": {},
   "outputs": [
    {
     "name": "stdout",
     "output_type": "stream",
     "text": [
      "11\n",
      "Hello\n",
      "3.45\n"
     ]
    }
   ],
   "source": [
    "print(x) #The print function prints the value of a variable\n",
    "print(y)\n",
    "print(z)"
   ]
  },
  {
   "cell_type": "code",
   "execution_count": 5,
   "metadata": {},
   "outputs": [
    {
     "name": "stdout",
     "output_type": "stream",
     "text": [
      "<class 'int'>\n",
      "<class 'str'>\n",
      "<class 'float'>\n"
     ]
    }
   ],
   "source": [
    "print(type(x)) #Prints the type of the variable\n",
    "print(type(y))\n",
    "print(type(z))"
   ]
  },
  {
   "cell_type": "code",
   "execution_count": 6,
   "metadata": {},
   "outputs": [],
   "source": [
    "x = x + 1\n",
    "y = y + \" World\" # String concatenation"
   ]
  },
  {
   "cell_type": "code",
   "execution_count": 7,
   "metadata": {},
   "outputs": [
    {
     "name": "stdout",
     "output_type": "stream",
     "text": [
      "12\n",
      "Hello World\n"
     ]
    }
   ],
   "source": [
    "print(x)\n",
    "print(y)"
   ]
  },
  {
   "cell_type": "code",
   "execution_count": 8,
   "metadata": {},
   "outputs": [
    {
     "name": "stdout",
     "output_type": "stream",
     "text": [
      "2.5\n",
      "<class 'float'>\n",
      "2\n",
      "<class 'int'>\n",
      "2.0\n",
      "<class 'float'>\n"
     ]
    }
   ],
   "source": [
    "x = 5 / 2\n",
    "y = 5 // 2\n",
    "z = 5.0 // 2.0\n",
    "print(x)\n",
    "print(type(x))\n",
    "print(y)\n",
    "print(type(y))\n",
    "print(z)\n",
    "print(type(z))"
   ]
  },
  {
   "cell_type": "code",
   "execution_count": 9,
   "metadata": {},
   "outputs": [
    {
     "name": "stdout",
     "output_type": "stream",
     "text": [
      "mineminemine\n",
      "36.0\n",
      "8.5\n",
      "2.0\n",
      "8.0\n"
     ]
    }
   ],
   "source": [
    "print(\"mine\"*3) #Repitions\n",
    "print(6.0**2)\n",
    "print(34.0 / 4.0)\n",
    "print(34.0 % 4.0)\n",
    "print(34.0 // 4.0)"
   ]
  },
  {
   "cell_type": "code",
   "execution_count": 10,
   "metadata": {
    "scrolled": true
   },
   "outputs": [
    {
     "ename": "NameError",
     "evalue": "name 'l' is not defined",
     "output_type": "error",
     "traceback": [
      "\u001b[1;31m---------------------------------------------------------------------------\u001b[0m",
      "\u001b[1;31mNameError\u001b[0m                                 Traceback (most recent call last)",
      "\u001b[1;32m<ipython-input-10-b7921ab32ac1>\u001b[0m in \u001b[0;36m<module>\u001b[1;34m\u001b[0m\n\u001b[1;32m----> 1\u001b[1;33m \u001b[0mprint\u001b[0m\u001b[1;33m(\u001b[0m\u001b[0ml\u001b[0m\u001b[1;33m)\u001b[0m \u001b[1;31m#Why Doesn't this work?\u001b[0m\u001b[1;33m\u001b[0m\u001b[1;33m\u001b[0m\u001b[0m\n\u001b[0m",
      "\u001b[1;31mNameError\u001b[0m: name 'l' is not defined"
     ]
    }
   ],
   "source": [
    "print(l) #Why Doesn't this work?"
   ]
  },
  {
   "cell_type": "markdown",
   "metadata": {},
   "source": [
    "Answer: You have not declared an instance assigned to 'l'"
   ]
  },
  {
   "cell_type": "markdown",
   "metadata": {},
   "source": [
    "What is the result of this operation?"
   ]
  },
  {
   "cell_type": "code",
   "execution_count": 11,
   "metadata": {},
   "outputs": [
    {
     "data": {
      "text/plain": [
       "3"
      ]
     },
     "execution_count": 11,
     "metadata": {},
     "output_type": "execute_result"
    }
   ],
   "source": [
    "15 + 22 * 4 - 100 #It's 3"
   ]
  },
  {
   "cell_type": "markdown",
   "metadata": {},
   "source": [
    "What about this one?"
   ]
  },
  {
   "cell_type": "code",
   "execution_count": 12,
   "metadata": {},
   "outputs": [
    {
     "data": {
      "text/plain": [
       "-3552"
      ]
     },
     "execution_count": 12,
     "metadata": {},
     "output_type": "execute_result"
    }
   ],
   "source": [
    "(15 + 22) * (4 - 100) #It's -3552"
   ]
  },
  {
   "cell_type": "markdown",
   "metadata": {},
   "source": [
    "### Strings\n",
    "You can assign strings using any of the following:\n",
    "- `'text'`\n",
    "- `\"text\"`\n",
    "- `'''text'''`\n",
    "- `\"\"\"text\"\"\"`"
   ]
  },
  {
   "cell_type": "code",
   "execution_count": 13,
   "metadata": {},
   "outputs": [
    {
     "data": {
      "text/plain": [
       "'text'"
      ]
     },
     "execution_count": 13,
     "metadata": {},
     "output_type": "execute_result"
    }
   ],
   "source": [
    "'text'"
   ]
  },
  {
   "cell_type": "code",
   "execution_count": 14,
   "metadata": {},
   "outputs": [
    {
     "name": "stdout",
     "output_type": "stream",
     "text": [
      "Here's an important reason why we have more than one way to do text!\n"
     ]
    }
   ],
   "source": [
    "a = \"Here's an important reason why we have more than one way to do text!\"\n",
    "print(a)"
   ]
  },
  {
   "cell_type": "code",
   "execution_count": 15,
   "metadata": {},
   "outputs": [],
   "source": [
    "b = \"Why doesn't this one work!\""
   ]
  },
  {
   "cell_type": "markdown",
   "metadata": {},
   "source": [
    "Fix the above statement, so that it works."
   ]
  },
  {
   "cell_type": "markdown",
   "metadata": {},
   "source": [
    "# Sequence Variables\n",
    "There are 4 types of sequence variables: (tuples, lists, ranges, and strings). Tuples and lists can contain any type of object even other sequences.\n",
    "Tuples are assigned using ( ) <br />\n",
    "Lists use [ ] <br />\n",
    "Ranges come from the range() function. <br />\n",
    "Strings you already know!"
   ]
  },
  {
   "cell_type": "code",
   "execution_count": 16,
   "metadata": {},
   "outputs": [],
   "source": [
    "mytuple = ('red',23,15.7,'29',5)\n",
    "mylist = [1,5,7,'monkey',(18,44),33]\n",
    "mystring = \"A whole list of characters!\"\n",
    "myrange = range(5)"
   ]
  },
  {
   "cell_type": "markdown",
   "metadata": {},
   "source": [
    "## Accessing Sequence Variables\n",
    "Any sequence variable can be accessed using the name[element] structure. Note that the first element is 0 and the last element is -1.\n",
    "If you use negative numbers you can count from the end of the sequence.\n",
    "You can use a colon to do sections note a colon is inclusive on the left and exclusive on the right. In all of these cases, one returns a new object."
   ]
  },
  {
   "cell_type": "code",
   "execution_count": 17,
   "metadata": {},
   "outputs": [
    {
     "name": "stdout",
     "output_type": "stream",
     "text": [
      "15.7\n",
      "33\n",
      "A who\n",
      "3\n"
     ]
    }
   ],
   "source": [
    "print(mytuple[2])\n",
    "print(mylist[-1])\n",
    "print(mystring[0:5])\n",
    "print(myrange[3])"
   ]
  },
  {
   "cell_type": "markdown",
   "metadata": {},
   "source": [
    "## More Fun With Colons\n",
    "Colons can also select out the beginning and end of a sequence, even if you don't know how big it is."
   ]
  },
  {
   "cell_type": "code",
   "execution_count": 18,
   "metadata": {},
   "outputs": [
    {
     "name": "stdout",
     "output_type": "stream",
     "text": [
      "[4, 5, 6]\n",
      "[9, 10, 11, 12, 13, 14, 15, 16, 17, 18, 19, 20]\n",
      "[4, 5, 6, 7, 8, 9, 10, 11, 12, 13, 14, 15, 16, 17, 18, 19, 20]\n"
     ]
    }
   ],
   "source": [
    "mylist2 = [4,5,6,7,8,9,10,11,12,13,14,15,16,17,18,19,20]\n",
    "print(mylist2[:3])\n",
    "print(mylist2[5:])\n",
    "print(mylist2[:]) #The whole enchilada"
   ]
  },
  {
   "cell_type": "markdown",
   "metadata": {},
   "source": [
    "Answer the follwing questions:\n",
    "1. Print the 2nd through the 4th element of **mylist**.\n",
    "2. Create a new list called **mylist3** that contains all but the first three elements of **mylist2**.\n",
    "3. Create a new string called **mystring2** that has only the last word from **mystring** in it."
   ]
  },
  {
   "cell_type": "code",
   "execution_count": 19,
   "metadata": {},
   "outputs": [
    {
     "name": "stdout",
     "output_type": "stream",
     "text": [
      "[5, 7]\n",
      "[7, 8, 9, 10, 11, 12, 13, 14, 15, 16, 17, 18, 19, 20]\n",
      "characters\n"
     ]
    }
   ],
   "source": [
    "print(mylist[1:3])\n",
    "print(mylist3 := mylist2[3:])\n",
    "print(mystring2 := mystring[-11:-1])"
   ]
  },
  {
   "cell_type": "markdown",
   "metadata": {},
   "source": [
    "## Special List Methods\n",
    "There are a few special methods that only work on lists. Note that these **occur in-place**.\n",
    "- `.extend()`  Concatenate on another sequence\n",
    "- `.append()`  Concatenate on a scalar\n",
    "- `.sort()` Sorts the list\n",
    "- `.reverse()` Reverses the list order"
   ]
  },
  {
   "cell_type": "code",
   "execution_count": 20,
   "metadata": {},
   "outputs": [
    {
     "name": "stdout",
     "output_type": "stream",
     "text": [
      "[1, 2, 3, 4]\n",
      "[1, 2, 3, 4, 2]\n",
      "[1, 2, 3, 4, 2, 7, 6, 5]\n",
      "[1, 2, 2, 3, 4, 5, 6, 7]\n",
      "[7, 6, 5, 4, 3, 2, 2, 1]\n"
     ]
    }
   ],
   "source": [
    "mylist = [1,2,3,4]\n",
    "print(mylist)\n",
    "mylist.append(2)\n",
    "print(mylist)\n",
    "mylist.extend([7,6,5])\n",
    "print(mylist)\n",
    "mylist.sort()\n",
    "print(mylist)\n",
    "mylist.reverse()\n",
    "print(mylist)"
   ]
  },
  {
   "cell_type": "markdown",
   "metadata": {},
   "source": [
    "## How Assignment Works\n",
    "Variable names are assigned to a piece of memory where the object is stored.  When you assign one variable to another you point that varaible name at the same place in memory. We call this a reference. Variable names do not have a type, only objects have types."
   ]
  },
  {
   "cell_type": "code",
   "execution_count": 21,
   "metadata": {},
   "outputs": [
    {
     "name": "stdout",
     "output_type": "stream",
     "text": [
      "2\n",
      "2\n",
      "3\n",
      "2\n"
     ]
    }
   ],
   "source": [
    "a = 2\n",
    "b = a #Now a and b point to the same piece of memory\n",
    "print(a)\n",
    "print(b)\n",
    "a = 3 #Now a points to a new piece of memory\n",
    "print(a)\n",
    "print(b)"
   ]
  },
  {
   "cell_type": "code",
   "execution_count": 22,
   "metadata": {},
   "outputs": [
    {
     "name": "stdout",
     "output_type": "stream",
     "text": [
      "[1, 2, 3, 4]\n",
      "[1, 2, 3, 4]\n",
      "[1, 2, 3, 4, 5, 6]\n",
      "[1, 2, 3, 4, 5, 6]\n"
     ]
    }
   ],
   "source": [
    "alist = [1,2,3,4]\n",
    "blist = alist\n",
    "print(alist)\n",
    "print(blist)\n",
    "alist.extend([5,6])\n",
    "print(alist)\n",
    "print(blist)"
   ]
  },
  {
   "cell_type": "markdown",
   "metadata": {},
   "source": [
    "What happened to **blist**?"
   ]
  },
  {
   "cell_type": "markdown",
   "metadata": {},
   "source": [
    "Answer: alist and blist both have the same pointer from the initial declaration of blist. So, manipulating the object alist manipulates the array assigned to it "
   ]
  },
  {
   "cell_type": "markdown",
   "metadata": {},
   "source": [
    "## Mutability\n",
    "Mutability is the ability to change an object. Most of the objects we've discussed so for are immutable, they cannot be changed in memory. Lists (and dictionaries which we will discuss later) are mutable.\n",
    "\n",
    "When I assign `a=2` the name a is pointing to object 2. When I do `b=a` **b** now points to the same memory location. When I type `a=3` **a** no longer points at 2, it now points at the 3 object, **b** continues to point to the 2 object.\n",
    "\n",
    "The same thing is true for lists with one caveat, lists objects are mutable. You can change a list object without reassigning the name. Thus when **alist** and **blist** point to the same list object, and I extend the list object they both point to the same longer list object. **This can lead to big issues in your code!**\n",
    "\n",
    "How could I make a copy of alist in blist, but create a new object in the process?"
   ]
  },
  {
   "cell_type": "code",
   "execution_count": 23,
   "metadata": {},
   "outputs": [
    {
     "name": "stdout",
     "output_type": "stream",
     "text": [
      "[1, 2, 3, 4]\n",
      "[1, 2, 3, 4]\n",
      "[1, 2, 3, 4, 5, 6]\n",
      "[1, 2, 3, 4]\n"
     ]
    }
   ],
   "source": [
    "alist = [1,2,3,4]\n",
    "blist = alist[:]  #this line\n",
    "print(alist)\n",
    "print(blist)\n",
    "alist.extend([5,6])\n",
    "print(alist)\n",
    "print(blist)"
   ]
  },
  {
   "cell_type": "markdown",
   "metadata": {},
   "source": [
    "## Changing List elements\n",
    "You can change elements of a list by referencing the element number in the assignment. You can also create an empty list using `list()`."
   ]
  },
  {
   "cell_type": "code",
   "execution_count": 24,
   "metadata": {
    "scrolled": true
   },
   "outputs": [
    {
     "name": "stdout",
     "output_type": "stream",
     "text": [
      "[1, 2, 3, 4, 5]\n",
      "[1, 2, 6, 4, 5]\n",
      "[1, 2, 7, 8, 5]\n"
     ]
    }
   ],
   "source": [
    "alist = list()\n",
    "alist.extend([1,2,3,4,5])\n",
    "print(alist)\n",
    "alist[2] = 6\n",
    "print(alist)\n",
    "alist[2:4] = [7,8]\n",
    "print(alist)"
   ]
  },
  {
   "cell_type": "code",
   "execution_count": 25,
   "metadata": {},
   "outputs": [
    {
     "ename": "TypeError",
     "evalue": "'tuple' object does not support item assignment",
     "output_type": "error",
     "traceback": [
      "\u001b[1;31m---------------------------------------------------------------------------\u001b[0m",
      "\u001b[1;31mTypeError\u001b[0m                                 Traceback (most recent call last)",
      "\u001b[1;32m<ipython-input-25-aa30ba1e68d7>\u001b[0m in \u001b[0;36m<module>\u001b[1;34m\u001b[0m\n\u001b[0;32m      1\u001b[0m \u001b[0matuple\u001b[0m \u001b[1;33m=\u001b[0m \u001b[1;33m(\u001b[0m\u001b[1;36m1\u001b[0m\u001b[1;33m,\u001b[0m\u001b[1;36m2\u001b[0m\u001b[1;33m,\u001b[0m\u001b[1;36m3\u001b[0m\u001b[1;33m,\u001b[0m\u001b[1;36m4\u001b[0m\u001b[1;33m,\u001b[0m\u001b[1;36m5\u001b[0m\u001b[1;33m)\u001b[0m\u001b[1;33m\u001b[0m\u001b[1;33m\u001b[0m\u001b[0m\n\u001b[1;32m----> 2\u001b[1;33m \u001b[0matuple\u001b[0m\u001b[1;33m[\u001b[0m\u001b[1;36m2\u001b[0m\u001b[1;33m]\u001b[0m \u001b[1;33m=\u001b[0m \u001b[1;36m6\u001b[0m\u001b[1;33m\u001b[0m\u001b[1;33m\u001b[0m\u001b[0m\n\u001b[0m\u001b[0;32m      3\u001b[0m \u001b[0mprint\u001b[0m\u001b[1;33m(\u001b[0m\u001b[0matuple\u001b[0m\u001b[1;33m)\u001b[0m\u001b[1;33m\u001b[0m\u001b[1;33m\u001b[0m\u001b[0m\n",
      "\u001b[1;31mTypeError\u001b[0m: 'tuple' object does not support item assignment"
     ]
    }
   ],
   "source": [
    "atuple = (1,2,3,4,5)\n",
    "atuple[2] = 6\n",
    "print(atuple)"
   ]
  },
  {
   "cell_type": "markdown",
   "metadata": {},
   "source": [
    "Why doesn't this work for tuples?"
   ]
  },
  {
   "cell_type": "markdown",
   "metadata": {},
   "source": [
    "Answer: Tuples aren't assignable items. This is because tuples are built at compile time, meaning they aren't over-allocated for and have static recall properties. They can't be assigned mainly, from what I can reason, because python is weakly typed and the syntax would be inconsistent with a lot of other rules in python. "
   ]
  },
  {
   "cell_type": "markdown",
   "metadata": {},
   "source": [
    "## Why does anyone use tuples?\n",
    "Tuples process faster than lists. Also there are cases where you want to store sequence data that should not be messed with using list methods. You can always convert back and forth using:\n",
    "- `mylist = list(mytuple)`\n",
    "- `mytuple = tuple(mylist)`\n",
    "\n",
    "## Converting Variable types\n",
    "Actually you can cast most basic types into another type (e.g. **float** to **string** or **int** to **float** using the appropriate function:\n",
    "- `mystring = str(myfloat)`\n",
    "- `myfloat = float(myint)`"
   ]
  },
  {
   "cell_type": "code",
   "execution_count": 26,
   "metadata": {},
   "outputs": [
    {
     "name": "stdout",
     "output_type": "stream",
     "text": [
      "range(0, 5)\n",
      "[0, 1, 2, 3, 4]\n"
     ]
    }
   ],
   "source": [
    "#Coverting a range into a list\n",
    "print(myrange)\n",
    "print(list(myrange))"
   ]
  },
  {
   "cell_type": "markdown",
   "metadata": {},
   "source": [
    "## Dictionaries\n",
    "Dictionaries are a type of object that associates key value pairs. This is very useful for easy storage of information. They act like mini-databases. You create dictionaries using **{ }**. You can access an element or set a element using **[ ]**. \n",
    "\n",
    "There are some special Dictionary methods:\n",
    "- `.keys()` List Keys\n",
    "- `.values()` List Values\n",
    "- `.items()` LIst Key Value pairs (as Tuples)\n",
    "\n",
    "The key value pairs are not stored in any particular order, so don't expect the order to remain the same. Remember like all things in Python, keys are **case sensitive**."
   ]
  },
  {
   "cell_type": "code",
   "execution_count": 27,
   "metadata": {},
   "outputs": [
    {
     "name": "stdout",
     "output_type": "stream",
     "text": [
      "22\n",
      "['Puppies', 'Kittens']\n",
      "<class 'list'>\n",
      "Kittens\n",
      "ornery\n",
      "happy\n",
      "dict_keys(['username', 'age', 'mood', 'height', 'Favorite Things'])\n",
      "dict_keys(['username', 'age', 'mood', 'height', 'Favorite Things', 'height units'])\n"
     ]
    }
   ],
   "source": [
    "billydict = {'username':'Billy the Kid', 'age': 22, 'mood':'ornery', 'height':68, 'Favorite Things':['Puppies','Kittens']}\n",
    "print(billydict['age'])\n",
    "print(billydict['Favorite Things'])\n",
    "print(type(billydict['Favorite Things']))\n",
    "print((billydict['Favorite Things'])[1]) #I only want is second favorite thing\n",
    "print(billydict['mood'])\n",
    "billydict['mood'] = 'happy' \n",
    "print(billydict['mood']) #Whew!!\n",
    "print(billydict.keys())\n",
    "billydict['height units'] = 'inches'\n",
    "print(billydict.keys())"
   ]
  },
  {
   "cell_type": "code",
   "execution_count": 28,
   "metadata": {},
   "outputs": [
    {
     "name": "stdout",
     "output_type": "stream",
     "text": [
      "Weight: 140\n",
      "Age: 17\n",
      "Favorite Things: ['Puppies', 'Kittens', 'Monkeys']\n"
     ]
    }
   ],
   "source": [
    "#changed Billy\n",
    "billydict['Favorite Things'] = ['Puppies', 'Kittens']#resetting 'Favorite Things'\n",
    "\n",
    "billydict['weight'] = 140\n",
    "billydict['age'] = 17\n",
    "billydict['Favorite Things'].append('Monkeys')\n",
    "\n",
    "print('Weight: ' + str(billydict['weight']))\n",
    "print('Age: ' + str(billydict['age']))\n",
    "print('Favorite Things: ' + str(billydict['Favorite Things']))"
   ]
  },
  {
   "cell_type": "markdown",
   "metadata": {},
   "source": [
    "Make the following changes to **billydict**:\n",
    "- Add Billy's weight: 140\n",
    "- Change his age to 17\n",
    "- Add 'Monkeys' to Billy's Favorite Things."
   ]
  },
  {
   "cell_type": "markdown",
   "metadata": {},
   "source": [
    "---"
   ]
  },
  {
   "cell_type": "markdown",
   "metadata": {},
   "source": [
    "# Part 2: Flow Control\n",
    "Outside of doing simple math we need our modules to be able to make decisions and repeat operations (it is kind of what computers are really good at). There are several ways to control which lines of code get executed and how often. We will talk about each in turn."
   ]
  },
  {
   "cell_type": "markdown",
   "metadata": {},
   "source": [
    "## Functions\n",
    "Functions are a way of containing lines of code in discrete separable units. They are useful because if a block of code needs to be used more than once in a module or in another module, you don't have to write it multiple times. This makes developing and debugging code much easier as well because you only need change the code in one place instead of multiple times. Functions are like objects in that they can be used as arguments to other functions and be stored in sequences.\n",
    "\n",
    "There are two ways to define a function. This first method is the easiet and most common way. That is to use a `def` statement."
   ]
  },
  {
   "cell_type": "code",
   "execution_count": 29,
   "metadata": {},
   "outputs": [
    {
     "name": "stdout",
     "output_type": "stream",
     "text": [
      "9\n",
      "64\n",
      "4\n"
     ]
    }
   ],
   "source": [
    "def mypow (x,y): #def function_name (arg1, arg2, etc):\n",
    "    '''\n",
    "    Raises x to the power y.\n",
    "    \n",
    "    Arguments:\n",
    "        x: integer or float\n",
    "        y: integer or float\n",
    "    Returns:\n",
    "        x raised to the y power.\n",
    "    '''\n",
    "    result = x**y  #lines of function code are indented.\n",
    "    return result #A function usually ends with a return, but it doesn't have to.\n",
    "print(mypow(3,2))\n",
    "a = 4\n",
    "print(mypow(a,3))\n",
    "print(a)"
   ]
  },
  {
   "cell_type": "markdown",
   "metadata": {},
   "source": [
    "## Whitespace\n",
    "Whitespace is fundamental to the structure of Python. As you can see in the code block above, the way python indicates that a line of code goes with the function is by indenting that line. This is true for any kind of code block whether it be an if statement, a loop, or a function. In general people use 4 space to indent (most programming text editors use 4 spaces when you hit tab). For a longer discussion of good Python formatting ettiquete please see: https://www.python.org/dev/peps/pep-0008/."
   ]
  },
  {
   "cell_type": "markdown",
   "metadata": {},
   "source": [
    "## Global and Local Variables\n",
    "Variables are passed into functions by assignment. Note that there is not type definition for the arguments. The global variable is passed into the local variables in the defintion line. In the function **mypow()**, the global variable **a** gets assigned to the local variable **x**. The rules for assignment work the same way in a fuction as they do outside of a fuction as far as mutable and immutable objects are concerned. The benefit of local variables is that they are destroyed when the function ends. A function without a return statement returns the special value <span style=\"color:green\">None</span>."
   ]
  },
  {
   "cell_type": "code",
   "execution_count": 30,
   "metadata": {},
   "outputs": [
    {
     "name": "stdout",
     "output_type": "stream",
     "text": [
      "[4, 5, 6, 1, 2, 3]\n",
      "[4, 5, 6, 1, 2, 3]\n"
     ]
    }
   ],
   "source": [
    "def listextend(mylist):\n",
    "    '''Extends a list by adding [1,2,3].'''\n",
    "    mylist.extend([1,2,3])\n",
    "    return mylist\n",
    "alist = [4,5,6]\n",
    "blist = listextend(alist)\n",
    "print(alist)\n",
    "print(blist)"
   ]
  },
  {
   "cell_type": "markdown",
   "metadata": {},
   "source": [
    "What happened to **alist**?"
   ]
  },
  {
   "cell_type": "markdown",
   "metadata": {},
   "source": [
    "Answer: alist and blist share the same pointer, so when called they give the same result"
   ]
  },
  {
   "cell_type": "code",
   "execution_count": 31,
   "metadata": {},
   "outputs": [
    {
     "name": "stdout",
     "output_type": "stream",
     "text": [
      "[7, 6, 5, 4, 3, 2, 2, 1]\n"
     ]
    }
   ],
   "source": [
    "print(mylist)"
   ]
  },
  {
   "cell_type": "markdown",
   "metadata": {},
   "source": [
    "Why can't I print **mylist**?"
   ]
  },
  {
   "cell_type": "markdown",
   "metadata": {},
   "source": [
    "Answer: mylist was never initiated outside of the function, so it does not exist to the rest of the code (local variable)"
   ]
  },
  {
   "cell_type": "code",
   "execution_count": 32,
   "metadata": {},
   "outputs": [
    {
     "name": "stdout",
     "output_type": "stream",
     "text": [
      "[4, 5, 6]\n",
      "[4, 5, 6, 1, 2, 3]\n"
     ]
    }
   ],
   "source": [
    "def listextend2(mylist):\n",
    "    '''Extends a list by adding [1,2,3] safetly.'''\n",
    "    mylist = mylist[:]\n",
    "    mylist.extend([1,2,3])\n",
    "    return mylist\n",
    "alist = [4,5,6]\n",
    "blist = listextend2(alist)\n",
    "print(alist)\n",
    "print(blist)"
   ]
  },
  {
   "cell_type": "markdown",
   "metadata": {},
   "source": [
    "## Docstrings\n",
    "The start of both **mypow** and **listextend** begin with a string called a docstring. Docstrings tells people what the function does, what its arguments are, and what it returns. There is no one way to do a docstring. Pick a format that works for you. For very short functions, a one-line docstring is probably enough. For more complicated functions, and more complete docstring is useful. For multiline docstrings, the summary should be separated by a blank line from the rest of the docstring because some programs search the summaries."
   ]
  },
  {
   "cell_type": "code",
   "execution_count": 33,
   "metadata": {},
   "outputs": [
    {
     "name": "stdout",
     "output_type": "stream",
     "text": [
      "\n",
      "    Raises x to the power y.\n",
      "    \n",
      "    Arguments:\n",
      "        x: integer or float\n",
      "        y: integer or float\n",
      "    Returns:\n",
      "        x raised to the y power.\n",
      "    \n"
     ]
    }
   ],
   "source": [
    "print(mypow.__doc__)"
   ]
  },
  {
   "cell_type": "code",
   "execution_count": 34,
   "metadata": {},
   "outputs": [
    {
     "name": "stdout",
     "output_type": "stream",
     "text": [
      "Help on function mypow in module __main__:\n",
      "\n",
      "mypow(x, y)\n",
      "    Raises x to the power y.\n",
      "    \n",
      "    Arguments:\n",
      "        x: integer or float\n",
      "        y: integer or float\n",
      "    Returns:\n",
      "        x raised to the y power.\n",
      "\n"
     ]
    }
   ],
   "source": [
    "help(mypow)"
   ]
  },
  {
   "cell_type": "code",
   "execution_count": 35,
   "metadata": {},
   "outputs": [],
   "source": [
    "? mypow"
   ]
  },
  {
   "cell_type": "markdown",
   "metadata": {},
   "source": [
    "## Function Arguments\n",
    "Functions arguments are generally matched by position. However, one can assign by naming the appropriate local variable.\n",
    "You can also write functions with predefined keywords. These keywords do not have to be passed ot the function because they already have default values. Once you call a keyword, you cannot go back to positional arguments."
   ]
  },
  {
   "cell_type": "code",
   "execution_count": 36,
   "metadata": {},
   "outputs": [
    {
     "name": "stdout",
     "output_type": "stream",
     "text": [
      "12\n",
      "17\n",
      "17\n",
      "18\n",
      "17\n"
     ]
    }
   ],
   "source": [
    "def quad(x,a,b=0,c=0):\n",
    "    '''\n",
    "    This function returns the quadratic a*x**2 + bx + c \n",
    "    \n",
    "    Arguments:\n",
    "        x: An x value\n",
    "        a: First Quadratic coefficient\n",
    "    Keywords:\n",
    "        b: Second Quadratic coeffient (Default=0)\n",
    "        c: Third Quadratic coeffient (Default=0)\n",
    "    returns:\n",
    "        y: y-value of the line\n",
    "    '''\n",
    "    return a*x**2+b*x+c\n",
    "print(quad(2,3))\n",
    "print(quad(2,3,b=2,c=1))\n",
    "print(quad(2,3,2,1))\n",
    "print(quad(3,2))\n",
    "print(quad(a=3,x=2,c=1,b=2))"
   ]
  },
  {
   "cell_type": "markdown",
   "metadata": {},
   "source": [
    "What is the value of $y$ when $x=5$ for the quadratic $y = 7-23x+13x^2$?"
   ]
  },
  {
   "cell_type": "code",
   "execution_count": 37,
   "metadata": {},
   "outputs": [
    {
     "name": "stdout",
     "output_type": "stream",
     "text": [
      "217\n"
     ]
    }
   ],
   "source": [
    "print(quad(5, 13, -23, 7))"
   ]
  },
  {
   "cell_type": "markdown",
   "metadata": {},
   "source": [
    "## Lamda Functions\n",
    "You may encounter the reserved word **lambda**. This is another way to define functions, but we won't worry about them for the moment."
   ]
  },
  {
   "cell_type": "markdown",
   "metadata": {},
   "source": [
    "## String formating\n",
    "If you want to print out the value an object in a human readable way, you can use string formating. The way string formating looks is:\n",
    "```\n",
    "\"This string as variable1 {} and variable2 {}\".format(var1, var2)\n",
    "```\n",
    "You can control how the variables are displayed by using format codes. Some basic format codes are:\n",
    "\n",
    "| code | Description | Code | Description |\n",
    "| --- | --- | --- | --- |\n",
    "| d | integer | f | fixed decimal point float |\n",
    "|s or empty | string | e | Scientific notation |\n",
    "| g | choose either fixed or scientific as appropriate | % | Multiply by 100 and use percent sign |\n",
    "\n",
    "One can control the number of characters used by a string and numbers by preceeding the format code with a number. One can control the number of decimal points to round to with `.number`. If a string or number is smaller than the allotted number of characters you can control the alignment with <,>,^.\n",
    "\n",
    "`{:5s} {:10.2f}`\n",
    "Where 5 means use 5 characters and 10.2 means use 10 characters with a 2 decimal places. This works slightly differently for f and for g.\n",
    "\n",
    "For more information on format codes read here: https://docs.python.org/2/library/string.html."
   ]
  },
  {
   "cell_type": "code",
   "execution_count": 38,
   "metadata": {},
   "outputs": [
    {
     "name": "stdout",
     "output_type": "stream",
     "text": [
      "My Kitty Cat loves pie 3.14159\n",
      "My 3.14159 loves pie Kitty Cat\n",
      "My Kitty Cat            loves pie 3.142\n",
      "My            Kitty Cat loves pie 3.141590e+00\n",
      "My      Kitty Cat       loves pie 3.1\n",
      "My    3.14    loves pie      Kitty Cat      \n"
     ]
    }
   ],
   "source": [
    "var1 = 3.14159\n",
    "var2 = \"Kitty Cat\"\n",
    "\n",
    "print(\"My {} loves pie {}\".format(var2,var1))\n",
    "print(\"My {1} loves pie {0}\".format(var2,var1))\n",
    "print(\"My {:<20s} loves pie {:5.3f}\".format(var2,var1))\n",
    "print(\"My {:>20s} loves pie {:e}\".format(var2,var1))\n",
    "print(\"My {:^20s} loves pie {:.2g}\".format(var2,var1))\n",
    "print(\"My {1:^10.3g} loves pie {0:^20s}\".format(var2,var1))"
   ]
  },
  {
   "cell_type": "markdown",
   "metadata": {},
   "source": [
    "Now write your own format string that takes the number 1025.2456778 and rounds it to two decimal places and one that gives it in scientific notation with 4 decimal places."
   ]
  },
  {
   "cell_type": "code",
   "execution_count": 39,
   "metadata": {},
   "outputs": [
    {
     "name": "stdout",
     "output_type": "stream",
     "text": [
      "1025.25\n",
      "1025.25\n",
      "1.0252e+03\n"
     ]
    }
   ],
   "source": [
    "print(\"%.2f\" % (num := 1025.2456778))\n",
    "print('{:.2f}'.format(num))\n",
    "print('{:.4e}'.format(num))"
   ]
  },
  {
   "cell_type": "markdown",
   "metadata": {},
   "source": [
    "## If Statements\n",
    "If Statements are the very heart of programming. This is how decisions get made in a program. The basic format is as follows:\n",
    "```\n",
    "if <condition1>:\n",
    "    statements_1\n",
    "elif <condition2>:\n",
    "    statements_2\n",
    "else:\n",
    "    statements_3\n",
    "```\n",
    "If **condition1** is <span style='color:green'>True</span> **statements_1** gets executed and we skip the rest of the statements. If **condition1** is <span style='color:green'>False</span> then we ski **statements1** and test **condition2**. If it is <span style='color:green'>True</span> then we execute **statements2**. If it is <span style='color:green'>False</span> then we executes **statements3**. An if block can have only 1 if statment, it can have 0 to many elif statements, and 0 or 1 else statement."
   ]
  },
  {
   "cell_type": "markdown",
   "metadata": {},
   "source": [
    "## Conditions\n",
    "There are several condition or Boolean staments you can make. By using **and** or **or** you can test several conditions at the same time.\n",
    "\n",
    "| Condition | Description | Condition | Description |\n",
    "| --- | --- | --- | --- |\n",
    "|True| Always True | False | Always False |\n",
    "| a > b | a greater than b | a >= b | a greater than or equal to b | \n",
    "| a < b | a less than b |a <= b | less than or equal to b | \n",
    "| a == b | a is equal to b | a **is** b | a is equal to b (rarely used)|\n",
    "| a != b | a is not equal to b | a **is not** b | a is not equal to b (rarely used)|\n",
    "| a > b **or** c < d | a is greater than b or c is less than d | a in list | Is the value of a in the list |\n",
    "| a > b **and** c < d | a is greater than b and c is less than d | a not in list | Is the value of a not in the list|\n",
    "| not a | Opposite of a | () | can be used to add complexity|"
   ]
  },
  {
   "cell_type": "code",
   "execution_count": 40,
   "metadata": {},
   "outputs": [
    {
     "name": "stdout",
     "output_type": "stream",
     "text": [
      "3\n",
      "I always work!\n"
     ]
    }
   ],
   "source": [
    "z = 3\n",
    "if z == 4:\n",
    "    #Everything in here is part of the if statement\n",
    "    print(\"This totally worked!\")\n",
    "    z = z + 1\n",
    "    print(z)\n",
    "else:\n",
    "    print(z)\n",
    "print(\"I always work!\")"
   ]
  },
  {
   "cell_type": "markdown",
   "metadata": {},
   "source": [
    "Alter the above if statement so that it executes the if statements."
   ]
  },
  {
   "cell_type": "markdown",
   "metadata": {},
   "source": [
    "## Your turn\n",
    "Write a function called min() that takes two arguments and returns the minimum one. If you want to go one step further, Add a keyword **reverse=False** to cause the function to return the max value instead of the min value when it is set to **True**. What should happen if both values are the same? Please include a docstring. "
   ]
  },
  {
   "cell_type": "code",
   "execution_count": 86,
   "metadata": {},
   "outputs": [
    {
     "name": "stdout",
     "output_type": "stream",
     "text": [
      "2\n",
      "2\n"
     ]
    }
   ],
   "source": [
    "#have to use \"min1\" because min was importated from math farther down\n",
    "def min1(x, y, reverse = False):\n",
    "    '''\n",
    "     This function returns the quadratic a*x**2 + bx + c \n",
    "    \n",
    "    Arguments:\n",
    "        x: An initial value\n",
    "        y: The other initial value\n",
    "    Keywords:\n",
    "        reverse: to instead share the max value (Default=False)\n",
    "    returns:\n",
    "        min/max: min or max between x and y, returns x if they are equal\n",
    "    \n",
    "    '''\n",
    "    \n",
    "    if reverse == False:\n",
    "        return y if x > y else x\n",
    "    else:\n",
    "        return y if x < y else x\n",
    "\n",
    "print(min1(2, 1, reverse=True))\n",
    "\n",
    "#1-liner version; neither enforces type on reverse\n",
    "def min2(x,y, reverse=False):\n",
    "    return y if x*(1-reverse*2) > y*(1-reverse*2) else x\n",
    "\n",
    "print(min2(2,1, reverse=True))"
   ]
  },
  {
   "cell_type": "markdown",
   "metadata": {},
   "source": [
    "## While Loops\n",
    "While loops allow you to do a block of statements until a condition is met. This can be very useful if you need to decide on the fly how often to do something. The basic format is:\n",
    "```\n",
    "while <condition>:\n",
    "    statements\n",
    "```"
   ]
  },
  {
   "cell_type": "code",
   "execution_count": 42,
   "metadata": {},
   "outputs": [
    {
     "name": "stdout",
     "output_type": "stream",
     "text": [
      "0\n",
      "1\n",
      "2\n",
      "3\n",
      "4\n",
      "5\n"
     ]
    }
   ],
   "source": [
    "i = 0\n",
    "while i <= 5:\n",
    "    print(i)\n",
    "    i = i + 1"
   ]
  },
  {
   "cell_type": "markdown",
   "metadata": {},
   "source": [
    "## Special reserved words for all types of loops and code blocks\n",
    "These reserved words allow you to control the flow of a loop outside of the initial condition.\n",
    "\n",
    "| Reserved Word | Use |\n",
    "| --- | --- | --- |\n",
    "| break | Leave the loop immediately |\n",
    "| continue | Jump to the next iteration of the loop |\n",
    "| pass | Do nothing |"
   ]
  },
  {
   "cell_type": "code",
   "execution_count": 43,
   "metadata": {},
   "outputs": [
    {
     "name": "stdout",
     "output_type": "stream",
     "text": [
      "0\n",
      "1\n",
      "2\n",
      "4\n",
      "5\n"
     ]
    }
   ],
   "source": [
    "i = 0\n",
    "while i <= 5:\n",
    "    \n",
    "    if i == 3:\n",
    "        i = i + 1\n",
    "        continue\n",
    "    print(i)\n",
    "    i = i + 1"
   ]
  },
  {
   "cell_type": "markdown",
   "metadata": {},
   "source": [
    "## Infinite Loops\n",
    "Beware of infinite loops. If the condition in your while loop can never be false, the loop will go on forever and you will have to `ctrl-c` the program. What would happen if you deleted the i = i + 1 from above the continue in the while loop above? Try it if you dare. To stop an infinite loop go to Kernel->Interupt. You can tell that you are in an infinite loop if you see <span style='color:blue;font-family:Courier'><b>In [*]</b></span>."
   ]
  },
  {
   "cell_type": "markdown",
   "metadata": {},
   "source": [
    "## For Loops\n",
    "For loops are one of the most useful flow control loops in Python. They allow you to execute lines of code a specific number of times. The also allow you to process a list or tuple or dictionary one element or keyword at a time. The general format of a for loop is:\n",
    "```\n",
    "for <target> in <object>:\n",
    "    <statements>\n",
    "```"
   ]
  },
  {
   "cell_type": "code",
   "execution_count": 44,
   "metadata": {},
   "outputs": [
    {
     "name": "stdout",
     "output_type": "stream",
     "text": [
      "cat\n",
      "dog\n",
      "27.3\n",
      "(45, 'house')\n",
      "monkey\n"
     ]
    }
   ],
   "source": [
    "mytuple = (\"cat\",\"dog\",27.3, (45,\"house\"),\"monkey\")\n",
    "for element in mytuple:\n",
    "    print(element)"
   ]
  },
  {
   "cell_type": "markdown",
   "metadata": {},
   "source": [
    "For some simple loops people use list comprehension. It is a way of generating a new list with constraints from a previous list. Here is the same code twice, written in the normal way and the list comprehension way."
   ]
  },
  {
   "cell_type": "code",
   "execution_count": 45,
   "metadata": {},
   "outputs": [
    {
     "name": "stdout",
     "output_type": "stream",
     "text": [
      "[2, 4, 6, 8, 10]\n",
      "[2, 4, 6, 8, 10]\n"
     ]
    },
    {
     "name": "stderr",
     "output_type": "stream",
     "text": [
      "<>:6: SyntaxWarning: \"is\" with a literal. Did you mean \"==\"?\n",
      "<>:10: SyntaxWarning: \"is\" with a literal. Did you mean \"==\"?\n",
      "<>:6: SyntaxWarning: \"is\" with a literal. Did you mean \"==\"?\n",
      "<>:10: SyntaxWarning: \"is\" with a literal. Did you mean \"==\"?\n",
      "<ipython-input-45-a6c54d2837ef>:6: SyntaxWarning: \"is\" with a literal. Did you mean \"==\"?\n",
      "  if num % 2 is 0:\n",
      "<ipython-input-45-a6c54d2837ef>:10: SyntaxWarning: \"is\" with a literal. Did you mean \"==\"?\n",
      "  evennum2 = [num for num in numbers if num % 2 is 0]\n"
     ]
    }
   ],
   "source": [
    "numbers = [1,2,3,4,5,6,7,8,9,10]\n",
    "evennum1 = list()\n",
    "evennum2 = list()\n",
    "#The standard way\n",
    "for num in numbers:\n",
    "    if num % 2 is 0:\n",
    "        evennum1.append(num)\n",
    "print(evennum1)\n",
    "#The list comprehension way\n",
    "evennum2 = [num for num in numbers if num % 2 is 0]\n",
    "print(evennum2)"
   ]
  },
  {
   "cell_type": "markdown",
   "metadata": {},
   "source": [
    "## range() and len()\n",
    "There are two functions that are very useful for processing lists of unknown size through a for loop. `range()` generates a range object, which functions like a list of numbers. It can take 1, 2, or 3 arguements. `len()` tells you the number of elements in a list, tuple, range, or dictionary"
   ]
  },
  {
   "cell_type": "code",
   "execution_count": 46,
   "metadata": {},
   "outputs": [
    {
     "name": "stdout",
     "output_type": "stream",
     "text": [
      "range(0, 5)\n",
      "[0, 1, 2, 3, 4]\n",
      "[3, 4, 5, 6]\n",
      "[1, 3, 5, 7, 9]\n",
      "10\n"
     ]
    }
   ],
   "source": [
    "print(range(5))\n",
    "print(list(range(5))) #convert to a list so that we can see the values\n",
    "print(list(range(3,7)))\n",
    "print(list(range(1,10,2)))\n",
    "print(len(numbers))"
   ]
  },
  {
   "cell_type": "markdown",
   "metadata": {},
   "source": [
    "## Combining range() and len() with for\n",
    "You can use `range()` and `len()` to work your way through a sequence. **This is by far the most used type of loop in my code.**"
   ]
  },
  {
   "cell_type": "code",
   "execution_count": 47,
   "metadata": {},
   "outputs": [
    {
     "name": "stdout",
     "output_type": "stream",
     "text": [
      "The letter a is at index 0\n",
      "The letter b is at index 1\n",
      "The letter c is at index 2\n",
      "The letter d is at index 3\n",
      "The letter e is at index 4\n",
      "The letter f is at index 5\n",
      "The letter g is at index 6\n",
      "The letter h is at index 7\n",
      "The letter i is at index 8\n",
      "The letter j is at index 9\n",
      "The letter k is at index 10\n"
     ]
    }
   ],
   "source": [
    "letters = ['a','b','c','d','e','f','g','h','i','j','k']\n",
    "for i in range(len(letters)):\n",
    "    print(\"The letter {} is at index {}\".format(letters[i],i))"
   ]
  },
  {
   "cell_type": "markdown",
   "metadata": {},
   "source": [
    "## Now it is your turn\n",
    "Write a function that takes an integer and returns the factorial of that integer. Check the arguments such that if someone gives you an integer less than 0 it returns a -99, or if they give you a zero it returns 1. Be sure to include a docstring for each of your functions."
   ]
  },
  {
   "cell_type": "code",
   "execution_count": 48,
   "metadata": {},
   "outputs": [],
   "source": [
    "def factorial(x):\n",
    "    if (x < 0):\n",
    "        return -99\n",
    "    elif (x == 0):\n",
    "        return 1\n",
    "    else:\n",
    "        tot = 1\n",
    "        for i in range(1, x+1):\n",
    "            tot *= i\n",
    "        return tot"
   ]
  },
  {
   "cell_type": "markdown",
   "metadata": {},
   "source": [
    "Create a function that takes two lists and compares them element by element and creates a new list that gives the maximum value for each element."
   ]
  },
  {
   "cell_type": "code",
   "execution_count": 49,
   "metadata": {},
   "outputs": [
    {
     "name": "stdout",
     "output_type": "stream",
     "text": [
      "[1, 3, 3, 4]\n"
     ]
    }
   ],
   "source": [
    "def compare(alist, blist):\n",
    "    #Compares item to item returning largest value in each index, and disregards any overflow\n",
    "    clist = list()\n",
    "    length = len(alist) if len(alist) < len(blist) else len(blist)\n",
    "    for i in range(length):\n",
    "        clist.append(alist[i] if alist[i] > blist[i] else blist[i])\n",
    "    return clist\n",
    "\n",
    "print(compare([1,2,3,4,5,6], [1,3,1,-9]))"
   ]
  },
  {
   "cell_type": "markdown",
   "metadata": {},
   "source": [
    "---"
   ]
  },
  {
   "cell_type": "markdown",
   "metadata": {},
   "source": [
    "# Part 3: Python Basics Info to and from the Outside\n",
    "We now know a lot about running our own program, but now we need to be able to communicate with the outside world. This includes reading and writing files, and importing code from outside sources."
   ]
  },
  {
   "cell_type": "markdown",
   "metadata": {},
   "source": [
    "### Make sure to unzip `Homework1_data.zip` and put the three files (`hip_small.csv`, `hip_tiny.csv`, `mytest.dat`) in the same directory as this Jupyter notebook."
   ]
  },
  {
   "cell_type": "markdown",
   "metadata": {},
   "source": [
    "## Modules\n",
    "There is a lot of python code that already exists. Python is an object oriented langauge with discrete namespaces. Modules are a way of importing functions, methods, and objects from other developers. There are two main types of Modules, but they work the same way. The first are built-in modules, these modules are available on any normal Python installation. The second type is third-party modules. These must be downloaded and installed, although many of them are so commonly used that they are very likely to be installed already."
   ]
  },
  {
   "cell_type": "markdown",
   "metadata": {},
   "source": [
    "## Your first built-in module\n",
    "Let's start with something that we know really well, math functions. There is a built-in module to contain math functions. It is called **math**. There are several ways to import all or just part of a module. We will discuss the different methods below."
   ]
  },
  {
   "cell_type": "markdown",
   "metadata": {},
   "source": [
    "## Import the whole module\n",
    "The simpliest was to import a module is to import the whole thing."
   ]
  },
  {
   "cell_type": "code",
   "execution_count": 50,
   "metadata": {},
   "outputs": [],
   "source": [
    "import math"
   ]
  },
  {
   "cell_type": "markdown",
   "metadata": {},
   "source": [
    "## Module Help\n",
    "We can learn about the functions available in a given module by going online or by using the help function."
   ]
  },
  {
   "cell_type": "code",
   "execution_count": 72,
   "metadata": {},
   "outputs": [],
   "source": [
    "#help(math)"
   ]
  },
  {
   "cell_type": "markdown",
   "metadata": {},
   "source": [
    "You can also get help on individual functions"
   ]
  },
  {
   "cell_type": "code",
   "execution_count": 52,
   "metadata": {},
   "outputs": [
    {
     "name": "stdout",
     "output_type": "stream",
     "text": [
      "Help on built-in function sin in module math:\n",
      "\n",
      "sin(x, /)\n",
      "    Return the sine of x (measured in radians).\n",
      "\n"
     ]
    }
   ],
   "source": [
    "help(math.sin)"
   ]
  },
  {
   "cell_type": "code",
   "execution_count": 53,
   "metadata": {},
   "outputs": [],
   "source": [
    "?math.sin"
   ]
  },
  {
   "cell_type": "markdown",
   "metadata": {},
   "source": [
    "## A Very Quick Aside about Object Oriented Programming\n",
    "Python is an object oriented programming language. An object is a container that holds variables and functions. A function that lives in an object is called a method. You can create your own objects by usng class, which defines what variables and methods live in your object. Using a class, you can create as many objects as you like, which all have the same structure, but could contain different information. Inside of an object semi-private variables have a single underscore infront of them and private variables have a double underscore on them. Special methods have a double underscore in their name. In general you should not access semi-private variables and you can't access private variables."
   ]
  },
  {
   "cell_type": "code",
   "execution_count": 54,
   "metadata": {},
   "outputs": [
    {
     "name": "stdout",
     "output_type": "stream",
     "text": [
      "Help on Circle in module __main__ object:\n",
      "\n",
      "class Circle(builtins.object)\n",
      " |  Circle(radius)\n",
      " |  \n",
      " |  This Class Defines a Circle\n",
      " |  \n",
      " |  Methods defined here:\n",
      " |  \n",
      " |  __init__(self, radius)\n",
      " |      Initialize self.  See help(type(self)) for accurate signature.\n",
      " |  \n",
      " |  area(self)\n",
      " |      This method returns the area of the circle object.\n",
      " |  \n",
      " |  myname(self)\n",
      " |      This method returns a private variable of the object\n",
      " |  \n",
      " |  ----------------------------------------------------------------------\n",
      " |  Data descriptors defined here:\n",
      " |  \n",
      " |  __dict__\n",
      " |      dictionary for instance variables (if defined)\n",
      " |  \n",
      " |  __weakref__\n",
      " |      list of weak references to the object (if defined)\n",
      "\n",
      "2\n",
      "4\n",
      "12.566370614359172\n",
      "50.26548245743669\n",
      "3.141592653589793\n",
      "Square\n"
     ]
    }
   ],
   "source": [
    "class Circle:\n",
    "    '''This Class Defines a Circle'''\n",
    "    def __init__(self,radius):   #A function that gets run when the object is created\n",
    "        self.radius = radius  #A public variable\n",
    "        self._pi = math.pi    #A Semi-Private variable you generally should not acces this\n",
    "        self.__secret_name = \"Square\" #A Private variable that can't be accessed from outside the object\n",
    "    def area(self):           #A Method\n",
    "        '''This method returns the area of the circle object.'''\n",
    "        return (self._pi*self.radius**2)\n",
    "    def myname(self):\n",
    "        '''This method returns a private variable of the object'''\n",
    "        return(self.__secret_name)\n",
    "    \n",
    "myshape1 = Circle(2)\n",
    "myshape2 = Circle(4)\n",
    "\n",
    "help(myshape1)\n",
    "print(myshape1.radius)\n",
    "print(myshape2.radius)\n",
    "print(myshape1.area())\n",
    "print(myshape2.area())\n",
    "print(myshape1._pi)\n",
    "print(myshape1.myname())"
   ]
  },
  {
   "cell_type": "code",
   "execution_count": 55,
   "metadata": {},
   "outputs": [
    {
     "ename": "AttributeError",
     "evalue": "'Circle' object has no attribute '__secret_name'",
     "output_type": "error",
     "traceback": [
      "\u001b[1;31m---------------------------------------------------------------------------\u001b[0m",
      "\u001b[1;31mAttributeError\u001b[0m                            Traceback (most recent call last)",
      "\u001b[1;32m<ipython-input-55-6324e528a741>\u001b[0m in \u001b[0;36m<module>\u001b[1;34m\u001b[0m\n\u001b[1;32m----> 1\u001b[1;33m \u001b[0mprint\u001b[0m\u001b[1;33m(\u001b[0m\u001b[0mmyshape1\u001b[0m\u001b[1;33m.\u001b[0m\u001b[0m__secret_name\u001b[0m\u001b[1;33m)\u001b[0m\u001b[1;33m\u001b[0m\u001b[1;33m\u001b[0m\u001b[0m\n\u001b[0m",
      "\u001b[1;31mAttributeError\u001b[0m: 'Circle' object has no attribute '__secret_name'"
     ]
    }
   ],
   "source": [
    "print(myshape1.__secret_name)"
   ]
  },
  {
   "cell_type": "markdown",
   "metadata": {},
   "source": [
    "Why doesn't `print(myshape1.__secret_name)` work?"
   ]
  },
  {
   "cell_type": "markdown",
   "metadata": {},
   "source": [
    "Answer: Because it was defined as a \"private\" variable, you can't access it outside the scope of the class (no children can directly reach it either). "
   ]
  },
  {
   "cell_type": "code",
   "execution_count": 56,
   "metadata": {},
   "outputs": [
    {
     "name": "stdout",
     "output_type": "stream",
     "text": [
      "Square\n"
     ]
    }
   ],
   "source": [
    "print(myshape1._Circle__secret_name)\n",
    "#Python cannot actually create protected or private instances, but can only emulate it."
   ]
  },
  {
   "cell_type": "markdown",
   "metadata": {},
   "source": [
    "## Accessing Module Functions and Objects\n",
    "We can access the module functions, methods, and Objects by using . to separate name spaces. Think of a module as being the largest namespace, then the objects, then methods or variables.\n",
    "\n",
    "By using `module_name.function_name` I can get a function within a given module. We can get to a method inside of an Object by `module_name.object_name.method_name`.\n",
    "The naming system just goes on from there.\n",
    "\n",
    "We can get more specific help on a given function by using help on it."
   ]
  },
  {
   "cell_type": "code",
   "execution_count": 57,
   "metadata": {},
   "outputs": [
    {
     "name": "stdout",
     "output_type": "stream",
     "text": [
      "3.141592653589793\n",
      "1.0\n"
     ]
    }
   ],
   "source": [
    "print(math.pi)\n",
    "print(math.log(math.e))"
   ]
  },
  {
   "cell_type": "code",
   "execution_count": 58,
   "metadata": {},
   "outputs": [
    {
     "name": "stdout",
     "output_type": "stream",
     "text": [
      "Help on built-in function atan2 in module math:\n",
      "\n",
      "atan2(y, x, /)\n",
      "    Return the arc tangent (measured in radians) of y/x.\n",
      "    \n",
      "    Unlike atan(y/x), the signs of both x and y are considered.\n",
      "\n"
     ]
    }
   ],
   "source": [
    "help(math.atan2)"
   ]
  },
  {
   "cell_type": "markdown",
   "metadata": {},
   "source": [
    "Sometimes it is tedious to type the work math over and over again. So you can nickname a modlue to make it easier to type."
   ]
  },
  {
   "cell_type": "code",
   "execution_count": 59,
   "metadata": {},
   "outputs": [
    {
     "name": "stdout",
     "output_type": "stream",
     "text": [
      "3.141592653589793\n"
     ]
    }
   ],
   "source": [
    "import math as m\n",
    "print(m.pi)"
   ]
  },
  {
   "cell_type": "markdown",
   "metadata": {},
   "source": [
    "## Importing Individual Functions and Variables into a Namespace\n",
    "Often people don't want to load the whole module, but just a single function or variable. You can do that using the from reserved word. Because the variable is now in the module namespace you don't need a the modulename. to access it anymore. You can use \\* to import everything into the namespace **(although this can overwrite your functions and variables)**."
   ]
  },
  {
   "cell_type": "code",
   "execution_count": 60,
   "metadata": {},
   "outputs": [
    {
     "name": "stdout",
     "output_type": "stream",
     "text": [
      "2.718281828459045\n"
     ]
    }
   ],
   "source": [
    "from math import e\n",
    "print(e)"
   ]
  },
  {
   "cell_type": "code",
   "execution_count": 61,
   "metadata": {},
   "outputs": [
    {
     "name": "stdout",
     "output_type": "stream",
     "text": [
      "3.141592653589793\n"
     ]
    }
   ],
   "source": [
    "from math import *\n",
    "print(pi)"
   ]
  },
  {
   "cell_type": "markdown",
   "metadata": {},
   "source": [
    "Write a function that calculates the following equation $y = sin(\\frac{2\\pi x}{5})$. What value does $y$ have for $x=\\frac{\\pi}{2}$ and $x= 3.75$?"
   ]
  },
  {
   "cell_type": "code",
   "execution_count": 62,
   "metadata": {},
   "outputs": [
    {
     "name": "stdout",
     "output_type": "stream",
     "text": [
      "0.9198397414891103\n",
      "-1.0\n"
     ]
    }
   ],
   "source": [
    "func = lambda x: sin(2*pi*x/5)\n",
    "\n",
    "print(func(pi/2))\n",
    "print(func(3.75))"
   ]
  },
  {
   "cell_type": "markdown",
   "metadata": {},
   "source": [
    "## File Input and Output\n",
    "For almost all research (and homework) uses you will want to read and write to a file. To do this you need to create a file object, and then you can work with it. We use the `open` function to do this. We give the `open` function the name of the file to open and whether we want to read or write to the file. We can then use a for loop to read the contents of the file. You should always close a file handle once you are done reading or writing to it."
   ]
  },
  {
   "cell_type": "code",
   "execution_count": 63,
   "metadata": {
    "scrolled": true
   },
   "outputs": [
    {
     "name": "stdout",
     "output_type": "stream",
     "text": [
      "#HIP (Name),Ra (Degrees),Dec (Degrees),Plx (milliarcsec),B (mag),V (mag),err_Plx,err_B,err_V\n",
      "\n",
      "7,0.02254891,20.03660216,17.74,10.542,9.679,1.3,0.039,0.03\n",
      "\n",
      "25,0.07936537,-44.29029741,13.74,7.238,6.375,0.98,0.004,0.003\n",
      "\n",
      "34,0.09946973,26.91823821,12.71,7.04,6.491,0.74,0.004,0.004\n",
      "\n",
      "38,0.11104694,-79.06183133,23.84,9.614,8.723,0.78,0.016,0.012\n",
      "\n",
      "47,0.13519236,-56.83524773,24.45,12.125,10.909,1.97,0.127,0.072\n",
      "\n",
      "50,0.14287059,-53.09766277,16.89,7.256,6.579,0.8,0.004,0.003\n",
      "\n",
      "54,0.15165558,17.96895579,20.97,11.685,10.679,1.71,0.102,0.065\n",
      "\n",
      "55,0.15783323,-66.68310336,14.66,7.946,7.381,0.98,0.016,0.015\n",
      "\n",
      "57,0.16828557,-69.67580068,33.89,9.353,8.353,0.79,0.013,0.009\n",
      "\n"
     ]
    }
   ],
   "source": [
    "infile = open('Homework1_data\\hip_tiny.csv','r')\n",
    "for line in infile:\n",
    "    print(line)\n",
    "infile.close()"
   ]
  },
  {
   "cell_type": "markdown",
   "metadata": {},
   "source": [
    "## Chopping up an input file\n",
    "You can get individual lines by using the split function. Remeber each line in an ASCII file is a string, so string functions work on them."
   ]
  },
  {
   "cell_type": "code",
   "execution_count": 64,
   "metadata": {},
   "outputs": [
    {
     "name": "stdout",
     "output_type": "stream",
     "text": [
      "#HIP (Name)\n",
      "7\n",
      "25\n",
      "34\n",
      "38\n",
      "47\n",
      "50\n",
      "54\n",
      "55\n",
      "57\n"
     ]
    }
   ],
   "source": [
    "infile = open('Homework1_data\\hip_tiny.csv','r')\n",
    "for line in infile:\n",
    "    llist = line.split(',')    \n",
    "    print(llist[0])\n",
    "infile.close()"
   ]
  },
  {
   "cell_type": "markdown",
   "metadata": {},
   "source": [
    "## Checking for headers\n",
    "Many ASCII files will come with column headers. Be sure to check for those before you include them in a calculation.\n"
   ]
  },
  {
   "cell_type": "code",
   "execution_count": 65,
   "metadata": {},
   "outputs": [
    {
     "name": "stdout",
     "output_type": "stream",
     "text": [
      "7\n",
      "25\n",
      "34\n",
      "38\n",
      "47\n",
      "50\n",
      "54\n",
      "55\n",
      "57\n"
     ]
    }
   ],
   "source": [
    "infile = open('Homework1_data\\hip_tiny.csv','r')\n",
    "for line in infile:\n",
    "    #Check for header that begins with a # or are entirely blank\n",
    "    if line.startswith(\"#\") or line.isspace():\n",
    "        continue\n",
    "\n",
    "    llist = line.split(',')    \n",
    "    print(llist[0])\n",
    "\n",
    "infile.close()"
   ]
  },
  {
   "cell_type": "markdown",
   "metadata": {},
   "source": [
    "## People Type the Dardest Things\n",
    "When you are opening and closing files, there is always a chance that something goes wrong. Maybe the file just doesn't exist in the right directory. If you doen't want to crash your program, you can use the try-except method to catch errors. For each `try` you can have many `excepts`."
   ]
  },
  {
   "cell_type": "code",
   "execution_count": 66,
   "metadata": {},
   "outputs": [
    {
     "name": "stdout",
     "output_type": "stream",
     "text": [
      "File nothere.csv could not be opened!\n"
     ]
    }
   ],
   "source": [
    "filename = \"nothere.csv\"\n",
    "try:\n",
    "    infile = open(filename,'r')\n",
    "except IOError:\n",
    "    print(\"File {} could not be opened!\".format(filename))"
   ]
  },
  {
   "cell_type": "markdown",
   "metadata": {},
   "source": [
    "## Writing to a file\n",
    "Writing works the same a reading. Create a file object and write to it using the `write` function. The `write` function uses strings so be sure that you are writing a string. Also, it does not automatically put a return at the end of the line, so you need to use the special character `\\n`."
   ]
  },
  {
   "cell_type": "code",
   "execution_count": 67,
   "metadata": {},
   "outputs": [],
   "source": [
    "try:\n",
    "    outfile = open('mytest.dat','w')\n",
    "except IOError:\n",
    "    print(\"mytest.dat could not be opened!\")\n",
    "for i in range(10):\n",
    "    num = i + 1\n",
    "    outfile.write(\"I can count to 10: {}\\n\".format(num))\n",
    "outfile.close()"
   ]
  },
  {
   "cell_type": "markdown",
   "metadata": {},
   "source": [
    "## Working with files\n",
    "There are many modules to help you find files and working with directory structures. For instance, if I don't want to overwrite a file I can use the `os.path` module. The `os` module has many useful functions in it."
   ]
  },
  {
   "cell_type": "code",
   "execution_count": 71,
   "metadata": {},
   "outputs": [
    {
     "name": "stdout",
     "output_type": "stream",
     "text": [
      "mytest.dat already exists!\n"
     ]
    }
   ],
   "source": [
    "import os\n",
    "import os.path as opath\n",
    "\n",
    "if opath.isfile('mytest.dat') is True:\n",
    "    print(\"mytest.dat already exists!\")\n",
    "else: \n",
    "    try:\n",
    "        outfile = open('mytest.dat','w')\n",
    "    except IOError:\n",
    "        print(\"File mytest.dat could not be opened!\")\n",
    "    outfile.close()\n",
    "    \n",
    "os.remove(\"mytest.dat\") #Uncomment this to get rid of mytest.dat!"
   ]
  },
  {
   "cell_type": "markdown",
   "metadata": {},
   "source": [
    "## Now it is your turn\n",
    "Read in `hip_small.csv` and write out a file `hip_bright.csv` where you only write out the stars where `V (mag)` column is less than 5."
   ]
  },
  {
   "cell_type": "code",
   "execution_count": 1,
   "metadata": {},
   "outputs": [
    {
     "data": {
      "text/plain": [
       "()"
      ]
     },
     "execution_count": 1,
     "metadata": {},
     "output_type": "execute_result"
    }
   ],
   "source": [
    "def main(infile_name, outfile_name):\n",
    "    try:\n",
    "        infile = open(infile_name,'r')\n",
    "    except IOError:\n",
    "        print(\"File {} could not be opened!\".format(infile_name))\n",
    "        return()\n",
    "    \n",
    "    try:\n",
    "        outfile = open(outfile_name,'w')\n",
    "    except IOError:\n",
    "        infile.close()\n",
    "        print(\"File {} could not be opened!\".format(outfile_name))\n",
    "        return()\n",
    "        \n",
    "    outfile.write(\"#HIP (Name), V (mag)\\n\")\n",
    "    for line in infile:\n",
    "        if line[0] == \"#\": continue\n",
    "        llist = line.split(',')\n",
    "        if float(llist[5]) < 5:\n",
    "            outfile.write(\"{},{}\\n\".format(llist[0], llist[5]))\n",
    "        \n",
    "    infile.close()\n",
    "    outfile.close()\n",
    "    return()   \n",
    "out= open(outfile.\n",
    ")    \n",
    "    \n",
    "inlocal = \"Homework1_data\\hip_small.csv\"   \n",
    "outlocal = \"Homework1_data\\hip_bright.csv\"\n",
    "main(inlocal, outlocal)"
   ]
  },
  {
   "cell_type": "markdown",
   "metadata": {},
   "source": [
    "How many non-header lines are there in hip_small.csv and hip_bright.csv?"
   ]
  },
  {
   "cell_type": "code",
   "execution_count": 70,
   "metadata": {},
   "outputs": [
    {
     "name": "stdout",
     "output_type": "stream",
     "text": [
      "13484\n",
      "719\n"
     ]
    }
   ],
   "source": [
    "def line_counter(filename):\n",
    "    try:\n",
    "        infile = open(filename,'r')\n",
    "    except IOError:\n",
    "        print(\"File {} could not be opened!\".format(filename))\n",
    "        return()\n",
    "    \n",
    "    count = 0\n",
    "    \n",
    "    for line in infile:\n",
    "        if line[0] == \"#\": continue\n",
    "        count += 1\n",
    "        \n",
    "    return(count)\n",
    "\n",
    "print(line_counter(inlocal))\n",
    "print(line_counter(outlocal))"
   ]
  },
  {
   "cell_type": "markdown",
   "metadata": {
    "collapsed": true
   },
   "source": [
    "# Time to complete\n",
    "How long did it take you to complete this homework?"
   ]
  },
  {
   "cell_type": "markdown",
   "metadata": {},
   "source": [
    "~ 1.5 hours"
   ]
  }
 ],
 "metadata": {
  "kernelspec": {
   "display_name": "Python 3",
   "language": "python",
   "name": "python3"
  },
  "language_info": {
   "codemirror_mode": {
    "name": "ipython",
    "version": 3
   },
   "file_extension": ".py",
   "mimetype": "text/x-python",
   "name": "python",
   "nbconvert_exporter": "python",
   "pygments_lexer": "ipython3",
   "version": "3.8.8"
  }
 },
 "nbformat": 4,
 "nbformat_minor": 1
}
