{
 "cells": [
  {
   "cell_type": "markdown",
   "metadata": {},
   "source": [
    "# PHXS 491_001: Observational Astronomy - Homework 2"
   ]
  },
  {
   "cell_type": "markdown",
   "metadata": {},
   "source": [
    "### Due Sep 14, 2020\n",
    "Remember to save your completed notebook as a PDF and upload to Brightspace under Assignments."
   ]
  },
  {
   "cell_type": "markdown",
   "metadata": {},
   "source": [
    "Name:"
   ]
  },
  {
   "cell_type": "markdown",
   "metadata": {},
   "source": [
    "# Part 1: Intro to Numpy\n",
    "The Numpy module is fundamental to almost all analysis tools that use Python. The power of Numpy is that it allows you to do math on whole arrays, and it does this math in C. This allows the operations to be very fast which is essential when dealing with large amounts of data. For more information see:\n",
    "* http://www.numpy.org\n",
    "\n",
    "* https://docs.scipy.org/doc/numpy-dev/user/quickstart.html"
   ]
  },
  {
   "cell_type": "markdown",
   "metadata": {},
   "source": [
    "## Python indices are \"zero-based\"\n",
    "\n",
    "* The center of the origin pixel is index 0\n",
    "* e.g. for a 2D array the origin pixel (lower-left) is [0, 0]\n",
    "\n",
    "### Comparisons to other languages/applications:\n",
    "\n",
    "* 0-based:  python, C, IDL\n",
    "* 1-based:  fortran, iraf, FITS WCS, SExtractor, ds9"
   ]
  },
  {
   "cell_type": "markdown",
   "metadata": {},
   "source": [
    "## Python arrays are stored in \"row-major\" order\n",
    "\n",
    "* for a 2D array, if x is the column index and y is the row index, then\n",
    "the array is indexed as **[y, x]**\n",
    "  * e.g. **data[y, x]**\n",
    "  * *x (column) is the fast array index and y (row) is the slow array index*\n",
    "* for a 3D array, index as e.g. **data[z, y, x]**"
   ]
  },
  {
   "cell_type": "markdown",
   "metadata": {},
   "source": [
    "## Numpy multidimensional array (ndarray):\n",
    "* an array of homogeneous elements (usually numbers), all of the same type\n",
    "* a memory-efficient container that provides fast numerical operations\n",
    "* designed for scientific computation (array-oriented computing)\n",
    "\n",
    "First you need to import the Numpy Module"
   ]
  },
  {
   "cell_type": "code",
   "execution_count": 1,
   "metadata": {},
   "outputs": [],
   "source": [
    "import numpy as np    # standard convention"
   ]
  },
  {
   "cell_type": "markdown",
   "metadata": {},
   "source": [
    "## How to create a Numpy Array\n",
    "You basically create a list and generate the numpy array from there."
   ]
  },
  {
   "cell_type": "code",
   "execution_count": 2,
   "metadata": {},
   "outputs": [
    {
     "name": "stdout",
     "output_type": "stream",
     "text": [
      "[0 1 2 3]\n",
      "<class 'numpy.ndarray'>\n"
     ]
    }
   ],
   "source": [
    "# define a 1D array of 4 elements\n",
    "a = np.array([0, 1, 2, 3])\n",
    "print(a)\n",
    "print(type(a))"
   ]
  },
  {
   "cell_type": "code",
   "execution_count": 3,
   "metadata": {},
   "outputs": [
    {
     "name": "stdout",
     "output_type": "stream",
     "text": [
      "[[0 1 2]\n",
      " [3 4 5]\n",
      " [6 7 8]]\n"
     ]
    }
   ],
   "source": [
    "# define a 2D (3x3) array\n",
    "b = np.array([[0, 1, 2], [3, 4, 5], [6, 7, 8]])\n",
    "print(b)"
   ]
  },
  {
   "cell_type": "markdown",
   "metadata": {},
   "source": [
    "## Arange\n",
    "Like `range()` `np.arrange()` produces a sequence of numbers. Unlike `range()` this is not a range object but rather a numpy array."
   ]
  },
  {
   "cell_type": "code",
   "execution_count": 4,
   "metadata": {},
   "outputs": [
    {
     "name": "stdout",
     "output_type": "stream",
     "text": [
      "[0 1 2 3 4 5 6 7 8 9]\n",
      "[2.  2.5 3.  3.5 4.  4.5]\n"
     ]
    }
   ],
   "source": [
    "c = np.arange(10)\n",
    "d = np.arange(2, 5, 0.5)  # start, stop (exclusive), step\n",
    "print(c)\n",
    "print(d)"
   ]
  },
  {
   "cell_type": "markdown",
   "metadata": {},
   "source": [
    "## Zeros\n",
    "np.zeros let's you create an empty numpy array of any size or dimension."
   ]
  },
  {
   "cell_type": "code",
   "execution_count": 5,
   "metadata": {},
   "outputs": [
    {
     "name": "stdout",
     "output_type": "stream",
     "text": [
      "[0. 0. 0.]\n"
     ]
    }
   ],
   "source": [
    "e = np.zeros(3)\n",
    "print(e)"
   ]
  },
  {
   "cell_type": "code",
   "execution_count": 6,
   "metadata": {},
   "outputs": [
    {
     "name": "stdout",
     "output_type": "stream",
     "text": [
      "[[0. 0. 0.]\n",
      " [0. 0. 0.]\n",
      " [0. 0. 0.]]\n"
     ]
    }
   ],
   "source": [
    "f = np.zeros((3, 3))\n",
    "print(f)"
   ]
  },
  {
   "cell_type": "markdown",
   "metadata": {},
   "source": [
    "## Array attributes\n",
    "Numpy arrays have a number of attributes that you can access to determine what kind of array it is."
   ]
  },
  {
   "cell_type": "code",
   "execution_count": 7,
   "metadata": {},
   "outputs": [
    {
     "name": "stdout",
     "output_type": "stream",
     "text": [
      "2\n",
      "6\n",
      "(2, 3)\n",
      "int32\n"
     ]
    }
   ],
   "source": [
    "a = np.array([[0, 1, 2], [3, 4, 5]])\n",
    "print(a.ndim) #How many dimensions\n",
    "print(a.size) #How many elements\n",
    "print(a.shape) #How are those elements arranged\n",
    "print(a.dtype) #What is the object type"
   ]
  },
  {
   "cell_type": "markdown",
   "metadata": {},
   "source": [
    "Create a string array of letters in alphabetical order with shape (3,4). What type is it? What size?, How many dimensions?"
   ]
  },
  {
   "cell_type": "code",
   "execution_count": 8,
   "metadata": {},
   "outputs": [
    {
     "name": "stdout",
     "output_type": "stream",
     "text": [
      "(3, 4)\n",
      "<U1\n",
      "12\n",
      "2\n"
     ]
    }
   ],
   "source": [
    "a = np.array([[\"a\",\"b\",\"c\",\"d\"], [\"e\",\"f\",\"g\",\"h\"], [\"i\",\"j\",\"k\",\"l\"]])\n",
    "print(a.shape) #How are those elements arranged\n",
    "print(a.dtype) #What is the object type\n",
    "print(a.size) #How many elements\n",
    "print(a.ndim) #How many dimensions"
   ]
  },
  {
   "cell_type": "markdown",
   "metadata": {},
   "source": [
    "## Basic Numpy Operations\n",
    "The most powerful thing about Numpy arrays is that opreations work *elementwise* and in C. So you can use a numpy array in an equation."
   ]
  },
  {
   "cell_type": "code",
   "execution_count": 9,
   "metadata": {},
   "outputs": [
    {
     "name": "stdout",
     "output_type": "stream",
     "text": [
      "a Matrix:\n",
      "[[0 1 2]\n",
      " [3 4 5]\n",
      " [6 7 8]]\n",
      "Addition:\n",
      "[[10 11 12]\n",
      " [13 14 15]\n",
      " [16 17 18]]\n",
      "Power:\n",
      "[[  0   1   8]\n",
      " [ 27  64 125]\n",
      " [216 343 512]]\n",
      "Equations:\n",
      "[[ 0  3  6]\n",
      " [ 9 12 15]\n",
      " [18 21 24]]\n",
      "Elementwise multiplication, not matrix multiplication\n",
      "[[ 0  1  4]\n",
      " [ 9 16 25]\n",
      " [36 49 64]]\n",
      "Matrix multiplication:\n",
      "[[ 15  18  21]\n",
      " [ 42  54  66]\n",
      " [ 69  90 111]]\n",
      "To Save memory you can do operations in place:\n",
      "[[ 0  3  6]\n",
      " [ 9 12 15]\n",
      " [18 21 24]]\n"
     ]
    }
   ],
   "source": [
    "print('a Matrix:')\n",
    "a = np.array([[0, 1, 2], [3, 4, 5], [6, 7, 8]])\n",
    "print(a)\n",
    "print('Addition:')\n",
    "print(a + 10)\n",
    "print('Power:')\n",
    "print(a ** 3)\n",
    "print('Equations:')\n",
    "print(a + (2 * a))\n",
    "print('Elementwise multiplication, not matrix multiplication')\n",
    "print(a * a )\n",
    "print('Matrix multiplication:')\n",
    "print(np.dot(a, a))\n",
    "# a.dot(a)   # shorthand for above\n",
    "print('To Save memory you can do operations in place:')\n",
    "a *= 3\n",
    "print(a)"
   ]
  },
  {
   "cell_type": "markdown",
   "metadata": {},
   "source": [
    "## Statistical Functions\n",
    "Numpy has many functions that can take a numpy array and return a statistical value. Things like sum, average, median, and standard deviation are built-in. You can often call these functions in two ways."
   ]
  },
  {
   "cell_type": "code",
   "execution_count": 10,
   "metadata": {},
   "outputs": [
    {
     "name": "stdout",
     "output_type": "stream",
     "text": [
      "108\n",
      "108\n",
      "12.0\n",
      "7.745966692414834\n"
     ]
    }
   ],
   "source": [
    "print(np.sum(a))\n",
    "print(a.sum())\n",
    "print(a.mean())\n",
    "print(a.std())"
   ]
  },
  {
   "cell_type": "markdown",
   "metadata": {},
   "source": [
    "## Mathematical Functions\n",
    "Whereas most of the function in the math module work only on single numbers. The same function exist in numpy, so that you can work on them all at the same time."
   ]
  },
  {
   "cell_type": "code",
   "execution_count": 11,
   "metadata": {},
   "outputs": [
    {
     "name": "stdout",
     "output_type": "stream",
     "text": [
      "[0 1 2 3 4]\n",
      "[ 1.          2.71828183  7.3890561  20.08553692 54.59815003]\n",
      "[0.         1.         1.41421356 1.73205081 2.        ]\n",
      "[ 0.          0.84147098  0.90929743  0.14112001 -0.7568025 ]\n"
     ]
    }
   ],
   "source": [
    "x = np.arange(5)\n",
    "print(x)\n",
    "print(np.exp(x))\n",
    "print(np.sqrt(x))\n",
    "print(np.sin(x))"
   ]
  },
  {
   "cell_type": "markdown",
   "metadata": {},
   "source": [
    "## Indexing and Slicing\n",
    "Numpy has a very powerful indexing and slicing abilities. It has the same indexing abiities as a Python sequence, but it also allows you to do boolean expressions to create new numpy arrays from old ones.\n",
    "\n",
    "Here are some of the standard indexing:"
   ]
  },
  {
   "cell_type": "code",
   "execution_count": 12,
   "metadata": {},
   "outputs": [
    {
     "name": "stdout",
     "output_type": "stream",
     "text": [
      "[  0   1   8  27  64 125 216 343 512 729]\n",
      "27\n",
      "729\n",
      "[ 27  64 125]\n"
     ]
    }
   ],
   "source": [
    "x = np.arange(10)**3\n",
    "print(x)\n",
    "print(x[3])\n",
    "print(x[-1])\n",
    "print(x[3:6])"
   ]
  },
  {
   "cell_type": "markdown",
   "metadata": {},
   "source": [
    "## Matrix Indexing\n",
    "Remember that matrices are row-major."
   ]
  },
  {
   "cell_type": "code",
   "execution_count": 13,
   "metadata": {},
   "outputs": [
    {
     "name": "stdout",
     "output_type": "stream",
     "text": [
      "[[0 1 2]\n",
      " [3 4 5]\n",
      " [6 7 8]]\n",
      "5\n"
     ]
    }
   ],
   "source": [
    "a = np.array([[0, 1, 2], [3, 4, 5], [6, 7, 8]])\n",
    "print(a)\n",
    "print(a[1,2])"
   ]
  },
  {
   "cell_type": "markdown",
   "metadata": {},
   "source": [
    "How would I index the element that contains the number 8?"
   ]
  },
  {
   "cell_type": "code",
   "execution_count": 14,
   "metadata": {},
   "outputs": [
    {
     "name": "stdout",
     "output_type": "stream",
     "text": [
      "8\n"
     ]
    }
   ],
   "source": [
    "print(a[2][2])"
   ]
  },
  {
   "cell_type": "markdown",
   "metadata": {},
   "source": [
    "## Here is the Fancy Indexing\n",
    "You can give numpy arrays indices in any order and they don't have to be continuous. You can also use boolean expressions to make mask arrays that effectively let you creat new numpy arrays from conditions placed on old ones."
   ]
  },
  {
   "cell_type": "code",
   "execution_count": 15,
   "metadata": {},
   "outputs": [
    {
     "name": "stdout",
     "output_type": "stream",
     "text": [
      "[125   8   1]\n",
      "[125   8   1]\n"
     ]
    }
   ],
   "source": [
    "idx = [5, 2, 1]\n",
    "print(x[idx])\n",
    "#A shorthand way\n",
    "print(x[[5,2,1]])"
   ]
  },
  {
   "cell_type": "code",
   "execution_count": 16,
   "metadata": {},
   "outputs": [
    {
     "name": "stdout",
     "output_type": "stream",
     "text": [
      "[False False False False False False False  True  True  True]\n",
      "[343 512 729]\n",
      "[343 512 729]\n"
     ]
    }
   ],
   "source": [
    "maskidx = (x > 300)\n",
    "print(maskidx)\n",
    "print(x[maskidx])\n",
    "#A shorthand way to do this\n",
    "print(x[(x>300)])"
   ]
  },
  {
   "cell_type": "code",
   "execution_count": 17,
   "metadata": {},
   "outputs": [
    {
     "name": "stdout",
     "output_type": "stream",
     "text": [
      "[ 64 125]\n",
      "[  0   1   8  27 216 343 512 729]\n"
     ]
    }
   ],
   "source": [
    "maskidx = ((x > 50) & (x < 200)) #Logical AND\n",
    "print(x[maskidx])\n",
    "maskidx = ((x < 50) | (x > 200)) #Logical OR\n",
    "print(x[maskidx])"
   ]
  },
  {
   "cell_type": "markdown",
   "metadata": {},
   "source": [
    "## Now it is your turn\n",
    "Use numpy to find the the y values for `x = [56, 62, 84, 16, 57, 73, 84, 27, 93, 42, 33, 17, 30, 72, 57, 53, 41, 13, 36, 79]` given a line of slope of 3 and y-intercept of -2."
   ]
  },
  {
   "cell_type": "code",
   "execution_count": 18,
   "metadata": {},
   "outputs": [
    {
     "data": {
      "text/plain": [
       "array([166, 184, 250,  46, 169, 217, 250,  79, 277, 124,  97,  49,  88,\n",
       "       214, 169, 157, 121,  37, 106, 235])"
      ]
     },
     "execution_count": 18,
     "metadata": {},
     "output_type": "execute_result"
    }
   ],
   "source": [
    "x = np.array([56, 62, 84, 16, 57, 73, 84, 27, 93, 42, 33, 17, 30, 72, 57, 53, 41, 13, 36, 79])\n",
    "y = 3*x -2\n",
    "y"
   ]
  },
  {
   "cell_type": "markdown",
   "metadata": {},
   "source": [
    "What is the average of the x array? What is the standard deviation?"
   ]
  },
  {
   "cell_type": "code",
   "execution_count": 19,
   "metadata": {},
   "outputs": [
    {
     "name": "stdout",
     "output_type": "stream",
     "text": [
      "x average: 51.25\n",
      "x std dev: 23.92\n"
     ]
    }
   ],
   "source": [
    "print(\"x average: {:.2f}\".format(np.mean(x)))\n",
    "print(\"x std dev: {:.2f}\".format(np.std(x)))"
   ]
  },
  {
   "cell_type": "markdown",
   "metadata": {},
   "source": [
    "What is the average and standard deviation of only those elements greater than 20, but less than 50?"
   ]
  },
  {
   "cell_type": "code",
   "execution_count": 20,
   "metadata": {},
   "outputs": [
    {
     "name": "stdout",
     "output_type": "stream",
     "text": [
      "x' average: 34.83\n",
      "x' std dev: 5.46\n"
     ]
    }
   ],
   "source": [
    "x1 = x[(x > 20) & (x < 50)]\n",
    "print(\"x' average: {:.2f}\".format(np.mean(x1)))\n",
    "print(\"x' std dev: {:.2f}\".format(np.std(x1)))"
   ]
  },
  {
   "cell_type": "markdown",
   "metadata": {},
   "source": [
    "# Part 2: Astropy Units and Quantities"
   ]
  },
  {
   "cell_type": "markdown",
   "metadata": {},
   "source": [
    "This portion is based on a notebook given at the Astropy Session at th American Astronomical Society.\n",
    "\n",
    "The Astropy module includes a powerful framework for units that allows users to attach units to scalars and arrays.  These quantities can be manipulated or combined, keeping track of the units.\n",
    "\n",
    "For more information about the features presented below, please see the\n",
    "[astropy.units](http://docs.astropy.org/en/stable/units/index.html) docs."
   ]
  },
  {
   "cell_type": "markdown",
   "metadata": {},
   "source": [
    "## Representing units and quantities"
   ]
  },
  {
   "cell_type": "markdown",
   "metadata": {},
   "source": [
    "Because we may want to use units in many expressions, it is easiest and\n",
    "most concise to import the units module with:"
   ]
  },
  {
   "cell_type": "code",
   "execution_count": 21,
   "metadata": {},
   "outputs": [],
   "source": [
    "import astropy.units as u"
   ]
  },
  {
   "cell_type": "markdown",
   "metadata": {},
   "source": [
    "However, note that this will conflict with any variable called ``u``.\n",
    "\n",
    "Units can then be accessed as u.\"unit\", e.g.:"
   ]
  },
  {
   "cell_type": "code",
   "execution_count": 22,
   "metadata": {},
   "outputs": [
    {
     "data": {
      "text/latex": [
       "$\\mathrm{m}$"
      ],
      "text/plain": [
       "Unit(\"m\")"
      ]
     },
     "execution_count": 22,
     "metadata": {},
     "output_type": "execute_result"
    }
   ],
   "source": [
    "u.m"
   ]
  },
  {
   "cell_type": "markdown",
   "metadata": {},
   "source": [
    "Units have docstrings defining them:"
   ]
  },
  {
   "cell_type": "code",
   "execution_count": 23,
   "metadata": {},
   "outputs": [
    {
     "data": {
      "text/plain": [
       "'meter: base unit of length in SI'"
      ]
     },
     "execution_count": 23,
     "metadata": {},
     "output_type": "execute_result"
    }
   ],
   "source": [
    "u.m.__doc__"
   ]
  },
  {
   "cell_type": "markdown",
   "metadata": {},
   "source": [
    "and a physical type:"
   ]
  },
  {
   "cell_type": "code",
   "execution_count": 24,
   "metadata": {},
   "outputs": [
    {
     "data": {
      "text/plain": [
       "'length'"
      ]
     },
     "execution_count": 24,
     "metadata": {},
     "output_type": "execute_result"
    }
   ],
   "source": [
    "u.m.physical_type"
   ]
  },
  {
   "cell_type": "code",
   "execution_count": 25,
   "metadata": {},
   "outputs": [
    {
     "data": {
      "text/plain": [
       "'parsec: approximately 3.26 light-years.'"
      ]
     },
     "execution_count": 25,
     "metadata": {},
     "output_type": "execute_result"
    }
   ],
   "source": [
    "u.pc.__doc__"
   ]
  },
  {
   "cell_type": "code",
   "execution_count": 26,
   "metadata": {},
   "outputs": [
    {
     "data": {
      "text/plain": [
       "'time'"
      ]
     },
     "execution_count": 26,
     "metadata": {},
     "output_type": "execute_result"
    }
   ],
   "source": [
    "u.s.physical_type"
   ]
  },
  {
   "cell_type": "markdown",
   "metadata": {},
   "source": [
    "Please see the complete list of [available units](https://astropy.readthedocs.org/en/stable/units/index.html#module-astropy.units.si)."
   ]
  },
  {
   "cell_type": "markdown",
   "metadata": {},
   "source": [
    "## Composite units"
   ]
  },
  {
   "cell_type": "markdown",
   "metadata": {},
   "source": [
    "Composite units are created using Python numeric operators, e.g. \"`*`\" (multiplication), \"`/`\" (division), and \"`**`\" (power)."
   ]
  },
  {
   "cell_type": "code",
   "execution_count": 27,
   "metadata": {},
   "outputs": [
    {
     "data": {
      "text/latex": [
       "$\\mathrm{\\frac{km}{s}}$"
      ],
      "text/plain": [
       "Unit(\"km / s\")"
      ]
     },
     "execution_count": 27,
     "metadata": {},
     "output_type": "execute_result"
    }
   ],
   "source": [
    "u.km / u.s"
   ]
  },
  {
   "cell_type": "code",
   "execution_count": 28,
   "metadata": {},
   "outputs": [
    {
     "data": {
      "text/latex": [
       "$\\mathrm{\\frac{mi}{h}}$"
      ],
      "text/plain": [
       "Unit(\"mi / h\")"
      ]
     },
     "execution_count": 28,
     "metadata": {},
     "output_type": "execute_result"
    }
   ],
   "source": [
    "u.imperial.mile / u.h"
   ]
  },
  {
   "cell_type": "code",
   "execution_count": 29,
   "metadata": {},
   "outputs": [
    {
     "data": {
      "text/latex": [
       "$\\mathrm{\\frac{Mpc\\,eV}{Gyr}}$"
      ],
      "text/plain": [
       "Unit(\"eV Mpc / Gyr\")"
      ]
     },
     "execution_count": 29,
     "metadata": {},
     "output_type": "execute_result"
    }
   ],
   "source": [
    "(u.eV * u.Mpc) / u.Gyr"
   ]
  },
  {
   "cell_type": "code",
   "execution_count": 30,
   "metadata": {},
   "outputs": [
    {
     "data": {
      "text/latex": [
       "$\\mathrm{cm^{3}}$"
      ],
      "text/plain": [
       "Unit(\"cm3\")"
      ]
     },
     "execution_count": 30,
     "metadata": {},
     "output_type": "execute_result"
    }
   ],
   "source": [
    "u.cm**3"
   ]
  },
  {
   "cell_type": "code",
   "execution_count": 31,
   "metadata": {},
   "outputs": [
    {
     "data": {
      "text/latex": [
       "$\\mathrm{\\frac{m}{kg\\,s^{2}}}$"
      ],
      "text/plain": [
       "Unit(\"m / (kg s2)\")"
      ]
     },
     "execution_count": 31,
     "metadata": {},
     "output_type": "execute_result"
    }
   ],
   "source": [
    "u.m / u.kg / u.s**2"
   ]
  },
  {
   "cell_type": "markdown",
   "metadata": {},
   "source": [
    "## ``Quantity`` objects\n",
    "The most useful feature of units is the ability to attach them to scalars or arrays, creating ``Quantity`` objects. The easiest way to create a `Quantity` object is simply by multiplying the value with its unit."
   ]
  },
  {
   "cell_type": "code",
   "execution_count": 32,
   "metadata": {},
   "outputs": [
    {
     "data": {
      "text/latex": [
       "$3 \\; \\mathrm{AU}$"
      ],
      "text/plain": [
       "<Quantity 3. AU>"
      ]
     },
     "execution_count": 32,
     "metadata": {},
     "output_type": "execute_result"
    }
   ],
   "source": [
    "3. * u.au"
   ]
  },
  {
   "cell_type": "markdown",
   "metadata": {},
   "source": [
    "A completely equivalent (but more verbose) way of doing the same thing is to use the `Quantity` object's initializer, demonstrated below.  In general, the simpler form (above) is preferred, as it is closer to how such a quantity would actually be written in text.  The initalizer form has more options, though, which you can learn about from the [astropy reference documentation on Quantity](http://docs.astropy.org/en/stable/api/astropy.units.quantity.Quantity.html)."
   ]
  },
  {
   "cell_type": "code",
   "execution_count": 33,
   "metadata": {},
   "outputs": [
    {
     "data": {
      "text/latex": [
       "$3 \\; \\mathrm{AU}$"
      ],
      "text/plain": [
       "<Quantity 3. AU>"
      ]
     },
     "execution_count": 33,
     "metadata": {},
     "output_type": "execute_result"
    }
   ],
   "source": [
    "u.Quantity(3, unit=u.au)"
   ]
  },
  {
   "cell_type": "markdown",
   "metadata": {},
   "source": [
    "We can also generate a ``Quantity`` array:"
   ]
  },
  {
   "cell_type": "code",
   "execution_count": 34,
   "metadata": {},
   "outputs": [
    {
     "data": {
      "text/latex": [
       "$[1.2,~2.2,~1.7] \\; \\mathrm{\\frac{pc}{yr}}$"
      ],
      "text/plain": [
       "<Quantity [1.2, 2.2, 1.7] pc / yr>"
      ]
     },
     "execution_count": 34,
     "metadata": {},
     "output_type": "execute_result"
    }
   ],
   "source": [
    "import numpy as np\n",
    "x = np.array([1.2, 2.2, 1.7]) * u.pc / u.year\n",
    "x"
   ]
  },
  {
   "cell_type": "code",
   "execution_count": 35,
   "metadata": {},
   "outputs": [
    {
     "data": {
      "text/latex": [
       "$[3.6,~6.6,~5.1] \\; \\mathrm{\\frac{pc}{yr}}$"
      ],
      "text/plain": [
       "<Quantity [3.6, 6.6, 5.1] pc / yr>"
      ]
     },
     "execution_count": 35,
     "metadata": {},
     "output_type": "execute_result"
    }
   ],
   "source": [
    "x * 3"
   ]
  },
  {
   "cell_type": "markdown",
   "metadata": {},
   "source": [
    "## `Quantity` attributes"
   ]
  },
  {
   "cell_type": "markdown",
   "metadata": {},
   "source": [
    "The units and value of a `Quantity` can be accessed separately via the ``value`` and ``unit`` attributes:"
   ]
  },
  {
   "cell_type": "code",
   "execution_count": 36,
   "metadata": {},
   "outputs": [],
   "source": [
    "q = 5. * u.Mpc"
   ]
  },
  {
   "cell_type": "code",
   "execution_count": 37,
   "metadata": {},
   "outputs": [
    {
     "data": {
      "text/plain": [
       "5.0"
      ]
     },
     "execution_count": 37,
     "metadata": {},
     "output_type": "execute_result"
    }
   ],
   "source": [
    "q.value"
   ]
  },
  {
   "cell_type": "code",
   "execution_count": 38,
   "metadata": {},
   "outputs": [
    {
     "data": {
      "text/latex": [
       "$\\mathrm{Mpc}$"
      ],
      "text/plain": [
       "Unit(\"Mpc\")"
      ]
     },
     "execution_count": 38,
     "metadata": {},
     "output_type": "execute_result"
    }
   ],
   "source": [
    "q.unit"
   ]
  },
  {
   "cell_type": "code",
   "execution_count": 39,
   "metadata": {},
   "outputs": [
    {
     "name": "stdout",
     "output_type": "stream",
     "text": [
      "[1.2 2.2 1.7]\n",
      "pc / yr\n"
     ]
    }
   ],
   "source": [
    "x = np.array([1.2, 2.2, 1.7]) * u.pc / u.year\n",
    "print(x.value)\n",
    "print(x.unit)"
   ]
  },
  {
   "cell_type": "markdown",
   "metadata": {},
   "source": [
    "## Combining Quantities"
   ]
  },
  {
   "cell_type": "markdown",
   "metadata": {},
   "source": [
    "Quantities can also be combined using Python numeric operators:"
   ]
  },
  {
   "cell_type": "code",
   "execution_count": 40,
   "metadata": {},
   "outputs": [
    {
     "data": {
      "text/latex": [
       "$3 \\; \\mathrm{\\frac{m}{s}}$"
      ],
      "text/plain": [
       "<Quantity 3. m / s>"
      ]
     },
     "execution_count": 40,
     "metadata": {},
     "output_type": "execute_result"
    }
   ],
   "source": [
    "q1 = 3. * u.m / u.s\n",
    "q1"
   ]
  },
  {
   "cell_type": "code",
   "execution_count": 41,
   "metadata": {},
   "outputs": [
    {
     "data": {
      "text/latex": [
       "$5 \\; \\mathrm{\\frac{cm}{s\\,g^{2}}}$"
      ],
      "text/plain": [
       "<Quantity 5. cm / (g2 s)>"
      ]
     },
     "execution_count": 41,
     "metadata": {},
     "output_type": "execute_result"
    }
   ],
   "source": [
    "q2 = 5. * u.cm / u.s / u.g**2\n",
    "q2"
   ]
  },
  {
   "cell_type": "code",
   "execution_count": 42,
   "metadata": {},
   "outputs": [
    {
     "data": {
      "text/latex": [
       "$15 \\; \\mathrm{\\frac{cm\\,m}{g^{2}\\,s^{2}}}$"
      ],
      "text/plain": [
       "<Quantity 15. cm m / (g2 s2)>"
      ]
     },
     "execution_count": 42,
     "metadata": {},
     "output_type": "execute_result"
    }
   ],
   "source": [
    "q1 * q2"
   ]
  },
  {
   "cell_type": "code",
   "execution_count": 43,
   "metadata": {},
   "outputs": [
    {
     "data": {
      "text/latex": [
       "$0.6 \\; \\mathrm{\\frac{g^{2}\\,m}{cm}}$"
      ],
      "text/plain": [
       "<Quantity 0.6 g2 m / cm>"
      ]
     },
     "execution_count": 43,
     "metadata": {},
     "output_type": "execute_result"
    }
   ],
   "source": [
    "q1 / q2"
   ]
  },
  {
   "cell_type": "code",
   "execution_count": 44,
   "metadata": {},
   "outputs": [
    {
     "data": {
      "text/latex": [
       "$9 \\; \\mathrm{\\frac{m^{2}}{s^{2}}}$"
      ],
      "text/plain": [
       "<Quantity 9. m2 / s2>"
      ]
     },
     "execution_count": 44,
     "metadata": {},
     "output_type": "execute_result"
    }
   ],
   "source": [
    "q1 ** 2"
   ]
  },
  {
   "cell_type": "markdown",
   "metadata": {},
   "source": [
    "Addition and subtraction require compatible unit types:"
   ]
  },
  {
   "cell_type": "code",
   "execution_count": 45,
   "metadata": {},
   "outputs": [
    {
     "data": {
      "text/latex": [
       "$8 \\; \\mathrm{m}$"
      ],
      "text/plain": [
       "<Quantity 8. m>"
      ]
     },
     "execution_count": 45,
     "metadata": {},
     "output_type": "execute_result"
    }
   ],
   "source": [
    "q1 = 3 * u.m\n",
    "q1 + (5 * u.m)"
   ]
  },
  {
   "cell_type": "code",
   "execution_count": 46,
   "metadata": {},
   "outputs": [
    {
     "data": {
      "text/latex": [
       "$1.5428388 \\times 10^{20} \\; \\mathrm{m}$"
      ],
      "text/plain": [
       "<Quantity 1.54283879e+20 m>"
      ]
     },
     "execution_count": 46,
     "metadata": {},
     "output_type": "execute_result"
    }
   ],
   "source": [
    "q1 + (5. * u.kpc)"
   ]
  },
  {
   "cell_type": "code",
   "execution_count": 47,
   "metadata": {
    "scrolled": true
   },
   "outputs": [
    {
     "data": {
      "text/latex": [
       "$10003 \\; \\mathrm{m}$"
      ],
      "text/plain": [
       "<Quantity 10003. m>"
      ]
     },
     "execution_count": 47,
     "metadata": {},
     "output_type": "execute_result"
    }
   ],
   "source": [
    "q1 + (10. * u.km)"
   ]
  },
  {
   "cell_type": "markdown",
   "metadata": {},
   "source": [
    "## Coverting units"
   ]
  },
  {
   "cell_type": "code",
   "execution_count": 48,
   "metadata": {},
   "outputs": [
    {
     "data": {
      "text/latex": [
       "$78894000 \\; \\mathrm{s}$"
      ],
      "text/plain": [
       "<Quantity 78894000. s>"
      ]
     },
     "execution_count": 48,
     "metadata": {},
     "output_type": "execute_result"
    }
   ],
   "source": [
    "(2.5 * u.year).to(u.s)"
   ]
  },
  {
   "cell_type": "code",
   "execution_count": 49,
   "metadata": {},
   "outputs": [
    {
     "data": {
      "text/latex": [
       "$0.0021323219 \\; \\mathrm{sr}$"
      ],
      "text/plain": [
       "<Quantity 0.00213232 sr>"
      ]
     },
     "execution_count": 49,
     "metadata": {},
     "output_type": "execute_result"
    }
   ],
   "source": [
    "(7. * u.deg**2).to(u.sr)"
   ]
  },
  {
   "cell_type": "code",
   "execution_count": 50,
   "metadata": {},
   "outputs": [
    {
     "data": {
      "text/latex": [
       "$2.0053761 \\times 10^{-11} \\; \\mathrm{AU}$"
      ],
      "text/plain": [
       "<Quantity 2.00537614e-11 AU>"
      ]
     },
     "execution_count": 50,
     "metadata": {},
     "output_type": "execute_result"
    }
   ],
   "source": [
    "q1.to(u.au)"
   ]
  },
  {
   "cell_type": "code",
   "execution_count": 51,
   "metadata": {},
   "outputs": [
    {
     "data": {
      "text/latex": [
       "$88.51392 \\; \\mathrm{\\frac{km}{h}}$"
      ],
      "text/plain": [
       "<Quantity 88.51392 km / h>"
      ]
     },
     "execution_count": 51,
     "metadata": {},
     "output_type": "execute_result"
    }
   ],
   "source": [
    "(55. * u.imperial.mile / u.h).to(u.km / u.h)"
   ]
  },
  {
   "cell_type": "code",
   "execution_count": 52,
   "metadata": {},
   "outputs": [
    {
     "data": {
      "text/latex": [
       "$15 \\; \\mathrm{\\frac{cm\\,m}{s\\,g^{2}}}$"
      ],
      "text/plain": [
       "<Quantity 15. cm m / (g2 s)>"
      ]
     },
     "execution_count": 52,
     "metadata": {},
     "output_type": "execute_result"
    }
   ],
   "source": [
    "q1 * q2"
   ]
  },
  {
   "cell_type": "code",
   "execution_count": 53,
   "metadata": {},
   "outputs": [
    {
     "data": {
      "text/latex": [
       "$150000 \\; \\mathrm{\\frac{m^{2}}{s\\,kg^{2}}}$"
      ],
      "text/plain": [
       "<Quantity 150000. m2 / (kg2 s)>"
      ]
     },
     "execution_count": 53,
     "metadata": {},
     "output_type": "execute_result"
    }
   ],
   "source": [
    "(q1 * q2).to(u.m**2 / u.kg**2 / u.s)"
   ]
  },
  {
   "cell_type": "markdown",
   "metadata": {},
   "source": [
    "## Decomposing units"
   ]
  },
  {
   "cell_type": "markdown",
   "metadata": {},
   "source": [
    "The units of a quantity can be decomposed into a set of base units using the\n",
    "``decompose()`` method. By default, units will be decomposed to S.I.:"
   ]
  },
  {
   "cell_type": "code",
   "execution_count": 54,
   "metadata": {},
   "outputs": [
    {
     "data": {
      "text/latex": [
       "$3 \\; \\mathrm{\\frac{cm\\,pc}{g\\,yr^{2}}}$"
      ],
      "text/plain": [
       "<Quantity 3. cm pc / (g yr2)>"
      ]
     },
     "execution_count": 54,
     "metadata": {},
     "output_type": "execute_result"
    }
   ],
   "source": [
    "q = 3. * u.cm * u.pc / u.g / u.year**2\n",
    "q"
   ]
  },
  {
   "cell_type": "code",
   "execution_count": 55,
   "metadata": {},
   "outputs": [
    {
     "data": {
      "text/latex": [
       "$929.53097 \\; \\mathrm{\\frac{m^{2}}{kg\\,s^{2}}}$"
      ],
      "text/plain": [
       "<Quantity 929.53097353 m2 / (kg s2)>"
      ]
     },
     "execution_count": 55,
     "metadata": {},
     "output_type": "execute_result"
    }
   ],
   "source": [
    "q.decompose()"
   ]
  },
  {
   "cell_type": "markdown",
   "metadata": {},
   "source": [
    "To decompose into c.g.s. bases:"
   ]
  },
  {
   "cell_type": "code",
   "execution_count": 56,
   "metadata": {},
   "outputs": [
    {
     "data": {
      "text/latex": [
       "$9295.3097 \\; \\mathrm{\\frac{cm^{2}}{g\\,s^{2}}}$"
      ],
      "text/plain": [
       "<Quantity 9295.30973535 cm2 / (g s2)>"
      ]
     },
     "execution_count": 56,
     "metadata": {},
     "output_type": "execute_result"
    }
   ],
   "source": [
    "q.decompose(u.cgs.bases)"
   ]
  },
  {
   "cell_type": "code",
   "execution_count": 57,
   "metadata": {},
   "outputs": [
    {
     "data": {
      "text/plain": [
       "{Unit(\"K\"),\n",
       " Unit(\"cd\"),\n",
       " Unit(\"cm\"),\n",
       " Unit(\"g\"),\n",
       " Unit(\"mol\"),\n",
       " Unit(\"rad\"),\n",
       " Unit(\"s\")}"
      ]
     },
     "execution_count": 57,
     "metadata": {},
     "output_type": "execute_result"
    }
   ],
   "source": [
    "u.cgs.bases"
   ]
  },
  {
   "cell_type": "code",
   "execution_count": 58,
   "metadata": {},
   "outputs": [
    {
     "data": {
      "text/plain": [
       "{Unit(\"A\"),\n",
       " Unit(\"K\"),\n",
       " Unit(\"cd\"),\n",
       " Unit(\"kg\"),\n",
       " Unit(\"m\"),\n",
       " Unit(\"mol\"),\n",
       " Unit(\"rad\"),\n",
       " Unit(\"s\")}"
      ]
     },
     "execution_count": 58,
     "metadata": {},
     "output_type": "execute_result"
    }
   ],
   "source": [
    "u.si.bases"
   ]
  },
  {
   "cell_type": "markdown",
   "metadata": {},
   "source": [
    "## Using physical constants"
   ]
  },
  {
   "cell_type": "markdown",
   "metadata": {},
   "source": [
    "The [astropy.constants](http://docs.astropy.org/en/stable/constants/index.html) module contains physical constants relevant for astronomy.  They are defined as ``Quantity`` objects using the ``astropy.units`` framework."
   ]
  },
  {
   "cell_type": "code",
   "execution_count": 59,
   "metadata": {},
   "outputs": [
    {
     "data": {
      "text/latex": [
       "$6.6743 \\times 10^{-11} \\; \\mathrm{\\frac{m^{3}}{kg\\,s^{2}}}$"
      ],
      "text/plain": [
       "<<class 'astropy.constants.codata2018.CODATA2018'> name='Gravitational constant' value=6.6743e-11 uncertainty=1.5e-15 unit='m3 / (kg s2)' reference='CODATA 2018'>"
      ]
     },
     "execution_count": 59,
     "metadata": {},
     "output_type": "execute_result"
    }
   ],
   "source": [
    "from astropy.constants import G, c, R_earth\n",
    "G"
   ]
  },
  {
   "cell_type": "code",
   "execution_count": 60,
   "metadata": {},
   "outputs": [
    {
     "data": {
      "text/latex": [
       "$2.9979246 \\times 10^{8} \\; \\mathrm{\\frac{m}{s}}$"
      ],
      "text/plain": [
       "<<class 'astropy.constants.codata2018.CODATA2018'> name='Speed of light in vacuum' value=299792458.0 uncertainty=0.0 unit='m / s' reference='CODATA 2018'>"
      ]
     },
     "execution_count": 60,
     "metadata": {},
     "output_type": "execute_result"
    }
   ],
   "source": [
    "c"
   ]
  },
  {
   "cell_type": "code",
   "execution_count": 61,
   "metadata": {},
   "outputs": [
    {
     "data": {
      "text/latex": [
       "$6378100 \\; \\mathrm{m}$"
      ],
      "text/plain": [
       "<<class 'astropy.constants.iau2015.IAU2015'> name='Nominal Earth equatorial radius' value=6378100.0 uncertainty=0.0 unit='m' reference='IAU 2015 Resolution B 3'>"
      ]
     },
     "execution_count": 61,
     "metadata": {},
     "output_type": "execute_result"
    }
   ],
   "source": [
    "R_earth"
   ]
  },
  {
   "cell_type": "markdown",
   "metadata": {},
   "source": [
    "Constants are Quantities, thus they can be coverted to other units:"
   ]
  },
  {
   "cell_type": "code",
   "execution_count": 62,
   "metadata": {},
   "outputs": [
    {
     "data": {
      "text/latex": [
       "$6378.1 \\; \\mathrm{km}$"
      ],
      "text/plain": [
       "<Quantity 6378.1 km>"
      ]
     },
     "execution_count": 62,
     "metadata": {},
     "output_type": "execute_result"
    }
   ],
   "source": [
    "R_earth.to(u.km)"
   ]
  },
  {
   "cell_type": "markdown",
   "metadata": {},
   "source": [
    "Please see the complete list of [available physical constants](http://docs.astropy.org/en/stable/constants/index.html#module-astropy.constants).  Additions are welcome!"
   ]
  },
  {
   "cell_type": "markdown",
   "metadata": {},
   "source": [
    "## An example\n",
    "\n",
    "Kepler's law can be used to estimate the (circular) orbital speed of the Earth around the sun using:\n",
    "\n",
    "$$v = \\sqrt{\\frac{G M_{\\odot}}{r}}$$"
   ]
  },
  {
   "cell_type": "code",
   "execution_count": 63,
   "metadata": {},
   "outputs": [
    {
     "data": {
      "text/latex": [
       "$8.1696389 \\times 10^{-6} \\; \\mathrm{\\frac{m^{3/2}\\,M_{\\odot}^{1/2}}{AU^{1/2}\\,kg^{1/2}\\,s}}$"
      ],
      "text/plain": [
       "<Quantity 8.16963891e-06 m(3/2) solMass(1/2) / (AU(1/2) kg(1/2) s)>"
      ]
     },
     "execution_count": 63,
     "metadata": {},
     "output_type": "execute_result"
    }
   ],
   "source": [
    "v = np.sqrt(G * 1 * u.M_sun / (1 * u.au))\n",
    "v"
   ]
  },
  {
   "cell_type": "code",
   "execution_count": 64,
   "metadata": {},
   "outputs": [
    {
     "data": {
      "text/latex": [
       "$29784.692 \\; \\mathrm{\\frac{m}{s}}$"
      ],
      "text/plain": [
       "<Quantity 29784.69182968 m / s>"
      ]
     },
     "execution_count": 64,
     "metadata": {},
     "output_type": "execute_result"
    }
   ],
   "source": [
    "v.decompose()"
   ]
  },
  {
   "cell_type": "code",
   "execution_count": 65,
   "metadata": {},
   "outputs": [
    {
     "data": {
      "text/latex": [
       "$29.784692 \\; \\mathrm{\\frac{km}{s}}$"
      ],
      "text/plain": [
       "<Quantity 29.78469183 km / s>"
      ]
     },
     "execution_count": 65,
     "metadata": {},
     "output_type": "execute_result"
    }
   ],
   "source": [
    "v.to(u.km / u.s)"
   ]
  },
  {
   "cell_type": "markdown",
   "metadata": {},
   "source": [
    "## Exercise 1\n",
    "\n",
    "The *James Webb Space Telescope (JWST)* will be located at the second Sun-Earth Lagrange (L2) point.  L2 is located opposite the Sun at a distance from the Earth of approximately:\n",
    "\n",
    "$$ r \\approx R \\left(\\frac{M_{earth}}{3 M_{sun}}\\right) ^{(1/3)} $$\"\n",
    "\n",
    "where $R$ is the Sun-Earth distance. ![](l2graphic.jpg)\n",
    "\n",
    "Calculate the Earth-L2 distance in kilometers and miles:\n",
    "\n",
    "* *Hint*:  the mile unit is defined as ``u.imperial.mile`` (see [imperial units](http://docs.astropy.org/en/v0.2.1/units/index.html#module-astropy.units.imperial))"
   ]
  },
  {
   "cell_type": "code",
   "execution_count": 67,
   "metadata": {
    "slideshow": {
     "slide_type": "-"
    }
   },
   "outputs": [
    {
     "name": "stdout",
     "output_type": "stream",
     "text": [
      "1496558.48 km\n",
      "929918.33 mi\n"
     ]
    }
   ],
   "source": [
    "from astropy.constants import M_earth, M_sun, R_sun, R_earth, G\n",
    "r =  u.AU *(M_earth/(3*M_sun) )**(1/3)\n",
    "print(\"{:.2f}\".format(r.to(u.km)))\n",
    "print(\"{:.2f}\".format(r.to(u.imperial.mile)))"
   ]
  },
  {
   "cell_type": "markdown",
   "metadata": {},
   "source": [
    "## Exercise 2\n",
    "\n",
    "The L2 point is about 1.5 million kilometers away from the Earth opposite the Sun.\n",
    "The total mass of the *James Webb Space Telescope (JWST)* is about 6500 kg.\n",
    "\n",
    "Using the value you obtained above for the Earth-L2 distance, calculate the gravitational force in Newtons between \n",
    "\n",
    "* *JWST* (at L2) and the Earth\n",
    "* *JWST* (at L2) and the Sun\n",
    "\n",
    "*Hint*: the gravitational force between two masses separated by a distance *r* is:\n",
    "\n",
    "$$ F_g = \\frac{G m_1 m_2}{r^2} $$"
   ]
  },
  {
   "cell_type": "code",
   "execution_count": 68,
   "metadata": {},
   "outputs": [
    {
     "name": "stdout",
     "output_type": "stream",
     "text": [
      "1.16 N\n",
      "37.43 N\n"
     ]
    }
   ],
   "source": [
    "m1 = 6500 * u.kg\n",
    "F_earth = G * m1*M_earth /(r**2)\n",
    "F_sun = G*m1*M_sun/((1*u.AU + R_sun + 2*R_earth + r)**2)\n",
    "print(\"{:.2f}\".format(F_earth.to(u.N)))\n",
    "print(\"{:.2f}\".format(F_sun.to(u.N)))"
   ]
  },
  {
   "cell_type": "markdown",
   "metadata": {},
   "source": [
    "## Equivalencies\n",
    "\n",
    "Equivalencies can be used to convert quantities that are not strictly the same physical type."
   ]
  },
  {
   "cell_type": "code",
   "execution_count": 69,
   "metadata": {
    "scrolled": true
   },
   "outputs": [],
   "source": [
    "# this raises an error\n",
    "#(7. * u.cm).to(u.GHz)"
   ]
  },
  {
   "cell_type": "code",
   "execution_count": 70,
   "metadata": {},
   "outputs": [
    {
     "data": {
      "text/latex": [
       "$4.2827494 \\; \\mathrm{GHz}$"
      ],
      "text/plain": [
       "<Quantity 4.2827494 GHz>"
      ]
     },
     "execution_count": 70,
     "metadata": {},
     "output_type": "execute_result"
    }
   ],
   "source": [
    "# we need to use an equivalency (here spectral)\n",
    "(7. * u.cm).to(u.GHz, equivalencies=u.spectral())"
   ]
  },
  {
   "cell_type": "code",
   "execution_count": 71,
   "metadata": {},
   "outputs": [
    {
     "data": {
      "text/latex": [
       "$911.64852 \\; \\mathrm{\\mathring{A}}$"
      ],
      "text/plain": [
       "<Quantity 911.64851789 Angstrom>"
      ]
     },
     "execution_count": 71,
     "metadata": {},
     "output_type": "execute_result"
    }
   ],
   "source": [
    "(13.6 * u.eV).to(u.Angstrom, equivalencies=u.spectral())"
   ]
  },
  {
   "cell_type": "code",
   "execution_count": 72,
   "metadata": {},
   "outputs": [
    {
     "data": {
      "text/html": [
       "<table style=\"width:50%\"><tr><th>Primary name</th><th>Unit definition</th><th>Aliases</th></tr><tr><td>J</td><td>kg m2 / s2</td><td>Joule, joule</td></tr><tr><td>Ry</td><td>2.17987e-18 kg m2 / s2</td><td>rydberg</td></tr><tr><td>eV</td><td>1.60218e-19 kg m2 / s2</td><td>electronvolt</td></tr><tr><td>erg</td><td>1e-07 kg m2 / s2</td><td></td></tr></table>"
      ],
      "text/plain": [
       "  Primary name | Unit definition        | Aliases     \n",
       "[\n",
       "  J            | kg m2 / s2             | Joule, joule ,\n",
       "  Ry           | 2.17987e-18 kg m2 / s2 | rydberg      ,\n",
       "  eV           | 1.60218e-19 kg m2 / s2 | electronvolt ,\n",
       "  erg          | 1e-07 kg m2 / s2       |              ,\n",
       "]"
      ]
     },
     "execution_count": 72,
     "metadata": {},
     "output_type": "execute_result"
    }
   ],
   "source": [
    "u.eV.find_equivalent_units()"
   ]
  },
  {
   "cell_type": "code",
   "execution_count": 73,
   "metadata": {},
   "outputs": [
    {
     "data": {
      "text/html": [
       "<table style=\"width:50%\"><tr><th>Primary name</th><th>Unit definition</th><th>Aliases</th></tr><tr><td>Bq</td><td>1 / s</td><td>becquerel</td></tr><tr><td>Ci</td><td>3.7e+10 / s</td><td>curie</td></tr><tr><td>Hz</td><td>1 / s</td><td>Hertz, hertz</td></tr><tr><td>J</td><td>kg m2 / s2</td><td>Joule, joule</td></tr><tr><td>Ry</td><td>2.17987e-18 kg m2 / s2</td><td>rydberg</td></tr><tr><td>eV</td><td>1.60218e-19 kg m2 / s2</td><td>electronvolt</td></tr><tr><td>erg</td><td>1e-07 kg m2 / s2</td><td></td></tr><tr><td>k</td><td>100 / m</td><td>Kayser, kayser</td></tr><tr><td>m</td><td>irreducible</td><td>meter</td></tr></table>"
      ],
      "text/plain": [
       "  Primary name | Unit definition        | Aliases       \n",
       "[\n",
       "  Bq           | 1 / s                  | becquerel      ,\n",
       "  Ci           | 3.7e+10 / s            | curie          ,\n",
       "  Hz           | 1 / s                  | Hertz, hertz   ,\n",
       "  J            | kg m2 / s2             | Joule, joule   ,\n",
       "  Ry           | 2.17987e-18 kg m2 / s2 | rydberg        ,\n",
       "  eV           | 1.60218e-19 kg m2 / s2 | electronvolt   ,\n",
       "  erg          | 1e-07 kg m2 / s2       |                ,\n",
       "  k            | 100 / m                | Kayser, kayser ,\n",
       "  m            | irreducible            | meter          ,\n",
       "]"
      ]
     },
     "execution_count": 73,
     "metadata": {},
     "output_type": "execute_result"
    }
   ],
   "source": [
    "u.eV.find_equivalent_units(equivalencies=u.spectral())"
   ]
  },
  {
   "cell_type": "markdown",
   "metadata": {},
   "source": [
    "For spectral density equivalencies, it is necessary to supply the location in the spectrum where the conversion is done:"
   ]
  },
  {
   "cell_type": "code",
   "execution_count": 74,
   "metadata": {},
   "outputs": [
    {
     "data": {
      "text/latex": [
       "$1 \\times 10^{-18} \\; \\mathrm{\\frac{erg}{\\mathring{A}\\,s\\,cm^{2}}}$"
      ],
      "text/plain": [
       "<Quantity 1.e-18 erg / (Angstrom cm2 s)>"
      ]
     },
     "execution_count": 74,
     "metadata": {},
     "output_type": "execute_result"
    }
   ],
   "source": [
    "q = (1e-18 * u.erg / u.s / u.cm**2 / u.AA)\n",
    "q"
   ]
  },
  {
   "cell_type": "code",
   "execution_count": 75,
   "metadata": {},
   "outputs": [
    {
     "data": {
      "text/latex": [
       "$3.335641 \\; \\mathrm{\\mu Jy}$"
      ],
      "text/plain": [
       "<Quantity 3.33564095 uJy>"
      ]
     },
     "execution_count": 75,
     "metadata": {},
     "output_type": "execute_result"
    }
   ],
   "source": [
    "q.to(u.uJy, equivalencies=u.spectral_density(1. * u.um))"
   ]
  },
  {
   "cell_type": "markdown",
   "metadata": {},
   "source": [
    "## Integration with Numpy ufuncs"
   ]
  },
  {
   "cell_type": "markdown",
   "metadata": {},
   "source": [
    "Most of the [Numpy](http://www.numpy.org) functions understand `Quantity` objects:"
   ]
  },
  {
   "cell_type": "code",
   "execution_count": 76,
   "metadata": {},
   "outputs": [
    {
     "data": {
      "text/latex": [
       "$0.5 \\; \\mathrm{}$"
      ],
      "text/plain": [
       "<Quantity 0.5>"
      ]
     },
     "execution_count": 76,
     "metadata": {},
     "output_type": "execute_result"
    }
   ],
   "source": [
    "np.sin(30 * u.degree)"
   ]
  },
  {
   "cell_type": "code",
   "execution_count": 77,
   "metadata": {},
   "outputs": [
    {
     "data": {
      "text/latex": [
       "$100 \\; \\mathrm{km^{2}}$"
      ],
      "text/plain": [
       "<Quantity 100. km2>"
      ]
     },
     "execution_count": 77,
     "metadata": {},
     "output_type": "execute_result"
    }
   ],
   "source": [
    "q = 100 * u.km * u.km\n",
    "q"
   ]
  },
  {
   "cell_type": "code",
   "execution_count": 78,
   "metadata": {},
   "outputs": [
    {
     "data": {
      "text/latex": [
       "$10 \\; \\mathrm{km}$"
      ],
      "text/plain": [
       "<Quantity 10. km>"
      ]
     },
     "execution_count": 78,
     "metadata": {},
     "output_type": "execute_result"
    }
   ],
   "source": [
    "np.sqrt(q)"
   ]
  },
  {
   "cell_type": "code",
   "execution_count": 79,
   "metadata": {},
   "outputs": [
    {
     "data": {
      "text/latex": [
       "$1.0010005 \\; \\mathrm{}$"
      ],
      "text/plain": [
       "<Quantity 1.0010005>"
      ]
     },
     "execution_count": 79,
     "metadata": {},
     "output_type": "execute_result"
    }
   ],
   "source": [
    "np.exp(3 * u.m / (3 * u.km))"
   ]
  },
  {
   "cell_type": "markdown",
   "metadata": {},
   "source": [
    "Care needs to be taken with dimensionless units.  Passing dimensionless values to an inverse trigonometric function gives a result without units:"
   ]
  },
  {
   "cell_type": "code",
   "execution_count": 80,
   "metadata": {},
   "outputs": [
    {
     "data": {
      "text/plain": [
       "1.5707963267948966"
      ]
     },
     "execution_count": 80,
     "metadata": {},
     "output_type": "execute_result"
    }
   ],
   "source": [
    "np.arcsin(1.0)"
   ]
  },
  {
   "cell_type": "markdown",
   "metadata": {},
   "source": [
    "`u.dimensionless_unscaled` creates a ``Quantity`` with a \"dimensionless unit\" and therefore gives a result *with* units:"
   ]
  },
  {
   "cell_type": "code",
   "execution_count": 81,
   "metadata": {},
   "outputs": [
    {
     "data": {
      "text/latex": [
       "$1.5707963 \\; \\mathrm{rad}$"
      ],
      "text/plain": [
       "<Quantity 1.57079633 rad>"
      ]
     },
     "execution_count": 81,
     "metadata": {},
     "output_type": "execute_result"
    }
   ],
   "source": [
    "np.arcsin(1.0 * u.dimensionless_unscaled)"
   ]
  },
  {
   "cell_type": "code",
   "execution_count": 82,
   "metadata": {},
   "outputs": [
    {
     "data": {
      "text/latex": [
       "$90 \\; \\mathrm{{}^{\\circ}}$"
      ],
      "text/plain": [
       "<Quantity 90. deg>"
      ]
     },
     "execution_count": 82,
     "metadata": {},
     "output_type": "execute_result"
    }
   ],
   "source": [
    "np.arcsin(1.0 * u.dimensionless_unscaled).to(u.degree)"
   ]
  },
  {
   "cell_type": "markdown",
   "metadata": {},
   "source": [
    "## Known issues"
   ]
  },
  {
   "cell_type": "markdown",
   "metadata": {},
   "source": [
    "Quantities lose their units with some Numpy operations, e.g.:\n",
    "\n",
    "* np.dot\n",
    "* np.hstack\n",
    "* np.vstack\n",
    "* np.where\n",
    "* np.choose\n",
    "* np.vectorize\n",
    "\n",
    "See [Quantity Known Issues](http://docs.astropy.org/en/stable/known_issues.html#quantities-lose-their-units-with-some-operations) for more details."
   ]
  },
  {
   "cell_type": "markdown",
   "metadata": {},
   "source": [
    "## Defining new units"
   ]
  },
  {
   "cell_type": "markdown",
   "metadata": {},
   "source": [
    "You can also define custom units for something that isn't built-in to astropy."
   ]
  },
  {
   "cell_type": "code",
   "execution_count": 83,
   "metadata": {},
   "outputs": [],
   "source": [
    "# fundamental unit\n",
    "chuckle = u.def_unit('chuckle')"
   ]
  },
  {
   "cell_type": "code",
   "execution_count": 84,
   "metadata": {},
   "outputs": [],
   "source": [
    "# compound unit\n",
    "laugh = u.def_unit('laugh', 4 * chuckle)"
   ]
  },
  {
   "cell_type": "code",
   "execution_count": 85,
   "metadata": {},
   "outputs": [
    {
     "data": {
      "text/latex": [
       "$12 \\; \\mathrm{chuckle}$"
      ],
      "text/plain": [
       "<Quantity 12. chuckle>"
      ]
     },
     "execution_count": 85,
     "metadata": {},
     "output_type": "execute_result"
    }
   ],
   "source": [
    "(3 * laugh).to(chuckle)"
   ]
  },
  {
   "cell_type": "code",
   "execution_count": 86,
   "metadata": {},
   "outputs": [],
   "source": [
    "bakers_fortnight = u.def_unit('bakers_fortnight', 13 * u.day)"
   ]
  },
  {
   "cell_type": "code",
   "execution_count": 87,
   "metadata": {},
   "outputs": [
    {
     "data": {
      "text/latex": [
       "$3369600 \\; \\mathrm{s}$"
      ],
      "text/plain": [
       "<Quantity 3369600. s>"
      ]
     },
     "execution_count": 87,
     "metadata": {},
     "output_type": "execute_result"
    }
   ],
   "source": [
    "(3 * bakers_fortnight).to(u.s)"
   ]
  },
  {
   "cell_type": "markdown",
   "metadata": {},
   "source": [
    "# Part 3: Working with Data Files\n",
    "In many kinds of research, we need to be able to read in and manipulate data. In this section we will look at different ways of reading in, writing out, and manipulating data files."
   ]
  },
  {
   "cell_type": "markdown",
   "metadata": {},
   "source": [
    "## The Standard Method\n",
    "As we saw previously we learned how to read in and write out a standard ascii file. In general we want to put data into numpy arrays, so that we can work with it. If we use a standard read in, that requires a lot of work on our part. When you want to create a new numpy array. It is computationally cheaper to create a list first and then create a numpy array."
   ]
  },
  {
   "cell_type": "code",
   "execution_count": 88,
   "metadata": {},
   "outputs": [],
   "source": [
    "#Get my imports dealt with\n",
    "import numpy as np\n",
    "import astropy.units as u"
   ]
  },
  {
   "cell_type": "code",
   "execution_count": 89,
   "metadata": {},
   "outputs": [
    {
     "name": "stdout",
     "output_type": "stream",
     "text": [
      "#HIP (Name),Ra (Degrees),Dec (Degrees),Plx (milliarcsec),B (mag),V (mag),err_Plx,err_B,err_V\n",
      "\n",
      "['7' '25' '34' '38' '47' '50' '54' '55' '57']\n",
      "[ 9.679  6.375  6.491  8.723 10.909  6.579 10.679  7.381  8.353]\n"
     ]
    }
   ],
   "source": [
    "try:\n",
    "    infile = open('Homework2_data/hip_tiny.csv','r')\n",
    "except IOError:\n",
    "    print(\"File hip_tiny.csv could not be opened!\")\n",
    "\n",
    "#Define lists\n",
    "name_list = list()\n",
    "vmag_list = list()\n",
    "    \n",
    "for line in infile:\n",
    "    #Check for header that begins with a # or are entirely blank\n",
    "    if line.startswith(\"#\") or line.isspace():\n",
    "        print(line) #Print the header\n",
    "        continue\n",
    "    llist = line.split(',')\n",
    "    name_list.append(llist[0])        #It is okay if the name is a string\n",
    "    vmag_list.append(float(llist[5])) #Remember Vmag should be a float\n",
    "\n",
    "infile.close()\n",
    "\n",
    "#Now convert to numpy arrays\n",
    "name_arr = np.array(name_list)\n",
    "vmag_arr = np.array(vmag_list)\n",
    "print(name_arr)\n",
    "print(vmag_arr)"
   ]
  },
  {
   "cell_type": "markdown",
   "metadata": {},
   "source": [
    "Create numpy arrays from hip_small.csv for RA and DEC called ra_arr and dec_arr. Print the Median of each."
   ]
  },
  {
   "cell_type": "code",
   "execution_count": 90,
   "metadata": {},
   "outputs": [
    {
     "name": "stdout",
     "output_type": "stream",
     "text": [
      "0.13519236\n",
      "-53.09766277\n"
     ]
    }
   ],
   "source": [
    "try:\n",
    "    infile = open('Homework2_data/hip_tiny.csv','r')\n",
    "except IOError:   \n",
    "    print(\"File hip_tiny.csv could not be opened!\")\n",
    "\n",
    "#Define lists\n",
    "ra_list = list()\n",
    "dec_list = list()\n",
    "    \n",
    "for line in infile:\n",
    "    #Check for header that begins with a # or are entirely blank\n",
    "    if line.startswith(\"#\") or line.isspace():continue\n",
    "    llist = line.split(',')\n",
    "    ra_list.append(float(llist[1]))      #It is okay if the name is a string\n",
    "    dec_list.append(float(llist[2])) #Remember Vmag should be a float\n",
    "\n",
    "infile.close()\n",
    "\n",
    "#Now convert to numpy arrays\n",
    "ra_arr = np.array(ra_list)\n",
    "dec_arr = np.array(dec_list)\n",
    "print(np.median(ra_arr))\n",
    "print(np.median(dec_arr))"
   ]
  },
  {
   "cell_type": "markdown",
   "metadata": {},
   "source": [
    "## The Numpy way\n",
    "Numpy has two built in functions for reading data files `np.loadtxt()` and `np.genfromtxt()`. Both work the same way, but `np.genfromtxt()` can handle missing data, so that is the one I generally use. These functions have several keywords for handling the data. The default column delimiter is whitespace, but we need to use commas, so we will set the *delimiter* keyword. Note the default data type is **float**."
   ]
  },
  {
   "cell_type": "code",
   "execution_count": 91,
   "metadata": {},
   "outputs": [
    {
     "name": "stdout",
     "output_type": "stream",
     "text": [
      "[[ 7.00000000e+00  2.25489100e-02  2.00366022e+01  1.77400000e+01\n",
      "   1.05420000e+01  9.67900000e+00  1.30000000e+00  3.90000000e-02\n",
      "   3.00000000e-02]\n",
      " [ 2.50000000e+01  7.93653700e-02 -4.42902974e+01  1.37400000e+01\n",
      "   7.23800000e+00  6.37500000e+00  9.80000000e-01  4.00000000e-03\n",
      "   3.00000000e-03]\n",
      " [ 3.40000000e+01  9.94697300e-02  2.69182382e+01  1.27100000e+01\n",
      "   7.04000000e+00  6.49100000e+00  7.40000000e-01  4.00000000e-03\n",
      "   4.00000000e-03]\n",
      " [ 3.80000000e+01  1.11046940e-01 -7.90618313e+01  2.38400000e+01\n",
      "   9.61400000e+00  8.72300000e+00  7.80000000e-01  1.60000000e-02\n",
      "   1.20000000e-02]\n",
      " [ 4.70000000e+01  1.35192360e-01 -5.68352477e+01  2.44500000e+01\n",
      "   1.21250000e+01  1.09090000e+01  1.97000000e+00  1.27000000e-01\n",
      "   7.20000000e-02]\n",
      " [ 5.00000000e+01  1.42870590e-01 -5.30976628e+01  1.68900000e+01\n",
      "   7.25600000e+00  6.57900000e+00  8.00000000e-01  4.00000000e-03\n",
      "   3.00000000e-03]\n",
      " [ 5.40000000e+01  1.51655580e-01  1.79689558e+01  2.09700000e+01\n",
      "   1.16850000e+01  1.06790000e+01  1.71000000e+00  1.02000000e-01\n",
      "   6.50000000e-02]\n",
      " [ 5.50000000e+01  1.57833230e-01 -6.66831034e+01  1.46600000e+01\n",
      "   7.94600000e+00  7.38100000e+00  9.80000000e-01  1.60000000e-02\n",
      "   1.50000000e-02]\n",
      " [ 5.70000000e+01  1.68285570e-01 -6.96758007e+01  3.38900000e+01\n",
      "   9.35300000e+00  8.35300000e+00  7.90000000e-01  1.30000000e-02\n",
      "   9.00000000e-03]]\n"
     ]
    }
   ],
   "source": [
    "#Load all the data into 2-d structured array\n",
    "data_2darr = np.genfromtxt('Homework2_data/hip_tiny.csv',delimiter=',')\n",
    "print(data_2darr)"
   ]
  },
  {
   "cell_type": "markdown",
   "metadata": {},
   "source": [
    "Oftentimes it is easier to work with a series of 1-d arrays, instead of one big 2-d array. We can work with 1-d arrays by setting the *unpack* keyword to True. We can also specify which columns we want using the *usecols* keyword."
   ]
  },
  {
   "cell_type": "code",
   "execution_count": 92,
   "metadata": {},
   "outputs": [
    {
     "name": "stdout",
     "output_type": "stream",
     "text": [
      "[ 7. 25. 34. 38. 47. 50. 54. 55. 57.]\n",
      "[ 9.679  6.375  6.491  8.723 10.909  6.579 10.679  7.381  8.353]\n"
     ]
    }
   ],
   "source": [
    "name_arr, vmag_arr = np.genfromtxt('Homework2_data/hip_tiny.csv',delimiter=',',usecols=(0,5),unpack=True)\n",
    "print(name_arr)\n",
    "print(vmag_arr)"
   ]
  },
  {
   "cell_type": "markdown",
   "metadata": {},
   "source": [
    "Create a numpy array using `np.genfromtxt` from hip_small.csv for Plx called plx_arr. Print the minimum value."
   ]
  },
  {
   "cell_type": "code",
   "execution_count": 119,
   "metadata": {},
   "outputs": [
    {
     "name": "stdout",
     "output_type": "stream",
     "text": [
      "0.458\n"
     ]
    }
   ],
   "source": [
    "pix_arr = np.genfromtxt('Homework2_data/hip_small.csv',delimiter=',',usecols=(4),unpack=True)\n",
    "print(np.min(pix_arr))"
   ]
  },
  {
   "cell_type": "markdown",
   "metadata": {},
   "source": [
    "If you want to use a 2d array for your data, you can go further and assign names to each column. This way you can access the data by name instead of by indexing."
   ]
  },
  {
   "cell_type": "code",
   "execution_count": 94,
   "metadata": {},
   "outputs": [
    {
     "name": "stdout",
     "output_type": "stream",
     "text": [
      "('HIP_Name', 'Ra_Degrees', 'Dec_Degrees', 'Plx_milliarcsec', 'B_mag', 'V_mag', 'err_Plx', 'err_B', 'err_V')\n",
      "[( 7., 0.02254891,  20.03660216, 17.74, 10.542,  9.679, 1.3 , 0.039, 0.03 )\n",
      " (25., 0.07936537, -44.29029741, 13.74,  7.238,  6.375, 0.98, 0.004, 0.003)\n",
      " (34., 0.09946973,  26.91823821, 12.71,  7.04 ,  6.491, 0.74, 0.004, 0.004)\n",
      " (38., 0.11104694, -79.06183133, 23.84,  9.614,  8.723, 0.78, 0.016, 0.012)\n",
      " (47., 0.13519236, -56.83524773, 24.45, 12.125, 10.909, 1.97, 0.127, 0.072)\n",
      " (50., 0.14287059, -53.09766277, 16.89,  7.256,  6.579, 0.8 , 0.004, 0.003)\n",
      " (54., 0.15165558,  17.96895579, 20.97, 11.685, 10.679, 1.71, 0.102, 0.065)\n",
      " (55., 0.15783323, -66.68310336, 14.66,  7.946,  7.381, 0.98, 0.016, 0.015)\n",
      " (57., 0.16828557, -69.67580068, 33.89,  9.353,  8.353, 0.79, 0.013, 0.009)]\n"
     ]
    }
   ],
   "source": [
    "data_2darr = np.genfromtxt('Homework2_data/hip_tiny.csv',delimiter=',',names=True)\n",
    "print(data_2darr.dtype.names)\n",
    "print(data_2darr)"
   ]
  },
  {
   "cell_type": "code",
   "execution_count": 95,
   "metadata": {},
   "outputs": [
    {
     "name": "stdout",
     "output_type": "stream",
     "text": [
      "[0.02254891 0.07936537 0.09946973 0.11104694 0.13519236 0.14287059\n",
      " 0.15165558 0.15783323 0.16828557]\n"
     ]
    }
   ],
   "source": [
    "print(data_2darr['Ra_Degrees'])"
   ]
  },
  {
   "cell_type": "markdown",
   "metadata": {},
   "source": [
    "## Astropy Tables\n",
    "The **astropy.table** is a module of astropy. This module provides methods for a new object type called Table. Table objects are very useful for working with large amounts of data with many columns. For instance, we can do all of the above with astropy Tables, and it is able to read from more than just text files. For more information see [the Astropy documentation for table module](http://docs.astropy.org/en/stable/table/)"
   ]
  },
  {
   "cell_type": "code",
   "execution_count": 96,
   "metadata": {},
   "outputs": [],
   "source": [
    "from astropy.table import Table #Import in the Astropy object"
   ]
  },
  {
   "cell_type": "markdown",
   "metadata": {},
   "source": [
    "The `Table.read()` method is a very easy way to read in information. It also automatically populates headers."
   ]
  },
  {
   "cell_type": "code",
   "execution_count": 97,
   "metadata": {},
   "outputs": [
    {
     "name": "stdout",
     "output_type": "stream",
     "text": [
      "#HIP (Name) Ra (Degrees) Dec (Degrees) Plx (milliarcsec) ... err_Plx err_B err_V\n",
      "----------- ------------ ------------- ----------------- ... ------- ----- -----\n",
      "          7   0.02254891   20.03660216             17.74 ...     1.3 0.039  0.03\n",
      "         25   0.07936537  -44.29029741             13.74 ...    0.98 0.004 0.003\n",
      "         34   0.09946973   26.91823821             12.71 ...    0.74 0.004 0.004\n",
      "         38   0.11104694  -79.06183133             23.84 ...    0.78 0.016 0.012\n",
      "         47   0.13519236  -56.83524773             24.45 ...    1.97 0.127 0.072\n",
      "         50   0.14287059  -53.09766277             16.89 ...     0.8 0.004 0.003\n",
      "         54   0.15165558   17.96895579             20.97 ...    1.71 0.102 0.065\n",
      "         55   0.15783323  -66.68310336             14.66 ...    0.98 0.016 0.015\n",
      "         57   0.16828557  -69.67580068             33.89 ...    0.79 0.013 0.009\n",
      "         58   0.17376341   62.17600484             26.06 ...    0.67 0.006 0.005\n",
      "        ...          ...           ...               ... ...     ...   ...   ...\n",
      "       3913  12.56074991  -31.33255899             14.41 ...    1.77 0.108 0.053\n",
      "       3924  12.60079553  -64.06781229             18.41 ...    0.79 0.009 0.008\n",
      "       3930  12.61379631   59.50273074             21.34 ...    1.66  0.06 0.035\n",
      "       3949  12.67136689  -50.98692422             13.06 ...    0.59 0.003 0.003\n",
      "       3961  12.71847773  -71.15152645             25.74 ...    0.62 0.005 0.006\n",
      "       3965  12.73860936   51.50803371              15.0 ...    0.72 0.003 0.003\n",
      "       3979  12.79456039   -5.03898875             45.27 ...    0.97 0.014  0.01\n",
      "       3998  12.84050486    18.7399011             45.71 ...    1.66 0.062 0.028\n",
      "       3999  12.84198032  -38.52874769             19.09 ...    0.92 0.007 0.007\n",
      "       4003  12.85054069  -78.64368714             16.93 ...    1.06 0.048 0.029\n",
      "       4005  12.85403677   32.65728762             18.78 ...    0.88  0.01 0.009\n",
      "Length = 500 rows\n"
     ]
    }
   ],
   "source": [
    "mytable = Table.read('Homework2_data/hip_smaller.csv')\n",
    "print(mytable) #Tables are smart enough to show you only the first and last few columns"
   ]
  },
  {
   "cell_type": "markdown",
   "metadata": {},
   "source": [
    "For smaller datasets, you can have direct data access to search and page through the data. **Be Careful: Large datasets can overwhelm your notebook kernel!**"
   ]
  },
  {
   "cell_type": "code",
   "execution_count": 1,
   "metadata": {
    "scrolled": true
   },
   "outputs": [],
   "source": [
    "#mytable.show_in_notebook() #Only use for relatively small tables"
   ]
  },
  {
   "cell_type": "markdown",
   "metadata": {},
   "source": [
    "## Reading Data\n",
    "Astropy tables can read/write many different formats: http://docs.astropy.org/en/stable/io/unified.html#built-in-table-readers-writers. Sometimes,though, it needs help."
   ]
  },
  {
   "cell_type": "markdown",
   "metadata": {},
   "source": [
    "We can do a quick check that we succeeded by using a Linux command `head`. `head` shows only the first ten lines of a file. We can access the linux command line by using `!`."
   ]
  },
  {
   "cell_type": "code",
   "execution_count": 99,
   "metadata": {},
   "outputs": [
    {
     "name": "stderr",
     "output_type": "stream",
     "text": [
      "'head' is not recognized as an internal or external command,\n",
      "operable program or batch file.\n"
     ]
    }
   ],
   "source": [
    "#Show the contents of hip_prob.txt\n",
    "!head hip_prob.txt"
   ]
  },
  {
   "cell_type": "code",
   "execution_count": 100,
   "metadata": {},
   "outputs": [],
   "source": [
    "#prob_tab = Table.read('Homework2_data/hip_prob.txt')"
   ]
  },
  {
   "cell_type": "code",
   "execution_count": 101,
   "metadata": {},
   "outputs": [
    {
     "name": "stdout",
     "output_type": "stream",
     "text": [
      "HIP(Name) Ra(Degrees) Dec(Degrees) Plx(milliarcsec) ... err_Plx err_B err_V\n",
      "--------- ----------- ------------ ---------------- ... ------- ----- -----\n",
      "        7  0.02254891  20.03660216            17.74 ...     1.3 0.039  0.03\n",
      "       25  0.07936537 -44.29029741            13.74 ...    0.98 0.004 0.003\n",
      "       34  0.09946973  26.91823821            12.71 ...    0.74 0.004 0.004\n",
      "       38  0.11104694 -79.06183133            23.84 ...    0.78 0.016 0.012\n",
      "       47  0.13519236 -56.83524773            24.45 ...    1.97 0.127 0.072\n",
      "       50  0.14287059 -53.09766277            16.89 ...     0.8 0.004 0.003\n",
      "       54  0.15165558  17.96895579            20.97 ...    1.71 0.102 0.065\n",
      "       55  0.15783323 -66.68310336            14.66 ...    0.98 0.016 0.015\n",
      "       57  0.16828557 -69.67580068            33.89 ...    0.79 0.013 0.009\n"
     ]
    }
   ],
   "source": [
    "#Let's give it some help and suggest a format\n",
    "prob_tab = Table.read('Homework2_data/hip_prob.txt',format='ascii')\n",
    "print(prob_tab)"
   ]
  },
  {
   "cell_type": "markdown",
   "metadata": {},
   "source": [
    "**Additional note:** Be sure that the number of header columns matches your data. Also no two column names can repeat or it will not read, and the error messages will be **unhelpful**!"
   ]
  },
  {
   "cell_type": "markdown",
   "metadata": {},
   "source": [
    "## Accessing data in an Astropy Table\n",
    "Let's learn how to get useful information about our table."
   ]
  },
  {
   "cell_type": "code",
   "execution_count": 102,
   "metadata": {},
   "outputs": [
    {
     "name": "stdout",
     "output_type": "stream",
     "text": [
      "<Table length=500>\r\n",
      "       name        dtype \r\n",
      "----------------- -------\r\n",
      "      #HIP (Name)   int32\r\n",
      "     Ra (Degrees) float64\r\n",
      "    Dec (Degrees) float64\r\n",
      "Plx (milliarcsec) float64\r\n",
      "          B (mag) float64\r\n",
      "          V (mag) float64\r\n",
      "          err_Plx float64\r\n",
      "            err_B float64\r\n",
      "            err_V float64\r\n"
     ]
    }
   ],
   "source": [
    "#Get basic info about our table including how long it is and column names\n",
    "mytable.info()"
   ]
  },
  {
   "cell_type": "code",
   "execution_count": 103,
   "metadata": {},
   "outputs": [
    {
     "name": "stdout",
     "output_type": "stream",
     "text": [
      "<Table length=500>\r\n",
      "       name              mean               std             min          max    \r\n",
      "----------------- ----------------- ------------------- ------------ -----------\r\n",
      "      #HIP (Name)          2071.922  1182.2975885605113            7        4005\r\n",
      "     Ra (Degrees) 6.575637460659999   3.803082310082671   0.02254891 12.85403677\r\n",
      "    Dec (Degrees)     -7.0696758856  41.184198565035096 -85.89152517 86.78789828\r\n",
      "Plx (milliarcsec)          24.09856   21.74627579900522         12.5      280.27\r\n",
      "          B (mag)          8.825816  1.7860826481840082        2.003      13.066\r\n",
      "          V (mag)          8.040028  1.6099407228888898         2.05      11.817\r\n",
      "          err_Plx           1.15238  0.8222708407817948         0.47       17.24\r\n",
      "            err_B          0.028122 0.04979758142721391        0.002       0.508\r\n",
      "            err_V          0.017642 0.02414162040957483        0.002       0.292\r\n"
     ]
    }
   ],
   "source": [
    "#Get statistical information about each column\n",
    "mytable.info('stats')"
   ]
  },
  {
   "cell_type": "markdown",
   "metadata": {},
   "source": [
    "Let's access a single column. The columns of an astropy table are similar to numpy arrays, but they have a column name associated with them. You can transform the columns back into normal numpy arrays using `np.array()`."
   ]
  },
  {
   "cell_type": "code",
   "execution_count": 104,
   "metadata": {},
   "outputs": [
    {
     "name": "stdout",
     "output_type": "stream",
     "text": [
      "B (mag)\n",
      "-------\n",
      "  7.238\n",
      "   7.04\n",
      "     B (mag)      \n",
      "------------------\n",
      "0.8630000000000004\n",
      "0.5490000000000004\n",
      "Now in array form:\n",
      "[0.863 0.549]\n"
     ]
    }
   ],
   "source": [
    "#Access one column\n",
    "b_col = mytable['B (mag)']\n",
    "print(b_col[1:3])\n",
    "#Do math with two columns\n",
    "bminusv_col = mytable['B (mag)'] - mytable['V (mag)']\n",
    "print(bminusv_col[1:3])\n",
    "#Convert to a numpy array\n",
    "bminusv_array = np.array(bminusv_col)\n",
    "print(\"Now in array form:\")\n",
    "print(bminusv_array[1:3])"
   ]
  },
  {
   "cell_type": "markdown",
   "metadata": {},
   "source": [
    "You can also access individual rows, or list of indices"
   ]
  },
  {
   "cell_type": "code",
   "execution_count": 105,
   "metadata": {},
   "outputs": [
    {
     "name": "stdout",
     "output_type": "stream",
     "text": [
      "7.238\n",
      "B (mag)\n",
      "-------\n",
      "  7.238\n",
      "  9.614\n",
      " 11.685\n"
     ]
    }
   ],
   "source": [
    "bmag = mytable['B (mag)'][1]\n",
    "print(bmag)\n",
    "bmag_col = mytable['B (mag)'][[1,3,6]]\n",
    "print(bmag_col)"
   ]
  },
  {
   "cell_type": "markdown",
   "metadata": {},
   "source": [
    "The real power of an astropy table is that you can use the results in one column to select values in another column"
   ]
  },
  {
   "cell_type": "code",
   "execution_count": 106,
   "metadata": {},
   "outputs": [
    {
     "data": {
      "text/html": [
       "<i>Table length=227</i>\n",
       "<table id=\"table1415321449424\" class=\"table-striped table-bordered table-condensed\">\n",
       "<thead><tr><th>#HIP (Name)</th><th>Ra (Degrees)</th><th>Dec (Degrees)</th><th>Plx (milliarcsec)</th><th>B (mag)</th><th>V (mag)</th><th>err_Plx</th><th>err_B</th><th>err_V</th></tr></thead>\n",
       "<thead><tr><th>int32</th><th>float64</th><th>float64</th><th>float64</th><th>float64</th><th>float64</th><th>float64</th><th>float64</th><th>float64</th></tr></thead>\n",
       "<tr><td>25</td><td>0.07936537</td><td>-44.29029741</td><td>13.74</td><td>7.238</td><td>6.375</td><td>0.98</td><td>0.004</td><td>0.003</td></tr>\n",
       "<tr><td>34</td><td>0.09946973</td><td>26.91823821</td><td>12.71</td><td>7.04</td><td>6.491</td><td>0.74</td><td>0.004</td><td>0.004</td></tr>\n",
       "<tr><td>38</td><td>0.11104694</td><td>-79.06183133</td><td>23.84</td><td>9.614</td><td>8.723</td><td>0.78</td><td>0.016</td><td>0.012</td></tr>\n",
       "<tr><td>50</td><td>0.14287059</td><td>-53.09766277</td><td>16.89</td><td>7.256</td><td>6.579</td><td>0.8</td><td>0.004</td><td>0.003</td></tr>\n",
       "<tr><td>55</td><td>0.15783323</td><td>-66.68310336</td><td>14.66</td><td>7.946</td><td>7.381</td><td>0.98</td><td>0.016</td><td>0.015</td></tr>\n",
       "<tr><td>57</td><td>0.16828557</td><td>-69.67580068</td><td>33.89</td><td>9.353</td><td>8.353</td><td>0.79</td><td>0.013</td><td>0.009</td></tr>\n",
       "<tr><td>58</td><td>0.17376341</td><td>62.17600484</td><td>26.06</td><td>7.665</td><td>7.11</td><td>0.67</td><td>0.006</td><td>0.005</td></tr>\n",
       "<tr><td>122</td><td>0.39937928</td><td>-77.06529438</td><td>14.77</td><td>6.43</td><td>4.928</td><td>0.47</td><td>0.003</td><td>0.002</td></tr>\n",
       "<tr><td>128</td><td>0.41376473</td><td>73.61187664</td><td>15.2</td><td>6.74</td><td>6.521</td><td>0.63</td><td>0.004</td><td>0.004</td></tr>\n",
       "<tr><td>142</td><td>0.45374866</td><td>66.30600204</td><td>16.04</td><td>8.222</td><td>7.414</td><td>0.69</td><td>0.007</td><td>0.007</td></tr>\n",
       "<tr><td>...</td><td>...</td><td>...</td><td>...</td><td>...</td><td>...</td><td>...</td><td>...</td><td>...</td></tr>\n",
       "<tr><td>3834</td><td>12.3079102</td><td>-24.13652681</td><td>17.7</td><td>7.113</td><td>6.001</td><td>0.99</td><td>0.006</td><td>0.004</td></tr>\n",
       "<tr><td>3876</td><td>12.44099553</td><td>70.44899713</td><td>46.47</td><td>8.921</td><td>7.843</td><td>0.7</td><td>0.011</td><td>0.008</td></tr>\n",
       "<tr><td>3911</td><td>12.53815505</td><td>-83.7439717</td><td>16.94</td><td>8.563</td><td>8.012</td><td>0.61</td><td>0.01</td><td>0.009</td></tr>\n",
       "<tr><td>3924</td><td>12.60079553</td><td>-64.06781229</td><td>18.41</td><td>8.648</td><td>8.044</td><td>0.79</td><td>0.009</td><td>0.008</td></tr>\n",
       "<tr><td>3949</td><td>12.67136689</td><td>-50.98692422</td><td>13.06</td><td>5.67</td><td>5.273</td><td>0.59</td><td>0.003</td><td>0.003</td></tr>\n",
       "<tr><td>3961</td><td>12.71847773</td><td>-71.15152645</td><td>25.74</td><td>7.391</td><td>6.903</td><td>0.62</td><td>0.005</td><td>0.006</td></tr>\n",
       "<tr><td>3965</td><td>12.73860936</td><td>51.50803371</td><td>15.0</td><td>6.728</td><td>6.405</td><td>0.72</td><td>0.003</td><td>0.003</td></tr>\n",
       "<tr><td>3979</td><td>12.79456039</td><td>-5.03898875</td><td>45.27</td><td>7.805</td><td>7.056</td><td>0.97</td><td>0.014</td><td>0.01</td></tr>\n",
       "<tr><td>3999</td><td>12.84198032</td><td>-38.52874769</td><td>19.09</td><td>7.852</td><td>7.204</td><td>0.92</td><td>0.007</td><td>0.007</td></tr>\n",
       "<tr><td>4005</td><td>12.85403677</td><td>32.65728762</td><td>18.78</td><td>7.937</td><td>7.34</td><td>0.88</td><td>0.01</td><td>0.009</td></tr>\n",
       "</table>"
      ],
      "text/plain": [
       "<Table length=227>\n",
       "#HIP (Name) Ra (Degrees) Dec (Degrees) ... err_Plx  err_B   err_V \n",
       "   int32      float64       float64    ... float64 float64 float64\n",
       "----------- ------------ ------------- ... ------- ------- -------\n",
       "         25   0.07936537  -44.29029741 ...    0.98   0.004   0.003\n",
       "         34   0.09946973   26.91823821 ...    0.74   0.004   0.004\n",
       "         38   0.11104694  -79.06183133 ...    0.78   0.016   0.012\n",
       "         50   0.14287059  -53.09766277 ...     0.8   0.004   0.003\n",
       "         55   0.15783323  -66.68310336 ...    0.98   0.016   0.015\n",
       "         57   0.16828557  -69.67580068 ...    0.79   0.013   0.009\n",
       "         58   0.17376341   62.17600484 ...    0.67   0.006   0.005\n",
       "        122   0.39937928  -77.06529438 ...    0.47   0.003   0.002\n",
       "        128   0.41376473   73.61187664 ...    0.63   0.004   0.004\n",
       "        142   0.45374866   66.30600204 ...    0.69   0.007   0.007\n",
       "        ...          ...           ... ...     ...     ...     ...\n",
       "       3834   12.3079102  -24.13652681 ...    0.99   0.006   0.004\n",
       "       3876  12.44099553   70.44899713 ...     0.7   0.011   0.008\n",
       "       3911  12.53815505   -83.7439717 ...    0.61    0.01   0.009\n",
       "       3924  12.60079553  -64.06781229 ...    0.79   0.009   0.008\n",
       "       3949  12.67136689  -50.98692422 ...    0.59   0.003   0.003\n",
       "       3961  12.71847773  -71.15152645 ...    0.62   0.005   0.006\n",
       "       3965  12.73860936   51.50803371 ...    0.72   0.003   0.003\n",
       "       3979  12.79456039   -5.03898875 ...    0.97   0.014    0.01\n",
       "       3999  12.84198032  -38.52874769 ...    0.92   0.007   0.007\n",
       "       4005  12.85403677   32.65728762 ...    0.88    0.01   0.009"
      ]
     },
     "execution_count": 106,
     "metadata": {},
     "output_type": "execute_result"
    }
   ],
   "source": [
    "#Create a table with only stars less than err_Plx < 1\n",
    "new_tab = mytable[(mytable['err_Plx'] < 1)]\n",
    "new_tab"
   ]
  },
  {
   "cell_type": "markdown",
   "metadata": {},
   "source": [
    "You can also do complex selection using bitwise and (`&`) or bitwise or (`|`)"
   ]
  },
  {
   "cell_type": "code",
   "execution_count": 107,
   "metadata": {},
   "outputs": [
    {
     "data": {
      "text/html": [
       "<i>Table length=125</i>\n",
       "<table id=\"table1415321451584\" class=\"table-striped table-bordered table-condensed\">\n",
       "<thead><tr><th>#HIP (Name)</th><th>Ra (Degrees)</th><th>Dec (Degrees)</th><th>Plx (milliarcsec)</th><th>B (mag)</th><th>V (mag)</th><th>err_Plx</th><th>err_B</th><th>err_V</th></tr></thead>\n",
       "<thead><tr><th>int32</th><th>float64</th><th>float64</th><th>float64</th><th>float64</th><th>float64</th><th>float64</th><th>float64</th><th>float64</th></tr></thead>\n",
       "<tr><td>38</td><td>0.11104694</td><td>-79.06183133</td><td>23.84</td><td>9.614</td><td>8.723</td><td>0.78</td><td>0.016</td><td>0.012</td></tr>\n",
       "<tr><td>55</td><td>0.15783323</td><td>-66.68310336</td><td>14.66</td><td>7.946</td><td>7.381</td><td>0.98</td><td>0.016</td><td>0.015</td></tr>\n",
       "<tr><td>57</td><td>0.16828557</td><td>-69.67580068</td><td>33.89</td><td>9.353</td><td>8.353</td><td>0.79</td><td>0.013</td><td>0.009</td></tr>\n",
       "<tr><td>58</td><td>0.17376341</td><td>62.17600484</td><td>26.06</td><td>7.665</td><td>7.11</td><td>0.67</td><td>0.006</td><td>0.005</td></tr>\n",
       "<tr><td>142</td><td>0.45374866</td><td>66.30600204</td><td>16.04</td><td>8.222</td><td>7.414</td><td>0.69</td><td>0.007</td><td>0.007</td></tr>\n",
       "<tr><td>276</td><td>0.85791177</td><td>20.66591788</td><td>15.55</td><td>8.237</td><td>7.555</td><td>0.95</td><td>0.01</td><td>0.008</td></tr>\n",
       "<tr><td>277</td><td>0.85927886</td><td>-36.25120504</td><td>15.84</td><td>7.347</td><td>7.007</td><td>0.81</td><td>0.004</td><td>0.004</td></tr>\n",
       "<tr><td>293</td><td>0.91589999</td><td>-57.16443914</td><td>13.14</td><td>8.867</td><td>8.359</td><td>0.97</td><td>0.01</td><td>0.009</td></tr>\n",
       "<tr><td>305</td><td>0.97206281</td><td>-28.3937693</td><td>20.44</td><td>8.56</td><td>7.738</td><td>0.96</td><td>0.01</td><td>0.008</td></tr>\n",
       "<tr><td>308</td><td>0.98353978</td><td>14.37891704</td><td>13.9</td><td>7.445</td><td>7.126</td><td>0.84</td><td>0.005</td><td>0.006</td></tr>\n",
       "<tr><td>...</td><td>...</td><td>...</td><td>...</td><td>...</td><td>...</td><td>...</td><td>...</td><td>...</td></tr>\n",
       "<tr><td>3617</td><td>11.60149417</td><td>30.94279923</td><td>14.1</td><td>8.368</td><td>7.256</td><td>0.9</td><td>0.011</td><td>0.008</td></tr>\n",
       "<tr><td>3643</td><td>11.66149212</td><td>-36.03341734</td><td>17.2</td><td>9.296</td><td>8.683</td><td>0.99</td><td>0.015</td><td>0.013</td></tr>\n",
       "<tr><td>3704</td><td>11.87869685</td><td>-36.93934176</td><td>19.99</td><td>8.489</td><td>7.906</td><td>0.94</td><td>0.01</td><td>0.01</td></tr>\n",
       "<tr><td>3832</td><td>12.29936838</td><td>-53.7740789</td><td>19.48</td><td>8.138</td><td>7.628</td><td>0.76</td><td>0.007</td><td>0.006</td></tr>\n",
       "<tr><td>3876</td><td>12.44099553</td><td>70.44899713</td><td>46.47</td><td>8.921</td><td>7.843</td><td>0.7</td><td>0.011</td><td>0.008</td></tr>\n",
       "<tr><td>3911</td><td>12.53815505</td><td>-83.7439717</td><td>16.94</td><td>8.563</td><td>8.012</td><td>0.61</td><td>0.01</td><td>0.009</td></tr>\n",
       "<tr><td>3924</td><td>12.60079553</td><td>-64.06781229</td><td>18.41</td><td>8.648</td><td>8.044</td><td>0.79</td><td>0.009</td><td>0.008</td></tr>\n",
       "<tr><td>3979</td><td>12.79456039</td><td>-5.03898875</td><td>45.27</td><td>7.805</td><td>7.056</td><td>0.97</td><td>0.014</td><td>0.01</td></tr>\n",
       "<tr><td>3999</td><td>12.84198032</td><td>-38.52874769</td><td>19.09</td><td>7.852</td><td>7.204</td><td>0.92</td><td>0.007</td><td>0.007</td></tr>\n",
       "<tr><td>4005</td><td>12.85403677</td><td>32.65728762</td><td>18.78</td><td>7.937</td><td>7.34</td><td>0.88</td><td>0.01</td><td>0.009</td></tr>\n",
       "</table>"
      ],
      "text/plain": [
       "<Table length=125>\n",
       "#HIP (Name) Ra (Degrees) Dec (Degrees) ... err_Plx  err_B   err_V \n",
       "   int32      float64       float64    ... float64 float64 float64\n",
       "----------- ------------ ------------- ... ------- ------- -------\n",
       "         38   0.11104694  -79.06183133 ...    0.78   0.016   0.012\n",
       "         55   0.15783323  -66.68310336 ...    0.98   0.016   0.015\n",
       "         57   0.16828557  -69.67580068 ...    0.79   0.013   0.009\n",
       "         58   0.17376341   62.17600484 ...    0.67   0.006   0.005\n",
       "        142   0.45374866   66.30600204 ...    0.69   0.007   0.007\n",
       "        276   0.85791177   20.66591788 ...    0.95    0.01   0.008\n",
       "        277   0.85927886  -36.25120504 ...    0.81   0.004   0.004\n",
       "        293   0.91589999  -57.16443914 ...    0.97    0.01   0.009\n",
       "        305   0.97206281   -28.3937693 ...    0.96    0.01   0.008\n",
       "        308   0.98353978   14.37891704 ...    0.84   0.005   0.006\n",
       "        ...          ...           ... ...     ...     ...     ...\n",
       "       3617  11.60149417   30.94279923 ...     0.9   0.011   0.008\n",
       "       3643  11.66149212  -36.03341734 ...    0.99   0.015   0.013\n",
       "       3704  11.87869685  -36.93934176 ...    0.94    0.01    0.01\n",
       "       3832  12.29936838   -53.7740789 ...    0.76   0.007   0.006\n",
       "       3876  12.44099553   70.44899713 ...     0.7   0.011   0.008\n",
       "       3911  12.53815505   -83.7439717 ...    0.61    0.01   0.009\n",
       "       3924  12.60079553  -64.06781229 ...    0.79   0.009   0.008\n",
       "       3979  12.79456039   -5.03898875 ...    0.97   0.014    0.01\n",
       "       3999  12.84198032  -38.52874769 ...    0.92   0.007   0.007\n",
       "       4005  12.85403677   32.65728762 ...    0.88    0.01   0.009"
      ]
     },
     "execution_count": 107,
     "metadata": {},
     "output_type": "execute_result"
    }
   ],
   "source": [
    "#Select stars with Error in Parallax less than 1 and V Magnitude > 7\n",
    "new_tab2 = mytable[(mytable['err_Plx'] < 1) & (mytable['V (mag)'] > 7)]\n",
    "new_tab2"
   ]
  },
  {
   "cell_type": "markdown",
   "metadata": {},
   "source": [
    "You can also access individual columns"
   ]
  },
  {
   "cell_type": "code",
   "execution_count": 108,
   "metadata": {},
   "outputs": [
    {
     "name": "stdout",
     "output_type": "stream",
     "text": [
      "#HIP (Name)\n",
      "-----------\n",
      "         38\n",
      "         55\n",
      "         57\n",
      "         58\n",
      "        142\n"
     ]
    }
   ],
   "source": [
    "name_col = mytable['#HIP (Name)'][(mytable['err_Plx'] < 1) & (mytable['V (mag)'] > 7)]\n",
    "print(name_col[0:5])"
   ]
  },
  {
   "cell_type": "markdown",
   "metadata": {},
   "source": [
    "## Your Turn\n",
    "Print off only those stars that have an RA less than 5 and a Parallax less than 20"
   ]
  },
  {
   "cell_type": "code",
   "execution_count": 109,
   "metadata": {},
   "outputs": [
    {
     "data": {
      "text/html": [
       "&lt;Column name=&apos;#HIP (Name)&apos; dtype=&apos;int32&apos; length=100&gt;\n",
       "<table>\n",
       "<tr><td>7</td></tr>\n",
       "<tr><td>25</td></tr>\n",
       "<tr><td>34</td></tr>\n",
       "<tr><td>50</td></tr>\n",
       "<tr><td>55</td></tr>\n",
       "<tr><td>80</td></tr>\n",
       "<tr><td>84</td></tr>\n",
       "<tr><td>93</td></tr>\n",
       "<tr><td>122</td></tr>\n",
       "<tr><td>128</td></tr>\n",
       "<tr><td>142</td></tr>\n",
       "<tr><td>159</td></tr>\n",
       "<tr><td>...</td></tr>\n",
       "<tr><td>1411</td></tr>\n",
       "<tr><td>1419</td></tr>\n",
       "<tr><td>1437</td></tr>\n",
       "<tr><td>1442</td></tr>\n",
       "<tr><td>1468</td></tr>\n",
       "<tr><td>1487</td></tr>\n",
       "<tr><td>1500</td></tr>\n",
       "<tr><td>1541</td></tr>\n",
       "<tr><td>1552</td></tr>\n",
       "<tr><td>1567</td></tr>\n",
       "<tr><td>1572</td></tr>\n",
       "<tr><td>1582</td></tr>\n",
       "</table>"
      ],
      "text/plain": [
       "<Column name='#HIP (Name)' dtype='int32' length=100>\n",
       "   7\n",
       "  25\n",
       "  34\n",
       "  50\n",
       "  55\n",
       "  80\n",
       "  84\n",
       "  93\n",
       " 122\n",
       " 128\n",
       " 142\n",
       " 159\n",
       " ...\n",
       "1411\n",
       "1419\n",
       "1437\n",
       "1442\n",
       "1468\n",
       "1487\n",
       "1500\n",
       "1541\n",
       "1552\n",
       "1567\n",
       "1572\n",
       "1582"
      ]
     },
     "execution_count": 109,
     "metadata": {},
     "output_type": "execute_result"
    }
   ],
   "source": [
    "name_col = mytable['#HIP (Name)'][(mytable['Ra (Degrees)'] < 5) & (mytable['Plx (milliarcsec)'] < 20)]\n",
    "name_col"
   ]
  },
  {
   "cell_type": "markdown",
   "metadata": {},
   "source": [
    "## Modifying a table\n",
    "You can modify a table the same way you modify a numpy array"
   ]
  },
  {
   "cell_type": "code",
   "execution_count": 110,
   "metadata": {},
   "outputs": [
    {
     "data": {
      "text/html": [
       "<i>Table length=500</i>\n",
       "<table id=\"table1415306340144\" class=\"table-striped table-bordered table-condensed\">\n",
       "<thead><tr><th>#HIP (Name)</th><th>Ra (Degrees)</th><th>Dec (Degrees)</th><th>Plx (milliarcsec)</th><th>B (mag)</th><th>V (mag)</th><th>err_Plx</th><th>err_B</th><th>err_V</th></tr></thead>\n",
       "<thead><tr><th>int32</th><th>float64</th><th>float64</th><th>float64</th><th>float64</th><th>float64</th><th>float64</th><th>float64</th><th>float64</th></tr></thead>\n",
       "<tr><td>1000</td><td>0.02254891</td><td>20.03660216</td><td>17.74</td><td>10.542</td><td>9.679</td><td>1.3</td><td>0.039</td><td>0.03</td></tr>\n",
       "<tr><td>19</td><td>0.07936537</td><td>-44.29029741</td><td>13.74</td><td>7.238</td><td>6.375</td><td>0.98</td><td>0.004</td><td>0.003</td></tr>\n",
       "<tr><td>156</td><td>0.09946973</td><td>26.91823821</td><td>12.71</td><td>7.04</td><td>6.491</td><td>0.74</td><td>0.004</td><td>0.004</td></tr>\n",
       "<tr><td>208</td><td>0.11104694</td><td>-79.06183133</td><td>23.84</td><td>9.614</td><td>8.723</td><td>0.78</td><td>0.016</td><td>0.012</td></tr>\n",
       "<tr><td>47</td><td>0.13519236</td><td>-56.83524773</td><td>24.45</td><td>12.125</td><td>10.909</td><td>1.97</td><td>0.127</td><td>0.072</td></tr>\n",
       "<tr><td>11</td><td>0.14287059</td><td>-53.09766277</td><td>16.89</td><td>7.256</td><td>6.579</td><td>0.8</td><td>0.004</td><td>0.003</td></tr>\n",
       "<tr><td>16453</td><td>0.15165558</td><td>17.96895579</td><td>20.97</td><td>11.685</td><td>10.679</td><td>1.71</td><td>0.102</td><td>0.065</td></tr>\n",
       "<tr><td>55</td><td>0.15783323</td><td>-66.68310336</td><td>14.66</td><td>7.946</td><td>7.381</td><td>0.98</td><td>0.016</td><td>0.015</td></tr>\n",
       "<tr><td>57</td><td>0.16828557</td><td>-69.67580068</td><td>33.89</td><td>9.353</td><td>8.353</td><td>0.79</td><td>0.013</td><td>0.009</td></tr>\n",
       "<tr><td>58</td><td>0.17376341</td><td>62.17600484</td><td>26.06</td><td>7.665</td><td>7.11</td><td>0.67</td><td>0.006</td><td>0.005</td></tr>\n",
       "<tr><td>...</td><td>...</td><td>...</td><td>...</td><td>...</td><td>...</td><td>...</td><td>...</td><td>...</td></tr>\n",
       "<tr><td>3924</td><td>12.60079553</td><td>-64.06781229</td><td>18.41</td><td>8.648</td><td>8.044</td><td>0.79</td><td>0.009</td><td>0.008</td></tr>\n",
       "<tr><td>3930</td><td>12.61379631</td><td>59.50273074</td><td>21.34</td><td>11.344</td><td>10.284</td><td>1.66</td><td>0.06</td><td>0.035</td></tr>\n",
       "<tr><td>3949</td><td>12.67136689</td><td>-50.98692422</td><td>13.06</td><td>5.67</td><td>5.273</td><td>0.59</td><td>0.003</td><td>0.003</td></tr>\n",
       "<tr><td>3961</td><td>12.71847773</td><td>-71.15152645</td><td>25.74</td><td>7.391</td><td>6.903</td><td>0.62</td><td>0.005</td><td>0.006</td></tr>\n",
       "<tr><td>3965</td><td>12.73860936</td><td>51.50803371</td><td>15.0</td><td>6.728</td><td>6.405</td><td>0.72</td><td>0.003</td><td>0.003</td></tr>\n",
       "<tr><td>3979</td><td>12.79456039</td><td>-5.03898875</td><td>45.27</td><td>7.805</td><td>7.056</td><td>0.97</td><td>0.014</td><td>0.01</td></tr>\n",
       "<tr><td>3998</td><td>12.84050486</td><td>18.7399011</td><td>45.71</td><td>10.831</td><td>9.355</td><td>1.66</td><td>0.062</td><td>0.028</td></tr>\n",
       "<tr><td>3999</td><td>12.84198032</td><td>-38.52874769</td><td>19.09</td><td>7.852</td><td>7.204</td><td>0.92</td><td>0.007</td><td>0.007</td></tr>\n",
       "<tr><td>4003</td><td>12.85054069</td><td>-78.64368714</td><td>16.93</td><td>11.112</td><td>9.992</td><td>1.06</td><td>0.048</td><td>0.029</td></tr>\n",
       "<tr><td>4005</td><td>12.85403677</td><td>32.65728762</td><td>18.78</td><td>7.937</td><td>7.34</td><td>0.88</td><td>0.01</td><td>0.009</td></tr>\n",
       "</table>"
      ],
      "text/plain": [
       "<Table length=500>\n",
       "#HIP (Name) Ra (Degrees) Dec (Degrees) ... err_Plx  err_B   err_V \n",
       "   int32      float64       float64    ... float64 float64 float64\n",
       "----------- ------------ ------------- ... ------- ------- -------\n",
       "       1000   0.02254891   20.03660216 ...     1.3   0.039    0.03\n",
       "         19   0.07936537  -44.29029741 ...    0.98   0.004   0.003\n",
       "        156   0.09946973   26.91823821 ...    0.74   0.004   0.004\n",
       "        208   0.11104694  -79.06183133 ...    0.78   0.016   0.012\n",
       "         47   0.13519236  -56.83524773 ...    1.97   0.127   0.072\n",
       "         11   0.14287059  -53.09766277 ...     0.8   0.004   0.003\n",
       "      16453   0.15165558   17.96895579 ...    1.71   0.102   0.065\n",
       "         55   0.15783323  -66.68310336 ...    0.98   0.016   0.015\n",
       "         57   0.16828557  -69.67580068 ...    0.79   0.013   0.009\n",
       "         58   0.17376341   62.17600484 ...    0.67   0.006   0.005\n",
       "        ...          ...           ... ...     ...     ...     ...\n",
       "       3924  12.60079553  -64.06781229 ...    0.79   0.009   0.008\n",
       "       3930  12.61379631   59.50273074 ...    1.66    0.06   0.035\n",
       "       3949  12.67136689  -50.98692422 ...    0.59   0.003   0.003\n",
       "       3961  12.71847773  -71.15152645 ...    0.62   0.005   0.006\n",
       "       3965  12.73860936   51.50803371 ...    0.72   0.003   0.003\n",
       "       3979  12.79456039   -5.03898875 ...    0.97   0.014    0.01\n",
       "       3998  12.84050486    18.7399011 ...    1.66   0.062   0.028\n",
       "       3999  12.84198032  -38.52874769 ...    0.92   0.007   0.007\n",
       "       4003  12.85054069  -78.64368714 ...    1.06   0.048   0.029\n",
       "       4005  12.85403677   32.65728762 ...    0.88    0.01   0.009"
      ]
     },
     "execution_count": 110,
     "metadata": {},
     "output_type": "execute_result"
    }
   ],
   "source": [
    "change_tab = mytable\n",
    "change_tab['#HIP (Name)'][[0,1,2,3,5,6]] = [1000,19,156,208,11,16453]\n",
    "change_tab"
   ]
  },
  {
   "cell_type": "markdown",
   "metadata": {},
   "source": [
    "You can also add new columns, rename, or remove old ones. Just make sure that the new column has exactly the same length as the table. You can also use units with your table."
   ]
  },
  {
   "cell_type": "code",
   "execution_count": 111,
   "metadata": {},
   "outputs": [
    {
     "data": {
      "text/html": [
       "<i>Table length=500</i>\n",
       "<table id=\"table1415306340144\" class=\"table-striped table-bordered table-condensed\">\n",
       "<thead><tr><th>#HIP (Name)</th><th>Ra (Degrees)</th><th>Dec (Degrees)</th><th>Plx (milliarcsec)</th><th>B (mag)</th><th>V (mag)</th><th>err_Plx</th><th>error_B</th><th>index</th><th>Plx</th></tr></thead>\n",
       "<thead><tr><th></th><th></th><th></th><th></th><th></th><th></th><th></th><th></th><th></th><th>arcsec</th></tr></thead>\n",
       "<thead><tr><th>int32</th><th>float64</th><th>float64</th><th>float64</th><th>float64</th><th>float64</th><th>float64</th><th>float64</th><th>int32</th><th>float64</th></tr></thead>\n",
       "<tr><td>1000</td><td>0.02254891</td><td>20.03660216</td><td>17.74</td><td>10.542</td><td>9.679</td><td>1.3</td><td>0.039</td><td>0</td><td>0.01774</td></tr>\n",
       "<tr><td>19</td><td>0.07936537</td><td>-44.29029741</td><td>13.74</td><td>7.238</td><td>6.375</td><td>0.98</td><td>0.004</td><td>1</td><td>0.01374</td></tr>\n",
       "<tr><td>156</td><td>0.09946973</td><td>26.91823821</td><td>12.71</td><td>7.04</td><td>6.491</td><td>0.74</td><td>0.004</td><td>2</td><td>0.01271</td></tr>\n",
       "<tr><td>208</td><td>0.11104694</td><td>-79.06183133</td><td>23.84</td><td>9.614</td><td>8.723</td><td>0.78</td><td>0.016</td><td>3</td><td>0.02384</td></tr>\n",
       "<tr><td>47</td><td>0.13519236</td><td>-56.83524773</td><td>24.45</td><td>12.125</td><td>10.909</td><td>1.97</td><td>0.127</td><td>4</td><td>0.02445</td></tr>\n",
       "<tr><td>11</td><td>0.14287059</td><td>-53.09766277</td><td>16.89</td><td>7.256</td><td>6.579</td><td>0.8</td><td>0.004</td><td>5</td><td>0.016890000000000002</td></tr>\n",
       "<tr><td>16453</td><td>0.15165558</td><td>17.96895579</td><td>20.97</td><td>11.685</td><td>10.679</td><td>1.71</td><td>0.102</td><td>6</td><td>0.02097</td></tr>\n",
       "<tr><td>55</td><td>0.15783323</td><td>-66.68310336</td><td>14.66</td><td>7.946</td><td>7.381</td><td>0.98</td><td>0.016</td><td>7</td><td>0.01466</td></tr>\n",
       "<tr><td>57</td><td>0.16828557</td><td>-69.67580068</td><td>33.89</td><td>9.353</td><td>8.353</td><td>0.79</td><td>0.013</td><td>8</td><td>0.03389</td></tr>\n",
       "<tr><td>...</td><td>...</td><td>...</td><td>...</td><td>...</td><td>...</td><td>...</td><td>...</td><td>...</td><td>...</td></tr>\n",
       "<tr><td>3924</td><td>12.60079553</td><td>-64.06781229</td><td>18.41</td><td>8.648</td><td>8.044</td><td>0.79</td><td>0.009</td><td>490</td><td>0.01841</td></tr>\n",
       "<tr><td>3930</td><td>12.61379631</td><td>59.50273074</td><td>21.34</td><td>11.344</td><td>10.284</td><td>1.66</td><td>0.06</td><td>491</td><td>0.02134</td></tr>\n",
       "<tr><td>3949</td><td>12.67136689</td><td>-50.98692422</td><td>13.06</td><td>5.67</td><td>5.273</td><td>0.59</td><td>0.003</td><td>492</td><td>0.01306</td></tr>\n",
       "<tr><td>3961</td><td>12.71847773</td><td>-71.15152645</td><td>25.74</td><td>7.391</td><td>6.903</td><td>0.62</td><td>0.005</td><td>493</td><td>0.02574</td></tr>\n",
       "<tr><td>3965</td><td>12.73860936</td><td>51.50803371</td><td>15.0</td><td>6.728</td><td>6.405</td><td>0.72</td><td>0.003</td><td>494</td><td>0.015</td></tr>\n",
       "<tr><td>3979</td><td>12.79456039</td><td>-5.03898875</td><td>45.27</td><td>7.805</td><td>7.056</td><td>0.97</td><td>0.014</td><td>495</td><td>0.045270000000000005</td></tr>\n",
       "<tr><td>3998</td><td>12.84050486</td><td>18.7399011</td><td>45.71</td><td>10.831</td><td>9.355</td><td>1.66</td><td>0.062</td><td>496</td><td>0.04571</td></tr>\n",
       "<tr><td>3999</td><td>12.84198032</td><td>-38.52874769</td><td>19.09</td><td>7.852</td><td>7.204</td><td>0.92</td><td>0.007</td><td>497</td><td>0.01909</td></tr>\n",
       "<tr><td>4003</td><td>12.85054069</td><td>-78.64368714</td><td>16.93</td><td>11.112</td><td>9.992</td><td>1.06</td><td>0.048</td><td>498</td><td>0.01693</td></tr>\n",
       "<tr><td>4005</td><td>12.85403677</td><td>32.65728762</td><td>18.78</td><td>7.937</td><td>7.34</td><td>0.88</td><td>0.01</td><td>499</td><td>0.01878</td></tr>\n",
       "</table>"
      ],
      "text/plain": [
       "<Table length=500>\n",
       "#HIP (Name) Ra (Degrees) Dec (Degrees) ... error_B index         Plx         \n",
       "                                       ...                      arcsec       \n",
       "   int32      float64       float64    ... float64 int32       float64       \n",
       "----------- ------------ ------------- ... ------- ----- --------------------\n",
       "       1000   0.02254891   20.03660216 ...   0.039     0              0.01774\n",
       "         19   0.07936537  -44.29029741 ...   0.004     1              0.01374\n",
       "        156   0.09946973   26.91823821 ...   0.004     2              0.01271\n",
       "        208   0.11104694  -79.06183133 ...   0.016     3              0.02384\n",
       "         47   0.13519236  -56.83524773 ...   0.127     4              0.02445\n",
       "         11   0.14287059  -53.09766277 ...   0.004     5 0.016890000000000002\n",
       "      16453   0.15165558   17.96895579 ...   0.102     6              0.02097\n",
       "         55   0.15783323  -66.68310336 ...   0.016     7              0.01466\n",
       "         57   0.16828557  -69.67580068 ...   0.013     8              0.03389\n",
       "        ...          ...           ... ...     ...   ...                  ...\n",
       "       3924  12.60079553  -64.06781229 ...   0.009   490              0.01841\n",
       "       3930  12.61379631   59.50273074 ...    0.06   491              0.02134\n",
       "       3949  12.67136689  -50.98692422 ...   0.003   492              0.01306\n",
       "       3961  12.71847773  -71.15152645 ...   0.005   493              0.02574\n",
       "       3965  12.73860936   51.50803371 ...   0.003   494                0.015\n",
       "       3979  12.79456039   -5.03898875 ...   0.014   495 0.045270000000000005\n",
       "       3998  12.84050486    18.7399011 ...   0.062   496              0.04571\n",
       "       3999  12.84198032  -38.52874769 ...   0.007   497              0.01909\n",
       "       4003  12.85054069  -78.64368714 ...   0.048   498              0.01693\n",
       "       4005  12.85403677   32.65728762 ...    0.01   499              0.01878"
      ]
     },
     "execution_count": 111,
     "metadata": {},
     "output_type": "execute_result"
    }
   ],
   "source": [
    "new_column1 = np.arange(len(mytable))\n",
    "new_column2 = mytable['Plx (milliarcsec)'] / 1000.0\n",
    "change_tab['index'] = new_column1\n",
    "change_tab['Plx'] = new_column2*u.arcsec\n",
    "change_tab.rename_column('err_B','error_B')\n",
    "change_tab.remove_column('err_V')\n",
    "change_tab #Note the new row that gives the unit"
   ]
  },
  {
   "cell_type": "markdown",
   "metadata": {},
   "source": [
    "## Your Turn\n",
    "Add a column to `change_tab` called `new_err_plx' where the error in Parallax has values and units arcsecs."
   ]
  },
  {
   "cell_type": "code",
   "execution_count": 112,
   "metadata": {},
   "outputs": [
    {
     "data": {
      "text/html": [
       "<i>Table length=500</i>\n",
       "<table id=\"table1415306340144\" class=\"table-striped table-bordered table-condensed\">\n",
       "<thead><tr><th>#HIP (Name)</th><th>Ra (Degrees)</th><th>Dec (Degrees)</th><th>Plx (milliarcsec)</th><th>B (mag)</th><th>V (mag)</th><th>err_Plx</th><th>error_B</th><th>index</th><th>Plx</th><th>new_err_plx</th></tr></thead>\n",
       "<thead><tr><th></th><th></th><th></th><th></th><th></th><th></th><th></th><th></th><th></th><th>arcsec</th><th>arcsec</th></tr></thead>\n",
       "<thead><tr><th>int32</th><th>float64</th><th>float64</th><th>float64</th><th>float64</th><th>float64</th><th>float64</th><th>float64</th><th>int32</th><th>float64</th><th>float64</th></tr></thead>\n",
       "<tr><td>1000</td><td>0.02254891</td><td>20.03660216</td><td>17.74</td><td>10.542</td><td>9.679</td><td>1.3</td><td>0.039</td><td>0</td><td>0.01774</td><td>1.3</td></tr>\n",
       "<tr><td>19</td><td>0.07936537</td><td>-44.29029741</td><td>13.74</td><td>7.238</td><td>6.375</td><td>0.98</td><td>0.004</td><td>1</td><td>0.01374</td><td>0.98</td></tr>\n",
       "<tr><td>156</td><td>0.09946973</td><td>26.91823821</td><td>12.71</td><td>7.04</td><td>6.491</td><td>0.74</td><td>0.004</td><td>2</td><td>0.01271</td><td>0.74</td></tr>\n",
       "<tr><td>208</td><td>0.11104694</td><td>-79.06183133</td><td>23.84</td><td>9.614</td><td>8.723</td><td>0.78</td><td>0.016</td><td>3</td><td>0.02384</td><td>0.78</td></tr>\n",
       "<tr><td>47</td><td>0.13519236</td><td>-56.83524773</td><td>24.45</td><td>12.125</td><td>10.909</td><td>1.97</td><td>0.127</td><td>4</td><td>0.02445</td><td>1.97</td></tr>\n",
       "<tr><td>11</td><td>0.14287059</td><td>-53.09766277</td><td>16.89</td><td>7.256</td><td>6.579</td><td>0.8</td><td>0.004</td><td>5</td><td>0.016890000000000002</td><td>0.8</td></tr>\n",
       "<tr><td>16453</td><td>0.15165558</td><td>17.96895579</td><td>20.97</td><td>11.685</td><td>10.679</td><td>1.71</td><td>0.102</td><td>6</td><td>0.02097</td><td>1.71</td></tr>\n",
       "<tr><td>55</td><td>0.15783323</td><td>-66.68310336</td><td>14.66</td><td>7.946</td><td>7.381</td><td>0.98</td><td>0.016</td><td>7</td><td>0.01466</td><td>0.98</td></tr>\n",
       "<tr><td>57</td><td>0.16828557</td><td>-69.67580068</td><td>33.89</td><td>9.353</td><td>8.353</td><td>0.79</td><td>0.013</td><td>8</td><td>0.03389</td><td>0.79</td></tr>\n",
       "<tr><td>...</td><td>...</td><td>...</td><td>...</td><td>...</td><td>...</td><td>...</td><td>...</td><td>...</td><td>...</td><td>...</td></tr>\n",
       "<tr><td>3924</td><td>12.60079553</td><td>-64.06781229</td><td>18.41</td><td>8.648</td><td>8.044</td><td>0.79</td><td>0.009</td><td>490</td><td>0.01841</td><td>0.79</td></tr>\n",
       "<tr><td>3930</td><td>12.61379631</td><td>59.50273074</td><td>21.34</td><td>11.344</td><td>10.284</td><td>1.66</td><td>0.06</td><td>491</td><td>0.02134</td><td>1.66</td></tr>\n",
       "<tr><td>3949</td><td>12.67136689</td><td>-50.98692422</td><td>13.06</td><td>5.67</td><td>5.273</td><td>0.59</td><td>0.003</td><td>492</td><td>0.01306</td><td>0.59</td></tr>\n",
       "<tr><td>3961</td><td>12.71847773</td><td>-71.15152645</td><td>25.74</td><td>7.391</td><td>6.903</td><td>0.62</td><td>0.005</td><td>493</td><td>0.02574</td><td>0.62</td></tr>\n",
       "<tr><td>3965</td><td>12.73860936</td><td>51.50803371</td><td>15.0</td><td>6.728</td><td>6.405</td><td>0.72</td><td>0.003</td><td>494</td><td>0.015</td><td>0.72</td></tr>\n",
       "<tr><td>3979</td><td>12.79456039</td><td>-5.03898875</td><td>45.27</td><td>7.805</td><td>7.056</td><td>0.97</td><td>0.014</td><td>495</td><td>0.045270000000000005</td><td>0.97</td></tr>\n",
       "<tr><td>3998</td><td>12.84050486</td><td>18.7399011</td><td>45.71</td><td>10.831</td><td>9.355</td><td>1.66</td><td>0.062</td><td>496</td><td>0.04571</td><td>1.66</td></tr>\n",
       "<tr><td>3999</td><td>12.84198032</td><td>-38.52874769</td><td>19.09</td><td>7.852</td><td>7.204</td><td>0.92</td><td>0.007</td><td>497</td><td>0.01909</td><td>0.92</td></tr>\n",
       "<tr><td>4003</td><td>12.85054069</td><td>-78.64368714</td><td>16.93</td><td>11.112</td><td>9.992</td><td>1.06</td><td>0.048</td><td>498</td><td>0.01693</td><td>1.06</td></tr>\n",
       "<tr><td>4005</td><td>12.85403677</td><td>32.65728762</td><td>18.78</td><td>7.937</td><td>7.34</td><td>0.88</td><td>0.01</td><td>499</td><td>0.01878</td><td>0.88</td></tr>\n",
       "</table>"
      ],
      "text/plain": [
       "<Table length=500>\n",
       "#HIP (Name) Ra (Degrees) Dec (Degrees) ...         Plx          new_err_plx\n",
       "                                       ...        arcsec           arcsec  \n",
       "   int32      float64       float64    ...       float64          float64  \n",
       "----------- ------------ ------------- ... -------------------- -----------\n",
       "       1000   0.02254891   20.03660216 ...              0.01774         1.3\n",
       "         19   0.07936537  -44.29029741 ...              0.01374        0.98\n",
       "        156   0.09946973   26.91823821 ...              0.01271        0.74\n",
       "        208   0.11104694  -79.06183133 ...              0.02384        0.78\n",
       "         47   0.13519236  -56.83524773 ...              0.02445        1.97\n",
       "         11   0.14287059  -53.09766277 ... 0.016890000000000002         0.8\n",
       "      16453   0.15165558   17.96895579 ...              0.02097        1.71\n",
       "         55   0.15783323  -66.68310336 ...              0.01466        0.98\n",
       "         57   0.16828557  -69.67580068 ...              0.03389        0.79\n",
       "        ...          ...           ... ...                  ...         ...\n",
       "       3924  12.60079553  -64.06781229 ...              0.01841        0.79\n",
       "       3930  12.61379631   59.50273074 ...              0.02134        1.66\n",
       "       3949  12.67136689  -50.98692422 ...              0.01306        0.59\n",
       "       3961  12.71847773  -71.15152645 ...              0.02574        0.62\n",
       "       3965  12.73860936   51.50803371 ...                0.015        0.72\n",
       "       3979  12.79456039   -5.03898875 ... 0.045270000000000005        0.97\n",
       "       3998  12.84050486    18.7399011 ...              0.04571        1.66\n",
       "       3999  12.84198032  -38.52874769 ...              0.01909        0.92\n",
       "       4003  12.85054069  -78.64368714 ...              0.01693        1.06\n",
       "       4005  12.85403677   32.65728762 ...              0.01878        0.88"
      ]
     },
     "execution_count": 112,
     "metadata": {},
     "output_type": "execute_result"
    }
   ],
   "source": [
    "change_tab['new_err_plx'] = change_tab['err_Plx']*u.arcsec\n",
    "change_tab"
   ]
  },
  {
   "cell_type": "markdown",
   "metadata": {},
   "source": [
    "## Creating a table from scratch\n",
    "Often times you want to save a new table based on your work. Remember tables can have units too. Adding new columns is just like a dictionary."
   ]
  },
  {
   "cell_type": "code",
   "execution_count": 113,
   "metadata": {},
   "outputs": [
    {
     "name": "stdout",
     "output_type": "stream",
     "text": [
      "Name Distance Distance2\n",
      "        km        m    \n",
      "---- -------- ---------\n",
      "   0      0.0       0.0\n",
      "   1     10.0   10000.0\n",
      "   2     20.0   20000.0\n",
      "   3     30.0   30000.0\n",
      "   4     40.0   40000.0\n",
      "   5     50.0   50000.0\n",
      "   6     60.0   60000.0\n",
      "   7     70.0   70000.0\n",
      "   8     80.0   80000.0\n",
      "   9     90.0   90000.0\n"
     ]
    }
   ],
   "source": [
    "new_tab = Table()\n",
    "new_tab['Name'] = np.arange(10)\n",
    "new_tab['Distance'] = new_tab['Name'] * 10 * u.km\n",
    "new_tab['Distance2'] = new_tab['Distance'].to(u.m)\n",
    "print(new_tab)"
   ]
  },
  {
   "cell_type": "markdown",
   "metadata": {},
   "source": [
    "## Writing out a Table\n",
    "Once you have a table you can write it out into any of the formats in http://docs.astropy.org/en/stable/io/unified.html#built-in-table-readers-writers. Let's write out the same table using a commas separted file and a pipe `|` separated file."
   ]
  },
  {
   "cell_type": "code",
   "execution_count": 114,
   "metadata": {},
   "outputs": [
    {
     "name": "stderr",
     "output_type": "stream",
     "text": [
      "WARNING: AstropyDeprecationWarning: Homework2_data/distance.csv already exists. Automatically overwriting ASCII files is deprecated. Use the argument 'overwrite=True' in the future. [astropy.io.ascii.ui]\n",
      "WARNING: AstropyDeprecationWarning: Homework2_data/distance.txt already exists. Automatically overwriting ASCII files is deprecated. Use the argument 'overwrite=True' in the future. [astropy.io.ascii.ui]\n"
     ]
    }
   ],
   "source": [
    "new_tab.write('Homework2_data/distance.csv')\n",
    "new_tab.write('Homework2_data/distance.txt',format='ascii',delimiter='|')"
   ]
  },
  {
   "cell_type": "code",
   "execution_count": 115,
   "metadata": {},
   "outputs": [
    {
     "name": "stderr",
     "output_type": "stream",
     "text": [
      "'head' is not recognized as an internal or external command,\n",
      "operable program or batch file.\n"
     ]
    }
   ],
   "source": [
    "!head distance.csv"
   ]
  },
  {
   "cell_type": "code",
   "execution_count": 116,
   "metadata": {},
   "outputs": [
    {
     "name": "stderr",
     "output_type": "stream",
     "text": [
      "'head' is not recognized as an internal or external command,\n",
      "operable program or batch file.\n"
     ]
    }
   ],
   "source": [
    "!head distance.txt"
   ]
  },
  {
   "cell_type": "markdown",
   "metadata": {},
   "source": [
    "When we write to ascii we lose the units. We can use one of the enhanced file types like ipac to store our infomation with metadata. If you are going to overwrite a file, you need to set overwrite to True."
   ]
  },
  {
   "cell_type": "code",
   "execution_count": 117,
   "metadata": {},
   "outputs": [
    {
     "name": "stderr",
     "output_type": "stream",
     "text": [
      "'head' is not recognized as an internal or external command,\n",
      "operable program or batch file.\n"
     ]
    }
   ],
   "source": [
    "new_tab.write('Homework2_data/distance.txt',format='ascii.ipac',overwrite=True)\n",
    "!head distance.txt"
   ]
  },
  {
   "cell_type": "markdown",
   "metadata": {},
   "source": [
    "Finally, we can also store files in binary format. These cannot be read by `head`. The most common binary format in astronomy is the FITS format. We will discuss it more later. You have to use the command "
   ]
  },
  {
   "cell_type": "code",
   "execution_count": 120,
   "metadata": {},
   "outputs": [],
   "source": [
    "#new_tab.write('distance.fits') #If you need to overwrite put in overwrite=True\n",
    "#new2_tab = Table.read('distance.fits')\n",
    "#print(new2_tab) #Note the units survive"
   ]
  },
  {
   "cell_type": "markdown",
   "metadata": {},
   "source": [
    "## Now it is your turn\n",
    "Using `hip_smaller.csv` read in the file and create an astropy table called `hip_tab`. Then give the columns that have units in their name, the correct units, and then remove the units from the name of the column. Show your results."
   ]
  },
  {
   "cell_type": "code",
   "execution_count": 121,
   "metadata": {},
   "outputs": [],
   "source": [
    "hip_tab = Table.read('Homework2_data/hip_small.csv',format='ascii')\n",
    "hip_tab.rename_columns(('Ra (Degrees)', 'Dec (Degrees)', 'Plx (milliarcsec)', 'B (mag)', 'V (mag)'), \n",
    "                       new_names=('Ra', 'Dec', 'Plx', 'B', 'V'))"
   ]
  },
  {
   "cell_type": "code",
   "execution_count": 122,
   "metadata": {
    "scrolled": true
   },
   "outputs": [
    {
     "data": {
      "text/plain": [
       "['HIP (Name)', 'Ra', 'Dec', 'Plx', 'B', 'V', 'err_Plx', 'err_B', 'err_V']"
      ]
     },
     "execution_count": 122,
     "metadata": {},
     "output_type": "execute_result"
    }
   ],
   "source": [
    "hip_tab['Ra'] *= u.deg\n",
    "hip_tab['Dec'] *= u.deg\n",
    "hip_tab['Plx'] *= u.marcsec\n",
    "hip_tab['B'] *= u.dimensionless_unscaled\n",
    "hip_tab['V'] *= u.dimensionless_unscaled\n",
    "hip_tab['err_Plx'] *= u.marcsec\n",
    "hip_tab['err_B'] *= u.dimensionless_unscaled\n",
    "hip_tab['err_V'] *= u.dimensionless_unscaled\n",
    "hip_tab\n",
    "hip_tab.colnames"
   ]
  },
  {
   "cell_type": "markdown",
   "metadata": {},
   "source": [
    "Using `hip_tab` create a new table called `north_tab` with Dec greater than 0 degrees and Plx between 10 and 50 marcsec. Then make Plx and plx_err have units of arcsecs."
   ]
  },
  {
   "cell_type": "code",
   "execution_count": 123,
   "metadata": {},
   "outputs": [
    {
     "data": {
      "text/html": [
       "<i>Table length=6175</i>\n",
       "<table id=\"table1415306300768\" class=\"table-striped table-bordered table-condensed\">\n",
       "<thead><tr><th>HIP (Name)</th><th>Ra</th><th>Dec</th><th>Plx</th><th>B</th><th>V</th><th>err_Plx</th><th>err_B</th><th>err_V</th></tr></thead>\n",
       "<thead><tr><th></th><th>deg</th><th>deg</th><th>arcsec</th><th></th><th></th><th>arcsec</th><th></th><th></th></tr></thead>\n",
       "<thead><tr><th>int32</th><th>float64</th><th>float64</th><th>float64</th><th>float64</th><th>float64</th><th>float64</th><th>float64</th><th>float64</th></tr></thead>\n",
       "<tr><td>7</td><td>0.02254891</td><td>20.03660216</td><td>0.01774</td><td>10.542</td><td>9.679</td><td>0.0013000000000000002</td><td>0.039</td><td>0.03</td></tr>\n",
       "<tr><td>34</td><td>0.09946973</td><td>26.91823821</td><td>0.01271</td><td>7.04</td><td>6.491</td><td>0.00074</td><td>0.004</td><td>0.004</td></tr>\n",
       "<tr><td>54</td><td>0.15165558</td><td>17.96895579</td><td>0.02097</td><td>11.685</td><td>10.679</td><td>0.00171</td><td>0.102</td><td>0.065</td></tr>\n",
       "<tr><td>58</td><td>0.17376341</td><td>62.17600484</td><td>0.02606</td><td>7.665</td><td>7.11</td><td>0.00067</td><td>0.006</td><td>0.005</td></tr>\n",
       "<tr><td>68</td><td>0.20063628</td><td>16.98896499</td><td>0.0318</td><td>10.017</td><td>8.903</td><td>0.00117</td><td>0.024</td><td>0.016</td></tr>\n",
       "<tr><td>74</td><td>0.22187281</td><td>35.75272213</td><td>0.02422</td><td>11.364</td><td>10.112</td><td>0.00136</td><td>0.075</td><td>0.038</td></tr>\n",
       "<tr><td>84</td><td>0.25180722</td><td>27.88634368</td><td>0.0189</td><td>10.686</td><td>9.7</td><td>0.00133</td><td>0.05</td><td>0.032</td></tr>\n",
       "<tr><td>110</td><td>0.34870816</td><td>39.61081788</td><td>0.02042</td><td>9.831</td><td>8.887</td><td>0.00191</td><td>0.022</td><td>0.016</td></tr>\n",
       "<tr><td>128</td><td>0.41376473</td><td>73.61187664</td><td>0.0152</td><td>6.74</td><td>6.521</td><td>0.00063</td><td>0.004</td><td>0.004</td></tr>\n",
       "<tr><td>...</td><td>...</td><td>...</td><td>...</td><td>...</td><td>...</td><td>...</td><td>...</td><td>...</td></tr>\n",
       "<tr><td>118167</td><td>359.54905787</td><td>20.83465674</td><td>0.01488</td><td>9.317</td><td>8.637</td><td>0.00118</td><td>0.018</td><td>0.015</td></tr>\n",
       "<tr><td>118193</td><td>359.61685869</td><td>24.3954959</td><td>0.016280000000000003</td><td>9.11</td><td>8.436</td><td>0.00094</td><td>0.014</td><td>0.012</td></tr>\n",
       "<tr><td>118207</td><td>359.66224752</td><td>77.26211338</td><td>0.023370000000000002</td><td>9.162</td><td>8.455</td><td>0.0007</td><td>0.013</td><td>0.011</td></tr>\n",
       "<tr><td>118213</td><td>359.69076324</td><td>31.93982311</td><td>0.020329999999999997</td><td>9.172</td><td>8.36</td><td>0.00094</td><td>0.016</td><td>0.013</td></tr>\n",
       "<tr><td>118225</td><td>359.70837992</td><td>33.74273019</td><td>0.01686</td><td>8.653</td><td>7.93</td><td>0.00082</td><td>0.013</td><td>0.011</td></tr>\n",
       "<tr><td>118251</td><td>359.77831769</td><td>41.17054665</td><td>0.02291</td><td>8.941</td><td>8.21</td><td>0.00082</td><td>0.014</td><td>0.012</td></tr>\n",
       "<tr><td>118254</td><td>359.78738056</td><td>41.2017361</td><td>0.02219</td><td>8.393</td><td>7.789</td><td>0.0008</td><td>0.01</td><td>0.009</td></tr>\n",
       "<tr><td>118268</td><td>359.82750994</td><td>6.86359373</td><td>0.030780000000000002</td><td>4.515</td><td>4.076</td><td>0.00087</td><td>0.003</td><td>0.002</td></tr>\n",
       "<tr><td>118308</td><td>359.94888004</td><td>50.11249897</td><td>0.01939</td><td>11.173</td><td>10.021</td><td>0.00163</td><td>0.052</td><td>0.03</td></tr>\n",
       "<tr><td>118310</td><td>359.94925671</td><td>6.66456539</td><td>0.03943</td><td>10.502</td><td>9.097</td><td>0.00136</td><td>0.059</td><td>0.03</td></tr>\n",
       "</table>"
      ],
      "text/plain": [
       "<Table length=6175>\n",
       "HIP (Name)      Ra          Dec     ...        err_Plx         err_B   err_V \n",
       "               deg          deg     ...         arcsec                       \n",
       "  int32      float64      float64   ...        float64        float64 float64\n",
       "---------- ------------ ----------- ... --------------------- ------- -------\n",
       "         7   0.02254891 20.03660216 ... 0.0013000000000000002   0.039    0.03\n",
       "        34   0.09946973 26.91823821 ...               0.00074   0.004   0.004\n",
       "        54   0.15165558 17.96895579 ...               0.00171   0.102   0.065\n",
       "        58   0.17376341 62.17600484 ...               0.00067   0.006   0.005\n",
       "        68   0.20063628 16.98896499 ...               0.00117   0.024   0.016\n",
       "        74   0.22187281 35.75272213 ...               0.00136   0.075   0.038\n",
       "        84   0.25180722 27.88634368 ...               0.00133    0.05   0.032\n",
       "       110   0.34870816 39.61081788 ...               0.00191   0.022   0.016\n",
       "       128   0.41376473 73.61187664 ...               0.00063   0.004   0.004\n",
       "       ...          ...         ... ...                   ...     ...     ...\n",
       "    118167 359.54905787 20.83465674 ...               0.00118   0.018   0.015\n",
       "    118193 359.61685869  24.3954959 ...               0.00094   0.014   0.012\n",
       "    118207 359.66224752 77.26211338 ...                0.0007   0.013   0.011\n",
       "    118213 359.69076324 31.93982311 ...               0.00094   0.016   0.013\n",
       "    118225 359.70837992 33.74273019 ...               0.00082   0.013   0.011\n",
       "    118251 359.77831769 41.17054665 ...               0.00082   0.014   0.012\n",
       "    118254 359.78738056  41.2017361 ...                0.0008    0.01   0.009\n",
       "    118268 359.82750994  6.86359373 ...               0.00087   0.003   0.002\n",
       "    118308 359.94888004 50.11249897 ...               0.00163   0.052    0.03\n",
       "    118310 359.94925671  6.66456539 ...               0.00136   0.059    0.03"
      ]
     },
     "execution_count": 123,
     "metadata": {},
     "output_type": "execute_result"
    }
   ],
   "source": [
    "north_tab = hip_tab[:][(hip_tab['Dec'] > 0*u.deg) & (10*u.marcsec <hip_tab['Plx']) & (hip_tab['Plx'] < 50*u.marcsec)]\n",
    "north_tab.replace_column('Plx',north_tab['Plx'].to(u.arcsec))\n",
    "north_tab.replace_column('err_Plx',north_tab['err_Plx'].to(u.arcsec))\n",
    "\n",
    "north_tab"
   ]
  },
  {
   "cell_type": "markdown",
   "metadata": {},
   "source": [
    "How long did it take you to complete this homework?"
   ]
  },
  {
   "cell_type": "markdown",
   "metadata": {},
   "source": [
    "~2.5 hours"
   ]
  },
  {
   "cell_type": "code",
   "execution_count": null,
   "metadata": {},
   "outputs": [],
   "source": []
  }
 ],
 "metadata": {
  "kernelspec": {
   "display_name": "Python 3",
   "language": "python",
   "name": "python3"
  },
  "language_info": {
   "codemirror_mode": {
    "name": "ipython",
    "version": 3
   },
   "file_extension": ".py",
   "mimetype": "text/x-python",
   "name": "python",
   "nbconvert_exporter": "python",
   "pygments_lexer": "ipython3",
   "version": "3.8.8"
  }
 },
 "nbformat": 4,
 "nbformat_minor": 2
}
