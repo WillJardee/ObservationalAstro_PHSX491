{
 "cells": [
  {
   "cell_type": "markdown",
   "metadata": {},
   "source": [
    "# PHXS 491_001: Observational Astronomy - Homework 6"
   ]
  },
  {
   "cell_type": "markdown",
   "metadata": {},
   "source": [
    "### Due Oct 26, 2021\n",
    "Remember to save your completed notebook as a PDF and upload to Brightspace under Assignments."
   ]
  },
  {
   "cell_type": "markdown",
   "metadata": {},
   "source": [
    "Name:"
   ]
  },
  {
   "cell_type": "markdown",
   "metadata": {},
   "source": [
    "## Please use the \"primt()\" function (notice the \"m\") to print out your answers in magenta.  This makes grading easier.  You might need to \"print to PDF\" to get the colors to show up."
   ]
  },
  {
   "cell_type": "code",
   "execution_count": 2,
   "metadata": {},
   "outputs": [],
   "source": [
    "def primt(*args):\n",
    "    '''\n",
    "    For any amount of arguments \"*args\", prints in magenta.\n",
    "    '''\n",
    "    magenta = \"\\x1B[38;5;201m\"   # the color in ANSI code\n",
<<<<<<< Updated upstream
    "    for el in args:  # for each argument\n",
    "        magenta += \" \"+(str(el))  # add the argument to the string to be printed\n",
=======
    "    string = \"\"\n",
    "    for el in args:  # for each argument\n",
    "        string += \" \"+(str(el))  # add the argument to the string to be printed\n",
    "    magenta += string[1:]\n",
>>>>>>> Stashed changes
    "    print(magenta)   #print!"
   ]
  },
  {
<<<<<<< Updated upstream
=======
   "cell_type": "code",
   "execution_count": 1,
   "metadata": {},
   "outputs": [
    {
     "data": {
      "text/plain": [
       "['chesterish',\n",
       " 'grade3',\n",
       " 'gruvboxd',\n",
       " 'gruvboxl',\n",
       " 'monokai',\n",
       " 'oceans16',\n",
       " 'onedork',\n",
       " 'solarizedd',\n",
       " 'solarizedl']"
      ]
     },
     "execution_count": 1,
     "metadata": {},
     "output_type": "execute_result"
    }
   ],
   "source": [
    "# Chaning theme to a light mode for printing\n",
    "import jupyterthemes as jt\n",
    "!jt -t grade3 -T -N -kl -nfs 11 -fs 11 -ofs 11 -cursc r -cellw 90%\n",
    "jt.jtplot.style()\n",
    "jt.get_themes()"
   ]
  },
  {
>>>>>>> Stashed changes
   "cell_type": "markdown",
   "metadata": {},
   "source": [
    "# Dark and Flat calibration, error image"
   ]
  },
  {
   "cell_type": "code",
   "execution_count": 15,
   "metadata": {},
   "outputs": [],
   "source": [
    "import matplotlib.pyplot as plt\n",
    "from astropy.io import fits\n",
    "import numpy as np\n",
    "import os\n",
    "from glob import glob\n",
    "import matplotlib\n",
    "matplotlib.use('nbagg')"
   ]
  },
  {
   "cell_type": "code",
   "execution_count": 16,
   "metadata": {},
   "outputs": [],
   "source": [
    "# A little script to get information on all the fits files\n",
    "def ccdlist(input=None):\n",
    "    if input is None: input='*.fits'\n",
    "    files = glob(input)\n",
    "    nfiles = len(files)\n",
    "    dt = np.dtype([('file',np.str,100),('naxis1',int),('naxis2',int),\n",
    "                      ('imagetyp',np.str,100),('exptime',float),('filter',np.str,100)])\n",
    "    cat = np.zeros(nfiles,dtype=dt)\n",
    "    for i,f in enumerate(files):\n",
    "        base = os.path.basename(f)\n",
    "        base = base.split('.')[0]\n",
    "        h = fits.getheader(f)\n",
    "        cat['file'][i] = f\n",
    "        cat['naxis1'][i] = h.get('naxis1')\n",
    "        cat['naxis2'][i] = h.get('naxis2')\n",
    "        cat['imagetyp'][i] = h.get('imagetyp')\n",
    "        cat['exptime'][i] = h.get('exptime')\n",
    "        cat['filter'][i] = h.get('filter')\n",
    "        print(base+'  '+str(cat['naxis1'][i])+'  '+str(cat['naxis2'][i])+'  '+cat['imagetyp'][i]+'  '+str(cat['exptime'][i])+'  '+cat['filter'][i])\n",
    "    return cat"
   ]
  },
  {
   "cell_type": "markdown",
   "metadata": {},
   "source": [
    "### Unzip the ``calibration_data.zip`` file and load the information using the ``ccdlist`` function."
   ]
  },
  {
   "cell_type": "code",
   "execution_count": 21,
   "metadata": {},
   "outputs": [
    {
     "name": "stdout",
     "output_type": "stream",
     "text": [
      "DoubleCluster-0003R  3468  2728  Light Frame  120.0  Red\n",
      "Bias-0008  3468  2728  Bias Frame  0.001000000047497  None\n",
      "Bias-0009  3468  2728  Bias Frame  0.001000000047497  None\n",
      "DoubleCluster-0003B  3468  2728  Light Frame  120.0  Blue\n",
      "DoubleCluster-0023B  3468  2728  Light Frame  30.0  Green\n",
      "Bias-0002  3468  2728  Bias Frame  0.001000000047497  None\n",
      "Bias-0003  3468  2728  Bias Frame  0.001000000047497  None\n",
      "Bias-0001  3468  2728  Bias Frame  0.001000000047497  None\n",
      "Bias-0010  3468  2728  Bias Frame  0.001000000047497  None\n",
      "Bias-0004  3468  2728  Bias Frame  0.001000000047497  None\n",
      "Bias-0005  3468  2728  Bias Frame  0.001000000047497  None\n",
      "Bias-0007  3468  2728  Bias Frame  0.001000000047497  None\n",
      "Bias-0006  3468  2728  Bias Frame  0.001000000047497  None\n",
      "master_dark  3388  2712  Dark Frame  60.0  None\n",
      "master_flat  3388  2712  Light Frame  30.0  None\n"
     ]
    }
   ],
   "source": [
    "out=ccdlist('MYDATADIR/*.fit')"
   ]
  },
  {
   "cell_type": "markdown",
   "metadata": {},
   "source": [
    "## 1. Dark"
   ]
  },
  {
   "cell_type": "markdown",
   "metadata": {},
   "source": [
    "Write a function called ``overscantrimzerodark()`` that overscan corrects, trims, subtracts the ``master bias``, and subtracts the ``master dark`` scaled to an image's exposure time."
   ]
  },
  {
   "cell_type": "code",
   "execution_count": null,
   "metadata": {},
   "outputs": [],
   "source": []
  },
  {
   "cell_type": "markdown",
   "metadata": {},
   "source": [
    "## 2. Flat"
   ]
  },
  {
   "cell_type": "markdown",
   "metadata": {},
   "source": [
    "Write a function called ``overscantrimzerodarkflat()`` that overscan corrects, trims, subtracts the ``master bias``, subtracts the ``master dark`` scaled to an image's exposure time, and divides by the ``master flat``."
   ]
  },
  {
   "cell_type": "code",
   "execution_count": null,
   "metadata": {},
   "outputs": [],
   "source": []
  },
  {
   "cell_type": "markdown",
   "metadata": {},
   "source": [
    "## 3. Error/noise Array"
   ]
  },
  {
   "cell_type": "markdown",
   "metadata": {},
   "source": [
    "Create an array of the errors or noise in each pixels.  This will have two components: 1) the Poisson noise from the flux in the image (from objects, sky and dark current), and 2) the read noise.  Add these two in quadrature.  Make sure to take the gain into account when computing the Poisson noise.  Give it in ADUs like the original image.  Update your ``overscantrimzerodarkflat()`` function to calculate and output the error array."
   ]
  },
  {
   "cell_type": "code",
   "execution_count": null,
   "metadata": {},
   "outputs": [],
   "source": []
  },
  {
   "cell_type": "markdown",
   "metadata": {},
   "source": [
    "## 4. Science Frames"
   ]
  },
  {
   "cell_type": "markdown",
   "metadata": {},
   "source": [
    "Run your program on the two ``DoubleCluster`` images with the provided master dark and flat images."
   ]
  },
  {
   "cell_type": "code",
   "execution_count": null,
   "metadata": {},
   "outputs": [],
   "source": []
  },
  {
   "cell_type": "markdown",
   "metadata": {},
   "source": [
    "## 5. History and Provenance"
   ]
  },
  {
   "cell_type": "markdown",
   "metadata": {},
   "source": [
    "It is useful to know what operations have been performed on an image.  Therefore, it is common to put HISTORY/COMMENT cards in the header whenever an operation has been taken or other keywords."
   ]
  },
  {
   "cell_type": "markdown",
   "metadata": {},
   "source": [
    "```\n",
    "OVSNMEAN=             1436.145                                                  \n",
    "TRIM    = 'Oct  8 21:17 Trim is [25:1048,1:4096]'                               \n",
    "FIXPIX  = 'Oct  8 21:17 Fix mscdb$noao/Mosaic2/CAL0102/bpm1_0102 + sat + bleed' \n",
    "OVERSCAN= 'Oct  8 21:17 Overscan is [1063:1112,1:4096], mean 1436.145'          \n",
    "ZEROCOR = 'Oct  8 21:17 Zero is Zero[im1]'                                      \n",
    "FLATCOR = 'Oct  8 21:17 Flat is DFlatI.fits[im1], scale 10494.14'               \n",
    "CCDPROC = 'Oct 18 11:33 CCD processing done'    \n",
    "```"
   ]
  },
  {
   "cell_type": "markdown",
   "metadata": {},
   "source": [
    "Go back to your ``overscantrimzerodarkflat()`` function and add lines to put HISTORY statements in the header after a processing step was performed.  For HISTORY use the .add_history() method of the header object.  For a new keyword just use ```head[\"NEWKEY\"]=newvalue```.  You might need to modify your function to take the header as an input."
   ]
  },
  {
   "cell_type": "code",
   "execution_count": null,
   "metadata": {},
   "outputs": [],
   "source": []
  }
 ],
 "metadata": {
  "kernelspec": {
   "display_name": "Python 3",
   "language": "python",
   "name": "python3"
  },
  "language_info": {
   "codemirror_mode": {
    "name": "ipython",
    "version": 3
   },
   "file_extension": ".py",
   "mimetype": "text/x-python",
   "name": "python",
   "nbconvert_exporter": "python",
   "pygments_lexer": "ipython3",
<<<<<<< Updated upstream
   "version": "3.8.8"
=======
   "version": "3.8.3"
>>>>>>> Stashed changes
  }
 },
 "nbformat": 4,
 "nbformat_minor": 2
}
