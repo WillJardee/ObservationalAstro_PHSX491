{
 "cells": [
  {
   "cell_type": "markdown",
   "metadata": {},
   "source": [
    "# PHXS 491_001: Observational Astronomy - Homework 3"
   ]
  },
  {
   "cell_type": "markdown",
   "metadata": {},
   "source": [
    "### Due Sep 21, 2021\n",
    "Remember to save your completed notebook as a PDF and upload to Brightspace under Assignments."
   ]
  },
  {
   "cell_type": "markdown",
   "metadata": {},
   "source": [
    "Name:"
   ]
  },
  {
   "cell_type": "markdown",
   "metadata": {},
   "source": [
    "## Please use the \"primt()\" function (notice the \"m\") to print out your answers in magenta.  This makes grading easier.  You might need to \"print to PDF\" to get the colors to show up. Thanks to Katie for figuring this out."
   ]
  },
  {
   "cell_type": "code",
   "execution_count": 1,
   "metadata": {},
   "outputs": [],
   "source": [
    "def primt(*args):\n",
    "    '''\n",
    "    For any amount of arguments \"*args\", prints in magenta.\n",
    "    '''\n",
    "    magenta = \"\\x1B[38;5;201m\"   # the color in ANSI code\n",
    "    for el in args:  # for each argument\n",
    "        magenta += \" \"+(str(el))  # add the argument to the string to be printed\n",
    "    print(magenta)   #print!"
   ]
  },
  {
   "cell_type": "code",
   "execution_count": 2,
   "metadata": {},
   "outputs": [
    {
     "name": "stdout",
     "output_type": "stream",
     "text": [
      "\u001b[38;5;201m test\n"
     ]
    }
   ],
   "source": [
    "primt('test')"
   ]
  },
  {
   "cell_type": "code",
   "execution_count": 3,
   "metadata": {},
   "outputs": [],
   "source": [
    "#Imports\n",
    "import numpy as np\n",
    "from astropy.table import Table\n",
    "from astropy import units as u\n",
    "\n",
    "from matplotlib import pyplot as plt\n",
    "from __future__ import print_function\n",
    "from astropy.time import Time\n",
    "import datetime\n",
    "%matplotlib inline\n",
    "import astropy.coordinates as coord"
   ]
  },
  {
   "cell_type": "markdown",
   "metadata": {},
   "source": [
    "# Part 1: Telescope Optics Questions\n"
   ]
  },
  {
   "cell_type": "markdown",
   "metadata": {},
   "source": [
    "1) How much fainter can you see with a 4m diameter telescope than 12 inch diameter telescope?  What is the difference in magnitudes?\n",
    "\n"
   ]
  },
  {
   "cell_type": "code",
   "execution_count": 39,
   "metadata": {},
   "outputs": [
    {
     "name": "stdout",
     "output_type": "stream",
     "text": [
      "\u001b[38;5;201m Ratio of flux/how much dimmer: 5.81e-03\n",
      "\u001b[38;5;201m Difference in mag: 5.59\n"
     ]
    }
   ],
   "source": [
    "# difference in flux will be a ratio of these areas. So: \n",
    "ratio = ((12*(u.imperial.inch))**2 / (4*u.m)**2).to(u.dimensionless_unscaled)\n",
    "deltam = -2.5*np.log10(ratio)\n",
    "primt(f\"Ratio of flux/how much dimmer: {ratio:.2e}\")\n",
    "primt(f\"Difference in mag: {deltam:.2f}\")"
   ]
  },
  {
   "cell_type": "markdown",
   "metadata": {},
   "source": [
    "2) Calculate the image scale of a telescope with a diameter of 800 mm and a focal ratio of 7 (give answer in arcsec/mm)?\n"
   ]
  },
  {
   "cell_type": "code",
   "execution_count": 5,
   "metadata": {},
   "outputs": [
    {
     "name": "stdout",
     "output_type": "stream",
     "text": [
      "\u001b[38;5;201m Plate scale: 36.83 arcsec / mm\n"
     ]
    }
   ],
   "source": [
    "s2 = 800 * u.mm\n",
    "f = 7 * s2\n",
    "p = 206265*u.arcsec/f\n",
    "primt(f\"Plate scale: {p:.2f}\")"
   ]
  },
  {
   "cell_type": "markdown",
   "metadata": {},
   "source": [
    "3) If we have a CCD detector with a size of 2cm on the telescope from #2, what field of view (in arcmin) will we have?"
   ]
  },
  {
   "cell_type": "code",
   "execution_count": 6,
   "metadata": {},
   "outputs": [
    {
     "name": "stdout",
     "output_type": "stream",
     "text": [
      "\u001b[38;5;201m FOV: 12.28 arcmin\n"
     ]
    }
   ],
   "source": [
    "fov = (p*2*u.cm).to(u.arcmin)\n",
    "primt(f\"FOV: {fov:.2f}\")"
   ]
  },
  {
   "cell_type": "markdown",
   "metadata": {},
   "source": [
    "4) What is the diffraction limit for a 20 inch diameter telescope at 700nm?\n"
   ]
  },
  {
   "cell_type": "code",
   "execution_count": 7,
   "metadata": {},
   "outputs": [
    {
     "name": "stdout",
     "output_type": "stream",
     "text": [
      "\u001b[38;5;201m Diffraction: 1.68e-06 rad\n"
     ]
    }
   ],
   "source": [
    "diffraction = 1.22 * 700*u.nm/(20*u.imperial.inch)\n",
    "diffraction = diffraction.to(u.dimensionless_unscaled)*u.radian\n",
    "primt(f\"Diffraction: {diffraction:.2e}\")"
   ]
  },
  {
   "cell_type": "markdown",
   "metadata": {},
   "source": [
    "5)  Calculate the magnification of the telescope in #2 when used with an eyepiece of focal length 15 mm?"
   ]
  },
  {
   "cell_type": "code",
   "execution_count": 8,
   "metadata": {},
   "outputs": [
    {
     "name": "stdout",
     "output_type": "stream",
     "text": [
      "\u001b[38;5;201m Magnification: 373.33\n"
     ]
    }
   ],
   "source": [
    "M = f/(15*u.mm)\n",
    "primt(f\"Magnification: {M:.2f}\")"
   ]
  },
  {
   "cell_type": "markdown",
   "metadata": {},
   "source": [
    "# Part 2: Intro to Plotting\n",
    "The purpose of this section is to explore how to make simple plots in Python. In later sections we will explore more advanced plotting techniques, but for now our goal is to be able to do some everyday plots with our data. I relied heavily on the Matplotlib Pyplot Tutorial (https://matplotlib.org/tutorials/introductory/pyplot.html#sphx-glr-tutorials-introductory-pyplot-py)."
   ]
  },
  {
   "cell_type": "markdown",
   "metadata": {},
   "source": [
    "## Setting things up\n",
    "There are a number of new imports we need to do in order to create plots. All of the plotting we will do in this class uses the module **Matplotlib** [https://matplotlib.org/]. This module gives us access to a huge array of different plotting tools. Matplotlib is so tightly interwoven with Python notebooks that there is a special set of magic keywords associated with it. All magic keywords are precedded with a %. The one we will use is called `%matplotlib inline`. It allows us to display plots directly in the notebook without issue."
   ]
  },
  {
   "cell_type": "code",
   "execution_count": 9,
   "metadata": {},
   "outputs": [],
   "source": [
    "import numpy as np\n",
    "from astropy.table import Table\n",
    "from astropy import units as u\n",
    "\n",
    "from matplotlib import pyplot as plt #Our new imports\n",
    "#The matplotlib magic. Don't forget this in new notebooks\n",
    "%matplotlib inline "
   ]
  },
  {
   "cell_type": "markdown",
   "metadata": {},
   "source": [
    "# Simple Plots\n",
    "The simplest plots are just line or scatter plots. Generally you start with an x array and a y array for your points."
   ]
  },
  {
   "cell_type": "code",
   "execution_count": 10,
   "metadata": {},
   "outputs": [
    {
     "data": {
      "image/png": "[encoded data removed]",
      "text/plain": [
       "<Figure size 432x288 with 1 Axes>"
      ]
     },
     "metadata": {
      "needs_background": "light"
     },
     "output_type": "display_data"
    }
   ],
   "source": [
    "x = np.array([1,2,3,4,5])\n",
    "y = 1.5*x+2\n",
    "plt.plot(x,y)\n",
    "plt.xlabel('My X-axis')\n",
    "plt.ylabel('My Y-Axis')\n",
    "plt.show() #This is only necessary if plotting is not the last thing in the code cell."
   ]
  },
  {
   "cell_type": "markdown",
   "metadata": {},
   "source": [
    "We can plot more than one thing on a plot at a time. All we have to do is issue more ploting commands. I can control the color and type of the line using a format string.  The format string consists of a color and a style. In python notebooks, we should use `plt.tight_layout()` instead of `plt.show()` because it causes everything to fit, especially with multiplots."
   ]
  },
  {
   "cell_type": "code",
   "execution_count": 11,
   "metadata": {},
   "outputs": [
    {
     "data": {
      "image/png": "[encoded data removed]",
      "text/plain": [
       "<Figure size 432x288 with 1 Axes>"
      ]
     },
     "metadata": {
      "needs_background": "light"
     },
     "output_type": "display_data"
    }
   ],
   "source": [
    "x = np.linspace(0, 2, 20) #Create 20 linearly space points from (0,2)\n",
    "\n",
    "plt.plot(x, x,'r-.') #Red line dash-dot\n",
    "plt.plot(x, x**2,'g-') #Green line normal\n",
    "plt.plot(x, x**3,'b--') #Blue line dashed\n",
    "\n",
    "plt.xlabel('x')\n",
    "plt.ylabel('y')\n",
    "\n",
    "plt.tight_layout() "
   ]
  },
  {
   "cell_type": "markdown",
   "metadata": {},
   "source": [
    "We can also add Titles, legends and use points instead of lines."
   ]
  },
  {
   "cell_type": "code",
   "execution_count": 12,
   "metadata": {},
   "outputs": [
    {
     "data": {
      "image/png": "[encoded data removed]",
      "text/plain": [
       "<Figure size 432x288 with 1 Axes>"
      ]
     },
     "metadata": {
      "needs_background": "light"
     },
     "output_type": "display_data"
    }
   ],
   "source": [
    "x = np.linspace(0, 2, 20) #Create 20 linearly space points from (0,2)\n",
    "\n",
    "plt.plot(x, x,'c.', label=\"Linear\") #Cyan line dash-dot\n",
    "plt.plot(x, x**2,'mo', label=\"Quadratic\") #Magenta line normal\n",
    "plt.plot(x, x**3,'k^', label=\"Cubic\") #Black line dashed\n",
    "\n",
    "plt.xlabel('x')\n",
    "plt.ylabel('y')\n",
    "plt.title(\"Fancy Plot\")\n",
    "plt.legend()\n",
    "\n",
    "plt.tight_layout() "
   ]
  },
  {
   "cell_type": "markdown",
   "metadata": {},
   "source": [
    "## Now it is your turn\n",
    "Create a plot of sin(x) and cos(x) going from 0 to $2\\pi$. Be sure to include a legend."
   ]
  },
  {
   "cell_type": "code",
   "execution_count": 13,
   "metadata": {},
   "outputs": [
    {
     "data": {
      "image/png": "[encoded data removed]",
      "text/plain": [
       "<Figure size 432x288 with 1 Axes>"
      ]
     },
     "metadata": {
      "needs_background": "light"
     },
     "output_type": "display_data"
    }
   ],
   "source": [
    "x = np.linspace(0,2*np.pi,200)\n",
    "\n",
    "plt.plot(x,np.sin(x),\"m\",label=\"sin\")\n",
    "plt.plot(x,np.cos(x),\"blue\",label=\"cos\")\n",
    "plt.hlines(0,0,2*np.pi,\"black\")\n",
    "plt.title(\"sin and cos\")\n",
    "plt.legend()\n",
    "plt.tight_layout() "
   ]
  },
  {
   "cell_type": "markdown",
   "metadata": {},
   "source": [
    "## Multiple plots\n",
    "Sometimes you want to have more than one plot at a time. You can use the `plt.subplot` to help you out. The order of arguements is (num_ver,num_hor,plot_num). You need to give all the plot elements for each plot (`xlabel`,`title`,etc)."
   ]
  },
  {
   "cell_type": "code",
   "execution_count": 14,
   "metadata": {},
   "outputs": [
    {
     "data": {
      "image/png": "[encoded data removed]",
      "text/plain": [
       "<Figure size 432x288 with 3 Axes>"
      ]
     },
     "metadata": {
      "needs_background": "light"
     },
     "output_type": "display_data"
    }
   ],
   "source": [
    "plt.subplot(311)\n",
    "x = np.linspace(0, 2, 20) #Create 20 linearly space points from (0,2)\n",
    "\n",
    "plt.plot(x, x,'r.-')\n",
    "plt.ylabel('y')\n",
    "plt.title('Red Line')\n",
    "\n",
    "plt.subplot(312)\n",
    "plt.plot(x, x**2,c='green', marker='*', ls='None')\n",
    "plt.ylabel('y')\n",
    "plt.title('Green Line')\n",
    "\n",
    "plt.subplot(313)\n",
    "plt.plot(x, x**3,c='darkorange',ls=':')\n",
    "plt.xlabel('x')\n",
    "plt.ylabel('y')\n",
    "plt.title('Orange Line')\n",
    "\n",
    "plt.tight_layout()"
   ]
  },
  {
   "cell_type": "markdown",
   "metadata": {},
   "source": [
    "## Controlling the axis\n",
    "You can also make plots with logarithmic axis and control the x and y limits of the axis."
   ]
  },
  {
   "cell_type": "code",
   "execution_count": 15,
   "metadata": {},
   "outputs": [
    {
     "data": {
      "image/png": "[encoded data removed]",
      "text/plain": [
       "<Figure size 432x288 with 4 Axes>"
      ]
     },
     "metadata": {
      "needs_background": "light"
     },
     "output_type": "display_data"
    }
   ],
   "source": [
    "plt.subplot(221)\n",
    "x = np.linspace(-2, 30, 25) #Create 20 linearly space points from (0,2)\n",
    "\n",
    "plt.plot(x, x,'r.')\n",
    "plt.ylabel('y')\n",
    "\n",
    "plt.subplot(222)\n",
    "plt.plot(x, x**2,c='green', marker='*', ls='None')\n",
    "plt.xlim(-5,8)\n",
    "plt.ylim(-10,25)\n",
    "\n",
    "plt.subplot(223)\n",
    "plt.plot(x, x**3,c='darkorange',ls=':')\n",
    "plt.xlabel('x')\n",
    "plt.ylabel('y')\n",
    "plt.yscale('symlog') #Handles the range around 0 in linear coordinates.\n",
    "\n",
    "plt.subplot(224)\n",
    "plt.plot(x, x**4,c='purple',marker='o')\n",
    "plt.yscale('log')\n",
    "plt.xlabel('x')\n",
    "\n",
    "plt.tight_layout()"
   ]
  },
  {
   "cell_type": "markdown",
   "metadata": {},
   "source": [
    "## Data with Errorbars\n",
    "Let's read in some data and add errorbars to the plot. The method `plt.errorbar` gives one access to the keywords `xerr` and `yerr`. Note that `plt.show()` is better with a `suptitle`. Mulitpolots always take some effort to get right."
   ]
  },
  {
   "cell_type": "code",
   "execution_count": 16,
   "metadata": {},
   "outputs": [
    {
     "name": "stdout",
     "output_type": "stream",
     "text": [
      "<TableColumns names=('#HIP (Name)','Ra (Degrees)','Dec (Degrees)','Plx (milliarcsec)','B (mag)','V (mag)','err_Plx','err_B','err_V')>\n"
     ]
    },
    {
     "data": {
      "image/png": "[encoded data removed]",
      "text/plain": [
       "<Figure size 432x288 with 2 Axes>"
      ]
     },
     "metadata": {
      "needs_background": "light"
     },
     "output_type": "display_data"
    }
   ],
   "source": [
    "hip_tab = Table.read('data/hip_tiny.csv')\n",
    "print(hip_tab.columns) #Print the columns of the table\n",
    "\n",
    "plt.subplot(1,2,1)\n",
    "plt.errorbar(hip_tab['V (mag)'],hip_tab['Plx (milliarcsec)'],xerr=hip_tab['err_V'],yerr=hip_tab['err_Plx'],fmt='b+')\n",
    "plt.xlabel('V (mag)')\n",
    "plt.ylabel('Plx (mas)')\n",
    "\n",
    "plt.subplot(1,2,2)\n",
    "plt.errorbar(hip_tab['V (mag)'],hip_tab['Plx (milliarcsec)'],yerr=hip_tab['err_Plx'],fmt='go',capsize=4)\n",
    "plt.xlabel('V (mag)')\n",
    "plt.suptitle(\"Two Plots\")\n",
    "plt.show()"
   ]
  },
  {
   "cell_type": "markdown",
   "metadata": {},
   "source": [
    "## Histograms\n",
    "When plot large amounts of data you often want to use a histogram. A histogram is when you take data and you put it into a series of bins. The x-axis is the value you are histogramming and the y-axis is the number of items in each bin. The number of bins you use is up to you, if you set bins to `'auto'`, it will use an algorithm to find the best number of bins. It is worth noting that you want enough bins to see what is happening in the data, but not so many that you have to few objects in each bin. Usage: `plt.hist(data,bins,keywords)`. You can also add text to your plot. When using text put an `r'text'` means raw string. We use that if we don't want to use things like `\\n`. If you include `$TeX formating$` you can use TeX math formating to give fancy symbols."
   ]
  },
  {
   "cell_type": "code",
   "execution_count": 17,
   "metadata": {},
   "outputs": [
    {
     "data": {
      "image/png": "[encoded data removed]",
      "text/plain": [
       "<Figure size 432x288 with 1 Axes>"
      ]
     },
     "metadata": {
      "needs_background": "light"
     },
     "output_type": "display_data"
    }
   ],
   "source": [
    "mu, sigma = 100, 15\n",
    "x = mu + sigma * np.random.randn(10000) #Generate some Gaussian normal data\n",
    "\n",
    "plt.hist(x,50,range=(20,160),color=\"#58ACFA\",edgecolor='black')\n",
    "plt.text(25, 500, r'Gaussian: $\\mu={}$'.format(mu)) #Using Data coordinates\n",
    "plt.text(.215,.57,r'$\\sigma={}$'.format(sigma),transform=plt.gca().transAxes) #Using axes coordinates (0,0) to (1,1)\n",
    "plt.tight_layout()"
   ]
  },
  {
   "cell_type": "markdown",
   "metadata": {},
   "source": [
    "## Your Turn\n",
    "Take the data from hip_small.csv and make 2 histograms side by side horizontally. The first histogram should be of B (mag) and the other V (mag). Write the max, mean and min of the data set on each plot."
   ]
  },
  {
   "cell_type": "code",
   "execution_count": 35,
   "metadata": {},
   "outputs": [
    {
     "data": {
      "image/png": "[encoded data removed]",
      "text/plain": [
       "<Figure size 432x288 with 2 Axes>"
      ]
     },
     "metadata": {
      "needs_background": "light"
     },
     "output_type": "display_data"
    }
   ],
   "source": [
    "hip_tab_small = Table.read('data/hip_small.csv')\n",
    "\n",
    "\n",
    "plt.subplot(1,2,1)\n",
    "plt.hist(hip_tab_small['B (mag)'],50,color=\"#58ACFA\",edgecolor='black')\n",
    "plt.text(1, 800, r'max:  {:.2f}'.format(np.max(hip_tab_small[\"B (mag)\"])))\n",
    "plt.text(1, 750,  r'mean: {:.2f}'.format(np.mean(hip_tab_small[\"B (mag)\"])))\n",
    "plt.text(1, 700, r'min:  {:.2f}'.format(np.min(hip_tab_small[\"B (mag)\"])))\n",
    "plt.title(\"B (mag)\")\n",
    "\n",
    "plt.subplot(1,2,2)\n",
    "plt.hist(hip_tab_small['V (mag)'],50,color=\"#58ACFA\",edgecolor='black')\n",
    "plt.text(1, 800, r'max:  {:.2f}'.format(np.max(hip_tab_small[\"V (mag)\"])))\n",
    "plt.text(1, 750,  r'mean: {:.2f}'.format(np.mean(hip_tab_small[\"V (mag)\"])))\n",
    "plt.text(1, 700, r'min:  {:.2f}'.format(np.min(hip_tab_small[\"V (mag)\"])))\n",
    "plt.title(\"V (mag)\")\n",
    "plt.suptitle(\"B and V\")\n",
    "plt.show()"
   ]
  },
  {
   "cell_type": "markdown",
   "metadata": {},
   "source": [
    "# Part 3: Intro to Astropy Time\n",
    "One of the other major transformations that people tend to do is working with is time. Astropy has several ways to help you go back and forth between different time units. (This notebook is based on the astropy.time tutorial)."
   ]
  },
  {
   "cell_type": "code",
   "execution_count": 19,
   "metadata": {},
   "outputs": [],
   "source": [
    "from __future__ import print_function\n",
    "from astropy.time import Time\n",
    "import datetime\n",
    "%matplotlib inline\n",
    "import matplotlib.pyplot as plt\n",
    "import numpy as np\n",
    "import astropy.coordinates as coord\n",
    "import astropy.units as u"
   ]
  },
  {
   "cell_type": "code",
   "execution_count": 20,
   "metadata": {},
   "outputs": [
    {
     "name": "stdout",
     "output_type": "stream",
     "text": [
      "['1999-01-01T00:00:00.123' '2010-01-01T00:00:00.000']\n"
     ]
    }
   ],
   "source": [
    "times = ['1999-01-01T00:00:00.123456789', '2010-01-01T00:00:00'] #These are UTC times\n",
    "t = Time(times, format='isot', scale='utc')\n",
    "print(t)"
   ]
  },
  {
   "cell_type": "markdown",
   "metadata": {},
   "source": [
    "## Time Formats\n",
    "One of the first things you are going to want to be able to do is convert among a variety of formats. Generally speacking you will have a time in the form of a date and an HH:MM:SS.S, and you will need a way to go to the many different representations of time.\n",
    "\n",
    "| Format \t|Class \t|Example argument|\n",
    "| ---- | ---- | ---- |\n",
    "| byear \t|TimeBesselianEpoch \t|1950.0|\n",
    "| byear_str \t|TimeBesselianEpochString \t|‘B1950.0’|\n",
    "| cxcsec \t|TimeCxcSec \t|63072064.184|\n",
    "| datetime \t|TimeDatetime \t|datetime(2000, 1, 2, 12, 0, 0)|\n",
    "| decimalyear \t|TimeDecimalYear \t|2000.45|\n",
    "| fits \t|TimeFITS \t|‘2000-01-01T00:00:00.000(TAI)’|\n",
    "| gps \t|TimeGPS \t|630720013.0|\n",
    "| iso \t|TimeISO \t|‘2000-01-01 00:00:00.000’|\n",
    "| isot \t|TimeISOT \t|‘2000-01-01T00:00:00.000’|\n",
    "| jd \t|TimeJD \t|2451544.5|\n",
    "| jyear \t|TimeJulianEpoch \t|2000.0|\n",
    "| jyear_str \t|TimeJulianEpochString \t|‘J2000.0’|\n",
    "| mjd \t|TimeMJD \t|51544.0|\n",
    "| plot_date \t|TimePlotDate \t|730120.0003703703|\n",
    "| unix \t|TimeUnix \t|946684800.0|\n",
    "| yday \t|TimeYearDayTime \t|2000:001:00:00:00.000|"
   ]
  },
  {
   "cell_type": "code",
   "execution_count": 21,
   "metadata": {},
   "outputs": [
    {
     "name": "stdout",
     "output_type": "stream",
     "text": [
      "jd, mjd, decimalyear, unix, unix_tai, cxcsec, gps, plot_date, stardate, datetime, ymdhms, iso, isot, yday, datetime64, fits, byear, jyear, byear_str, jyear_str, "
     ]
    }
   ],
   "source": [
    "for formats in Time.FORMATS:\n",
    "    print(\"{}, \".format(formats),end=\"\")"
   ]
  },
  {
   "cell_type": "markdown",
   "metadata": {},
   "source": [
    "You can change format by setting the format object to a new value."
   ]
  },
  {
   "cell_type": "code",
   "execution_count": 22,
   "metadata": {},
   "outputs": [
    {
     "name": "stdout",
     "output_type": "stream",
     "text": [
      "2451179.500001429\n",
      "2451179.500001429\n",
      "2451179.50000143\n"
     ]
    }
   ],
   "source": [
    "t.format = 'jd'\n",
    "print(t[0])\n",
    "print(t[0].jd)\n",
    "print(\"{:.8f}\".format(t[0].jd)) #Be careful about rounding"
   ]
  },
  {
   "cell_type": "markdown",
   "metadata": {},
   "source": [
    "Convert the following UTC date: **11-02-2016 at 3:15:12.5** into fits time, jd, mjd, and decimal year."
   ]
  },
  {
   "cell_type": "code",
   "execution_count": 23,
   "metadata": {},
   "outputs": [
    {
     "name": "stdout",
     "output_type": "stream",
     "text": [
      "\u001b[38;5;201m UTC: 2016-11-02T03:15:12.500\n",
      "\u001b[38;5;201m fits: 2016-11-02T03:15:12.500\n",
      "\u001b[38;5;201m jd: 2457694.635561343\n",
      "\u001b[38;5;201m mjd: 57694.13556134259\n",
      "\u001b[38;5;201m decimal year: 2016.8364359599525\n"
     ]
    }
   ],
   "source": [
    "t = '2016-11-02T03:15:12.5'\n",
    "time = Time(t, format='isot', scale='utc')\n",
    "primt(f\"UTC: {time}\")\n",
    "primt(f\"fits: {time.fits}\")\n",
    "primt(f\"jd: {time.jd}\")\n",
    "primt(f\"mjd: {time.mjd}\")\n",
    "primt(f\"decimal year: {time.decimalyear}\")"
   ]
  },
  {
   "cell_type": "markdown",
   "metadata": {},
   "source": [
    "## Time Scales\n",
    "As we discussed in class there are many different types of time whether you are using atomic time, Universal Time etc. A list of time can be found here: http://docs.astropy.org/en/stable/time/#id6. The default scale is UTC."
   ]
  },
  {
   "cell_type": "code",
   "execution_count": 24,
   "metadata": {},
   "outputs": [
    {
     "name": "stdout",
     "output_type": "stream",
     "text": [
      "2010-01-01 00:01:06.184\n",
      "2010-01-01 00:00:34.000\n"
     ]
    }
   ],
   "source": [
    "t = Time('2010-01-01 00:00:00', format='iso', scale='utc')\n",
    "print(t.tt)        # TT scale\n",
    "print(t.tai)       # TAI scale"
   ]
  },
  {
   "cell_type": "markdown",
   "metadata": {},
   "source": [
    "## Current Time\n",
    "Sometimes you need the current UTC time."
   ]
  },
  {
   "cell_type": "code",
   "execution_count": 25,
   "metadata": {},
   "outputs": [
    {
     "name": "stdout",
     "output_type": "stream",
     "text": [
      "2021-09-21 15:24:08.819490\n"
     ]
    }
   ],
   "source": [
    "nt = Time.now()\n",
    "print(nt)"
   ]
  },
  {
   "cell_type": "markdown",
   "metadata": {},
   "source": [
    "## A Note about Timezones\n",
    "In this notebook we do not discuss timezones. The reason is that timezones with daylight savings time become problematic during the daylight savings time transition. As a result, all calculations should be done in UTC, and only coverted into a given timezone at the very end."
   ]
  },
  {
   "cell_type": "markdown",
   "metadata": {},
   "source": [
    "## Formating Time\n",
    "You can create exactly the time you want using the following format codes. Note you need to transform to at datetime time object to be able to use them.\n",
    "\n",
    "| Code | Result |\n",
    "|----|----|\n",
    "| %a | Weekday as locale’s abbreviated name. |\n",
    "| %A | Weekday as locale’s full name. |\n",
    "| %w | Weekday as a decimal number, where 0 is Sunday and 6 is Saturday. | \t \n",
    "| %d | Day of the month as a zero-padded decimal number. |\t \n",
    "| %b | Month as locale’s abbreviated name. |\n",
    "| %B | Month as locale’s full name. | \n",
    "| %m | Month as a zero-padded decimal number. | \t \n",
    "| %y | Year without century as a zero-padded decimal number.| \n",
    "| %Y | Year with century as a decimal number.| \t\n",
    "| %H |\tHour (24-hour clock) as a zero-padded decimal number. |\t \n",
    "| %I |\tHour (12-hour clock) as a zero-padded decimal number. |\t\n",
    "| %p |\tLocale’s equivalent of either AM or PM. |\n",
    "| %M |\tMinute as a zero-padded decimal number. |\t\n",
    "| %S |\tSecond as a zero-padded decimal number. |\t\n",
    "| %f |\tMicrosecond as a decimal number, zero-padded on the left.|\n",
    "| %z |\tUTC offset in the form +HHMM or -HHMM (empty string if the the object is naive).| \t\n",
    "| %Z |\tTime zone name (empty string if the object is naive).|\n",
    "| %j |\tDay of the year as a zero-padded decimal number. |\n",
    "| %c |\tLocale’s appropriate date and time representation.| \t\n",
    "| %x |\tLocale’s appropriate date representation. |\n",
    "| %X |\tLocale’s appropriate time representation. |\n",
    "| %% |\tA literal '%' character.|"
   ]
  },
  {
   "cell_type": "code",
   "execution_count": 26,
   "metadata": {},
   "outputs": [
    {
     "name": "stdout",
     "output_type": "stream",
     "text": [
      "Hour: 15 Minute:24 Second:08\n"
     ]
    }
   ],
   "source": [
    "print((nt.datetime).strftime('Hour: %H Minute:%M Second:%S')) "
   ]
  },
  {
   "cell_type": "markdown",
   "metadata": {},
   "source": [
    "## Plotting Time\n",
    "Time objects can be handled by matplot lib without issue, but you must call the plot_date or datetime decorators for plot_date() and plot() respectively."
   ]
  },
  {
   "cell_type": "code",
   "execution_count": 27,
   "metadata": {},
   "outputs": [
    {
     "data": {
      "image/png": "[encoded data removed]",
      "text/plain": [
       "<Figure size 432x288 with 1 Axes>"
      ]
     },
     "metadata": {
      "needs_background": "light"
     },
     "output_type": "display_data"
    }
   ],
   "source": [
    "jyear = np.linspace(2000, 2001, 20)  \n",
    "t = Time(jyear, format='jyear')  \n",
    "plt.plot_date(t.plot_date, jyear)  \n",
    "plt.gcf().autofmt_xdate()  # orient date labels at a slant  \n",
    "plt.tight_layout()"
   ]
  },
  {
   "cell_type": "code",
   "execution_count": 28,
   "metadata": {},
   "outputs": [
    {
     "data": {
      "image/png": "[encoded data removed]",
      "text/plain": [
       "<Figure size 432x288 with 2 Axes>"
      ]
     },
     "metadata": {
      "needs_background": "light"
     },
     "output_type": "display_data"
    }
   ],
   "source": [
    "#This can give you much more control over the date\n",
    "from matplotlib.dates import DateFormatter\n",
    "\n",
    "jyear = np.linspace(2000.0001, 2000.0003, 20)  \n",
    "t = Time(jyear, format='jyear')  \n",
    "\n",
    "plt.subplot(1,2,1)\n",
    "plt.plot(t.datetime,jyear-2000)\n",
    "formatter = DateFormatter('%H') #Choose your time format\n",
    "plt.gcf().axes[0].xaxis.set_major_formatter(formatter)\n",
    "#Changing the format\n",
    "plt.subplot(1,2,2)\n",
    "plt.plot(t.datetime,jyear-2000)\n",
    "\n",
    "formatter = DateFormatter('%H:%M:%S') #Choose your time format\n",
    "plt.gcf().axes[1].xaxis.set_major_formatter(formatter)\n",
    "plt.xticks(rotation=35, ha='right')[1] #Rotate axis\n",
    "#plt.gcf().autofmt_xdate()  # Doesn't work well in subplots\n",
    "plt.tight_layout()"
   ]
  },
  {
   "cell_type": "markdown",
   "metadata": {},
   "source": [
    "## Time Differences\n",
    "Time objects can be added and subtracted in the normal way. Time objects should handle mixed scales okay, but you should be aware of when this is happening."
   ]
  },
  {
   "cell_type": "code",
   "execution_count": 29,
   "metadata": {},
   "outputs": [
    {
     "name": "stdout",
     "output_type": "stream",
     "text": [
      "31.0\n",
      "2678400.0\n",
      "2010-02-01 00:00:50.000\n",
      "2010-01-31 23:59:10.000\n"
     ]
    }
   ],
   "source": [
    "t1 = Time('2010-01-01 00:00:00')\n",
    "t2 = Time('2010-02-01 00:00:00')\n",
    "dt = t2 - t1  # Difference between two Times\n",
    "print(dt)\n",
    "print(dt.sec)\n",
    "\n",
    "from astropy.time import TimeDelta\n",
    "dt2 = TimeDelta(50.0, format='sec')\n",
    "t3 = t2 + dt2  # Add a TimeDelta to a Time\n",
    "print(t3.iso)\n",
    "print(t2 - dt2)  # Subtract a TimeDelta from a Time"
   ]
  },
  {
   "cell_type": "markdown",
   "metadata": {},
   "source": [
    "## Heliocentric and Barycentric times\n",
    "For precision measurements it is usually useful to move to either the helio center or barycenter of the solar system."
   ]
  },
  {
   "cell_type": "code",
   "execution_count": 30,
   "metadata": {},
   "outputs": [
    {
     "name": "stdout",
     "output_type": "stream",
     "text": [
      "[56325.95456757 56325.97448688]\n",
      "[56325.95533943 56325.97525874]\n",
      "[-0.49619002 -0.49613264]\n"
     ]
    }
   ],
   "source": [
    "ip_peg = coord.SkyCoord(\"23:23:08.55\", \"+18:24:59.3\", unit=(u.hourangle, u.deg), frame='icrs')\n",
    "greenwich = coord.EarthLocation.of_site('greenwich')\n",
    "times = Time([56325.95833333, 56325.978254], format='mjd', scale='utc', location=greenwich)\n",
    "ltt_bary = times.light_travel_time(ip_peg)\n",
    "ltt_helio = times.light_travel_time(ip_peg, 'heliocentric')\n",
    "times_heliocentre = times.utc + ltt_helio\n",
    "print(times_heliocentre)\n",
    "times_barycentre = times.tdb + ltt_bary\n",
    "print(times_barycentre)\n",
    "diff = times_barycentre - times_heliocentre\n",
    "print(diff.sec)"
   ]
  },
  {
   "cell_type": "code",
   "execution_count": null,
   "metadata": {},
   "outputs": [],
   "source": []
  },
  {
   "cell_type": "markdown",
   "metadata": {},
   "source": [
    "## Sidereal Time\n",
    "There is also a nice function for getting sidereal time at a given location. Note the times are **UTC**. The location must be a tuple of (longitude, latitude) where longitude is positive east longitude (west is negative).(You can convert a negative or west longitude by adding 360). The mean sidereal time is similar to mean solar time in that it averages out annual variations. The apparent sidereal time is equal to the right ascension on the meridian. **The apparent sidereal time is the one will use when I ask for sidereal time.**"
   ]
  },
  {
   "cell_type": "code",
   "execution_count": 31,
   "metadata": {},
   "outputs": [
    {
     "name": "stdout",
     "output_type": "stream",
     "text": [
      "13h05m22.2787s\n",
      "13h05m22.2132s\n"
     ]
    }
   ],
   "source": [
    "t = Time('2006-01-15 21:24:37.5', scale='utc', location=('120d', '45d'))\n",
    "print(t.sidereal_time('mean'))  \n",
    "print(t.sidereal_time('apparent')) #This is what you should generally use."
   ]
  },
  {
   "cell_type": "markdown",
   "metadata": {},
   "source": [
    "Now its your turn:\n",
    "\n",
    "Print the Current time and Local Sidereal time."
   ]
  },
  {
   "cell_type": "code",
   "execution_count": 32,
   "metadata": {},
   "outputs": [
    {
     "name": "stdout",
     "output_type": "stream",
     "text": [
      "\u001b[38;5;201m 2021-09-21 15:24:12.019216\n",
      "\u001b[38;5;201m 23h27m05.3449s\n"
     ]
    }
   ],
   "source": [
    "nt = Time.now()\n",
    "t = Time(nt, scale='utc', location=('120d', '45d'))\n",
    "primt(nt)\n",
    "primt(t.sidereal_time('apparent'))"
   ]
  },
  {
   "cell_type": "markdown",
   "metadata": {},
   "source": [
    "Vega was observed in Highland Heights, KY on October 1st, 2016 at 10:41:35.2pm UTC. Calculate the following information for that date:\n",
    "* Local Sidereal Time\n",
    "* Julian Date\n",
    "* Modified Julian Date\n",
    "* Heliocentric Julian Date\n",
    "* Barycentric Julian Date"
   ]
  },
  {
   "cell_type": "code",
   "execution_count": 33,
   "metadata": {},
   "outputs": [
    {
     "name": "stdout",
     "output_type": "stream",
     "text": [
      "\u001b[38;5;201m sidereal: 4.07191607 hourangle\n",
      "\u001b[38;5;201m jd: 2457694.4455\n",
      "\u001b[38;5;201m mjd: 57693.9455\n",
      "\u001b[38;5;201m Heliocentric jd: 2016-11-01 22:47:27.577\n",
      "\u001b[38;5;201m Barycentric jd: 2016-11-01 22:48:37.356\n"
     ]
    }
   ],
   "source": [
    "# Location via wikipedia, since I didnt find Highland Heights in EarthLocation\n",
    "heights = ('39:2:24', '84:27:21')\n",
    "t = Time('2016-11-01 22:41:35.2', scale='utc',location=heights)\n",
    "primt(f\"sidereal: {t.sidereal_time('apparent'):.8f}\")\n",
    "primt(f\"jd: {t.jd:.4f}\")\n",
    "primt(f\"mjd: {t.mjd:.4f}\")\n",
    "\n",
    "\n",
    "\n",
    "ip_peg = coord.SkyCoord(\"23:23:08.55\", \"+18:24:59.3\", unit=(u.hourangle, u.deg), frame='icrs')\n",
    "ltt_bary = t.light_travel_time(ip_peg)\n",
    "ltt_helio = t.light_travel_time(ip_peg, 'heliocentric')\n",
    "times_heliocentre = t.utc + ltt_helio\n",
    "primt(f\"Heliocentric jd: {times_heliocentre}\")\n",
    "times_barycentre = t.tdb + ltt_bary\n",
    "primt(f\"Barycentric jd: {times_barycentre}\")"
   ]
  },
  {
   "cell_type": "markdown",
   "metadata": {},
   "source": [
    "How long did it take you to complete this homework?"
   ]
  },
  {
   "cell_type": "markdown",
   "metadata": {},
   "source": [
    "so far ~1.5 hours"
   ]
  }
 ],
 "metadata": {
  "kernelspec": {
   "display_name": "Python 3",
   "language": "python",
   "name": "python3"
  },
  "language_info": {
   "codemirror_mode": {
    "name": "ipython",
    "version": 3
   },
   "file_extension": ".py",
   "mimetype": "text/x-python",
   "name": "python",
   "nbconvert_exporter": "python",
   "pygments_lexer": "ipython3",
   "version": "3.8.3"
  }
 },
 "nbformat": 4,
 "nbformat_minor": 2
}
