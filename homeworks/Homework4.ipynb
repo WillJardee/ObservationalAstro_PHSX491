{
 "cells": [
  {
   "cell_type": "markdown",
   "metadata": {},
   "source": [
    "# PHXS 491_001: Observational Astronomy - Homework 4"
   ]
  },
  {
   "cell_type": "markdown",
   "metadata": {},
   "source": [
    "### Due Sep 28, 2021\n",
    "Remember to save your completed notebook as a PDF and upload to Brightspace under Assignments."
   ]
  },
  {
   "cell_type": "markdown",
   "metadata": {},
   "source": [
    "Name: William Jardee"
   ]
  },
  {
   "cell_type": "markdown",
   "metadata": {},
   "source": [
    "## Please use the \"primt()\" function (notice the \"m\") to print out your answers in magenta.  This makes grading easier.  You might need to \"print to PDF\" to get the colors to show up. Thanks to Katie for figuring this out."
   ]
  },
  {
   "cell_type": "code",
   "execution_count": 1,
   "metadata": {},
   "outputs": [
    {
     "data": {
      "text/plain": [
       "['chesterish',\n",
       " 'grade3',\n",
       " 'gruvboxd',\n",
       " 'gruvboxl',\n",
       " 'monokai',\n",
       " 'oceans16',\n",
       " 'onedork',\n",
       " 'solarizedd',\n",
       " 'solarizedl']"
      ]
     },
     "execution_count": 1,
     "metadata": {},
     "output_type": "execute_result"
    }
   ],
   "source": [
    "# Chaning theme to a light mode for printing\n",
    "import jupyterthemes as jt\n",
    "!jt -t grade3 -T -N -kl -nfs 11 -fs 11 -ofs 11 -cursc r -cellw 90%\n",
    "jt.jtplot.style()\n",
    "jt.get_themes()"
   ]
  },
  {
   "cell_type": "code",
   "execution_count": 2,
   "metadata": {},
   "outputs": [],
   "source": [
    "def primt(*args):\n",
    "    '''\n",
    "    For any amount of arguments \"*args\", prints in magenta.\n",
    "    '''\n",
    "    magenta = \"\\x1B[38;5;201m\"   # the color in ANSI code\n",
    "    string = \"\"\n",
    "    for el in args:  # for each argument\n",
    "        string += \" \"+(str(el))  # add the argument to the string to be printed\n",
    "    magenta += string[1:]\n",
    "    print(magenta)   #print!"
   ]
  },
  {
   "cell_type": "code",
   "execution_count": 3,
   "metadata": {},
   "outputs": [],
   "source": [
    "#Bring in our imports\n",
    "import numpy as np\n",
    "import scipy.stats as stats\n",
    "from scipy.optimize import curve_fit\n",
    "from matplotlib import pyplot as pl\n",
    "import matplotlib.pyplot as plt\n",
    "import astropy.units as u\n",
    "%matplotlib inline\n",
    "from uncertainties import ufloat\n",
    "from astropy.io import fits\n"
   ]
  },
  {
   "cell_type": "markdown",
   "metadata": {},
   "source": [
    "# Part 1. Airmass and seeing"
   ]
  },
  {
   "cell_type": "markdown",
   "metadata": {},
   "source": [
    "Seeing increases (worsens) with increasing zenith distance given the increased path length through the atmosphere.  The seeing depends on airmass as: $s = s_0 X^{3/5}$"
   ]
  },
  {
   "cell_type": "markdown",
   "metadata": {},
   "source": [
    "1) What is the airmass of a star with DEC=+70.0 deg as it passes through the meridian when observed from Bozeman (latitude=45.6770 deg)"
   ]
  },
  {
   "cell_type": "code",
   "execution_count": 4,
   "metadata": {},
   "outputs": [
    {
     "name": "stdout",
     "output_type": "stream",
     "text": [
      "\u001b[38;5;201mWe have 1.10 airmasses\n"
     ]
    }
   ],
   "source": [
    "z = ((70-45.6770) * u.deg).to(u.radian)\n",
    "X = 1/np.cos(z)\n",
    "primt(f\"We have {X:.2f} airmasses\")"
   ]
  },
  {
   "cell_type": "markdown",
   "metadata": {},
   "source": [
    "2) Will it's airmass be larger or smaller as the star moves away from the meridian?"
   ]
  },
  {
   "cell_type": "code",
   "execution_count": 5,
   "metadata": {},
   "outputs": [
    {
     "name": "stdout",
     "output_type": "stream",
     "text": [
      "\u001b[38;5;201mSince it is now moving further from us, there will be more air obstructing our vision: more airmass.\n"
     ]
    }
   ],
   "source": [
    "primt('Since it is now moving further from us, there will be more air obstructing our vision: more airmass.')"
   ]
  },
  {
   "cell_type": "markdown",
   "metadata": {},
   "source": [
    "3) What is the minimum airmass of a star with DEC=-10.0 deg (observed from Bozeman)?"
   ]
  },
  {
   "cell_type": "code",
   "execution_count": 6,
   "metadata": {},
   "outputs": [
    {
     "name": "stdout",
     "output_type": "stream",
     "text": [
      "\u001b[38;5;201mWe have 1.77 airmasses\n"
     ]
    }
   ],
   "source": [
    "z = ((-10-45.6770) * u.deg).to(u.radian)\n",
    "X = 1/np.cos(z)\n",
    "primt(f\"We have {X:.2f} airmasses\")"
   ]
  },
  {
   "cell_type": "markdown",
   "metadata": {},
   "source": [
    "4) The seeing is observed to be 1.5 arcsec at a zenith distance of 30 deg.  What is the expected seeing at a zenith distance of 70 deg?"
   ]
  },
  {
   "cell_type": "code",
   "execution_count": 7,
   "metadata": {},
   "outputs": [
    {
     "name": "stdout",
     "output_type": "stream",
     "text": [
      "\u001b[38;5;201mExpected seeing of 2.62 arcsec\n"
     ]
    }
   ],
   "source": [
    "z = ((30) * u.deg).to(u.radian)\n",
    "X = 1/np.cos(z)\n",
    "s_0 = 1.5*u.arcsec*X**(-3/5)\n",
    "\n",
    "z = ((70) * u.deg).to(u.radian)\n",
    "X = 1/np.cos(z)\n",
    "s = s_0* X**(3/5)\n",
    "primt(f\"Expected seeing of {s:.2f}\")"
   ]
  },
  {
   "cell_type": "markdown",
   "metadata": {},
   "source": [
    "5) Seeing varies with wavelength as $\\lambda^{-1/5}$.  If the seeing is 1.0 arcsec at 500 nm, what is the seeing at 1.5 $\\mu$m."
   ]
  },
  {
   "cell_type": "code",
   "execution_count": 8,
   "metadata": {},
   "outputs": [
    {
     "name": "stdout",
     "output_type": "stream",
     "text": [
      "\u001b[38;5;201mSeeing: 0.80 arcsec\n"
     ]
    }
   ],
   "source": [
    "# s = s_0 * lambda^(-1/5)\n",
    "s_0 = 1.0*u.arcsec * ((500.0)*u.nm)**(1/5)\n",
    "s = s_0 * (1.5*u.micrometer)**(-1/5)\n",
    "primt(f\"Seeing: {s.decompose().to(u.arcsec):.2f}\")"
   ]
  },
  {
   "cell_type": "markdown",
   "metadata": {},
   "source": [
    "# Part 2: Fitting Data\n",
    "In this section we will look at some of the basic ideas and issues associated with fitting data."
   ]
  },
  {
   "cell_type": "markdown",
   "metadata": {},
   "source": [
    "## Fitting Lines and Polynomials\n",
    "Fitting linear functions can be done in an exact way using a number of linear algebra techniques. This suite of algorithms is called linear least-squares fitting. Most of these techniques assume that the error in y is signficant and that the error in x is not. Numpy has a very useful method for this called polyfit."
   ]
  },
  {
   "cell_type": "markdown",
   "metadata": {},
   "source": [
    "## An Example of a Line\n",
    "This is a line $y=mx+b$ where $m = 1.3$ $b=-2.7$ with variable error bars added on. \n",
    "Let's Create our Data Set"
   ]
  },
  {
   "cell_type": "code",
   "execution_count": 9,
   "metadata": {},
   "outputs": [
    {
     "data": {
      "text/plain": [
       "[<matplotlib.lines.Line2D at 0x20a63060130>]"
      ]
     },
     "execution_count": 9,
     "metadata": {},
     "output_type": "execute_result"
    },
    {
     "data": {
      "image/png": "[encoded data removed]",
      "text/plain": [
       "<Figure size 432x288 with 1 Axes>"
      ]
     },
     "metadata": {
      "needs_background": "light"
     },
     "output_type": "display_data"
    }
   ],
   "source": [
    "#Create Some data\n",
    "np.random.seed(100) #Seed the random number generator, so the result is always the same\n",
    "num = 20\n",
    "x=np.linspace(-5,5,num) #Create a evenly spaced set of data points\n",
    "m= 1.3\n",
    "b = -2.7\n",
    "theory_y = m*x + b #Let's make a line\n",
    "\n",
    "yerr = np.random.rand(num) + 1 #I want a series of sigmas between 1 and 2\n",
    "y = yerr * np.random.standard_normal(num) + theory_y #Move my y values by the error\n",
    "\n",
    "plt.errorbar(x, y, yerr=yerr,fmt='o')\n",
    "plt.plot(x, theory_y)"
   ]
  },
  {
   "cell_type": "markdown",
   "metadata": {},
   "source": [
    "## Polyfit\n",
    "Polyfit is very good for fitting lines or polynomials. Inputs are np.polyfit(x,y,degree,w=weights). Where weight is equal to 1/sigma. Returns the coefficients of the fit highest power first. You can use np.polyval() to plot the results."
   ]
  },
  {
   "cell_type": "code",
   "execution_count": 10,
   "metadata": {},
   "outputs": [
    {
     "name": "stdout",
     "output_type": "stream",
     "text": [
      "m= 1.289 b= -2.538\n"
     ]
    },
    {
     "data": {
      "image/png": "[encoded data removed]",
      "text/plain": [
       "<Figure size 432x288 with 1 Axes>"
      ]
     },
     "metadata": {
      "needs_background": "light"
     },
     "output_type": "display_data"
    }
   ],
   "source": [
    "(param,cov) = np.polyfit(x,y,1,w=1/yerr,cov=True)\n",
    "fitp = np.poly1d(param)\n",
    "yfit = fitp(x)\n",
    "plt.errorbar(x, y, yerr=yerr,fmt='o')\n",
    "plt.plot(x, yfit,'r--',lw=3)\n",
    "print(\"m= {:.3f} b= {:.3f}\".format(param[0],param[1]))"
   ]
  },
  {
   "cell_type": "markdown",
   "metadata": {},
   "source": [
    "## Covariance and Correlation Matrices\n",
    "Now we would like an estimate of how good our parameter estimation is. In order to do this we need what is called the error or covariance matrix. The covariance matrix is a square, symmetric matrix that is constructed from the variances in each parameter. \n",
    "\n",
    "For a 2 parameter ($p_1,p_2$) fit: $cov = \\begin{bmatrix} \\sigma_{p_1}^2 & \\sigma_{p_1p_2}^2 \\\\ \\sigma_{p_2p_1}^2 & \\sigma_{p_2}^2 \\\\ \\end{bmatrix}$ Where $\\sigma_{p_jp_k}^2 = covariance(p_j,p_k)$ The diagonal gives us the variance in each parameter.\n",
    "\n",
    "The correlation matrix tells you how correlated each variable is: $cor = \\begin{bmatrix} \\frac{\\sigma_{p_1}^2}{\\sigma_{p_1}\\sigma_{p_1}} & \\frac{\\sigma_{p_1p_2}^2}{\\sigma_{p_1}\\sigma_{p_1}} \\\\ \\frac{\\sigma_{p_1p_2}^2}{\\sigma_{p_1}\\sigma_{p_2}}& \\frac{\\sigma_{p_2}^2}{\\sigma_{p_2}\\sigma_{p_2}} \\\\ \\end{bmatrix}$ \n",
    "\n",
    "It is normalized to run from -1 to 1, with -1 being completely anti-correlated, 0 not correlated, and 1 being completely correlated."
   ]
  },
  {
   "cell_type": "code",
   "execution_count": 11,
   "metadata": {},
   "outputs": [
    {
     "name": "stdout",
     "output_type": "stream",
     "text": [
      "Covariance Matrix: \n",
      "[[0.00901258 0.00047977]\n",
      " [0.00047977 0.07971502]]\n",
      "Correlation Matrix: \n",
      "[[1.         0.01789949]\n",
      " [0.01789949 1.        ]]\n",
      "m= 1.289 +/- 0.095\n",
      "b= -2.538 +/- 0.282\n"
     ]
    }
   ],
   "source": [
    "def cov2cor(cov):\n",
    "    #Need to fix for any dimension\n",
    "    n = len(cov[0])\n",
    "    if n == 2:\n",
    "        diag = np.sqrt(np.diag(cov))\n",
    "        a = np.vstack((diag,diag))\n",
    "        b = diag.reshape(2,1)\n",
    "        c = np.hstack((b,b)) * a\n",
    "    else:\n",
    "        diag = np.sqrt(np.diag(cov))\n",
    "        a = np.vstack((diag,diag,diag))\n",
    "        b = diag.reshape(3,1)\n",
    "        c = np.hstack((b,b,b)) * a\n",
    "    inv = 1/c\n",
    "    return(inv * cov)\n",
    "\n",
    "print(\"Covariance Matrix: \")\n",
    "print(cov)\n",
    "cor = cov2cor(cov)\n",
    "print(\"Correlation Matrix: \")\n",
    "print(cor)\n",
    "print(\"m= {:.3f} +/- {:.3f}\\nb= {:.3f} +/- {:.3f}\".format(param[0],np.sqrt(cov[0,0]),param[1],np.sqrt(cov[1,1])))"
   ]
  },
  {
   "cell_type": "markdown",
   "metadata": {},
   "source": [
    "We can see that our variables are not very correlated."
   ]
  },
  {
   "cell_type": "markdown",
   "metadata": {},
   "source": [
    "## How Good is Our Fit?\n",
    "Our line goes through the points, but can we quantify how good our fit is? If we know our what our answer is, we can use Percent error $\\frac{|Theory-Observed|}{Theory} \\times 100\\%$ "
   ]
  },
  {
   "cell_type": "code",
   "execution_count": 12,
   "metadata": {},
   "outputs": [
    {
     "name": "stdout",
     "output_type": "stream",
     "text": [
      "Percent Error: m: 0.8% b: 6.0%\n"
     ]
    }
   ],
   "source": [
    "print(\"Percent Error: m: {:.1%} b: {:.1%}\".format(np.abs((param[0]-m)/m), np.abs((param[1]-b)/b)))"
   ]
  },
  {
   "cell_type": "markdown",
   "metadata": {},
   "source": [
    "In general, however, we have to use the data we have in order to evaluate the quality of the fit. The first thing we can do is look at the residual of our fit by subtracting our observed y values from the fitted y values. Then we take the standard deviation. This is called the Root Mean Squared error or RMS error. "
   ]
  },
  {
   "cell_type": "code",
   "execution_count": 13,
   "metadata": {},
   "outputs": [
    {
     "name": "stdout",
     "output_type": "stream",
     "text": [
      "RMS: 1.275\n"
     ]
    }
   ],
   "source": [
    "rms = np.std(yfit - y)\n",
    "print(\"RMS: {:.3f}\".format(rms))"
   ]
  },
  {
   "cell_type": "markdown",
   "metadata": {},
   "source": [
    "We can use this RMS as a systemic error. If we use our fitted relation to make preditictions for y values based on x values, we know that $\\sigma_{sys}$ is always there of 1.275."
   ]
  },
  {
   "cell_type": "markdown",
   "metadata": {},
   "source": [
    "The RMS method that we used can't tell us how good our fit is compared to how good it should be based on the y-errors. We fundamentallly want to know whether this is a \"good\" fit or not.\n",
    "\n",
    "The standard method used in astronomy to determine a good fit is the $\\chi^2$ metric. $\\chi^2 = \\sum_{i=1}^{N} \\left[ \\frac{y_{obs,i} - y_{fit,i}}{\\sigma_i}\\right]^2$"
   ]
  },
  {
   "cell_type": "code",
   "execution_count": 14,
   "metadata": {},
   "outputs": [
    {
     "name": "stdout",
     "output_type": "stream",
     "text": [
      "Chisq: 15.503\n"
     ]
    }
   ],
   "source": [
    "chi = np.sum(((y - yfit)/yerr)**2)\n",
    "print(\"Chisq: {:.3f}\".format(chi))"
   ]
  },
  {
   "cell_type": "markdown",
   "metadata": {},
   "source": [
    "The quality of your chisq fit is a function of both the number of fitted parameters and the number of data points. The more data points the better the fit. The more parameters the easier it is to fit data. We encapsulate both with the concept of degrees of freedom $f = n - p$ where $n$ is the number of points and $p$ is the number of fitted parameters. We can then compare fits of different numbers of data points and parameters by looking at a statistic called the **reduced chi squared**, $\\chi_{\\nu}^2 = \\frac{\\chi^2}{f}$. A reduced chi-squared near 1 is a good fit. \n",
    "\n",
    "To determine how good it is we can determine the p-value (probability) that a higher reduced chi-squared could due to random noise. A p-value of between 0.1 and 0.9 is good. If the p_value is greater than 0.98 then your error bars are too big and if your p_value is less than 0.02 then your error bars are too small."
   ]
  },
  {
   "cell_type": "code",
   "execution_count": 15,
   "metadata": {},
   "outputs": [
    {
     "name": "stdout",
     "output_type": "stream",
     "text": [
      "Red Chisq: 0.861 Dof: 18\n",
      "P-Value: 0.627\n"
     ]
    }
   ],
   "source": [
    "dof = len(y) - len(param)\n",
    "redchi = chi/dof\n",
    "print(\"Red Chisq: {:.3f} Dof: {}\".format(redchi,dof))\n",
    "p_value = 1 - stats.chi2.cdf(chi, df=dof)\n",
    "print(\"P-Value: {:.3f}\".format(p_value))"
   ]
  },
  {
   "cell_type": "markdown",
   "metadata": {},
   "source": [
    "In real life, our errors are often under or over estimated. For example let's say that our error bars where underestimated by a factor of 1.5."
   ]
  },
  {
   "cell_type": "code",
   "execution_count": 16,
   "metadata": {},
   "outputs": [
    {
     "name": "stdout",
     "output_type": "stream",
     "text": [
      "m= 1.289 +/- 0.095\n",
      "b= -2.538 +/- 0.282\n",
      "Chisq: 34.882\n",
      "Red Chisq: 1.938 Dof: 18\n",
      "P-Value: 0.010\n"
     ]
    }
   ],
   "source": [
    "byerr = yerr/1.5\n",
    "(bparam,bcov) = np.polyfit(x,y,1,w=1/byerr,cov=True)\n",
    "bfitp = np.poly1d(bparam)\n",
    "byfit = bfitp(x)\n",
    "bchi = np.sum(((y - byfit)/byerr)**2)\n",
    "bdof = len(y) - len(param)\n",
    "bredchi = bchi/bdof\n",
    "bp_value = 1 - stats.chi2.cdf(bchi, df=bdof)\n",
    "print(\"m= {:.3f} +/- {:.3f}\\nb= {:.3f} +/- {:.3f}\".format(bparam[0],np.sqrt(bcov[0,0]),bparam[1],np.sqrt(bcov[1,1])))\n",
    "print(\"Chisq: {:.3f}\".format(bchi))\n",
    "print(\"Red Chisq: {:.3f} Dof: {}\".format(bredchi,bdof))\n",
    "print(\"P-Value: {:.3f}\".format(bp_value)) "
   ]
  },
  {
   "cell_type": "markdown",
   "metadata": {},
   "source": [
    "Notice that our fit values and errors stay the same, but our chisq is significantly different. *Note: The values and errors only stay the same because our error bars are off by a constant multiple.* Our pvalue is less than 0.02 so our error bars are too small, as we already knew."
   ]
  },
  {
   "cell_type": "markdown",
   "metadata": {},
   "source": [
    "## Exploring Chi Square Space\n",
    "We can calculate chi square values at many points and get a sense of what the chi square space looks like"
   ]
  },
  {
   "cell_type": "code",
   "execution_count": 17,
   "metadata": {},
   "outputs": [],
   "source": [
    "#Do This for our line\n",
    "mstep = 100\n",
    "bstep = 100\n",
    "b_step = np.linspace(-5,5,bstep)\n",
    "m_step = np.linspace(-5,5,mstep)\n",
    "b_arr = np.zeros(mstep*bstep)\n",
    "m_arr = np.zeros(mstep*bstep)\n",
    "chi_arr = np.zeros(mstep*bstep)\n",
    "param = np.zeros(2)\n",
    "perr = np.zeros(2)\n",
    "\n",
    "k = 0\n",
    "for i in range(len(m_step)):\n",
    "    for j in range(len(b_step)):\n",
    "        m_arr[k] = m_step[i]\n",
    "        b_arr[k] = b_step[j]\n",
    "        testy = m_arr[k]*x + b_arr[k]\n",
    "        chi_arr[k] = np.sum(((y - testy)/yerr)**2)\n",
    "        k=k+1"
   ]
  },
  {
   "cell_type": "code",
   "execution_count": 18,
   "metadata": {},
   "outputs": [
    {
     "data": {
      "text/plain": [
       "<matplotlib.colorbar.Colorbar at 0x20a6386cfd0>"
      ]
     },
     "execution_count": 18,
     "metadata": {},
     "output_type": "execute_result"
    },
    {
     "data": {
      "image/png": "[encoded data removed]",
      "text/plain": [
       "<Figure size 432x288 with 2 Axes>"
      ]
     },
     "metadata": {
      "needs_background": "light"
     },
     "output_type": "display_data"
    }
   ],
   "source": [
    "plt.scatter(m_arr,b_arr,c=np.log10(chi_arr),cmap=plt.cm.plasma,marker='s',edgecolor='none')\n",
    "plt.xlabel(\"m\")\n",
    "plt.ylabel(\"b\")\n",
    "plt.colorbar(label=\"Log10(chisq)\")"
   ]
  },
  {
   "cell_type": "markdown",
   "metadata": {},
   "source": [
    "The chi square space is really well behaved, not surprisingly. The closer we are to the right answer in either m or b, the better our chi square."
   ]
  },
  {
   "cell_type": "markdown",
   "metadata": {},
   "source": [
    "## Now it is your turn\n",
    "Let's fit the following polynomial $ax^2+bx+c$ where $a = 1.3$, $b= -3.7$, and $c=2.2$"
   ]
  },
  {
   "cell_type": "code",
   "execution_count": 19,
   "metadata": {},
   "outputs": [],
   "source": [
    "#Create Some data\n",
    "np.random.seed(200) #Seed the random number generator, so the result is always the same\n",
    "num = 20\n",
    "x=np.linspace(-5,5,num) #Create a evenly spaced set of data points\n",
    "a = 1.3\n",
    "b = -3.7\n",
    "c = 2.2\n",
    "theory_y = a*x**2 + b*x + c #Let's make a line\n",
    "\n",
    "yerr = np.random.rand(num) + 1 #I want a series of sigmas between 1 and 2\n",
    "y = yerr * np.random.standard_normal(num) + theory_y #Move my y values by the error"
   ]
  },
  {
   "cell_type": "markdown",
   "metadata": {},
   "source": [
    "Now you fit the data give me the values and errors for a, b, c. Also compute the $\\chi^2$, $\\chi_{\\nu}^2$, and p-value."
   ]
  },
  {
   "cell_type": "code",
   "execution_count": 20,
   "metadata": {},
   "outputs": [
    {
     "name": "stdout",
     "output_type": "stream",
     "text": [
      "\u001b[38;5;201ma= 1.356+/-0.047\n",
      "b= -3.798+/-0.115\n",
      "c= 2.004+/-0.585\n",
      "\u001b[38;5;201mChisq: 20.053\n",
      "\u001b[38;5;201mRed Chisq: 1.180 Dof: 17\n",
      "\u001b[38;5;201mP-Value: 0.272\n"
     ]
    },
    {
     "data": {
      "image/png": "[encoded data removed]",
      "text/plain": [
       "<Figure size 432x288 with 1 Axes>"
      ]
     },
     "metadata": {
      "needs_background": "light"
     },
     "output_type": "display_data"
    }
   ],
   "source": [
    "# Quadratic line fitting\n",
    "(param,cov) = np.polyfit(x,y,2,w=1/yerr,cov=True)\n",
    "fitp = np.poly1d(param)\n",
    "yfit = fitp(x)\n",
    "\n",
    "plt.errorbar(x, y, yerr=yerr,fmt='o')\n",
    "plt.plot(x, yfit,'m--',lw=3)\n",
    "\n",
    "a = ufloat(param[0],np.sqrt(cov[0,0]))\n",
    "b = ufloat(param[1],np.sqrt(cov[1,1]))\n",
    "c = ufloat(param[2],np.sqrt(cov[2,2]))\n",
    "primt(f\"a= {a:.3f}\\n\" +\n",
    "      f\"b= {b:.3f}\\n\" +\n",
    "      f\"c= {c:.3f}\")\n",
    "\n",
    "# Calculating Chi\n",
    "chi = np.sum(((y - yfit)/yerr)**2)\n",
    "primt(\"Chisq: {:.3f}\".format(chi))\n",
    "\n",
    "# Calculating Chi squarted\n",
    "dof = len(y) - len(param)\n",
    "redchi = chi/dof\n",
    "primt(\"Red Chisq: {:.3f} Dof: {}\".format(redchi,dof))\n",
    "\n",
    "# Calculating p-value\n",
    "p_value = 1 - stats.chi2.cdf(chi, df=dof)\n",
    "primt(\"P-Value: {:.3f}\".format(p_value))"
   ]
  },
  {
   "cell_type": "markdown",
   "metadata": {},
   "source": [
    "## Non-linear Functions\n",
    "The concepts that we discussed for linear functions also applies to non-linear functions. However the algorithms we use to find these values are much more prone to finding the wrong answer. One class of fitting algorithms are called non-linear least squares fitters."
   ]
  },
  {
   "cell_type": "markdown",
   "metadata": {},
   "source": [
    "## Let's Make Some Data\n",
    "Let's create sine curve: $Amp\\sin(\\frac{2 \\pi x}{period})$"
   ]
  },
  {
   "cell_type": "code",
   "execution_count": 21,
   "metadata": {},
   "outputs": [
    {
     "data": {
      "text/plain": [
       "<ErrorbarContainer object of 3 artists>"
      ]
     },
     "execution_count": 21,
     "metadata": {},
     "output_type": "execute_result"
    },
    {
     "data": {
      "image/png": "[encoded data removed]",
      "text/plain": [
       "<Figure size 432x288 with 1 Axes>"
      ]
     },
     "metadata": {
      "needs_background": "light"
     },
     "output_type": "display_data"
    }
   ],
   "source": [
    "#Create Some data\n",
    "def mysine(x,amp,period):\n",
    "    return (amp * np.sin(2*np.pi*x/period))\n",
    "\n",
    "np.random.seed(300) #Seed the random number generator, so the result is always the same\n",
    "num = 50\n",
    "x=np.linspace(0,3,num) #Create a evenly spaced set of data points\n",
    "amp = 2.1\n",
    "period = 0.5\n",
    "\n",
    "theory_y = mysine(x,amp,period)\n",
    "\n",
    "yerr = 0.5*np.random.rand(num) + 0.5 #I want a series of sigmas between 0.5 and 1\n",
    "y = yerr * np.random.standard_normal(num) + theory_y #Move my y values by the error\n",
    "\n",
    "plt.errorbar(x, y, yerr=yerr,fmt='o')"
   ]
  },
  {
   "cell_type": "markdown",
   "metadata": {},
   "source": [
    "## We can do this the easy way or the hard way...Looks like it is going to be the hard way.\n",
    "For non-linear equations the only way to be 100% sure that you've covered chi squared space is to do a grid search. How the grid search works is that you calculate the chi squared statistic at all the values to some resolution for each of your parameters. The parameter set that has the lowest chi squared is your value. Unfortunately, for most problems a normal grid search is too computationally expensive to do very often."
   ]
  },
  {
   "cell_type": "code",
   "execution_count": 22,
   "metadata": {},
   "outputs": [],
   "source": [
    "astep = 100\n",
    "pstep = 100\n",
    "amp_step = np.linspace(0,4,astep)\n",
    "period_step = np.linspace(.02,2,pstep)\n",
    "amp_arr = np.zeros(astep*pstep)\n",
    "period_arr = np.zeros(astep*pstep)\n",
    "chi_arr = np.zeros(astep*pstep)\n",
    "param = np.zeros(2)\n",
    "perr = np.zeros(2)\n",
    "\n",
    "k = 0\n",
    "for i in range(len(amp_step)):\n",
    "    for j in range(len(period_step)):\n",
    "        amp_arr[k] = amp_step[i]\n",
    "        period_arr[k] = period_step[j]\n",
    "        testy = mysine(x,amp_arr[k],period_arr[k])\n",
    "        chi_arr[k] = np.sum(((y - testy)/yerr)**2)\n",
    "        k=k+1\n",
    "#Find minimum chi square\n",
    "minidx = np.argmin(chi_arr)\n",
    "\n",
    "param[0] = amp_arr[minidx]\n",
    "param[1] = period_arr[minidx]\n",
    "chi = chi_arr[minidx]\n",
    "yfit = mysine(x,param[0],param[1])\n",
    "perr[0] = amp_step[1] - amp_step[0] #Get a step size\n",
    "perr[1] = period_step[1] - period_step[0] #Get a step size "
   ]
  },
  {
   "cell_type": "code",
   "execution_count": 23,
   "metadata": {},
   "outputs": [
    {
     "name": "stdout",
     "output_type": "stream",
     "text": [
      "amp= 2.222 +/- 0.040\n",
      "period= 0.500 +/- 0.020\n",
      "Chisq: 65.573\n",
      "Red Chisq: 1.366 Dof: 48\n",
      "P-Value: 0.047\n"
     ]
    }
   ],
   "source": [
    "#Note these are not Gaussian errors, only step sizes\n",
    "print(\"amp= {:.3f} +/- {:.3f}\\nperiod= {:.3f} +/- {:.3f}\".format(param[0],perr[0],param[1],perr[1]))\n",
    "chi = np.sum(((y - yfit)/yerr)**2)\n",
    "print(\"Chisq: {:.3f}\".format(chi))\n",
    "dof = len(y) - len(param)\n",
    "redchi = chi/dof\n",
    "print(\"Red Chisq: {:.3f} Dof: {}\".format(redchi,dof))\n",
    "p_value = 1 - stats.chi2.cdf(chi, df=dof)\n",
    "print(\"P-Value: {:.3f}\".format(p_value))"
   ]
  },
  {
   "cell_type": "code",
   "execution_count": 24,
   "metadata": {},
   "outputs": [
    {
     "data": {
      "text/plain": [
       "[<matplotlib.lines.Line2D at 0x20a639de3d0>]"
      ]
     },
     "execution_count": 24,
     "metadata": {},
     "output_type": "execute_result"
    },
    {
     "data": {
      "image/png": "[encoded data removed]",
      "text/plain": [
       "<Figure size 432x288 with 1 Axes>"
      ]
     },
     "metadata": {
      "needs_background": "light"
     },
     "output_type": "display_data"
    }
   ],
   "source": [
    "plt.errorbar(x, y, yerr=yerr,fmt='o')\n",
    "plt.plot(x, yfit,'r--',lw=3)"
   ]
  },
  {
   "cell_type": "markdown",
   "metadata": {},
   "source": [
    "## Let's Look at Chi Square Space "
   ]
  },
  {
   "cell_type": "code",
   "execution_count": 25,
   "metadata": {},
   "outputs": [
    {
     "data": {
      "text/plain": [
       "<matplotlib.lines.Line2D at 0x20a63a6adc0>"
      ]
     },
     "execution_count": 25,
     "metadata": {},
     "output_type": "execute_result"
    },
    {
     "data": {
      "image/png": "[encoded data removed]",
      "text/plain": [
       "<Figure size 432x288 with 2 Axes>"
      ]
     },
     "metadata": {
      "needs_background": "light"
     },
     "output_type": "display_data"
    }
   ],
   "source": [
    "plt.scatter(amp_arr,period_arr,c=np.log10(chi_arr),cmap=plt.cm.plasma,marker='s',edgecolor='none')\n",
    "plt.xlabel(\"Amplitude\")\n",
    "plt.ylabel(\"Period\")\n",
    "plt.clim(1,3)\n",
    "plt.colorbar(label=\"Log10(chisq)\")\n",
    "plt.axvline(2.1,color='w',linestyle='--')\n",
    "plt.axhline(0.5,color='w',linestyle='--')"
   ]
  },
  {
   "cell_type": "markdown",
   "metadata": {},
   "source": [
    "Let's Zoom in."
   ]
  },
  {
   "cell_type": "code",
   "execution_count": 26,
   "metadata": {},
   "outputs": [
    {
     "data": {
      "text/plain": [
       "<matplotlib.patches.Circle at 0x20a63ab3520>"
      ]
     },
     "execution_count": 26,
     "metadata": {},
     "output_type": "execute_result"
    },
    {
     "data": {
      "image/png": "[encoded data removed]",
      "text/plain": [
       "<Figure size 432x288 with 2 Axes>"
      ]
     },
     "metadata": {
      "needs_background": "light"
     },
     "output_type": "display_data"
    }
   ],
   "source": [
    "plt.scatter(amp_arr,period_arr,c=np.log10(chi_arr),cmap=plt.cm.plasma,marker='s',edgecolor='none')\n",
    "plt.xlabel(\"Amplitude\")\n",
    "plt.ylabel(\"Period\")\n",
    "plt.clim(1,3)\n",
    "plt.xlim(1.5,2.5)\n",
    "plt.ylim(0.3,0.7)\n",
    "plt.colorbar(label=\"Log10(chisq)\")\n",
    "circle = plt.Circle((2.1,0.5), 0.05, color='b', fill=False)\n",
    "plt.gcf().gca().add_artist(circle)"
   ]
  },
  {
   "cell_type": "markdown",
   "metadata": {},
   "source": [
    "This is a very different chi square space than the line fit above. If you start at the wrong period, you will not find your way to the right one. Also it is also clear that the amplitude has trouble finding the right answer when the period is wrong."
   ]
  },
  {
   "cell_type": "markdown",
   "metadata": {},
   "source": [
    "## Curve_fit"
   ]
  },
  {
   "cell_type": "code",
   "execution_count": 27,
   "metadata": {},
   "outputs": [],
   "source": [
    "(param,cov) = curve_fit(mysine,x,y,p0=[100,.51],sigma=yerr)\n",
    "yfit = mysine(x,param[0],param[1])\n",
    "perr = np.sqrt(np.diag(cov))"
   ]
  },
  {
   "cell_type": "code",
   "execution_count": 28,
   "metadata": {},
   "outputs": [
    {
     "name": "stdout",
     "output_type": "stream",
     "text": [
      "[[2.87770503e-02 2.71956659e-06]\n",
      " [2.71956659e-06 2.90078282e-06]]\n",
      "[[1.        0.0094128]\n",
      " [0.0094128 1.       ]]\n",
      "amp= 2.209 +/- 0.170\n",
      "period= 0.499 +/- 0.002\n",
      "Chisq: 65.442\n",
      "Red Chisq: 1.363 Dof: 48\n",
      "P-Value: 0.048\n"
     ]
    }
   ],
   "source": [
    "print(cov)\n",
    "cor =cov2cor(cov)\n",
    "print(cor)\n",
    "print(\"amp= {:.3f} +/- {:.3f}\\nperiod= {:.3f} +/- {:.3f}\".format(param[0],perr[0],param[1],perr[1]))\n",
    "chi = np.sum(((y - yfit)/yerr)**2)\n",
    "print(\"Chisq: {:.3f}\".format(chi))\n",
    "dof = len(y) - len(param)\n",
    "redchi = chi/dof\n",
    "print(\"Red Chisq: {:.3f} Dof: {}\".format(redchi,dof))\n",
    "p_value = 1 - stats.chi2.cdf(chi, df=dof)\n",
    "print(\"P-Value: {:.3f}\".format(p_value))"
   ]
  },
  {
   "cell_type": "code",
   "execution_count": 29,
   "metadata": {},
   "outputs": [
    {
     "data": {
      "text/plain": [
       "[<matplotlib.lines.Line2D at 0x20a63b9a6d0>]"
      ]
     },
     "execution_count": 29,
     "metadata": {},
     "output_type": "execute_result"
    },
    {
     "data": {
      "image/png": "[encoded data removed]",
      "text/plain": [
       "<Figure size 432x288 with 1 Axes>"
      ]
     },
     "metadata": {
      "needs_background": "light"
     },
     "output_type": "display_data"
    }
   ],
   "source": [
    "plt.errorbar(x, y, yerr=yerr,fmt='o')\n",
    "plt.plot(x, yfit,'r--',lw=3)"
   ]
  },
  {
   "cell_type": "markdown",
   "metadata": {
    "collapsed": true
   },
   "source": [
    "## Now it is your turn\n",
    "You are studying the growth rate of an alien bacterial colony. Create and fit data for $y = A*e^{t/\\lambda}$ where $A = 10$, $\\lambda = 100s$, and $\\sigma=40$ with 20 data points. t goes from 0 to 400s. Give your fitted parameters, $\\lambda$ and A, plus errorbars. Plot your fit and data on the same plot."
   ]
  },
  {
   "cell_type": "code",
   "execution_count": 30,
   "metadata": {},
   "outputs": [
    {
     "ename": "ValueError",
     "evalue": "`sigma` has incorrect shape.",
     "output_type": "error",
     "traceback": [
      "\u001b[1;31m---------------------------------------------------------------------------\u001b[0m",
      "\u001b[1;31mValueError\u001b[0m                                Traceback (most recent call last)",
      "\u001b[1;32m<ipython-input-30-abc5ae8d3014>\u001b[0m in \u001b[0;36m<module>\u001b[1;34m\u001b[0m\n\u001b[0;32m      9\u001b[0m \u001b[0my\u001b[0m \u001b[1;33m=\u001b[0m \u001b[0mshift\u001b[0m \u001b[1;33m+\u001b[0m \u001b[0mtheory_y\u001b[0m \u001b[1;31m#Move my y values by the error\u001b[0m\u001b[1;33m\u001b[0m\u001b[1;33m\u001b[0m\u001b[0m\n\u001b[0;32m     10\u001b[0m \u001b[1;33m\u001b[0m\u001b[0m\n\u001b[1;32m---> 11\u001b[1;33m \u001b[1;33m(\u001b[0m\u001b[0mparam\u001b[0m\u001b[1;33m,\u001b[0m\u001b[0mcov\u001b[0m\u001b[1;33m)\u001b[0m \u001b[1;33m=\u001b[0m \u001b[0mcurve_fit\u001b[0m\u001b[1;33m(\u001b[0m\u001b[0mfunc\u001b[0m\u001b[1;33m,\u001b[0m\u001b[0mt\u001b[0m\u001b[1;33m,\u001b[0m\u001b[0my\u001b[0m\u001b[1;33m,\u001b[0m\u001b[0mp0\u001b[0m\u001b[1;33m=\u001b[0m\u001b[1;33m[\u001b[0m\u001b[1;36m20\u001b[0m\u001b[1;33m,\u001b[0m\u001b[1;36m120\u001b[0m\u001b[1;33m]\u001b[0m\u001b[1;33m,\u001b[0m\u001b[0msigma\u001b[0m\u001b[1;33m=\u001b[0m\u001b[0myerr\u001b[0m\u001b[1;33m)\u001b[0m\u001b[1;33m\u001b[0m\u001b[1;33m\u001b[0m\u001b[0m\n\u001b[0m\u001b[0;32m     12\u001b[0m \u001b[1;33m\u001b[0m\u001b[0m\n\u001b[0;32m     13\u001b[0m \u001b[0mplt\u001b[0m\u001b[1;33m.\u001b[0m\u001b[0merrorbar\u001b[0m\u001b[1;33m(\u001b[0m\u001b[0mt\u001b[0m\u001b[1;33m,\u001b[0m \u001b[0my\u001b[0m\u001b[1;33m,\u001b[0m \u001b[0myerr\u001b[0m\u001b[1;33m=\u001b[0m\u001b[0myerr\u001b[0m\u001b[1;33m,\u001b[0m\u001b[0mfmt\u001b[0m\u001b[1;33m=\u001b[0m\u001b[1;34m'o'\u001b[0m\u001b[1;33m)\u001b[0m\u001b[1;33m\u001b[0m\u001b[1;33m\u001b[0m\u001b[0m\n",
      "\u001b[1;32mC:\\ProgramData\\Anaconda3\\lib\\site-packages\\scipy\\optimize\\minpack.py\u001b[0m in \u001b[0;36mcurve_fit\u001b[1;34m(f, xdata, ydata, p0, sigma, absolute_sigma, check_finite, bounds, method, jac, **kwargs)\u001b[0m\n\u001b[0;32m    763\u001b[0m                 \u001b[1;32mraise\u001b[0m \u001b[0mValueError\u001b[0m\u001b[1;33m(\u001b[0m\u001b[1;34m\"`sigma` must be positive definite.\"\u001b[0m\u001b[1;33m)\u001b[0m \u001b[1;32mfrom\u001b[0m \u001b[0me\u001b[0m\u001b[1;33m\u001b[0m\u001b[1;33m\u001b[0m\u001b[0m\n\u001b[0;32m    764\u001b[0m         \u001b[1;32melse\u001b[0m\u001b[1;33m:\u001b[0m\u001b[1;33m\u001b[0m\u001b[1;33m\u001b[0m\u001b[0m\n\u001b[1;32m--> 765\u001b[1;33m             \u001b[1;32mraise\u001b[0m \u001b[0mValueError\u001b[0m\u001b[1;33m(\u001b[0m\u001b[1;34m\"`sigma` has incorrect shape.\"\u001b[0m\u001b[1;33m)\u001b[0m\u001b[1;33m\u001b[0m\u001b[1;33m\u001b[0m\u001b[0m\n\u001b[0m\u001b[0;32m    766\u001b[0m     \u001b[1;32melse\u001b[0m\u001b[1;33m:\u001b[0m\u001b[1;33m\u001b[0m\u001b[1;33m\u001b[0m\u001b[0m\n\u001b[0;32m    767\u001b[0m         \u001b[0mtransform\u001b[0m \u001b[1;33m=\u001b[0m \u001b[1;32mNone\u001b[0m\u001b[1;33m\u001b[0m\u001b[1;33m\u001b[0m\u001b[0m\n",
      "\u001b[1;31mValueError\u001b[0m: `sigma` has incorrect shape."
     ]
    }
   ],
   "source": [
    "func = lambda t, A, l: A*np.exp(t/l)\n",
    "\n",
    "num = 20\n",
    "A, lam, sigma = 10, 100, 40\n",
    "t = np.linspace(0,400,num) #Create a evenly spaced set of data points\n",
    "\n",
    "theory_y = func(t, A,lam)\n",
    "shift = sigma*np.ones(num) * np.random.standard_normal(num)\n",
    "y = shift + theory_y #Move my y values by the error\n",
    "\n",
    "(param,cov) = curve_fit(func,t,y,p0=[20,120],sigma=yerr)\n",
    "\n",
    "plt.errorbar(t, y, yerr=yerr,fmt='o')\n",
    "plt.plot(t, yfit,'r--',lw=3)\n",
    "primt(f\"A= {param[0]:.2f}, lambda= {param[1]:.2f}\")"
   ]
  },
  {
   "cell_type": "markdown",
   "metadata": {},
   "source": [
    "How long did it take you to complete this homework?"
   ]
  },
  {
   "cell_type": "markdown",
   "metadata": {},
   "source": [
    "~ 1 hour"
   ]
  }
 ],
 "metadata": {
  "kernelspec": {
   "display_name": "Python 3",
   "language": "python",
   "name": "python3"
  },
  "language_info": {
   "codemirror_mode": {
    "name": "ipython",
    "version": 3
   },
   "file_extension": ".py",
   "mimetype": "text/x-python",
   "name": "python",
   "nbconvert_exporter": "python",
   "pygments_lexer": "ipython3",
   "version": "3.8.8"
  }
 },
 "nbformat": 4,
 "nbformat_minor": 2
}
